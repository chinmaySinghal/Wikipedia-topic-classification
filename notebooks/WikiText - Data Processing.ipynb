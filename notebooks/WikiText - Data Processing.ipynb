{
 "cells": [
  {
   "cell_type": "code",
   "execution_count": 1,
   "metadata": {},
   "outputs": [],
   "source": [
    "# import dependencies\n",
    "import io\n",
    "import re\n",
    "import nltk\n",
    "import json\n",
    "import gzip\n",
    "import torch\n",
    "import spacy\n",
    "import string\n",
    "import jsonlines\n",
    "import pandas as pd\n",
    "import pickle as pkl\n",
    "import numpy as np\n",
    "import mwparserfromhell\n",
    "from torch.utils.data import Dataset\n",
    "from nltk.corpus import stopwords\n",
    "from sklearn.preprocessing import MultiLabelBinarizer"
   ]
  },
  {
   "cell_type": "code",
   "execution_count": 5,
   "metadata": {},
   "outputs": [
    {
     "name": "stderr",
     "output_type": "stream",
     "text": [
      "[nltk_data] Downloading package stopwords to /home/pj891/nltk_data...\n",
      "[nltk_data]   Package stopwords is already up-to-date!\n"
     ]
    }
   ],
   "source": [
    "# Load English tokenizer, tagger, parser, NER and word vectors\n",
    "tokenizer = spacy.load('en_core_web_sm')\n",
    "punctuations = string.punctuation\n",
    "\n",
    "# set file names for dumping pickle files and input data source\n",
    "FILE_NAME = 'sample_1pct_wikitext.json'\n",
    "\n",
    "PRETRAINED_EMBEDDINGS = 'pretrained-embeddings/wiki.en.align.vec'#wiki-news-300d-1M.vec'\n",
    "\n",
    "TEXT_OUTPUT_FILE = 'tokenized-data/wikitext_tokenized.p'\n",
    "SECTION_OUTPUT_FILE = 'tokenized-data/wikisection_tokenized.p'\n",
    "\n",
    "#OUTPUT_FILE_2 = 'tokenized-data/wikitext_tokenized_reduced.p'\n",
    "\n",
    "WIKI_TRAIN_TOKENIZED_FILE = 'tokenized-data/wiki_train_tokenized.p'\n",
    "WIKI_VALID_TOKENIZED_FILE = 'tokenized-data/wiki_valid_tokenized.p'\n",
    "WIKI_TEST_TOKENIZED_FILE  = 'tokenized-data/wiki_test_tokenized.p'\n",
    "\n",
    "MAX_ARTICLE_LENGTH = 500\n",
    "\n",
    "# downloading and setting stop word list from NLTK\n",
    "nltk.download('stopwords')\n",
    "STOP_WORDS = set(stopwords.words('english'))"
   ]
  },
  {
   "cell_type": "code",
   "execution_count": 6,
   "metadata": {},
   "outputs": [],
   "source": [
    "# lowercase and remove punctuation\n",
    "def tokenize(sent):\n",
    "    tokens = tokenizer(sent)\n",
    "    return [token.text.lower() for token in tokens if (token.text not in punctuations)]\n",
    "\n",
    "# clean text using regex - similar to what is used in FastText paper\n",
    "def clean(text):\n",
    "    text = text.lower()\n",
    "    patterns = [\n",
    "        \"{{.*}}\"\n",
    "        ,\"&amp;\"\n",
    "        ,\"&lt;\"\n",
    "        ,\"&gt;\"\n",
    "        ,\"<ref[^<]*<\\/ref>\"\n",
    "        ,\"<[^>]*>\"\n",
    "        ,\"\\|left\"\n",
    "        ,\"\\|\\d+px\"\n",
    "        ,\"\\[\\[category:\"\n",
    "        ,r\"(https|http)?:\\/\\/(\\w|\\.|\\/|\\?|\\=|\\&|\\%)*\\b\"\n",
    "        ,\"\\|thumb\"\n",
    "        ,\"\\|right\"\n",
    "        ,\"\\[\\[image:[^\\[\\]]*\"\n",
    "        ,\"\\[\\[category:([^|\\]]*)[^]]*\\]\\]\"\n",
    "        ,\"\\[\\[[a-z\\-]*:[^\\]]*\\]\\]\"\n",
    "        ,\"\\[\"\n",
    "        ,\"\\]\"\n",
    "        ,\"\\{[^\\}]*\\}\"\n",
    "        ,r\"\\n\"\n",
    "        ,r\"[^a-zA-Z0-9 ]\"\n",
    "        ,r\"\\b[a-zA-Z]\\b\"\n",
    "        ,\" +\"\n",
    "    ]\n",
    "    \n",
    "    for pattern in patterns:\n",
    "        cleanr = re.compile(pattern)\n",
    "        text = re.sub(cleanr, ' ', text)\n",
    "    return text\n",
    "\n",
    "# covert numerals to their text equivalent\n",
    "def subsitute(text):\n",
    "    return text.strip().replace('0', ' zero') \\\n",
    "                        .replace('1',' one') \\\n",
    "                        .replace('2',' two') \\\n",
    "                        .replace('3',' three') \\\n",
    "                        .replace('4',' four') \\\n",
    "                        .replace('5',' five') \\\n",
    "                        .replace('6',' six') \\\n",
    "                        .replace('7',' seven') \\\n",
    "                        .replace('8',' eight') \\\n",
    "                        .replace('9',' nine')\n",
    "\n",
    "# remove empty token generated from inserting blank spaces\n",
    "def remove_empty_token(tokens):\n",
    "    result = []\n",
    "    for token in tokens:\n",
    "        if not token.strip() == '':\n",
    "            result.append(token)\n",
    "    return result\n",
    "\n",
    "# optional - remove other common stop words \n",
    "# get the stop words from NLTK package\n",
    "def remove_stop_words(tokens):\n",
    "    result = []\n",
    "    for token in tokens:\n",
    "        if not token in STOP_WORDS:\n",
    "            result.append(token)\n",
    "    return result\n",
    "\n",
    "# optional - remove words less than 3 character long\n",
    "def remove_short_words(tokens):\n",
    "    result = []\n",
    "    for token in tokens:\n",
    "        if len(token) >= 3:\n",
    "            result.append(token)\n",
    "    return result\n",
    "\n",
    "# get the tokenized dataframe containing - QID, Word Tokens & Categories\n",
    "def get_wiki_tokenized_dataset(file_name, extract_section=False):\n",
    "    wiki_dict = []\n",
    "    with open(FILE_NAME) as file:\n",
    "         for line in file:\n",
    "            wiki_row = {}\n",
    "            line = json.loads(line.strip())\n",
    "            wikitext = mwparserfromhell.parse(line['wikitext'])\n",
    "            wiki_row['QID'] = line['QID']\n",
    "            wiki_row['mid_level_categories'] = line['mid_level_categories']\n",
    "            if extract_section:\n",
    "                sections = wikitext.filter_headings()  \n",
    "                wiki_row['tokens'] = tokenize(subsitute(clean(str(sections))))\n",
    "            else:\n",
    "                wiki_row['tokens'] = tokenize(subsitute(clean(str(wikitext))))\n",
    "            wiki_dict.append(wiki_row)\n",
    "            \n",
    "    wiki_df = pd.DataFrame(wiki_dict)\n",
    "    wiki_df['tokens'] = wiki_df['tokens'].apply(remove_empty_token)\n",
    "    return wiki_df"
   ]
  },
  {
   "cell_type": "code",
   "execution_count": 7,
   "metadata": {},
   "outputs": [],
   "source": [
    "# # #save the Wiki SECTION dataset in pickle file for subsequent use\n",
    "# wiki_df = get_wiki_tokenized_dataset(FILE_NAME, True)\n",
    "# pkl.dump(wiki_df, open(SECTION_OUTPUT_FILE, \"wb\"))"
   ]
  },
  {
   "cell_type": "code",
   "execution_count": 4,
   "metadata": {},
   "outputs": [],
   "source": [
    "# #save the Wiki TEXT dataset in pickle file for subsequent use\n",
    "# # Download the pickle files from Google Drive (else creating new will take ~4 hours)\n",
    "# # https://drive.google.com/open?id=1DlNxxNh6WA5ds7px844LnBbhEzV0Ydyo\n",
    "# wiki_df = get_wiki_tokenized_dataset(FILE_NAME)\n",
    "# pkl.dump(wiki_df, open(TEXT_OUTPUT_FILE, \"wb\"))"
   ]
  },
  {
   "cell_type": "code",
   "execution_count": null,
   "metadata": {},
   "outputs": [],
   "source": [
    "# load the dataframe from pickle file - Wiki Text\n",
    "wiki_df =  pkl.load(open(TEXT_OUTPUT_FILE, \"rb\"))\n",
    "\n",
    "# load the dataframe from pickle file - Wiki Sections\n",
    "#wiki_df =  pkl.load(open(SECTION_OUTPUT_FILE, \"rb\"))"
   ]
  },
  {
   "cell_type": "code",
   "execution_count": 6,
   "metadata": {},
   "outputs": [],
   "source": [
    "wiki_df['tokens'] = wiki_df['tokens'].apply(remove_short_words)\n",
    "wiki_df['tokens'] = wiki_df['tokens'].apply(remove_stop_words)"
   ]
  },
  {
   "cell_type": "markdown",
   "metadata": {},
   "source": [
    "#### Data Exploration"
   ]
  },
  {
   "cell_type": "code",
   "execution_count": 7,
   "metadata": {},
   "outputs": [],
   "source": [
    "a = pd.Series([word for article in wiki_df.tokens for word in article])\n",
    "token_df = a.value_counts().sort_index().rename_axis('word').reset_index(name='count')"
   ]
  },
  {
   "cell_type": "markdown",
   "metadata": {},
   "source": [
    "##### Word Distribution"
   ]
  },
  {
   "cell_type": "code",
   "execution_count": 8,
   "metadata": {},
   "outputs": [
    {
     "data": {
      "text/html": [
       "<div>\n",
       "<style scoped>\n",
       "    .dataframe tbody tr th:only-of-type {\n",
       "        vertical-align: middle;\n",
       "    }\n",
       "\n",
       "    .dataframe tbody tr th {\n",
       "        vertical-align: top;\n",
       "    }\n",
       "\n",
       "    .dataframe thead th {\n",
       "        text-align: right;\n",
       "    }\n",
       "</style>\n",
       "<table border=\"1\" class=\"dataframe\">\n",
       "  <thead>\n",
       "    <tr style=\"text-align: right;\">\n",
       "      <th></th>\n",
       "      <th>word</th>\n",
       "      <th>count</th>\n",
       "    </tr>\n",
       "  </thead>\n",
       "  <tbody>\n",
       "    <tr>\n",
       "      <td>0</td>\n",
       "      <td>aaa</td>\n",
       "      <td>561</td>\n",
       "    </tr>\n",
       "    <tr>\n",
       "      <td>1</td>\n",
       "      <td>aaaa</td>\n",
       "      <td>41</td>\n",
       "    </tr>\n",
       "    <tr>\n",
       "      <td>2</td>\n",
       "      <td>aaaaa</td>\n",
       "      <td>9</td>\n",
       "    </tr>\n",
       "    <tr>\n",
       "      <td>15</td>\n",
       "      <td>aaaayaaj</td>\n",
       "      <td>6</td>\n",
       "    </tr>\n",
       "    <tr>\n",
       "      <td>22</td>\n",
       "      <td>aaai</td>\n",
       "      <td>10</td>\n",
       "    </tr>\n",
       "    <tr>\n",
       "      <td>...</td>\n",
       "      <td>...</td>\n",
       "      <td>...</td>\n",
       "    </tr>\n",
       "    <tr>\n",
       "      <td>694607</td>\n",
       "      <td>zytek</td>\n",
       "      <td>7</td>\n",
       "    </tr>\n",
       "    <tr>\n",
       "      <td>694623</td>\n",
       "      <td>zyx</td>\n",
       "      <td>15</td>\n",
       "    </tr>\n",
       "    <tr>\n",
       "      <td>694625</td>\n",
       "      <td>zyxin</td>\n",
       "      <td>8</td>\n",
       "    </tr>\n",
       "    <tr>\n",
       "      <td>694629</td>\n",
       "      <td>zyzzyva</td>\n",
       "      <td>7</td>\n",
       "    </tr>\n",
       "    <tr>\n",
       "      <td>694646</td>\n",
       "      <td>zzyzx</td>\n",
       "      <td>15</td>\n",
       "    </tr>\n",
       "  </tbody>\n",
       "</table>\n",
       "<p>156408 rows × 2 columns</p>\n",
       "</div>"
      ],
      "text/plain": [
       "            word  count\n",
       "0            aaa    561\n",
       "1           aaaa     41\n",
       "2          aaaaa      9\n",
       "15      aaaayaaj      6\n",
       "22          aaai     10\n",
       "...          ...    ...\n",
       "694607     zytek      7\n",
       "694623       zyx     15\n",
       "694625     zyxin      8\n",
       "694629   zyzzyva      7\n",
       "694646     zzyzx     15\n",
       "\n",
       "[156408 rows x 2 columns]"
      ]
     },
     "execution_count": 8,
     "metadata": {},
     "output_type": "execute_result"
    }
   ],
   "source": [
    "tokens_freq_df = token_df[token_df['count'] > 5]\n",
    "tokens_freq_df"
   ]
  },
  {
   "cell_type": "markdown",
   "metadata": {},
   "source": [
    "##### Count Distribution"
   ]
  },
  {
   "cell_type": "code",
   "execution_count": 9,
   "metadata": {},
   "outputs": [],
   "source": [
    "b = wiki_df['tokens'].apply(lambda x: len(x))"
   ]
  },
  {
   "cell_type": "code",
   "execution_count": 10,
   "metadata": {},
   "outputs": [],
   "source": [
    "count_df = b.value_counts().sort_index().rename_axis('count').reset_index(name='frequency')"
   ]
  },
  {
   "cell_type": "code",
   "execution_count": 12,
   "metadata": {},
   "outputs": [
    {
     "data": {
      "text/plain": [
       "array([[<matplotlib.axes._subplots.AxesSubplot object at 0x16f485b00>]],\n",
       "      dtype=object)"
      ]
     },
     "execution_count": 12,
     "metadata": {},
     "output_type": "execute_result"
    },
    {
     "data": {
      "image/png": "[encoded data removed]",
      "text/plain": [
       "<Figure size 432x288 with 1 Axes>"
      ]
     },
     "metadata": {
      "needs_background": "light"
     },
     "output_type": "display_data"
    }
   ],
   "source": [
    "count_df.hist(column='count',bins=100)"
   ]
  },
  {
   "cell_type": "markdown",
   "metadata": {},
   "source": [
    "#### OPTIONAL - Remove in-frequent tokens from corpus (words repeated less than 100 times) "
   ]
  },
  {
   "cell_type": "code",
   "execution_count": null,
   "metadata": {},
   "outputs": [],
   "source": [
    "infrequent_tokens_df = token_df[token_df['count'] <= 5]\n",
    "infrequent_tokens = infrequent_tokens_df['word'].tolist()\n",
    "infrequent_tokens = set(infrequent_tokens)"
   ]
  },
  {
   "cell_type": "code",
   "execution_count": null,
   "metadata": {},
   "outputs": [],
   "source": [
    "# remove infrequent tokens\n",
    "def remove_infrequent_words(tokens):\n",
    "    result = [token for token in tokens if token not in infrequent_tokens]\n",
    "    return result\n",
    "\n",
    "wiki_df['tokens'] = wiki_df['tokens'].apply(remove_infrequent_words)"
   ]
  },
  {
   "cell_type": "markdown",
   "metadata": {},
   "source": [
    "#### Split data into Train, Valid & Test"
   ]
  },
  {
   "cell_type": "code",
   "execution_count": 13,
   "metadata": {},
   "outputs": [],
   "source": [
    "def train_validate_test_split(df, train_percent=.8, validate_percent=.1, seed=None):\n",
    "    np.random.seed(seed)\n",
    "    perm = np.random.permutation(df.index)\n",
    "    m = len(df.index)\n",
    "    train_end = int(train_percent * m)\n",
    "    validate_end = int(validate_percent * m) + train_end\n",
    "    train = df.iloc[perm[:train_end]]\n",
    "    validate = df.iloc[perm[train_end:validate_end]]\n",
    "    test = df.iloc[perm[validate_end:]]\n",
    "    return train, validate, test"
   ]
  },
  {
   "cell_type": "code",
   "execution_count": 14,
   "metadata": {},
   "outputs": [],
   "source": [
    "wiki_train, wiki_valid, wiki_test = train_validate_test_split(wiki_df)"
   ]
  },
  {
   "cell_type": "markdown",
   "metadata": {},
   "source": [
    "#### Pretrained FASTText Embeddings"
   ]
  },
  {
   "cell_type": "code",
   "execution_count": 16,
   "metadata": {},
   "outputs": [],
   "source": [
    "# load pre-trained fastText embeddings\n",
    "def load_vectors(fname):\n",
    "    fin = io.open(fname, 'r', encoding='utf-8', newline='\\n', errors='ignore')\n",
    "    n, d = map(int, fin.readline().split())\n",
    "    data = {}\n",
    "    for line in fin:\n",
    "        tokens = line.rstrip().split(' ')\n",
    "        data[tokens[0]] = np.array(list(map(float, tokens[1:]))).astype('float32')\n",
    "    return data\n",
    "\n",
    "# # Download from - https://drive.google.com/open?id=1vfoiWQkEjyNXRyi0JzA8Aq5Zzjfcpo2w\n",
    "pretrained_embs = load_vectors(PRETRAINED_EMBEDDINGS)"
   ]
  },
  {
   "cell_type": "code",
   "execution_count": 17,
   "metadata": {},
   "outputs": [],
   "source": [
    "# get all unique tokens in the training dataset\n",
    "all_train_tokens = []\n",
    "\n",
    "for tokens in wiki_train['tokens']:\n",
    "    for token in tokens:\n",
    "        all_train_tokens.append(token)\n",
    "        \n",
    "all_train_tokens = list(set(all_train_tokens))"
   ]
  },
  {
   "cell_type": "code",
   "execution_count": 18,
   "metadata": {},
   "outputs": [],
   "source": [
    "# Analyse the wiki tokens and fastText embeddings\n",
    "train_token_count = len(all_train_tokens)\n",
    "token_in_fasttext = []\n",
    "token_not_in_fasttext = []\n",
    "train_token_in_fasttxt = 0\n",
    "\n",
    "for token in all_train_tokens:\n",
    "    if token in pretrained_embs.keys():\n",
    "        token_in_fasttext.append(token)\n",
    "        train_token_in_fasttxt = train_token_in_fasttxt + 1\n",
    "    else:\n",
    "        token_not_in_fasttext.append(token)"
   ]
  },
  {
   "cell_type": "code",
   "execution_count": 19,
   "metadata": {},
   "outputs": [
    {
     "name": "stdout",
     "output_type": "stream",
     "text": [
      "% of unique Wiki tokens in fASTText : 79.02%\n",
      "unique tokens not in fastText : 126252\n",
      "unique tokens in fastText : 475506\n"
     ]
    }
   ],
   "source": [
    "print(\"% of unique Wiki tokens in fASTText : {:4.2f}%\".format(train_token_in_fasttxt/train_token_count*100))\n",
    "print('unique tokens not in fastText :', len(token_not_in_fasttext))\n",
    "print('unique tokens in fastText :', len(token_in_fasttext))"
   ]
  },
  {
   "cell_type": "code",
   "execution_count": 20,
   "metadata": {},
   "outputs": [
    {
     "name": "stdout",
     "output_type": "stream",
     "text": [
      "Sample tokens not in the fastText\n"
     ]
    },
    {
     "data": {
      "text/plain": [
       "['osaji',\n",
       " 'ankimobile',\n",
       " 'comastichus',\n",
       " 'gymnaium',\n",
       " 'riverwalkers',\n",
       " 'evilminded',\n",
       " 'fjellstr',\n",
       " 'thaiprisonlife',\n",
       " 'haigamai',\n",
       " 'kinematron']"
      ]
     },
     "execution_count": 20,
     "metadata": {},
     "output_type": "execute_result"
    }
   ],
   "source": [
    "print(\"Sample tokens not in the fastText\")\n",
    "token_not_in_fasttext[:10]"
   ]
  },
  {
   "cell_type": "markdown",
   "metadata": {},
   "source": [
    "#### Running test to investigate which words are not in the embeddings"
   ]
  },
  {
   "cell_type": "code",
   "execution_count": 21,
   "metadata": {},
   "outputs": [],
   "source": [
    "fasttext_dict = []\n",
    "article_percentage = []\n",
    "for idx, tokens in enumerate(wiki_train['tokens']):\n",
    "    count = 0\n",
    "    tokens_not_in_fasttext = []\n",
    "    fasttext_row = {}\n",
    "    for token in tokens:\n",
    "        if token in pretrained_embs.keys():\n",
    "            count = count + 1\n",
    "        else :\n",
    "            tokens_not_in_fasttext.append(token)\n",
    "    \n",
    "    if len(tokens) > 0:\n",
    "        percent = count/len(tokens) * 100\n",
    "    else:\n",
    "        percent = 100\n",
    "    \n",
    "    article_percentage.append(percent)\n",
    "    \n",
    "    if percent < 75:\n",
    "        fasttext_row['QID'] = wiki_train.iloc[idx]['QID'] \n",
    "        fasttext_row['Coverage'] = percent \n",
    "        fasttext_row['Tokens not in fastText'] = tokens_not_in_fasttext\n",
    "        fasttext_row['Total Tokens'] = len(tokens)\n",
    "        fasttext_dict.append(fasttext_row)\n",
    "        \n",
    "fasttext_df = pd.DataFrame(fasttext_dict)"
   ]
  },
  {
   "cell_type": "code",
   "execution_count": 24,
   "metadata": {},
   "outputs": [],
   "source": [
    "fasttext_df = fasttext_df.sort_values(by=['Coverage','Total Tokens'])\n",
    "fasttext_df.to_csv('fastText-analysis.csv', header=True)"
   ]
  },
  {
   "cell_type": "code",
   "execution_count": 23,
   "metadata": {},
   "outputs": [
    {
     "name": "stdout",
     "output_type": "stream",
     "text": [
      "Average % of tokens coverage across articles in fastText : 98.78327125561432\n"
     ]
    }
   ],
   "source": [
    "print(\"Average % of tokens coverage across articles in fastText :\", sum(article_percentage)/len(wiki_train))"
   ]
  },
  {
   "cell_type": "code",
   "execution_count": null,
   "metadata": {},
   "outputs": [],
   "source": [
    "with open(FILE_NAME) as file:\n",
    "    for line in file:\n",
    "        line = json.loads(line.strip())\n",
    "        if line['QID'] == 'Q4464501':\n",
    "            wiki_text = mwparserfromhell.parse(line['wikitext'])\n",
    "            cleaned_text = subsitute(clean(str(wiki_text)))\n",
    "            break"
   ]
  },
  {
   "cell_type": "code",
   "execution_count": null,
   "metadata": {},
   "outputs": [],
   "source": [
    "wiki_text"
   ]
  },
  {
   "cell_type": "code",
   "execution_count": null,
   "metadata": {},
   "outputs": [],
   "source": [
    "cleaned_text"
   ]
  },
  {
   "cell_type": "markdown",
   "metadata": {},
   "source": [
    "#### Build binarize output"
   ]
  },
  {
   "cell_type": "code",
   "execution_count": null,
   "metadata": {},
   "outputs": [],
   "source": [
    "# get all unique categories in the training dataset\n",
    "all_categories = []\n",
    "\n",
    "for categories in wiki_train.mid_level_categories:\n",
    "    for category in categories:\n",
    "        all_categories.append(category)\n",
    "        \n",
    "unique_categories = list(set(all_categories))"
   ]
  },
  {
   "cell_type": "code",
   "execution_count": null,
   "metadata": {},
   "outputs": [],
   "source": [
    "# set the multi-label binarizer on the categories and claims in the training dataset\n",
    "multi_label_binarizer_categories = MultiLabelBinarizer(classes=unique_categories)\n",
    "\n",
    "def binarize_target(result_df):\n",
    "    result_df = result_df.join(pd.DataFrame(multi_label_binarizer_categories.fit_transform(result_df.pop('mid_level_categories')),\n",
    "                          columns=multi_label_binarizer_categories.classes_,\n",
    "                          index=result_df.index))\n",
    "    return result_df\n",
    "\n",
    "wiki_train = binarize_target(wiki_train)\n",
    "wiki_valid = binarize_target(wiki_valid)\n",
    "wiki_test = binarize_target(wiki_test)"
   ]
  },
  {
   "cell_type": "code",
   "execution_count": null,
   "metadata": {
    "scrolled": true
   },
   "outputs": [],
   "source": [
    "wiki_train"
   ]
  }
 ],
 "metadata": {
  "kernelspec": {
   "display_name": "Python 3",
   "language": "python",
   "name": "python3"
  },
  "language_info": {
   "codemirror_mode": {
    "name": "ipython",
    "version": 3
   },
   "file_extension": ".py",
   "mimetype": "text/x-python",
   "name": "python",
   "nbconvert_exporter": "python",
   "pygments_lexer": "ipython3",
   "version": "3.7.1"
  }
 },
 "nbformat": 4,
 "nbformat_minor": 2
}
