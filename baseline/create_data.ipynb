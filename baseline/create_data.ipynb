{
 "cells": [
  {
   "cell_type": "code",
   "execution_count": 12,
   "metadata": {},
   "outputs": [],
   "source": [
    "# import dependencies\n",
    "import nltk\n",
    "import json\n",
    "import io\n",
    "import gzip\n",
    "import torch\n",
    "import string\n",
    "import random\n",
    "import jsonlines\n",
    "import pandas as pd\n",
    "import pickle as pkl\n",
    "import numpy as np\n",
    "from tqdm import tqdm, tqdm_notebook\n",
    "from functools import partial\n",
    "\n",
    "import torch\n",
    "import torch.nn as nn\n",
    "import torch.functional as F\n",
    "from torch.autograd import Variable\n",
    "from torch.utils.data import Dataset, RandomSampler, SequentialSampler, DataLoader\n",
    "from sklearn.preprocessing import MultiLabelBinarizer"
   ]
  },
  {
   "cell_type": "code",
   "execution_count": 53,
   "metadata": {
    "scrolled": true
   },
   "outputs": [
    {
     "data": {
      "text/plain": [
       "<module 'wiki_parser' from '/home/mz2476/topic-modeling/topic-modeling/baseline/wiki_parser.py'>"
      ]
     },
     "execution_count": 53,
     "metadata": {},
     "output_type": "execute_result"
    }
   ],
   "source": [
    "from importlib import reload\n",
    "\n",
    "import utils\n",
    "reload(utils)\n",
    "\n",
    "import wiki_parser\n",
    "reload(wiki_parser)"
   ]
  },
  {
   "cell_type": "code",
   "execution_count": 54,
   "metadata": {
    "scrolled": true
   },
   "outputs": [
    {
     "data": {
      "text/plain": [
       "'cpu'"
      ]
     },
     "execution_count": 54,
     "metadata": {},
     "output_type": "execute_result"
    }
   ],
   "source": [
    "device = \"cuda:0\" if torch.cuda.is_available() else \"cpu\"\n",
    "device"
   ]
  },
  {
   "cell_type": "code",
   "execution_count": 55,
   "metadata": {},
   "outputs": [],
   "source": [
    "PATH_TO_DATA_FOLDER = \"/scratch/mz2476/wiki/data/aligned_datasets/\"\n",
    "\n",
    "SAVE = False\n",
    "DEBUG = True\n",
    "LOAD = False"
   ]
  },
  {
   "cell_type": "markdown",
   "metadata": {},
   "source": [
    "## Load df\n",
    "If `LOAD = False`, load json and process it to get df"
   ]
  },
  {
   "cell_type": "code",
   "execution_count": 49,
   "metadata": {
    "scrolled": true
   },
   "outputs": [
    {
     "name": "stdout",
     "output_type": "stream",
     "text": [
      "{'classes_list': 'classes_list.pt', 'json': 'wikitext_topics_hi_filtered.json', 'wiki_df': 'wikitext_tokenized_text_sections_outlinks_hi.p'}\n"
     ]
    }
   ],
   "source": [
    "LANGUAGE = \"hindi\"\n",
    "LANGUAGE_CODE = LANGUAGE[:2]\n",
    "FILE_NAMES_DICT = {\n",
    "    \"classes_list\": 'classes_list.pt',\n",
    "    \n",
    "    \"json\": f\"wikitext_topics_{LANGUAGE_CODE}_filtered.json\",\n",
    "    \"wiki_df\": f\"wikitext_tokenized_text_sections_outlinks_{LANGUAGE_CODE}.p\",\n",
    "#     \"vocab\": f\"vocab_train_{LANGUAGE_CODE}.pt\",\n",
    "#     \"train\": f\"df_wiki_train_{LANGUAGE_CODE}.pt\",\n",
    "#     \"val\": f\"df_wiki_valid_{LANGUAGE_CODE}.pt\",\n",
    "#     \"test\": f\"df_wiki_test_{LANGUAGE_CODE}.pt\",\n",
    "#     \"tensor_dataset\": f\"wiki_tensor_dataset_{LANGUAGE_CODE}.pt\",\n",
    "}\n",
    "\n",
    "print(FILE_NAMES_DICT)"
   ]
  },
  {
   "cell_type": "code",
   "execution_count": 50,
   "metadata": {
    "scrolled": true
   },
   "outputs": [
    {
     "name": "stderr",
     "output_type": "stream",
     "text": [
      "[nltk_data] Downloading package stopwords to /home/mz2476/nltk_data...\n",
      "[nltk_data]   Package stopwords is already up-to-date!\n"
     ]
    },
    {
     "data": {
      "application/vnd.jupyter.widget-view+json": {
       "model_id": "4022d29527684a33af482179754ef660",
       "version_major": 2,
       "version_minor": 0
      },
      "text/plain": [
       "HBox(children=(IntProgress(value=1, bar_style='info', max=1), HTML(value='')))"
      ]
     },
     "metadata": {},
     "output_type": "display_data"
    }
   ],
   "source": [
    "if LOAD:\n",
    "    wiki_df = pkl.load(open(PATH_TO_DATA_FOLDER + FILE_NAMES_DICT[\"wiki_df\"], \"rb\"))\n",
    "\n",
    "else:\n",
    "    parser = wiki_parser.Parser(LANGUAGE)\n",
    "    wiki_df = parser.get_wiki_tokenized_dataset(\n",
    "        PATH_TO_DATA_FOLDER + FILE_NAMES_DICT[\"json\"],\n",
    "        extract_section=True, extract_outlinks=True, debug=DEBUG\n",
    "    )\n",
    "    if SAVE:\n",
    "        pkl.dump(wiki_df, open(\n",
    "            PATH_TO_DATA_FOLDER + FILE_NAMES_DICT[\"wiki_df\"], \"wb\"))"
   ]
  },
  {
   "cell_type": "code",
   "execution_count": 56,
   "metadata": {},
   "outputs": [
    {
     "name": "stderr",
     "output_type": "stream",
     "text": [
      "[nltk_data] Downloading package stopwords to /home/mz2476/nltk_data...\n",
      "[nltk_data]   Package stopwords is already up-to-date!\n"
     ]
    },
    {
     "data": {
      "application/vnd.jupyter.widget-view+json": {
       "model_id": "abe8911970b741c9bea65ee82a60543b",
       "version_major": 2,
       "version_minor": 0
      },
      "text/plain": [
       "HBox(children=(IntProgress(value=1, bar_style='info', max=1), HTML(value='')))"
      ]
     },
     "metadata": {},
     "output_type": "display_data"
    }
   ],
   "source": [
    "parser = wiki_parser.Parser(LANGUAGE)\n",
    "wiki_df_raw = parser.get_wiki_tokenized_dataset(\n",
    "    PATH_TO_DATA_FOLDER + FILE_NAMES_DICT[\"json\"],\n",
    "    extract_section=True, extract_outlinks=True, debug=DEBUG\n",
    ")"
   ]
  },
  {
   "cell_type": "code",
   "execution_count": 58,
   "metadata": {},
   "outputs": [
    {
     "data": {
      "text/plain": [
       "'{{देवनागरी साइडबार}}\\n\\n[[चित्र:rigveda ms2097.jpg|right|thumb|300px|\\'\\'\\'देवनागरी\\'\\'\\' में लिखी [[ऋग्वेद]] की [[पाण्डुलिपि]]]]\\n\\n\\n\\'\\'\\'देवनागरी\\'\\'\\' एक भारतीय [[लिपियों की सूची|लिपि]] है जिसमें अनेक [[भारत|भारतीय]] [[भाषा|भाषाएँ]] तथा कई विदेशी भाषाएँ लिखी जाती हैं। यह बायें से दायें लिखी जाती है। इसकी पहचान एक क्षैतिज रेखा से है जिसे \\'शिरिरेखा\\' कहते हैं। [[संस्कृत]], [[पालि]], [[हिंदी]], [[मराठी]], [[कोंकणी]], [[सिंधी]], [[कश्मीरी भाषा|कश्मीरी]], [[डोगरी]], [[खस]], [[नेपाल भाषा]] (तथा अन्य नेपाली भाषाएँ), [[तामाङ भाषा]], [[गढ़वाली]], [[बोड़ो भाषा|बोडो]], [[अंगिका]], [[मगही]], [[भोजपुरी]], [[नागपुरी भाषा|नागपुरी]],  [[मैथिली]], [[संथाली]] आदि भाषाएँ देवनागरी में लिखी जाती हैं। इसके अतिरिक्त कुछ स्थितियों में [[गुजराती]], [[पंजाबी]], [[बिष्णुपुरिया मणिपुरी]], [[रोमानी]] और [[उर्दू]] भाषाएँ भी देवनागरी में लिखी जाती हैं। देवनागरी विश्व में सर्वाधिक प्रयुक्त लिपियों में से एक है। \\n[[चित्र:marathishilalekhyear1109found atparalmaharashtraindia.jpg|thumb| मुंबई के परल नामक उपनगर मे प्राप्त प्राचीन देवनागरी शिलालेख यह इ.स ११०९ बनाया गया था|]]\\n[[चित्र:devnagari used in melbourne australia.jpg|thumb| [[मेलबर्न]] [[ऑस्ट्रेलिया]] की एक ट्राम पर देवनागरी लिपि]]\\n\\n\\n==परिचय==\\nअधिकतर भाषाओं की तरह देवनागरी भी बायें से दायें लिखी जाती है। प्रत्येक [[शब्द]] के ऊपर एक [[रेखा]] खिंची होती है (कुछ [[वर्ण|वर्णों]] के ऊपर रेखा नहीं होती है) इसे शिरोरेखा कहते हैं। देवनागरी का विकास [[ब्राह्मी लिपि]] से हुआ है। यह एक [[ध्वन्यात्मक]] [[लिपि]] है जो प्रचलित लिपियों (रोमन, अरबी, चीनी आदि) में सबसे अधिक वैज्ञानिक है। इससे [[वैज्ञानिक]] और व्यापक लिपि शायद केवल [[आइपीए|अध्वव]] लिपि है। भारत की कई लिपियाँ देवनागरी से बहुत अधिक मिलती-जुलती हैं, जैसे- [[बांग्ला]], गुजराती, [[गुरुमुखी]] आदि। कम्प्यूटर प्रोग्रामों की सहायता से भारतीय लिपियों को परस्पर परिवर्तन बहुत आसान हो गया है।\\n[[चित्र:varanasi transparente.png|right|thumb|300px|वाराणसी में देवनागरी लिपि में लिखे विज्ञापन]]\\n\\n\\n\\nभारतीय भाषाओं के किसी भी शब्द या ध्वनि को देवनागरी लिपि में ज्यों का त्यों लिखा जा सकता है और फिर लिखे पाठ को लगभग \\'हू-ब-हू\\' [[उच्चारण]] किया जा सकता है, जो कि [[रोमन लिपि]] और अन्य कई [[लिपि|लिपियों]] में सम्भव नहीं है, जब तक कि उनका विशेष मानकीकरण न किया जाये, जैसे [[आइट्रांस]] या [[iast]] ।\\n[[चित्र:publictransportinmumbaiticketusingdevnagari.jpg|thumb|\\nमुंबई के सार्वजनिक यातायात के टिकट पर देवनागरी]]\\n\\n\\nइसमें कुल ५२ अक्षर हैं, जिसमें १४ [[स्वर]] और ३८ [[व्यंजन वर्ण|व्यंजन]] हैं। अक्षरों की क्रम व्यवस्था (विन्यास) भी बहुत ही वैज्ञानिक है। स्वर-व्यंजन, कोमल-कठोर, [[अल्पप्राण]]-महाप्राण, अनुनासिक्य-अन्तस्थ-उष्म इत्यादि वर्गीकरण भी वैज्ञानिक हैं। एक मत के अनुसार देवनगर (काशी) मे प्रचलन के कारण इसका नाम देवनागरी पड़ा।\\n\\nभारत तथा [[एशिया]] की अनेक लिपियों के संकेत देवनागरी से अलग हैं पर [[उच्चारण]] व वर्ण-क्रम आदि देवनागरी के ही समान हैं, क्योंकि वे सभी [[ब्राह्मी लिपि]] से उत्पन्न हुई हैं (उर्दू को छोडकर)। इसलिए इन लिपियों को परस्पर आसानी से [[लिप्यन्तरण|लिप्यन्तरित]] किया जा सकता है। देवनागरी लेखन की दृष्टि से सरल, सौन्दर्य की दृष्टि से सुन्दर और वाचन की दृष्टि से सुपाठ्य है। \\n\\n[[भारतीय अंक|भारतीय अंकों]] को उनकी वैज्ञानिकता के कारण विश्व ने सहर्ष स्वीकार कर लिया है।\\nलिपि -शब्द का अर्थ है -\\'लीपना \\'या \\'पोतना \\' विचारो का लीपना अथवा लिखना ही लिपि कहलाता है।\\nहिंदी और संस्कृत भाषा की लिपि देवनागरी है। अंग्रेजी भाषा की लिपि रोमन पंजाबी भाषा की लिपि गुरुमुखी और उर्दू भाषा की लिपि फारसी है।\\nहिन्दी में लिपि चिह्न\\nदेवनागरी के वर्णो में ग्यारह स्वर और इकतालीस व्यंजन हैं। व्यंजन के साथ स्वर का संयोग होने पर स्वर का जो रूप होता है, उसे मात्रा कहते हैं; जैसे-\\nअ आ इ ई उ ऊ ऋ ए ऐ ओ औ\\nा ि ी ु ू ृ े ै ो ौ\\nक का कि की कु कू के कै को कौ\\n\\n==देवनागरी\\' शब्द की व्युत्पत्ति==\\n\\n\\'\\'\\'देवनागरी\\'\\'\\' या \\'\\'\\'नागरी\\'\\'\\' नाम का प्रयोग \"क्यों\" प्रारम्भ हुआ और इसका व्युत्पत्तिपरक प्रवृत्तिनिमित्त क्या था- यह अब तक पूर्णतः निश्चित नहीं है। \\n\\n\\'\\'\\'(क)\\'\\'\\' \\'नागर\\' [[अपभ्रंश]] या [[गुजराती]] \"नागर\" ब्राह्मणों से उसका संबंध बताया गया है। पर दृढ़ प्रमाण के अभाव में यह मत संदिग्ध है। \\n\\n\\'\\'\\'(ख)\\'\\'\\' दक्षिण में इसका प्राचीन नाम \"नंदिनागरी\" था। हो सकता है \"नंदिनागर\" कोई स्थानसूचक हो और इस लिपि का उससे कुछ संबंध रहा हो। \\n\\n\\'\\'\\'(ग)\\'\\'\\' यह भी हो सकता है कि \"नागर\" जन इसमें लिखा करते थे, अत: \"नागरी\" अभिधान पड़ा और जब [[संस्कृत]] के ग्रंथ भी इसमें लिखे जाने लगे तब \"देवनागरी\" भी कहा गया। \\n\\n\\'\\'\\'(घ)\\'\\'\\' सांकेतिक चिह्नों या देवताओं की उपासना में प्रयुक्त त्रिकोण, चक्र आदि संकेतचिह्नों को \"देवनागर\" कहते थे। कालांतर में नाम के प्रथमाक्षरों का उनसे बोध होने लगा और जिस लिपि में उनको स्थान मिला- वह \\'देवनागरी\\' या \\'नागरी\\' कही गई। इन सब पक्षों के मूल में कल्पना का प्राधान्य है, निश्चयात्मक प्रमाण अनुपलब्ध हैं।\\n\\n== इतिहास ==\\n{{मुख्य|देवनागरी का इतिहास}}\\n\\n[[भारत]] देवनागरी लिपि की क्षमता से शताब्दियों से परिचित रहा है। \\n\\n[[द्वारिका प्रसाद सक्सेना|डॉ॰ द्वारिका प्रसाद सक्सेना]] के अनुसार सर्वप्रथम देवनागरी लिपि का प्रयोग [[गुजरात]] के नरेश [[जयभट्ट]] (700-800 ई.) के [[शिलालेख]] में मिलता है। आठवीं शताब्दी में चित्रकूट, नवीं में बड़ौदा के ध्रुवराज भी अपने राज्यादेशों में इस लिपि का उपयोग किया करते थे।\\n\\n758 ई. का [[राष्ट्रकूट]] राजा [[दन्तिदुर्ग]] का सामगढ़ ताम्रपट मिलता है जिस पर देवनागरी अंकित है। शिलाहारवंश के [[गंडरादित्य]] के उत्कीर्ण लेख की [[लिपि]] देवनागरी है। इसका समय ग्यारहवीं शताब्दी हैं इसी समय के चोलराजा [[राजेन्द्र चोल १|राजेन्द्र]] के सिक्के मिले हैं जिन पर देवनागरी लिपि अंकित है। [[राष्ट्रकूट]] राजा इंद्रराज (दसवीं शती) के लेख में भी देवनागरी का व्यवहार किया है। प्रतिहार राजा [[महेंद्रपाल]] (891-907) का दानपत्र भी देवनागरी लिपि में है।\\n\\n[[कनिंघम]] की पुस्तक में सबसे प्राचीन मुसलमानों सिक्के के रूप में [[महमूद गजनवी]] द्वारा चलाये गए [[चांदी]] के सिक्के का वर्णन है जिस पर देवनागरी लिपि में [[संस्कृत]] अंकित है। मुहम्मद विनसाम (1192-1205) के सिक्कों पर [[लक्ष्मी]] की मूर्ति के साथ देवनागरी लिपि का व्यवहार हुआ है। शमशुद्दीन [[इल्तुतमिश]] (1210-1235) के सिक्कों पर भी देवनागरी अंकित है। सानुद्दीन फिरोजशाह प्रथम, जलालुद्दीन रजिया, बहराम शाह, अलालुद्दीन मरूदशाह, नसीरुद्दीन महमूद, मुईजुद्दीन, [[गयासुद्दीन बलवन]], मुईजुद्दीन कैकूबाद, जलालुद्दीन हीरो सानी, अलाउद्दीन महमद शाह आदि ने अपने सिक्कों पर देवनागरी अक्षर अंकित किये हैं। [[अकबर]] के सिक्कों पर देवनागरी में ‘राम‘ सिया का नाम अंकित है। गयासुद्दीन तुगलक, [[शेरशाह सूरी]], इस्लाम शाह, मुहम्मद आदिलशाह, गयासुद्दीन इब्ज, ग्यासुद्दीन सानी आदि ने भी इसी परम्परा का पालन किया।\\n\\n\\'\\'\\'ब्राह्मी और देवनागरी लिपि :\\'\\'\\' भाषा को लिपियों में लिखने का प्रचलन भारत में ही शुरू हुआ। भारत से इसे सुमेरियन, बेबीलोनीयन और यूनानी लोगों ने सीखा। प्राचीनकाल में ब्राह्मी और देवनागरी लिपि का प्रचलन था। ब्राह्मी और देवनागरी लिपियों से ही दुनियाभर की अन्य लिपियों का जन्म हुआ। ब्राह्मी लिपि एक प्राचीन लिपि है जिससे कई एशियाई लिपियों का विकास हुआ है। ब्राह्मी भी खरोष्ठी की तरह ही पूरे एशिया में फैली हुई थी। ऐसा कहा जाता है कि ब्राह्मी लिपि 10,000 साल पुरानी है लेकिन यह भी कहा जाता है कि यह लिपि उससे भी ज्यादा पुरानी है।\\n\\n\\'\\'\\'सम्राट अशोक ने भी इस लिपि को अपनाया :\\'\\'\\' महान सम्राट अशोक ने ब्राह्मी लिपि को धम्मलिपि नाम दिया था। ब्राह्मी लिपि को देवनागरी लिपि से भी प्राचीन माना जाता है। कहा जाता है कि यह प्राचीन सिंधु-सरस्वती लिपि से निकली लिपि है। हड़प्पा संस्कृति के लोग सिंधु लिपि के अलाव इस लिपि का भी इस्तेमाल करते थे, तब संस्कृत भाषा को भी इसी लिपि में लिखा जाता था।\\n\\n== भाषाविज्ञान की दृष्टि से देवनागरी ==\\n[[भाषाविज्ञान|भाषावैज्ञानिक]] दृष्टि से देवनागरी लिपि अक्षरात्मक (सिलेबिक) लिपि मानी जाती है। लिपि के विकाससोपानों की दृष्टि से \"[[चित्रलिपि|चित्रात्मक]]\", \"भावात्मक\" और \"भावचित्रात्मक\" लिपियों के अनंतर \"[[अक्षरात्मक लिपि|अक्षरात्मक]]\" स्तर की लिपियों का विकास माना जाता है। पाश्चात्य और अनेक भारतीय भाषाविज्ञानविज्ञों के मत से लिपि की अक्षरात्मक अवस्था के बाद अल्फाबेटिक (वर्णात्मक) अवस्था का विकास हुआ। सबसे विकसित अवस्था मानी गई है ध्वन्यात्मक (फोनेटिक) लिपि की। \"देवनागरी\" को अक्षरात्मक इसलिए कहा जाता है कि इसके वर्ण- अक्षर (सिलेबिल) हैं- स्वर भी और व्यंजन भी। \"क\", \"ख\" आदि व्यंजन सस्वर हैं- अकारयुक्त हैं। वे केवल ध्वनियाँ नहीं हैं अपितु सस्वर अक्षर हैं। अत: ग्रीक, रोमन आदि वर्णमालाएँ हैं। परंतु यहाँ यह ध्यान रखने की बात है कि भारत की \"ब्राह्मी\" या \"भारती\" वर्णमाला की ध्वनियों में व्यंजनों का \"[[पाणिनि]]\" ने वर्णसमाम्नाय के 14 सूत्रों में जो स्वरूप परिचय दिया है- उसके विषय में \"[[पतंजलि]]\" (द्वितीय शती ई.पू.) ने यह स्पष्ट बता दिया है कि व्यंजनों में संनियोजित \"अकार\" स्वर का उपयोग केवल उच्चारण के उद्देश्य से है। वह तत्वत: वर्ण का अंग नहीं है। इस दृष्टि से विचार करते हुए \\'\\'\\'कहा जा सकता है कि इस लिपि की वर्णमाला तत्वत: ध्वन्यात्मक है, अक्षरात्मक नहीं।\\'\\'\\'\\n\\n== देवनागरी वर्णमाला ==\\nदेवनागरी की वर्णमाला में १२ [[स्वर]] और ३४ [[व्यंजन वर्ण|व्यंजन]] हैं। शून्य या एक या अधिक व्यंजनों और एक स्वर के मेल से एक [[अक्षर]] बनता है। \\n\\n=== \\'\\'\\'स्वर\\'\\'\\' ===\\nनिम्नलिखित स्वर आधुनिक हिन्दी ([[खड़ी बोली]]) के लिये दिये गये हैं। संस्कृत में इनके उच्चारण थोड़े अलग होते हैं।\\n{|align=\"center\" border=\"2\"\\n! \\'\\'\\'वर्णाक्षर\\'\\'\\'||\\'\\'\\'“प” के साथ मात्रा\\'\\'\\'||\\'\\'\\' [[अन्तर्राष्ट्रीय ध्वन्यात्मक लिपि|ipa]] उच्चारण\\'\\'\\'||\"प्\" के साथ उच्चारण||\\'\\'\\'[[iast]] समतुल्य\\'\\'\\'|| हिन्दी में वर्णन \\n|-align=\"center\"\\n| \\'\\'\\'अ\\'\\'\\'||प||{{ipa|/ ə /}}||{{ipa|/ pə /}}||a|| बीच का मध्य प्रसृत स्वर\\n|-align=\"center\"\\n| \\'\\'\\'आ\\'\\'\\'||पा||{{ipa|/ α: /}}||{{ipa|/ pα: /}}||ā|| दीर्घ विवृत पश्व प्रसृत स्वर\\n|-align=\"center\"\\n| \\'\\'\\'इ\\'\\'\\'||पि||{{ipa|/ i /}}||{{ipa|/ pi /}}||i|| ह्रस्व संवृत अग्र प्रसृत स्वर\\n|-align=\"center\"\\n| \\'\\'\\'ई\\'\\'\\'||पी||{{ipa|/ i: /}}||{{ipa|/ pi: /}}||ī|| दीर्घ संवृत अग्र प्रसृत स्वर \\n|-align=\"center\"\\n| \\'\\'\\'उ\\'\\'\\'||पु||{{ipa|/ u /}}||{{ipa|/ pu /}}||u|| ह्रस्व संवृत पश्व वर्तुल स्वर\\n|-align=\"center\"\\n| \\'\\'\\'ऊ\\'\\'\\'||पू||{{ipa|/ u: /}}||{{ipa|/ pu: /}}||ū|| दीर्घ संवृत पश्व वर्तुल स्वर\\n|-align=\"center\"\\n| \\'\\'\\'ए\\'\\'\\'||पे||{{ipa|/ e: /}}||{{ipa|/ pe: /}}||e|| दीर्घ अर्धसंवृत अग्र प्रसृत स्वर\\n|-align=\"center\"\\n| \\'\\'\\'ऐ\\'\\'\\'||पै||{{ipa|/ æ: /}}||{{ipa|/ pæ: /}}||ai|| दीर्घ लगभग-विवृत अग्र प्रसृत स्वर\\n|-align=\"center\"\\n| \\'\\'\\'ओ\\'\\'\\'||पो||{{ipa|/ ο: /}}||{{ipa|/ pο: /}}||o|| दीर्घ अर्धसंवृत पश्व वर्तुल स्वर\\n|-align=\"center\"\\n| \\'\\'\\'औ\\'\\'\\'||पौ||{{ipa|/ ɔ: /}}||{{ipa|/ pɔ: /}}||au|| दीर्घ अर्धविवृत पश्व वर्तुल स्वर\\n|-align=\"center\"\\n| <कुछ भी नही>||<कुछ भी नही>||{{ipa|/ ɛ /}}||{{ipa|/ pɛ /}}||<कुछ भी नहीं>||ह्रस्व अर्धविवृत अग्र प्रसृत स्वर\\n|-\\n|}\\n\\nसंस्कृत में \\'\\'\\'ऐ\\'\\'\\' दो स्वरों का युग्म होता है और \"अ-इ\" या \"आ-इ\" की तरह बोला जाता है। इसी तरह \\'\\'\\'औ\\'\\'\\' \"अ-उ\" या \"आ-उ\" की तरह बोला जाता है।\\n\\nइसके अलावा हिन्दी और संस्कृत में ये वर्णाक्षर भी स्वर माने जाते हैं :\\n* \\'\\'\\' ऋ\\'\\'\\' -- आधुनिक हिन्दी में \"रि\" की तरह\\n* \\'\\'\\'ॠ\\'\\'\\' -- केवल संस्कृत में\\n* \\'\\'\\'ऌ\\'\\'\\' -- केवल संस्कृत में\\n* \\'\\'\\'ॡ\\'\\'\\' -- केवल संस्कृत में\\n* \\'\\'\\'अं\\'\\'\\' -- आधे न्, म्, ं, ं, ण् के लिये या स्वर का नासिकीकरण करने के लिये\\n* \\'\\'\\'अँ\\'\\'\\' -- स्वर का नासिकीकरण करने के लिये\\n* \\'\\'\\'अः\\'\\'\\' -- अघोष \"ह्\" (निःश्वास) के लिये\\n* \\'\\'\\'ऍ\\'\\'\\' और \\'\\'\\'ऑ\\'\\'\\' -- इनका उपयोग मराठी और और कभी-कभी हिन्दी में अंग्रेजी शब्दों का निकटतम उच्चारण तथा लेखन करने के लिये किया जाता है।\\n\\n=== \\'\\'\\'व्यंजन\\'\\'\\' ===\\nजब किसी स्वर प्रयोग नहीं हो, तो वहाँ पर \\'अ\\' (अर्थात [[श्वा]] का स्वर) माना जाता है। स्वर के न होने को हलन्त्\\u200c अथवा [[विराम]] से दर्शाया जाता है। जैसे कि क्\\u200c ख्\\u200c ग्\\u200c घ्\\u200c। \\n\\nजिन वर्णो को बोलने के लिए स्वर की सहायता लेनी पड़ती है उन्हें व्यंजन कहते है। \\n\\nदूसरे शब्दो में- व्यंजन उन वर्णों को कहते हैं, जिनके उच्चारण में स्वर वर्णों की सहायता ली जाती है। \\n\\nजैसे- क, ख, ग, च, छ, त, थ, द, भ, म इत्यादि।\\n{|border=\"2\" class=wikitable width=100%\\n|+align=\"center\" colspan=\"6\"|स्पर्श (plosives)\\n|-\\n!width=10%|\\n!width=15%|[[:en:unaspirated consonant|अल्पप्राण]]<br />[[:en:voiceless consonant|अघोष]]\\n!width=15%|[[:en:aspirated consonant|महाप्राण]]<br />[[:en:voiceless consonant|अघोष]]\\n!width=15%|[[:en:unaspirated consonant|अल्पप्राण]]<br />[[:en:voiced consonant|घोष]]\\n!width=15%|[[:en:aspirated consonant|महाप्राण]]<br />[[:en:voiced consonant|घोष]]\\n!width=15%|[[:en:nasal|नासिक्य]]\\n|-align=\"center\"\\n|[[:en:velar consonant|कण्ठ्य]]\\n|\\'\\'\\'क\\'\\'\\' {{ipa|/ kə /}}<br />\\n|\\'\\'\\'ख\\'\\'\\' {{ipa|/ k<sup>h</sup>ə /}}<br />\\n|\\'\\'\\'ग\\'\\'\\' {{ipa|/ gə /}}<br />\\n|\\'\\'\\'घ\\'\\'\\' {{ipa|/ g<sup>ɦ</sup>ə /}}<br />\\n|\\'\\'\\'ङ\\'\\'\\' {{ipa|/ ŋə /}}<br />\\n|-align=\"center\"\\n|[[:en:palatal consonant|तालव्य]]\\n|\\'\\'\\'च\\'\\'\\' {{ipa|/ cə / \\'\\'या\\'\\' / tʃə /}}<br />\\n|\\'\\'\\'छ\\'\\'\\' {{ipa|/ c<sup>h</sup>ə / \\'\\'या\\'\\' /tʃ<sup>h</sup>ə/}}<br />\\n|\\'\\'\\'ज\\'\\'\\' {{ipa|/ ɟə / \\'\\'या\\'\\' / dʒə /}}<br />\\n|\\'\\'\\'झ\\'\\'\\' {{ipa|/ ɟ<sup>ɦ</sup>ə / \\'\\'या\\'\\' / dʒ<sup>ɦ</sup>ə /}}<br />\\n|\\'\\'\\'ञ\\'\\'\\' {{ipa|/ ɲə /}}<br />\\n|-align=\"center\"\\n|[[:en:retroflex consonant|मूर्धन्य]]\\n|\\'\\'\\'ट\\'\\'\\' {{ipa|/ ʈə /}}<br />\\n|\\'\\'\\'ठ\\'\\'\\' {{ipa|/ ʈ<sup>h</sup>ə /}}<br />\\n|\\'\\'\\'ड\\'\\'\\' {{ipa|/ ɖə /}}<br />\\n|\\'\\'\\'ढ\\'\\'\\' {{ipa|/ ɖ<sup>ɦ</sup>ə /}}<br />\\n|\\'\\'\\'ण\\'\\'\\' {{ipa|/ ɳə /}}<br />\\n|-align=\"center\"\\n|[[:en:dental consonant|दन्त्य]]\\n|\\'\\'\\'त\\'\\'\\' {{ipa|/ t̪ə /}}<br />\\n|\\'\\'\\'थ\\'\\'\\' {{ipa|/ t̪<sup>h</sup>ə /}}<br />\\n|\\'\\'\\'द\\'\\'\\' {{ipa|/ d̪ə /}}<br />\\n|\\'\\'\\'ध\\'\\'\\' {{ipa|/ d̪<sup>ɦ</sup>ə /}}<br />\\n|\\'\\'\\'न\\'\\'\\' {{ipa|/ nə /}}<br />\\n|-align=\"center\"\\n|[[:en:labial consonant|ओष्ठ्य]]\\n|\\'\\'\\'प\\'\\'\\' {{ipa|/ pə /}}<br />\\n|\\'\\'\\'फ\\'\\'\\' {{ipa|/ p<sup>h</sup>ə /}}<br />\\n|\\'\\'\\'ब\\'\\'\\' {{ipa|/ bə /}}<br />\\n|\\'\\'\\'भ\\'\\'\\' {{ipa|/ b<sup>ɦ</sup>ə /}}<br />\\n|\\'\\'\\'म\\'\\'\\' {{ipa|/ mə /}}<br />\\n|}\\n\\n{|border=\"2\" class=wikitable width=100%\\n|+align=\"center\" colspan=\"5\"|स्पर्शरहित (non-plosives)\\n|-\\n!width=25%|\\n!width=15%|[[:en:palatal consonant|तालव्य]]\\n!width=15%|[[:en:retroflex consonant|मूर्धन्य]]\\n!width=15%|[[:en:dental consonant|दन्त्य]]/<br />[[:en:alveolar consonant|वर्त्स्य]]\\n!width=15%|[[:en:velar consonant|कण्ठोष्ठ्य]]/<br />[[:en:glottal consonant|काकल्य]]\\n|-align=\"center\"\\n|[[:en:approximant|अन्तस्थ]]\\n|\\'\\'\\'य\\'\\'\\' {{ipa|/ jə /}}<br />\\n|\\'\\'\\'र\\'\\'\\' {{ipa|/ rə /}}<br />\\n|\\'\\'\\'ल\\'\\'\\' {{ipa|/ lə /}}<br />\\n|\\'\\'\\'व\\'\\'\\' {{ipa|/ ʋə /}}<br />\\n|-align=\"center\"\\n|[[:en:sibilant|ऊष्म]]/<br />[[:en:fricative consonant|संघर्षी]]\\n|\\'\\'\\'श\\'\\'\\' {{ipa|/ ʃə /}}<br />\\n|\\'\\'\\'ष\\'\\'\\' {{ipa|/ ʂə /}}<br />\\n|\\'\\'\\'स\\'\\'\\' {{ipa|/ sə /}}<br />\\n|\\'\\'\\'ह\\'\\'\\' {{ipa|/ ɦə / या / hə /}}\\n|}\\n\\n; नोट करें -\\n* इनमें से \\'\\'\\'ळ\\'\\'\\' (मूर्धन्य पार्विक अन्तस्थ) एक अतिरिक्त व्यंजन है जिसका प्रयोग हिन्दी में नहीं होता है। मराठी, वैदिक संस्कृत, कोंकणी, मेवाड़ी, इत्यादि में सभी का प्रयोग किया जाता है।\\n\\n* संस्कृत में [[ष|\\'\\'\\'ष\\'\\'\\' का उच्चारण]] ऐसे होता था : जीभ की नोक को मूर्धा (मुँह की छत) की ओर उठाकर \\'\\'\\'श\\'\\'\\' जैसी आवाज़ करना। शुक्ल [[यजुर्वेद]] की माध्यंदिनि शाखा में \\'\\'कुछ वाक़्यात\\'\\' में \\'\\'\\'ष\\'\\'\\' का उच्चारण \\'\\'\\'ख\\'\\'\\' की तरह करना मान्य था। आधुनिक हिन्दी में \\'\\'\\'ष\\'\\'\\' का उच्चारण पूरी तरह \\'\\'\\'श\\'\\'\\' की तरह होता है।\\n\\n* हिन्दी में \\'\\'\\'ण\\'\\'\\' का उच्चारण ज़्यादातर \\'\\'\\'ड़ँ\\'\\'\\' की तरह होता है, यानि कि जीभ मुँह की छत को एक ज़ोरदार ठोकर मारती है। हिन्दी में \\'\\'\\'क्षणिक\\'\\'\\' और \\'\\'\\'क्शड़िंक\\'\\'\\' में कोई फ़र्क नहीं। पर संस्कृत में ण का उच्चारण \\'\\'\\'न\\'\\'\\' की तरह बिना ठोकर मारे होता था, अन्तर केवल इतना कि जीभ \\'\\'\\'ण\\'\\'\\' के समय मुँह की छत को छूती है।\\n\\n=== नुक़्ता वाले व्यंजन ===\\nहिन्दी भाषा में मुख्यत: [[अरबी भाषा|अरबी]] और [[फ़ारसी]] भाषाओं से आये शब्दों को देवनागरी में लिखने के लिये कुछ वर्णों के नीचे नुक्ता (बिन्दु) लगे वर्णों का प्रयोग किया जाता है (जैसे क़, ज़ आदि)। किन्तु हिन्दी में भी अधिकांश लोग नुक्तों का प्रयोग नहीं करते। इसके अलावा संस्कृत, मराठी, नेपाली एवं अन्य भाषाओं को देवनागरी में लिखने में भी नुक्तों का प्रयोग नहीं किया जाता है।\\n{|border=\"2\"\\n|-align=\"center\"\\n|वर्णाक्षर ([[ipa]] उच्चारण) || उदाहरण || वर्णन || अंग्रेज़ी में वर्णन || ग़लत उच्चारण\\n|-align=\"center\"\\n|[[क़]] (/ q /) || क़त्ल || अघोष अलिजिह्वीय स्पर्श || voiceless uvular stop ||  क (/ k /)\\n|-align=\"center\"\\n|[[ख़]] (/ x or χ /) || ख़ास || अघोष अलिजिह्वीय या कण्ठ्य संघर्षी || voiceless uvular or velar fricative || ख (/ k<sup>h</sup> /)\\n|-align=\"center\"\\n| [[ग़]] (/ ɣ or ʁ /)|| ग़ैर || घोष अलिजिह्वीय या कण्ठ्य संघर्षी || voiced uvular or velar fricative || ग (/ g /)\\n|-align=\"center\"\\n| फ़ (/ f /)|| फ़र्क || अघोष दन्त्यौष्ठ्य संघर्षी || voiceless labio-dental fricative || फ (/ p<sup>h</sup> /)\\n|-align=\"center\"\\n| ज़ (/ z /)|| ज़ालिम || घोष वर्त्स्य संघर्षी || voiced alveolar fricative || ज (/ dʒ /)\\n|-align=\"center\"\\n| [[झ़]] (/ ʒ /)|| टेलेवीझ़न || घोष तालव्य संघर्षी || voiced palatal fricative || ज (/ dʒ /)\\n|-align=\"center\"\\n| [[थ़]] (/ θ /)|| अथ़्रू || अघोष दन्त्य संघर्षी || voiceless dental fricative || थ (/ t̪<sup>h</sup> /)\\n|-align=\"center\"\\n| ड़ (/ ɽ /)|| पेड़ || अल्पप्राण मूर्धन्य उत्क्षिप्त || unaspirated retroflex flap ||  -\\n|-align=\"center\"\\n| ढ़ (/ ɽ<sup>h</sup> /)|| पढ़ना || महाप्राण मूर्धन्य उत्क्षिप्त || aspirated retroflex flap ||  -\\n|-\\n|}\\n\\n\\'\\'\\'थ़\\'\\'\\' का प्रयोग मुख्यतः पहाड़ी भाषाओँ में होता है जैसे की डोगरी (की उत्तरी उपभाषाओं) में \"आंसू\" के लिए शब्द है \"अथ़्रू\"। हिन्दी में \\'\\'\\'ड़\\'\\'\\' और \\'\\'\\'ढ़\\'\\'\\' व्यंजन फ़ारसी या अरबी से नहीं लिये गये हैं, न ही ये संस्कृत में पाये जाये हैं। असल में ये संस्कृत के साधारण \\'\\'\\'ड\\'\\'\\' और \\'\\'\\'ढ\\'\\'\\' के बदले हुए रूप हैं।\\n\\n=== विराम-चिह्न, वैदिक चिह्न आदि ===\\n{| class=\"wikitable\" style=\"text-align: center; margin: 0; margin-left: 2em\"\\n|-\\n!प्रतीक\\n!नाम\\n!कार्य\\n|-\\n|। || डण्डा / खड़ी पाई / पूर्ण विराम\\n|| वाक्य का अन्त बताने के लिये\\n|-\\n|॥ || दोहरा डण्डा\\n|-\\n|॰ || &nbsp; || संक्षिप्तीकरण के लिये, जैसे [[महात्मा गांधी|मो॰ क॰ गाँधी]]\\n|-\\n|ॐ || [[प्रणव]] , ओम || [[हिन्दू धर्म]] का शुभ शब्द\\n|-\\n|प॑ || उदात्त || उच्चारण बताने के लिये वैदिक संस्कृत के कुछ ग्रन्थों में प्रयुक्त\\n|-\\n|प॒ || अनुदात्त || उच्चारण बताने के लिये वैदिक संस्कृत के कुछ ग्रन्थों में प्रयुक्त\\n|}\\n\\n=== देवनागरी अंक ===\\n[[देवनागरी अंक]] निम्न रूप में लिखे जाते हैं :\\n\\n{| class=\"prettytable\" \\n| ० ||१ ||२ ||३ ||४ ||५ ||६ ||७ ||८ ||९\\n|}\\n\\n<br />\\n\\n=== देवनागरी संयुक्ताक्षर ===\\nदेवनागरी लिपि में दो व्यंजन का संयुक्ताक्षर निम्न रूप में लिखा जाता है :\\n<div lang=\"und-deva\">\\n1233464324\\n{| class=\"wikitable\" style=\"text-align:center; font-size:15px\"\\n|-\\n! !!{{h:title|ka (ipa:kə)|क|dotted=no}} !!{{h:title|kha (ipa:kʰə)|ख|dotted=no}} !!|{{h:title|ga (ipa:ɡə)|ग|dotted=no}} !!{{h:title|gha (ipa:ɡʱə)|घ|dotted=no}} !!{{h:title|ṅa (ipa:ŋə)|ङ|dotted=no}} !!{{h:title|ca (ipa:cɕə)|च|dotted=no}} !!{{h:title|cha (ipa:cɕʰə)|छ|dotted=no}} !!{{h:title|ja (ipa:ɟʝə)|ज|dotted=no}} !!{{h:title|jha (ipa:ɟʝʱə)|झ|dotted=no}} !!{{h:title|ña (ipa:ɲə)|ञ|dotted=no}} !!{{h:title|ṭa (ipa:ʈə)|ट|dotted=no}} !!{{h:title|ṭha (ipa:ʈʰə)|ठ|dotted=no}} !!{{h:title|ḍa (ipa:ɖə)|ड|dotted=no}} !!{{h:title|ḍha (ipa:ɖʱə)|ढ|dotted=no}} !!{{h:title|ṇa (ipa:ɳə)|ण|dotted=no}} !!{{h:title|ta (ipa:t̪ə)|त|dotted=no}} !!{{h:title|tha (ipa:t̪ʰə)|थ|dotted=no}} !!{{h:title|da (ipa:d̪ə)|द|dotted=no}} !!{{h:title|dha (ipa:d̪ʱə)|ध|dotted=no}} !!{{h:title|na (ipa:n̪ə)|न|dotted=no}} !!{{h:title|pa (ipa:pə)|प|dotted=no}} !!{{h:title|pha (ipa:pʰə)|फ|dotted=no}} !!{{h:title|ba (ipa:bə)|ब|dotted=no}} !!{{h:title|bha (ipa:bʱə)|भ|dotted=no}} !!{{h:title|ma (ipa:mə)|म|dotted=no}} !!{{h:title|ya (ipa:jə)|य|dotted=no}} !!{{h:title|ra (ipa:rə)|र|dotted=no}} !!{{h:title|la (ipa:lə)|ल|dotted=no}} !!{{h:title|va (ipa:və)|व|dotted=no}} !!{{h:title|śa (ipa:ʃə)|श|dotted=no}} !!{{h:title|ṣa (ipa:ʂə)|ष|dotted=no}} !!{{h:title|sa (ipa:sə)|स|dotted=no}} !!{{h:title|ha (ipa:hə)|ह|dotted=no}} !!{{h:title|ḷa (ipa:ɭə)|ळ|dotted=no}}\\n|-\\n!{{h:title|k (ipa:k)|क|dotted=no}}\\n\\n|{{h:title|kka (ipa:kkə)|क्क|dotted=no}}\\n|{{h:title|kkha (ipa:kkʰə)|क्ख|dotted=no}}\\n|{{h:title|kga (ipa:kɡə)|क्ग|dotted=no}}\\n|{{h:title|kgha (ipa:kɡʱə)|क्घ|dotted=no}}\\n|{{h:title|kṅa (ipa:kŋə)|क्ङ|dotted=no}}\\n|{{h:title|kca (ipa:kcɕə)|क्च|dotted=no}}\\n|{{h:title|kcha (ipa:kcɕʰə)|क्छ|dotted=no}}\\n|{{h:title|kja (ipa:kɟʝə)|क्ज|dotted=no}}\\n|{{h:title|kjha (ipa:kɟʝʱə)|क्झ|dotted=no}}\\n|{{h:title|kña (ipa:kɲə)|क्ञ|dotted=no}}\\n|{{h:title|kṭa (ipa:kʈə)|क्ट|dotted=no}}\\n|{{h:title|kṭha (ipa:kʈʰə)|क्ठ|dotted=no}}\\n|{{h:title|kḍa (ipa:kɖə)|क्ड|dotted=no}}\\n|{{h:title|kḍha (ipa:kɖʱə)|क्ढ|dotted=no}}\\n|{{h:title|kṇa (ipa:kɳə)|क्ण|dotted=no}}\\n|[[wikt:क्त|{{h:title|kta (ipa:kt̪ə)|\\'\\'\\'क्त\\'\\'\\'|dotted=no}}]]\\n|{{h:title|ktha (ipa:kt̪ʰə)|क्थ|dotted=no}}\\n|{{h:title|kda (ipa:kd̪ə)|क्द|dotted=no}}\\n|{{h:title|kdha (ipa:kd̪ʱə)|क्ध|dotted=no}}\\n|{{h:title|kna (ipa:kn̪ə)|क्न|dotted=no}}\\n|{{h:title|kpa (ipa:kpə)|क्प|dotted=no}}\\n|{{h:title|kpha (ipa:kpʰə)|क्फ|dotted=no}}\\n|{{h:title|kba (ipa:kbə)|क्ब|dotted=no}}\\n|{{h:title|kbha (ipa:kbʱə)|क्भ|dotted=no}}\\n|{{h:title|kma (ipa:kmə)|क्म|dotted=no}}\\n|{{h:title|kya (ipa:kjə)|क्य|dotted=no}}\\n|{{h:title|kra (ipa:krə)|क्र|dotted=no}}\\n|{{h:title|kla (ipa:klə)|क्ल|dotted=no}}\\n|{{h:title|kva (ipa:kvə)|क्व|dotted=no}}\\n|{{h:title|kśa (ipa:kʃə)|क्श|dotted=no}}\\n|[[wikt:क्ष|{{h:title|kṣa (ipa:kʂə)|\\'\\'\\'क्ष\\'\\'\\'|dotted=no}}]]\\n|{{h:title|ksa (ipa:ksə)|क्स|dotted=no}}\\n|{{h:title|kha (ipa:khə)|क्ह|dotted=no}}\\n|{{h:title|kḷa (ipa:kɭə)|क्ळ|dotted=no}}\\n|-\\n!{{h:title|kh (ipa:kʰ)|ख|dotted=no}}\\n\\n|{{h:title|khka (ipa:kʰkə)|ख्क|dotted=no}}\\n|{{h:title|khkha (ipa:kʰkʰə)|ख्ख|dotted=no}}\\n|{{h:title|khga (ipa:kʰɡə)|ख्ग|dotted=no}}\\n|{{h:title|khgha (ipa:kʰɡʱə)|ख्घ|dotted=no}}\\n|{{h:title|khṅa (ipa:kʰŋə)|ख्ङ|dotted=no}}\\n|{{h:title|khca (ipa:kʰcɕə)|ख्च|dotted=no}}\\n|{{h:title|khcha (ipa:kʰcɕʰə)|ख्छ|dotted=no}}\\n|{{h:title|khja (ipa:kʰɟʝə)|ख्ज|dotted=no}}\\n|{{h:title|khjha (ipa:kʰɟʝʱə)|ख्झ|dotted=no}}\\n|{{h:title|khña (ipa:kʰɲə)|ख्ञ|dotted=no}}\\n|{{h:title|khṭa (ipa:kʰʈə)|ख्ट|dotted=no}}\\n|{{h:title|khṭha (ipa:kʰʈʰə)|ख्ठ|dotted=no}}\\n|{{h:title|khḍa (ipa:kʰɖə)|ख्ड|dotted=no}}\\n|{{h:title|khḍha (ipa:kʰɖʱə)|ख्ढ|dotted=no}}\\n|{{h:title|khṇa (ipa:kʰɳə)|ख्ण|dotted=no}}\\n|{{h:title|khta (ipa:kʰt̪ə)|ख्त|dotted=no}}\\n|{{h:title|khtha (ipa:kʰt̪ʰə)|ख्थ|dotted=no}}\\n|{{h:title|khda (ipa:kʰd̪ə)|ख्द|dotted=no}}\\n|{{h:title|khdha (ipa:kʰd̪ʱə)|ख्ध|dotted=no}}\\n|{{h:title|khna (ipa:kʰn̪ə)|ख्न|dotted=no}}\\n|{{h:title|khpa (ipa:kʰpə)|ख्प|dotted=no}}\\n|{{h:title|khpha (ipa:kʰpʰə)|ख्फ|dotted=no}}\\n|{{h:title|khba (ipa:kʰbə)|ख्ब|dotted=no}}\\n|{{h:title|khbha (ipa:kʰbʱə)|ख्भ|dotted=no}}\\n|{{h:title|khma (ipa:kʰmə)|ख्म|dotted=no}}\\n|{{h:title|khya (ipa:kʰjə)|ख्य|dotted=no}}\\n|{{h:title|khra (ipa:kʰrə)|ख्र|dotted=no}}\\n|{{h:title|khla (ipa:kʰlə)|ख्ल|dotted=no}}\\n|{{h:title|khva (ipa:kʰvə)|ख्व|dotted=no}}\\n|{{h:title|khśa (ipa:kʰʃə)|ख्श|dotted=no}}\\n|{{h:title|khṣa (ipa:kʰʂə)|ख्ष|dotted=no}}\\n|{{h:title|khsa (ipa:kʰsə)|ख्स|dotted=no}}\\n|{{h:title|khha (ipa:kʰhə)|ख्ह|dotted=no}}\\n|{{h:title|khḷa (ipa:kʰɭə)|ख्ळ|dotted=no}}\\n|-\\n!{{h:title|g (ipa:ɡ)|ग|dotted=no}}\\n\\n|{{h:title|gka (ipa:ɡkə)|ग्क|dotted=no}}\\n|{{h:title|gkha (ipa:ɡkʰə)|ग्ख|dotted=no}}\\n|{{h:title|gga (ipa:ɡɡə)|ग्ग|dotted=no}}\\n|{{h:title|ggha (ipa:ɡɡʱə)|ग्घ|dotted=no}}\\n|{{h:title|gṅa (ipa:ɡŋə)|ग्ङ|dotted=no}}\\n|{{h:title|gca (ipa:ɡcɕə)|ग्च|dotted=no}}\\n|{{h:title|gcha (ipa:ɡcɕʰə)|ग्छ|dotted=no}}\\n|{{h:title|gja (ipa:ɡɟʝə)|ग्ज|dotted=no}}\\n|{{h:title|gjha (ipa:ɡɟʝʱə)|ग्झ|dotted=no}}\\n|{{h:title|gña (ipa:ɡɲə)|ग्ञ|dotted=no}}\\n|{{h:title|gṭa (ipa:ɡʈə)|ग्ट|dotted=no}}\\n|{{h:title|gṭha (ipa:ɡʈʰə)|ग्ठ|dotted=no}}\\n|{{h:title|gḍa (ipa:ɡɖə)|ग्ड|dotted=no}}\\n|{{h:title|gḍha (ipa:ɡɖʱə)|ग्ढ|dotted=no}}\\n|{{h:title|gṇa (ipa:ɡɳə)|ग्ण|dotted=no}}\\n|{{h:title|gta (ipa:ɡt̪ə)|ग्त|dotted=no}}\\n|{{h:title|gtha (ipa:ɡt̪ʰə)|ग्थ|dotted=no}}\\n|{{h:title|gda (ipa:ɡd̪ə)|ग्द|dotted=no}}\\n|{{h:title|gdha (ipa:ɡd̪ʱə)|ग्ध|dotted=no}}\\n|{{h:title|gna (ipa:ɡn̪ə)|ग्न|dotted=no}}\\n|{{h:title|gpa (ipa:ɡpə)|ग्प|dotted=no}}\\n|{{h:title|gpha (ipa:ɡpʰə)|ग्फ|dotted=no}}\\n|{{h:title|gba (ipa:ɡbə)|ग्ब|dotted=no}}\\n|{{h:title|gbha (ipa:ɡbʱə)|ग्भ|dotted=no}}\\n|{{h:title|gma (ipa:ɡmə)|ग्म|dotted=no}}\\n|{{h:title|gya (ipa:ɡjə)|ग्य|dotted=no}}\\n|{{h:title|gra (ipa:ɡrə)|ग्र|dotted=no}}\\n|{{h:title|gla (ipa:ɡlə)|ग्ल|dotted=no}}\\n|{{h:title|gva (ipa:ɡvə)|ग्व|dotted=no}}\\n|{{h:title|gśa (ipa:ɡʃə)|ग्श|dotted=no}}\\n|{{h:title|gṣa (ipa:ɡʂə)|ग्ष|dotted=no}}\\n|{{h:title|gsa (ipa:ɡsə)|ग्स|dotted=no}}\\n|{{h:title|gha (ipa:ɡhə)|ग्ह|dotted=no}}\\n|{{h:title|gḷa (ipa:ɡɭə)|ग्ळ|dotted=no}}\\n|-\\n!{{h:title|gh (ipa:ɡʱ)|घ|dotted=no}}\\n\\n|{{h:title|ghka (ipa:ɡʱkə)|घ्क|dotted=no}}\\n|{{h:title|ghkha (ipa:ɡʱkʰə)|घ्ख|dotted=no}}\\n|{{h:title|ghga (ipa:ɡʱɡə)|घ्ग|dotted=no}}\\n|{{h:title|ghgha (ipa:ɡʱɡʱə)|घ्घ|dotted=no}}\\n|{{h:title|ghṅa (ipa:ɡʱŋə)|घ्ङ|dotted=no}}\\n|{{h:title|ghca (ipa:ɡʱcɕə)|घ्च|dotted=no}}\\n|{{h:title|ghcha (ipa:ɡʱcɕʰə)|घ्छ|dotted=no}}\\n|{{h:title|ghja (ipa:ɡʱɟʝə)|घ्ज|dotted=no}}\\n|{{h:title|ghjha (ipa:ɡʱɟʝʱə)|घ्झ|dotted=no}}\\n|{{h:title|ghña (ipa:ɡʱɲə)|घ्ञ|dotted=no}}\\n|{{h:title|ghṭa (ipa:ɡʱʈə)|घ्ट|dotted=no}}\\n|{{h:title|ghṭha (ipa:ɡʱʈʰə)|घ्ठ|dotted=no}}\\n|{{h:title|ghḍa (ipa:ɡʱɖə)|घ्ड|dotted=no}}\\n|{{h:title|ghḍha (ipa:ɡʱɖʱə)|घ्ढ|dotted=no}}\\n|{{h:title|ghṇa (ipa:ɡʱɳə)|घ्ण|dotted=no}}\\n|{{h:title|ghta (ipa:ɡʱt̪ə)|घ्त|dotted=no}}\\n|{{h:title|ghtha (ipa:ɡʱt̪ʰə)|घ्थ|dotted=no}}\\n|{{h:title|ghda (ipa:ɡʱd̪ə)|घ्द|dotted=no}}\\n|{{h:title|ghdha (ipa:ɡʱd̪ʱə)|घ्ध|dotted=no}}\\n|{{h:title|ghna (ipa:ɡʱn̪ə)|घ्न|dotted=no}}\\n|{{h:title|ghpa (ipa:ɡʱpə)|घ्प|dotted=no}}\\n|{{h:title|ghpha (ipa:ɡʱpʰə)|घ्फ|dotted=no}}\\n|{{h:title|ghba (ipa:ɡʱbə)|घ्ब|dotted=no}}\\n|{{h:title|ghbha (ipa:ɡʱbʱə)|घ्भ|dotted=no}}\\n|{{h:title|ghma (ipa:ɡʱmə)|घ्म|dotted=no}}\\n|{{h:title|ghya (ipa:ɡʱjə)|घ्य|dotted=no}}\\n|{{h:title|ghra (ipa:ɡʱrə)|घ्र|dotted=no}}\\n|{{h:title|ghla (ipa:ɡʱlə)|घ्ल|dotted=no}}\\n|{{h:title|ghva (ipa:ɡʱvə)|घ्व|dotted=no}}\\n|{{h:title|ghśa (ipa:ɡʱʃə)|घ्श|dotted=no}}\\n|{{h:title|ghṣa (ipa:ɡʱʂə)|घ्ष|dotted=no}}\\n|{{h:title|ghsa (ipa:ɡʱsə)|घ्स|dotted=no}}\\n|{{h:title|ghha (ipa:ɡʱhə)|घ्ह|dotted=no}}\\n|{{h:title|ghḷa (ipa:ɡʱɭə)|घ्ळ|dotted=no}}\\n|-\\n!{{h:title|ṅ (ipa:ŋ)|ङ|dotted=no}}\\n\\n|{{h:title|ṅka (ipa:ŋkə)|ंक|dotted=no}}\\n|{{h:title|ṅkha (ipa:ŋkʰə)|ंख|dotted=no}}\\n|{{h:title|ṅga (ipa:ŋɡə)|ंग|dotted=no}}\\n|{{h:title|ṅgha (ipa:ŋɡʱə)|ंघ|dotted=no}}\\n|{{h:title|ṅṅa (ipa:ŋŋə)|ंङ|dotted=no}}\\n|{{h:title|ṅca (ipa:ŋcɕə)|ंच|dotted=no}}\\n|{{h:title|ṅcha (ipa:ŋcɕʰə)|ंछ|dotted=no}}\\n|{{h:title|ṅja (ipa:ŋɟʝə)|ंज|dotted=no}}\\n|{{h:title|ṅjha (ipa:ŋɟʝʱə)|ंझ|dotted=no}}\\n|{{h:title|ṅña (ipa:ŋɲə)|ंञ|dotted=no}}\\n|{{h:title|ṅṭa (ipa:ŋʈə)|ंट|dotted=no}}\\n|{{h:title|ṅṭha (ipa:ŋʈʰə)|ंठ|dotted=no}}\\n|{{h:title|ṅḍa (ipa:ŋɖə)|ंड|dotted=no}}\\n|{{h:title|ṅḍha (ipa:ŋɖʱə)|ंढ|dotted=no}}\\n|{{h:title|ṅṇa (ipa:ŋɳə)|ंण|dotted=no}}\\n|{{h:title|ṅta (ipa:ŋt̪ə)|ंत|dotted=no}}\\n|{{h:title|ṅtha (ipa:ŋt̪ʰə)|ंथ|dotted=no}}\\n|{{h:title|ṅda (ipa:ŋd̪ə)|ंद|dotted=no}}\\n|{{h:title|ṅdha (ipa:ŋd̪ʱə)|ंध|dotted=no}}\\n|{{h:title|ṅna (ipa:ŋn̪ə)|ंन|dotted=no}}\\n|{{h:title|ṅpa (ipa:ŋpə)|ंप|dotted=no}}\\n|{{h:title|ṅpha (ipa:ŋpʰə)|ंफ|dotted=no}}\\n|{{h:title|ṅba (ipa:ŋbə)|ंब|dotted=no}}\\n|{{h:title|ṅbha (ipa:ŋbʱə)|ंभ|dotted=no}}\\n|{{h:title|ṅma (ipa:ŋmə)|ंम|dotted=no}}\\n|{{h:title|ṅya (ipa:ŋjə)|ंय|dotted=no}}\\n|{{h:title|ṅra (ipa:ŋrə)|ंर|dotted=no}}\\n|{{h:title|ṅla (ipa:ŋlə)|ंल|dotted=no}}\\n|{{h:title|ṅva (ipa:ŋvə)|ंव|dotted=no}}\\n|{{h:title|ṅśa (ipa:ŋʃə)|ंश|dotted=no}}\\n|{{h:title|ṅṣa (ipa:ŋʂə)|ंष|dotted=no}}\\n|{{h:title|ṅsa (ipa:ŋsə)|ंस|dotted=no}}\\n|{{h:title|ṅha (ipa:ŋhə)|ंह|dotted=no}}\\n|{{h:title|ṅḷa (ipa:ŋɭə)|ंळ|dotted=no}}\\n|-\\n!{{h:title|c (ipa:cɕ)|च|dotted=no}}\\n\\n|{{h:title|cka (ipa:cɕkə)|च्क|dotted=no}}\\n|{{h:title|ckha (ipa:cɕkʰə)|च्ख|dotted=no}}\\n|{{h:title|cga (ipa:cɕɡə)|च्ग|dotted=no}}\\n|{{h:title|cgha (ipa:cɕɡʱə)|च्घ|dotted=no}}\\n|{{h:title|cṅa (ipa:cɕŋə)|च्ङ|dotted=no}}\\n|{{h:title|cca (ipa:cɕcɕə)|च्च|dotted=no}}\\n|{{h:title|ccha (ipa:cɕcɕʰə)|च्छ|dotted=no}}\\n|{{h:title|cja (ipa:cɕɟʝə)|च्ज|dotted=no}}\\n|{{h:title|cjha (ipa:cɕɟʝʱə)|च्झ|dotted=no}}\\n|{{h:title|cña (ipa:cɕɲə)|च्ञ|dotted=no}}\\n|{{h:title|cṭa (ipa:cɕʈə)|च्ट|dotted=no}}\\n|{{h:title|cṭha (ipa:cɕʈʰə)|च्ठ|dotted=no}}\\n|{{h:title|cḍa (ipa:cɕɖə)|च्ड|dotted=no}}\\n|{{h:title|cḍha (ipa:cɕɖʱə)|च्ढ|dotted=no}}\\n|{{h:title|cṇa (ipa:cɕɳə)|च्ण|dotted=no}}\\n|{{h:title|cta (ipa:cɕt̪ə)|च्त|dotted=no}}\\n|{{h:title|ctha (ipa:cɕt̪ʰə)|च्थ|dotted=no}}\\n|{{h:title|cda (ipa:cɕd̪ə)|च्द|dotted=no}}\\n|{{h:title|cdha (ipa:cɕd̪ʱə)|च्ध|dotted=no}}\\n|{{h:title|cna (ipa:cɕn̪ə)|च्न|dotted=no}}\\n|{{h:title|cpa (ipa:cɕpə)|च्प|dotted=no}}\\n|{{h:title|cpha (ipa:cɕpʰə)|च्फ|dotted=no}}\\n|{{h:title|cba (ipa:cɕbə)|च्ब|dotted=no}}\\n|{{h:title|cbha (ipa:cɕbʱə)|च्भ|dotted=no}}\\n|{{h:title|cma (ipa:cɕmə)|च्म|dotted=no}}\\n|{{h:title|cya (ipa:cɕjə)|च्य|dotted=no}}\\n|{{h:title|cra (ipa:cɕrə)|च्र|dotted=no}}\\n|{{h:title|cla (ipa:cɕlə)|च्ल|dotted=no}}\\n|{{h:title|cva (ipa:cɕvə)|च्व|dotted=no}}\\n|{{h:title|cśa (ipa:cɕʃə)|च्श|dotted=no}}\\n|{{h:title|cṣa (ipa:cɕʂə)|च्ष|dotted=no}}\\n|{{h:title|csa (ipa:cɕsə)|च्स|dotted=no}}\\n|{{h:title|cha (ipa:cɕhə)|च्ह|dotted=no}}\\n|{{h:title|cḷa (ipa:cɕɭə)|च्ळ|dotted=no}}\\n|-\\n!{{h:title|ch (ipa:cɕʰ)|छ|dotted=no}}\\n\\n|{{h:title|chka (ipa:cɕʰkə)|छ्क|dotted=no}}\\n|{{h:title|chkha (ipa:cɕʰkʰə)|छ्ख|dotted=no}}\\n|{{h:title|chga (ipa:cɕʰɡə)|छ्ग|dotted=no}}\\n|{{h:title|chgha (ipa:cɕʰɡʱə)|छ्घ|dotted=no}}\\n|{{h:title|chṅa (ipa:cɕʰŋə)|छ्ङ|dotted=no}}\\n|{{h:title|chca (ipa:cɕʰcɕə)|छ्च|dotted=no}}\\n|{{h:title|chcha (ipa:cɕʰcɕʰə)|छ्छ|dotted=no}}\\n|{{h:title|chja (ipa:cɕʰɟʝə)|छ्ज|dotted=no}}\\n|{{h:title|chjha (ipa:cɕʰɟʝʱə)|छ्झ|dotted=no}}\\n|{{h:title|chña (ipa:cɕʰɲə)|छ्ञ|dotted=no}}\\n|{{h:title|chṭa (ipa:cɕʰʈə)|छ्ट|dotted=no}}\\n|{{h:title|chṭha (ipa:cɕʰʈʰə)|छ्ठ|dotted=no}}\\n|{{h:title|chḍa (ipa:cɕʰɖə)|छ्ड|dotted=no}}\\n|{{h:title|chḍha (ipa:cɕʰɖʱə)|छ्ढ|dotted=no}}\\n|{{h:title|chṇa (ipa:cɕʰɳə)|छ्ण|dotted=no}}\\n|{{h:title|chta (ipa:cɕʰt̪ə)|छ्त|dotted=no}}\\n|{{h:title|chtha (ipa:cɕʰt̪ʰə)|छ्थ|dotted=no}}\\n|{{h:title|chda (ipa:cɕʰd̪ə)|छ्द|dotted=no}}\\n|{{h:title|chdha (ipa:cɕʰd̪ʱə)|छ्ध|dotted=no}}\\n|{{h:title|chna (ipa:cɕʰn̪ə)|छ्न|dotted=no}}\\n|{{h:title|chpa (ipa:cɕʰpə)|छ्प|dotted=no}}\\n|{{h:title|chpha (ipa:cɕʰpʰə)|छ्फ|dotted=no}}\\n|{{h:title|chba (ipa:cɕʰbə)|छ्ब|dotted=no}}\\n|{{h:title|chbha (ipa:cɕʰbʱə)|छ्भ|dotted=no}}\\n|{{h:title|chma (ipa:cɕʰmə)|छ्म|dotted=no}}\\n|{{h:title|chya (ipa:cɕʰjə)|छ्य|dotted=no}}\\n|{{h:title|chra (ipa:cɕʰrə)|छ्र|dotted=no}}\\n|{{h:title|chla (ipa:cɕʰlə)|छ्ल|dotted=no}}\\n|{{h:title|chva (ipa:cɕʰvə)|छ्व|dotted=no}}\\n|{{h:title|chśa (ipa:cɕʰʃə)|छ्श|dotted=no}}\\n|{{h:title|chṣa (ipa:cɕʰʂə)|छ्ष|dotted=no}}\\n|{{h:title|chsa (ipa:cɕʰsə)|छ्स|dotted=no}}\\n|{{h:title|chha (ipa:cɕʰhə)|छ्ह|dotted=no}}\\n|{{h:title|chḷa (ipa:cɕʰɭə)|छ्ळ|dotted=no}}\\n|-\\n!{{h:title|j (ipa:ɟʝ)|ज|dotted=no}}\\n\\n|{{h:title|jka (ipa:ɟʝkə)|ज्क|dotted=no}}\\n|{{h:title|jkha (ipa:ɟʝkʰə)|ज्ख|dotted=no}}\\n|{{h:title|jga (ipa:ɟʝɡə)|ज्ग|dotted=no}}\\n|{{h:title|jgha (ipa:ɟʝɡʱə)|ज्घ|dotted=no}}\\n|{{h:title|jṅa (ipa:ɟʝŋə)|ज्ङ|dotted=no}}\\n|{{h:title|jca (ipa:ɟʝcɕə)|ज्च|dotted=no}}\\n|{{h:title|jcha (ipa:ɟʝcɕʰə)|ज्छ|dotted=no}}\\n|{{h:title|jja (ipa:ɟʝɟʝə)|ज्ज|dotted=no}}\\n|{{h:title|jjha (ipa:ɟʝɟʝʱə)|ज्झ|dotted=no}}\\n|[[wikt:ज्ञ|{{h:title|jña (ipa:ɟʝɲə)|\\'\\'\\'ज्ञ\\'\\'\\'|dotted=no}}]]\\n|{{h:title|jṭa (ipa:ɟʝʈə)|ज्ट|dotted=no}}\\n|{{h:title|jṭha (ipa:ɟʝʈʰə)|ज्ठ|dotted=no}}\\n|{{h:title|jḍa (ipa:ɟʝɖə)|ज्ड|dotted=no}}\\n|{{h:title|jḍha (ipa:ɟʝɖʱə)|ज्ढ|dotted=no}}\\n|{{h:title|jṇa (ipa:ɟʝɳə)|ज्ण|dotted=no}}\\n|{{h:title|jta (ipa:ɟʝt̪ə)|ज्त|dotted=no}}\\n|{{h:title|jtha (ipa:ɟʝt̪ʰə)|ज्थ|dotted=no}}\\n|{{h:title|jda (ipa:ɟʝd̪ə)|ज्द|dotted=no}}\\n|{{h:title|jdha (ipa:ɟʝd̪ʱə)|ज्ध|dotted=no}}\\n|{{h:title|jna (ipa:ɟʝn̪ə)|ज्न|dotted=no}}\\n|{{h:title|jpa (ipa:ɟʝpə)|ज्प|dotted=no}}\\n|{{h:title|jpha (ipa:ɟʝpʰə)|ज्फ|dotted=no}}\\n|{{h:title|jba (ipa:ɟʝbə)|ज्ब|dotted=no}}\\n|{{h:title|jbha (ipa:ɟʝbʱə)|ज्भ|dotted=no}}\\n|{{h:title|jma (ipa:ɟʝmə)|ज्म|dotted=no}}\\n|{{h:title|jya (ipa:ɟʝjə)|ज्य|dotted=no}}\\n|{{h:title|jra (ipa:ɟʝrə)|ज्र|dotted=no}}\\n|{{h:title|jla (ipa:ɟʝlə)|ज्ल|dotted=no}}\\n|{{h:title|jva (ipa:ɟʝvə)|ज्व|dotted=no}}\\n|{{h:title|jśa (ipa:ɟʝʃə)|ज्श|dotted=no}}\\n|{{h:title|jṣa (ipa:ɟʝʂə)|ज्ष|dotted=no}}\\n|{{h:title|jsa (ipa:ɟʝsə)|ज्स|dotted=no}}\\n|{{h:title|jha (ipa:ɟʝhə)|ज्ह|dotted=no}}\\n|{{h:title|jḷa (ipa:ɟʝɭə)|ज्ळ|dotted=no}}\\n|-\\n!{{h:title|jh (ipa:ɟʝʱ)|झ|dotted=no}}\\n\\n|{{h:title|jhka (ipa:ɟʝʱkə)|झ्क|dotted=no}}\\n|{{h:title|jhkha (ipa:ɟʝʱkʰə)|झ्ख|dotted=no}}\\n|{{h:title|jhga (ipa:ɟʝʱɡə)|झ्ग|dotted=no}}\\n|{{h:title|jhgha (ipa:ɟʝʱɡʱə)|झ्घ|dotted=no}}\\n|{{h:title|jhṅa (ipa:ɟʝʱŋə)|झ्ङ|dotted=no}}\\n|{{h:title|jhca (ipa:ɟʝʱcɕə)|झ्च|dotted=no}}\\n|{{h:title|jhcha (ipa:ɟʝʱcɕʰə)|झ्छ|dotted=no}}\\n|{{h:title|jhja (ipa:ɟʝʱɟʝə)|झ्ज|dotted=no}}\\n|{{h:title|jhjha (ipa:ɟʝʱɟʝʱə)|झ्झ|dotted=no}}\\n|{{h:title|jhña (ipa:ɟʝʱɲə)|झ्ञ|dotted=no}}\\n|{{h:title|jhṭa (ipa:ɟʝʱʈə)|झ्ट|dotted=no}}\\n|{{h:title|jhṭha (ipa:ɟʝʱʈʰə)|झ्ठ|dotted=no}}\\n|{{h:title|jhḍa (ipa:ɟʝʱɖə)|झ्ड|dotted=no}}\\n|{{h:title|jhḍha (ipa:ɟʝʱɖʱə)|झ्ढ|dotted=no}}\\n|{{h:title|jhṇa (ipa:ɟʝʱɳə)|झ्ण|dotted=no}}\\n|{{h:title|jhta (ipa:ɟʝʱt̪ə)|झ्त|dotted=no}}\\n|{{h:title|jhtha (ipa:ɟʝʱt̪ʰə)|झ्थ|dotted=no}}\\n|{{h:title|jhda (ipa:ɟʝʱd̪ə)|झ्द|dotted=no}}\\n|{{h:title|jhdha (ipa:ɟʝʱd̪ʱə)|झ्ध|dotted=no}}\\n|{{h:title|jhna (ipa:ɟʝʱn̪ə)|झ्न|dotted=no}}\\n|{{h:title|jhpa (ipa:ɟʝʱpə)|झ्प|dotted=no}}\\n|{{h:title|jhpha (ipa:ɟʝʱpʰə)|झ्फ|dotted=no}}\\n|{{h:title|jhba (ipa:ɟʝʱbə)|झ्ब|dotted=no}}\\n|{{h:title|jhbha (ipa:ɟʝʱbʱə)|झ्भ|dotted=no}}\\n|{{h:title|jhma (ipa:ɟʝʱmə)|झ्म|dotted=no}}\\n|{{h:title|jhya (ipa:ɟʝʱjə)|झ्य|dotted=no}}\\n|{{h:title|jhra (ipa:ɟʝʱrə)|झ्र|dotted=no}}\\n|{{h:title|jhla (ipa:ɟʝʱlə)|झ्ल|dotted=no}}\\n|{{h:title|jhva (ipa:ɟʝʱvə)|झ्व|dotted=no}}\\n|{{h:title|jhśa (ipa:ɟʝʱʃə)|झ्श|dotted=no}}\\n|{{h:title|jhṣa (ipa:ɟʝʱʂə)|झ्ष|dotted=no}}\\n|{{h:title|jhsa (ipa:ɟʝʱsə)|झ्स|dotted=no}}\\n|{{h:title|jhha (ipa:ɟʝʱhə)|झ्ह|dotted=no}}\\n|{{h:title|jhḷa (ipa:ɟʝʱɭə)|झ्ळ|dotted=no}}\\n|-\\n!{{h:title|ñ (ipa:ɲ)|ञ|dotted=no}}\\n\\n|{{h:title|ñka (ipa:ɲkə)|ंक|dotted=no}}\\n|{{h:title|ñkha (ipa:ɲkʰə)|ंख|dotted=no}}\\n|{{h:title|ñga (ipa:ɲɡə)|ंग|dotted=no}}\\n|{{h:title|ñgha (ipa:ɲɡʱə)|ंघ|dotted=no}}\\n|{{h:title|ñṅa (ipa:ɲŋə)|ंङ|dotted=no}}\\n|{{h:title|ñca (ipa:ɲcɕə)|ंच|dotted=no}}\\n|{{h:title|ñcha (ipa:ɲcɕʰə)|ंछ|dotted=no}}\\n|{{h:title|ñja (ipa:ɲɟʝə)|ंज|dotted=no}}\\n|{{h:title|ñjha (ipa:ɲɟʝʱə)|ंझ|dotted=no}}\\n|{{h:title|ñña (ipa:ɲɲə)|ंञ|dotted=no}}\\n|{{h:title|ñṭa (ipa:ɲʈə)|ंट|dotted=no}}\\n|{{h:title|ñṭha (ipa:ɲʈʰə)|ंठ|dotted=no}}\\n|{{h:title|ñḍa (ipa:ɲɖə)|ंड|dotted=no}}\\n|{{h:title|ñḍha (ipa:ɲɖʱə)|ंढ|dotted=no}}\\n|{{h:title|ñṇa (ipa:ɲɳə)|ंण|dotted=no}}\\n|{{h:title|ñta (ipa:ɲt̪ə)|ंत|dotted=no}}\\n|{{h:title|ñtha (ipa:ɲt̪ʰə)|ंथ|dotted=no}}\\n|{{h:title|ñda (ipa:ɲd̪ə)|ंद|dotted=no}}\\n|{{h:title|ñdha (ipa:ɲd̪ʱə)|ंध|dotted=no}}\\n|{{h:title|ñna (ipa:ɲn̪ə)|ंन|dotted=no}}\\n|{{h:title|ñpa (ipa:ɲpə)|ंप|dotted=no}}\\n|{{h:title|ñpha (ipa:ɲpʰə)|ंफ|dotted=no}}\\n|{{h:title|ñba (ipa:ɲbə)|ंब|dotted=no}}\\n|{{h:title|ñbha (ipa:ɲbʱə)|ंभ|dotted=no}}\\n|{{h:title|ñma (ipa:ɲmə)|ंम|dotted=no}}\\n|{{h:title|ñya (ipa:ɲjə)|ंय|dotted=no}}\\n|{{h:title|ñra (ipa:ɲrə)|ंर|dotted=no}}\\n|{{h:title|ñla (ipa:ɲlə)|ंल|dotted=no}}\\n|{{h:title|ñva (ipa:ɲvə)|ंव|dotted=no}}\\n|{{h:title|ñśa (ipa:ɲʃə)|ंश|dotted=no}}\\n|{{h:title|ñṣa (ipa:ɲʂə)|ंष|dotted=no}}\\n|{{h:title|ñsa (ipa:ɲsə)|ंस|dotted=no}}\\n|{{h:title|ñha (ipa:ɲhə)|ंह|dotted=no}}\\n|{{h:title|ñḷa (ipa:ɲɭə)|ंळ|dotted=no}}\\n|-\\n!{{h:title|ṭ (ipa:ʈ)|ट|dotted=no}}\\n\\n|{{h:title|ṭka (ipa:ʈkə)|ट्क|dotted=no}}\\n|{{h:title|ṭkha (ipa:ʈkʰə)|ट्ख|dotted=no}}\\n|{{h:title|ṭga (ipa:ʈɡə)|ट्ग|dotted=no}}\\n|{{h:title|ṭgha (ipa:ʈɡʱə)|ट्घ|dotted=no}}\\n|{{h:title|ṭṅa (ipa:ʈŋə)|ट्ङ|dotted=no}}\\n|{{h:title|ṭca (ipa:ʈcɕə)|ट्च|dotted=no}}\\n|{{h:title|ṭcha (ipa:ʈcɕʰə)|ट्छ|dotted=no}}\\n|{{h:title|ṭja (ipa:ʈɟʝə)|ट्ज|dotted=no}}\\n|{{h:title|ṭjha (ipa:ʈɟʝʱə)|ट्झ|dotted=no}}\\n|{{h:title|ṭña (ipa:ʈɲə)|ट्ञ|dotted=no}}\\n|{{h:title|ṭṭa (ipa:ʈʈə)|\\'\\'\\'ट्ट\\'\\'\\'|dotted=no}} <!-- it appears to be irregular but doesn\\'t have a page on wiktionary -->\\n|{{h:title|ṭṭha (ipa:ʈʈʰə)|\\'\\'\\'ट्ठ\\'\\'\\'|dotted=no}} <!-- it appears to be irregular but doesn\\'t have a page on wiktionary -->\\n|{{h:title|ṭḍa (ipa:ʈɖə)|ट्ड|dotted=no}}\\n|{{h:title|ṭḍha (ipa:ʈɖʱə)|ट्ढ|dotted=no}}\\n|{{h:title|ṭṇa (ipa:ʈɳə)|ट्ण|dotted=no}}\\n|{{h:title|ṭta (ipa:ʈt̪ə)|ट्त|dotted=no}}\\n|{{h:title|ṭtha (ipa:ʈt̪ʰə)|ट्थ|dotted=no}}\\n|{{h:title|ṭda (ipa:ʈd̪ə)|ट्द|dotted=no}}\\n|{{h:title|ṭdha (ipa:ʈd̪ʱə)|ट्ध|dotted=no}}\\n|{{h:title|ṭna (ipa:ʈn̪ə)|ट्न|dotted=no}}\\n|{{h:title|ṭpa (ipa:ʈpə)|ट्प|dotted=no}}\\n|{{h:title|ṭpha (ipa:ʈpʰə)|ट्फ|dotted=no}}\\n|{{h:title|ṭba (ipa:ʈbə)|ट्ब|dotted=no}}\\n|{{h:title|ṭbha (ipa:ʈbʱə)|ट्भ|dotted=no}}\\n|{{h:title|ṭma (ipa:ʈmə)|ट्म|dotted=no}}\\n|{{h:title|ṭya (ipa:ʈjə)|ट्य|dotted=no}}\\n|{{h:title|ṭra (ipa:ʈrə)|ट्र|dotted=no}}\\n|{{h:title|ṭla (ipa:ʈlə)|ट्ल|dotted=no}}\\n|{{h:title|ṭva (ipa:ʈvə)|ट्व|dotted=no}}\\n|{{h:title|ṭśa (ipa:ʈʃə)|ट्श|dotted=no}}\\n|{{h:title|ṭṣa (ipa:ʈʂə)|ट्ष|dotted=no}}\\n|{{h:title|ṭsa (ipa:ʈsə)|ट्स|dotted=no}}\\n|{{h:title|ṭha (ipa:ʈhə)|ट्ह|dotted=no}}\\n|{{h:title|ṭḷa (ipa:ʈɭə)|ट्ळ|dotted=no}}\\n|-\\n!{{h:title|ṭh (ipa:ʈʰ)|ठ|dotted=no}}\\n\\n|{{h:title|ṭhka (ipa:ʈʰkə)|ठ्क|dotted=no}}\\n|{{h:title|ṭhkha (ipa:ʈʰkʰə)|ठ्ख|dotted=no}}\\n|{{h:title|ṭhga (ipa:ʈʰɡə)|ठ्ग|dotted=no}}\\n|{{h:title|ṭhgha (ipa:ʈʰɡʱə)|ठ्घ|dotted=no}}\\n|{{h:title|ṭhṅa (ipa:ʈʰŋə)|ठ्ङ|dotted=no}}\\n|{{h:title|ṭhca (ipa:ʈʰcɕə)|ठ्च|dotted=no}}\\n|{{h:title|ṭhcha (ipa:ʈʰcɕʰə)|ठ्छ|dotted=no}}\\n|{{h:title|ṭhja (ipa:ʈʰɟʝə)|ठ्ज|dotted=no}}\\n|{{h:title|ṭhjha (ipa:ʈʰɟʝʱə)|ठ्झ|dotted=no}}\\n|{{h:title|ṭhña (ipa:ʈʰɲə)|ठ्ञ|dotted=no}}\\n|{{h:title|ṭhṭa (ipa:ʈʰʈə)|ठ्ट|dotted=no}}\\n|{{h:title|ṭhṭha (ipa:ʈʰʈʰə)|\\'\\'\\'ठ्ठ\\'\\'\\'|dotted=no}} <!-- it appears to be irregular but doesn\\'t have a page on wiktionary -->\\n|{{h:title|ṭhḍa (ipa:ʈʰɖə)|ठ्ड|dotted=no}}\\n|{{h:title|ṭhḍha (ipa:ʈʰɖʱə)|ठ्ढ|dotted=no}}\\n|{{h:title|ṭhṇa (ipa:ʈʰɳə)|ठ्ण|dotted=no}}\\n|{{h:title|ṭhta (ipa:ʈʰt̪ə)|ठ्त|dotted=no}}\\n|{{h:title|ṭhtha (ipa:ʈʰt̪ʰə)|ठ्थ|dotted=no}}\\n|{{h:title|ṭhda (ipa:ʈʰd̪ə)|ठ्द|dotted=no}}\\n|{{h:title|ṭhdha (ipa:ʈʰd̪ʱə)|ठ्ध|dotted=no}}\\n|{{h:title|ṭhna (ipa:ʈʰn̪ə)|ठ्न|dotted=no}}\\n|{{h:title|ṭhpa (ipa:ʈʰpə)|ठ्प|dotted=no}}\\n|{{h:title|ṭhpha (ipa:ʈʰpʰə)|ठ्फ|dotted=no}}\\n|{{h:title|ṭhba (ipa:ʈʰbə)|ठ्ब|dotted=no}}\\n|{{h:title|ṭhbha (ipa:ʈʰbʱə)|ठ्भ|dotted=no}}\\n|{{h:title|ṭhma (ipa:ʈʰmə)|ठ्म|dotted=no}}\\n|{{h:title|ṭhya (ipa:ʈʰjə)|ठ्य|dotted=no}}\\n|{{h:title|ṭhra (ipa:ʈʰrə)|ठ्र|dotted=no}}\\n|{{h:title|ṭhla (ipa:ʈʰlə)|ठ्ल|dotted=no}}\\n|{{h:title|ṭhva (ipa:ʈʰvə)|ठ्व|dotted=no}}\\n|{{h:title|ṭhśa (ipa:ʈʰʃə)|ठ्श|dotted=no}}\\n|{{h:title|ṭhṣa (ipa:ʈʰʂə)|ठ्ष|dotted=no}}\\n|{{h:title|ṭhsa (ipa:ʈʰsə)|ठ्स|dotted=no}}\\n|{{h:title|ṭhha (ipa:ʈʰhə)|ठ्ह|dotted=no}}\\n|{{h:title|ṭhḷa (ipa:ʈʰɭə)|ठ्ळ|dotted=no}}\\n|-\\n!{{h:title|ḍ (ipa:ɖ)|ड|dotted=no}}\\n\\n|{{h:title|ḍka (ipa:ɖkə)|ड्क|dotted=no}}\\n|{{h:title|ḍkha (ipa:ɖkʰə)|ड्ख|dotted=no}}\\n|{{h:title|ḍga (ipa:ɖɡə)|ड्ग|dotted=no}}\\n|{{h:title|ḍgha (ipa:ɖɡʱə)|ड्घ|dotted=no}}\\n|{{h:title|ḍṅa (ipa:ɖŋə)|ड्ङ|dotted=no}}\\n|{{h:title|ḍca (ipa:ɖcɕə)|ड्च|dotted=no}}\\n|{{h:title|ḍcha (ipa:ɖcɕʰə)|ड्छ|dotted=no}}\\n|{{h:title|ḍja (ipa:ɖɟʝə)|ड्ज|dotted=no}}\\n|{{h:title|ḍjha (ipa:ɖɟʝʱə)|ड्झ|dotted=no}}\\n|{{h:title|ḍña (ipa:ɖɲə)|ड्ञ|dotted=no}}\\n|{{h:title|ḍṭa (ipa:ɖʈə)|ड्ट|dotted=no}}\\n|{{h:title|ḍṭha (ipa:ɖʈʰə)|ड्ठ|dotted=no}}\\n|{{h:title|ḍḍa (ipa:ɖɖə)|ड्ड|dotted=no}}\\n|{{h:title|ḍḍha (ipa:ɖɖʱə)|ड्ढ|dotted=no}}\\n|{{h:title|ḍṇa (ipa:ɖɳə)|ड्ण|dotted=no}}\\n|{{h:title|ḍta (ipa:ɖt̪ə)|ड्त|dotted=no}}\\n|{{h:title|ḍtha (ipa:ɖt̪ʰə)|ड्थ|dotted=no}}\\n|{{h:title|ḍda (ipa:ɖd̪ə)|ड्द|dotted=no}}\\n|{{h:title|ḍdha (ipa:ɖd̪ʱə)|ड्ध|dotted=no}}\\n|{{h:title|ḍna (ipa:ɖn̪ə)|ड्न|dotted=no}}\\n|{{h:title|ḍpa (ipa:ɖpə)|ड्प|dotted=no}}\\n|{{h:title|ḍpha (ipa:ɖpʰə)|ड्फ|dotted=no}}\\n|{{h:title|ḍba (ipa:ɖbə)|ड्ब|dotted=no}}\\n|{{h:title|ḍbha (ipa:ɖbʱə)|ड्भ|dotted=no}}\\n|{{h:title|ḍma (ipa:ɖmə)|ड्म|dotted=no}}\\n|{{h:title|ḍya (ipa:ɖjə)|ड्य|dotted=no}}\\n|{{h:title|ḍra (ipa:ɖrə)|ड्र|dotted=no}}\\n|{{h:title|ḍla (ipa:ɖlə)|ड्ल|dotted=no}}\\n|{{h:title|ḍva (ipa:ɖvə)|ड्व|dotted=no}}\\n|{{h:title|ḍśa (ipa:ɖʃə)|ड्श|dotted=no}}\\n|{{h:title|ḍṣa (ipa:ɖʂə)|ड्ष|dotted=no}}\\n|{{h:title|ḍsa (ipa:ɖsə)|ड्स|dotted=no}}\\n|{{h:title|ḍha (ipa:ɖhə)|ड्ह|dotted=no}}\\n|{{h:title|ḍḷa (ipa:ɖɭə)|ड्ळ|dotted=no}}\\n|-\\n!{{h:title|ḍh (ipa:ɖʱ)|ढ|dotted=no}}\\n\\n|{{h:title|ḍhka (ipa:ɖʱkə)|ढ्क|dotted=no}}\\n|{{h:title|ḍhkha (ipa:ɖʱkʰə)|ढ्ख|dotted=no}}\\n|{{h:title|ḍhga (ipa:ɖʱɡə)|ढ्ग|dotted=no}}\\n|{{h:title|ḍhgha (ipa:ɖʱɡʱə)|ढ्घ|dotted=no}}\\n|{{h:title|ḍhṅa (ipa:ɖʱŋə)|ढ्ङ|dotted=no}}\\n|{{h:title|ḍhca (ipa:ɖʱcɕə)|ढ्च|dotted=no}}\\n|{{h:title|ḍhcha (ipa:ɖʱcɕʰə)|ढ्छ|dotted=no}}\\n|{{h:title|ḍhja (ipa:ɖʱɟʝə)|ढ्ज|dotted=no}}\\n|{{h:title|ḍhjha (ipa:ɖʱɟʝʱə)|ढ्झ|dotted=no}}\\n|{{h:title|ḍhña (ipa:ɖʱɲə)|ढ्ञ|dotted=no}}\\n|{{h:title|ḍhṭa (ipa:ɖʱʈə)|ढ्ट|dotted=no}}\\n|{{h:title|ḍhṭha (ipa:ɖʱʈʰə)|ढ्ठ|dotted=no}}\\n|{{h:title|ḍhḍa (ipa:ɖʱɖə)|ढ्ड|dotted=no}}\\n|{{h:title|ḍhḍha (ipa:ɖʱɖʱə)|ढ्ढ|dotted=no}}\\n|{{h:title|ḍhṇa (ipa:ɖʱɳə)|ढ्ण|dotted=no}}\\n|{{h:title|ḍhta (ipa:ɖʱt̪ə)|ढ्त|dotted=no}}\\n|{{h:title|ḍhtha (ipa:ɖʱt̪ʰə)|ढ्थ|dotted=no}}\\n|{{h:title|ḍhda (ipa:ɖʱd̪ə)|ढ्द|dotted=no}}\\n|{{h:title|ḍhdha (ipa:ɖʱd̪ʱə)|ढ्ध|dotted=no}}\\n|{{h:title|ḍhna (ipa:ɖʱn̪ə)|ढ्न|dotted=no}}\\n|{{h:title|ḍhpa (ipa:ɖʱpə)|ढ्प|dotted=no}}\\n|{{h:title|ḍhpha (ipa:ɖʱpʰə)|ढ्फ|dotted=no}}\\n|{{h:title|ḍhba (ipa:ɖʱbə)|ढ्ब|dotted=no}}\\n|{{h:title|ḍhbha (ipa:ɖʱbʱə)|ढ्भ|dotted=no}}\\n|{{h:title|ḍhma (ipa:ɖʱmə)|ढ्म|dotted=no}}\\n|{{h:title|ḍhya (ipa:ɖʱjə)|ढ्य|dotted=no}}\\n|{{h:title|ḍhra (ipa:ɖʱrə)|ढ्र|dotted=no}}\\n|{{h:title|ḍhla (ipa:ɖʱlə)|ढ्ल|dotted=no}}\\n|{{h:title|ḍhva (ipa:ɖʱvə)|ढ्व|dotted=no}}\\n|{{h:title|ḍhśa (ipa:ɖʱʃə)|ढ्श|dotted=no}}\\n|{{h:title|ḍhṣa (ipa:ɖʱʂə)|ढ्ष|dotted=no}}\\n|{{h:title|ḍhsa (ipa:ɖʱsə)|ढ्स|dotted=no}}\\n|{{h:title|ḍhha (ipa:ɖʱhə)|ढ्ह|dotted=no}}\\n|{{h:title|ḍhḷa (ipa:ɖʱɭə)|ढ्ळ|dotted=no}}\\n|-\\n!{{h:title|ṇ (ipa:ɳ)|ण|dotted=no}}\\n\\n|{{h:title|ṇka (ipa:ɳkə)|ण्क|dotted=no}}\\n|{{h:title|ṇkha (ipa:ɳkʰə)|ण्ख|dotted=no}}\\n|{{h:title|ṇga (ipa:ɳɡə)|ण्ग|dotted=no}}\\n|{{h:title|ṇgha (ipa:ɳɡʱə)|ण्घ|dotted=no}}\\n|{{h:title|ṇṅa (ipa:ɳŋə)|ण्ङ|dotted=no}}\\n|{{h:title|ṇca (ipa:ɳcɕə)|ण्च|dotted=no}}\\n|{{h:title|ṇcha (ipa:ɳcɕʰə)|ण्छ|dotted=no}}\\n|{{h:title|ṇja (ipa:ɳɟʝə)|ण्ज|dotted=no}}\\n|{{h:title|ṇjha (ipa:ɳɟʝʱə)|ण्झ|dotted=no}}\\n|{{h:title|ṇña (ipa:ɳɲə)|ण्ञ|dotted=no}}\\n|{{h:title|ṇṭa (ipa:ɳʈə)|ण्ट|dotted=no}}\\n|{{h:title|ṇṭha (ipa:ɳʈʰə)|ण्ठ|dotted=no}}\\n|{{h:title|ṇḍa (ipa:ɳɖə)|ण्ड|dotted=no}}\\n|{{h:title|ṇḍha (ipa:ɳɖʱə)|ण्ढ|dotted=no}}\\n|{{h:title|ṇṇa (ipa:ɳɳə)|ण्ण|dotted=no}}\\n|{{h:title|ṇta (ipa:ɳt̪ə)|ण्त|dotted=no}}\\n|{{h:title|ṇtha (ipa:ɳt̪ʰə)|ण्थ|dotted=no}}\\n|{{h:title|ṇda (ipa:ɳd̪ə)|ण्द|dotted=no}}\\n|{{h:title|ṇdha (ipa:ɳd̪ʱə)|ण्ध|dotted=no}}\\n|{{h:title|ṇna (ipa:ɳn̪ə)|ण्न|dotted=no}}\\n|{{h:title|ṇpa (ipa:ɳpə)|ण्प|dotted=no}}\\n|{{h:title|ṇpha (ipa:ɳpʰə)|ण्फ|dotted=no}}\\n|{{h:title|ṇba (ipa:ɳbə)|ण्ब|dotted=no}}\\n|{{h:title|ṇbha (ipa:ɳbʱə)|ण्भ|dotted=no}}\\n|{{h:title|ṇma (ipa:ɳmə)|ण्म|dotted=no}}\\n|{{h:title|ṇya (ipa:ɳjə)|ण्य|dotted=no}}\\n|{{h:title|ṇra (ipa:ɳrə)|ण्र|dotted=no}}\\n|{{h:title|ṇla (ipa:ɳlə)|ण्ल|dotted=no}}\\n|{{h:title|ṇva (ipa:ɳvə)|ण्व|dotted=no}}\\n|{{h:title|ṇśa (ipa:ɳʃə)|ण्श|dotted=no}}\\n|{{h:title|ṇṣa (ipa:ɳʂə)|ण्ष|dotted=no}}\\n|{{h:title|ṇsa (ipa:ɳsə)|ण्स|dotted=no}}\\n|{{h:title|ṇha (ipa:ɳhə)|ण्ह|dotted=no}}\\n|{{h:title|ṇḷa (ipa:ɳɭə)|ण्ळ|dotted=no}}\\n|-\\n!{{h:title|t (ipa:t̪)|त|dotted=no}}\\n\\n|{{h:title|tka (ipa:t̪kə)|त्क|dotted=no}}\\n|{{h:title|tkha (ipa:t̪kʰə)|त्ख|dotted=no}}\\n|{{h:title|tga (ipa:t̪ɡə)|त्ग|dotted=no}}\\n|{{h:title|tgha (ipa:t̪ɡʱə)|त्घ|dotted=no}}\\n|{{h:title|tṅa (ipa:t̪ŋə)|त्ङ|dotted=no}}\\n|{{h:title|tca (ipa:t̪cɕə)|त्च|dotted=no}}\\n|{{h:title|tcha (ipa:t̪cɕʰə)|त्छ|dotted=no}}\\n|{{h:title|tja (ipa:t̪ɟʝə)|त्ज|dotted=no}}\\n|{{h:title|tjha (ipa:t̪ɟʝʱə)|त्झ|dotted=no}}\\n|{{h:title|tña (ipa:t̪ɲə)|त्ञ|dotted=no}}\\n|{{h:title|tṭa (ipa:t̪ʈə)|त्ट|dotted=no}}\\n|{{h:title|tṭha (ipa:t̪ʈʰə)|त्ठ|dotted=no}}\\n|{{h:title|tḍa (ipa:t̪ɖə)|त्ड|dotted=no}}\\n|{{h:title|tḍha (ipa:t̪ɖʱə)|त्ढ|dotted=no}}\\n|{{h:title|tṇa (ipa:t̪ɳə)|त्ण|dotted=no}}\\n|[[wikt:त्त|{{h:title|tta (ipa:t̪t̪ə)|\\'\\'\\'त्त\\'\\'\\'|dotted=no}}]]\\n|{{h:title|ttha (ipa:t̪t̪ʰə)|त्थ|dotted=no}}\\n|{{h:title|tda (ipa:t̪d̪ə)|त्द|dotted=no}}\\n|{{h:title|tdha (ipa:t̪d̪ʱə)|त्ध|dotted=no}}\\n|{{h:title|tna (ipa:t̪n̪ə)|त्न|dotted=no}}\\n|{{h:title|tpa (ipa:t̪pə)|त्प|dotted=no}}\\n|{{h:title|tpha (ipa:t̪pʰə)|त्फ|dotted=no}}\\n|{{h:title|tba (ipa:t̪bə)|त्ब|dotted=no}}\\n|{{h:title|tbha (ipa:t̪bʱə)|त्भ|dotted=no}}\\n|{{h:title|tma (ipa:t̪mə)|त्म|dotted=no}}\\n|{{h:title|tya (ipa:t̪jə)|त्य|dotted=no}}\\n|{{h:title|tra (ipa:t̪rə)|\\'\\'\\'त्र\\'\\'\\'|dotted=no}} <!-- it is an irregular ligature but doesn\\'t have a page on wiktionary -->\\n|{{h:title|tla (ipa:t̪lə)|त्ल|dotted=no}}\\n|{{h:title|tva (ipa:t̪və)|त्व|dotted=no}}\\n|{{h:title|tśa (ipa:t̪ʃə)|त्श|dotted=no}}\\n|{{h:title|tṣa (ipa:t̪ʂə)|त्ष|dotted=no}}\\n|{{h:title|tsa (ipa:t̪sə)|त्स|dotted=no}}\\n|{{h:title|tha (ipa:t̪hə)|त्ह|dotted=no}}\\n|{{h:title|tḷa (ipa:t̪ɭə)|त्ळ|dotted=no}}\\n|-\\n!{{h:title|th (ipa:t̪ʰ)|थ|dotted=no}}\\n\\n|{{h:title|thka (ipa:t̪ʰkə)|थ्क|dotted=no}}\\n|{{h:title|thkha (ipa:t̪ʰkʰə)|थ्ख|dotted=no}}\\n|{{h:title|thga (ipa:t̪ʰɡə)|थ्ग|dotted=no}}\\n|{{h:title|thgha (ipa:t̪ʰɡʱə)|थ्घ|dotted=no}}\\n|{{h:title|thṅa (ipa:t̪ʰŋə)|थ्ङ|dotted=no}}\\n|{{h:title|thca (ipa:t̪ʰcɕə)|थ्च|dotted=no}}\\n|{{h:title|thcha (ipa:t̪ʰcɕʰə)|थ्छ|dotted=no}}\\n|{{h:title|thja (ipa:t̪ʰɟʝə)|थ्ज|dotted=no}}\\n|{{h:title|thjha (ipa:t̪ʰɟʝʱə)|थ्झ|dotted=no}}\\n|{{h:title|thña (ipa:t̪ʰɲə)|थ्ञ|dotted=no}}\\n|{{h:title|thṭa (ipa:t̪ʰʈə)|थ्ट|dotted=no}}\\n|{{h:title|thṭha (ipa:t̪ʰʈʰə)|थ्ठ|dotted=no}}\\n|{{h:title|thḍa (ipa:t̪ʰɖə)|थ्ड|dotted=no}}\\n|{{h:title|thḍha (ipa:t̪ʰɖʱə)|थ्ढ|dotted=no}}\\n|{{h:title|thṇa (ipa:t̪ʰɳə)|थ्ण|dotted=no}}\\n|{{h:title|thta (ipa:t̪ʰt̪ə)|थ्त|dotted=no}}\\n|{{h:title|ththa (ipa:t̪ʰt̪ʰə)|थ्थ|dotted=no}}\\n|{{h:title|thda (ipa:t̪ʰd̪ə)|थ्द|dotted=no}}\\n|{{h:title|thdha (ipa:t̪ʰd̪ʱə)|थ्ध|dotted=no}}\\n|{{h:title|thna (ipa:t̪ʰn̪ə)|थ्न|dotted=no}}\\n|{{h:title|thpa (ipa:t̪ʰpə)|थ्प|dotted=no}}\\n|{{h:title|thpha (ipa:t̪ʰpʰə)|थ्फ|dotted=no}}\\n|{{h:title|thba (ipa:t̪ʰbə)|थ्ब|dotted=no}}\\n|{{h:title|thbha (ipa:t̪ʰbʱə)|थ्भ|dotted=no}}\\n|{{h:title|thma (ipa:t̪ʰmə)|थ्म|dotted=no}}\\n|{{h:title|thya (ipa:t̪ʰjə)|थ्य|dotted=no}}\\n|{{h:title|thra (ipa:t̪ʰrə)|थ्र|dotted=no}}\\n|{{h:title|thla (ipa:t̪ʰlə)|थ्ल|dotted=no}}\\n|{{h:title|thva (ipa:t̪ʰvə)|थ्व|dotted=no}}\\n|{{h:title|thśa (ipa:t̪ʰʃə)|थ्श|dotted=no}}\\n|{{h:title|thṣa (ipa:t̪ʰʂə)|थ्ष|dotted=no}}\\n|{{h:title|thsa (ipa:t̪ʰsə)|थ्स|dotted=no}}\\n|{{h:title|thha (ipa:t̪ʰhə)|थ्ह|dotted=no}}\\n|{{h:title|thḷa (ipa:t̪ʰɭə)|थ्ळ|dotted=no}}\\n|-\\n!{{h:title|d (ipa:d̪)|द|dotted=no}}\\n\\n|{{h:title|dka (ipa:d̪kə)|द्क|dotted=no}}\\n|{{h:title|dkha (ipa:d̪kʰə)|द्ख|dotted=no}}\\n|{{h:title|dga (ipa:d̪ɡə)|द्ग|dotted=no}}\\n|{{h:title|dgha (ipa:d̪ɡʱə)|द्घ|dotted=no}}\\n|{{h:title|dṅa (ipa:d̪ŋə)|द्ङ|dotted=no}}\\n|{{h:title|dca (ipa:d̪cɕə)|द्च|dotted=no}}\\n|{{h:title|dcha (ipa:d̪cɕʰə)|द्छ|dotted=no}}\\n|{{h:title|dja (ipa:d̪ɟʝə)|द्ज|dotted=no}}\\n|{{h:title|djha (ipa:d̪ɟʝʱə)|द्झ|dotted=no}}\\n|{{h:title|dña (ipa:d̪ɲə)|द्ञ|dotted=no}}\\n|{{h:title|dṭa (ipa:d̪ʈə)|द्ट|dotted=no}}\\n|{{h:title|dṭha (ipa:d̪ʈʰə)|द्ठ|dotted=no}}\\n|{{h:title|dḍa (ipa:d̪ɖə)|द्ड|dotted=no}}\\n|{{h:title|dḍha (ipa:d̪ɖʱə)|द्ढ|dotted=no}}\\n|{{h:title|dṇa (ipa:d̪ɳə)|द्ण|dotted=no}}\\n|{{h:title|dta (ipa:d̪t̪ə)|द्त|dotted=no}}\\n|{{h:title|dtha (ipa:d̪t̪ʰə)|द्थ|dotted=no}}\\n|[[wikt:द्द|{{h:title|dda (ipa:d̪d̪ə)|\\'\\'\\'द्द\\'\\'\\'|dotted=no}}]]\\n|[[wikt:द्ध|{{h:title|ddha (ipa:d̪d̪ʱə)|\\'\\'\\'द्ध\\'\\'\\'|dotted=no}}]]\\n|{{h:title|dna (ipa:d̪n̪ə)|द्न|dotted=no}}\\n|{{h:title|dpa (ipa:d̪pə)|द्प|dotted=no}}\\n|{{h:title|dpha (ipa:d̪pʰə)|द्फ|dotted=no}}\\n|[[wikt:द्ब|{{h:title|dba (ipa:d̪bə)|\\'\\'\\'द्ब\\'\\'\\'|dotted=no}}]]\\n|[[wikt:द्भ|{{h:title|dbha (ipa:d̪bʱə)|\\'\\'\\'द्भ\\'\\'\\'|dotted=no}}]]\\n|[[wikt:द्म|{{h:title|dma (ipa:d̪mə)|\\'\\'\\'द्म\\'\\'\\'|dotted=no}}]]\\n|[[wikt:द्य|{{h:title|dya (ipa:d̪jə)|\\'\\'\\'द्य\\'\\'\\'|dotted=no}}]]\\n|{{h:title|dra (ipa:d̪rə)|द्र|dotted=no}}\\n|{{h:title|dla (ipa:d̪lə)|द्ल|dotted=no}}\\n|[[wikt:द्व|{{h:title|dva (ipa:d̪və)|\\'\\'\\'द्व\\'\\'\\'|dotted=no}}]]\\n|{{h:title|dśa (ipa:d̪ʃə)|द्श|dotted=no}}\\n|{{h:title|dṣa (ipa:d̪ʂə)|द्ष|dotted=no}}\\n|{{h:title|dsa (ipa:d̪sə)|द्स|dotted=no}}\\n|{{h:title|dha (ipa:d̪hə)|द्ह|dotted=no}}\\n|{{h:title|dḷa (ipa:d̪ɭə)|द्ळ|dotted=no}}\\n|-\\n!{{h:title|dh (ipa:d̪ʱ)|ध|dotted=no}}\\n\\n|{{h:title|dhka (ipa:d̪ʱkə)|ध्क|dotted=no}}\\n|{{h:title|dhkha (ipa:d̪ʱkʰə)|ध्ख|dotted=no}}\\n|{{h:title|dhga (ipa:d̪ʱɡə)|ध्ग|dotted=no}}\\n|{{h:title|dhgha (ipa:d̪ʱɡʱə)|ध्घ|dotted=no}}\\n|{{h:title|dhṅa (ipa:d̪ʱŋə)|ध्ङ|dotted=no}}\\n|{{h:title|dhca (ipa:d̪ʱcɕə)|ध्च|dotted=no}}\\n|{{h:title|dhcha (ipa:d̪ʱcɕʰə)|ध्छ|dotted=no}}\\n|{{h:title|dhja (ipa:d̪ʱɟʝə)|ध्ज|dotted=no}}\\n|{{h:title|dhjha (ipa:d̪ʱɟʝʱə)|ध्झ|dotted=no}}\\n|{{h:title|dhña (ipa:d̪ʱɲə)|ध्ञ|dotted=no}}\\n|{{h:title|dhṭa (ipa:d̪ʱʈə)|ध्ट|dotted=no}}\\n|{{h:title|dhṭha (ipa:d̪ʱʈʰə)|ध्ठ|dotted=no}}\\n|{{h:title|dhḍa (ipa:d̪ʱɖə)|ध्ड|dotted=no}}\\n|{{h:title|dhḍha (ipa:d̪ʱɖʱə)|ध्ढ|dotted=no}}\\n|{{h:title|dhṇa (ipa:d̪ʱɳə)|ध्ण|dotted=no}}\\n|{{h:title|dhta (ipa:d̪ʱt̪ə)|ध्त|dotted=no}}\\n|{{h:title|dhtha (ipa:d̪ʱt̪ʰə)|ध्थ|dotted=no}}\\n|{{h:title|dhda (ipa:d̪ʱd̪ə)|ध्द|dotted=no}}\\n|{{h:title|dhdha (ipa:d̪ʱd̪ʱə)|ध्ध|dotted=no}}\\n|{{h:title|dhna (ipa:d̪ʱn̪ə)|ध्न|dotted=no}}\\n|{{h:title|dhpa (ipa:d̪ʱpə)|ध्प|dotted=no}}\\n|{{h:title|dhpha (ipa:d̪ʱpʰə)|ध्फ|dotted=no}}\\n|{{h:title|dhba (ipa:d̪ʱbə)|ध्ब|dotted=no}}\\n|{{h:title|dhbha (ipa:d̪ʱbʱə)|ध्भ|dotted=no}}\\n|{{h:title|dhma (ipa:d̪ʱmə)|ध्म|dotted=no}}\\n|{{h:title|dhya (ipa:d̪ʱjə)|ध्य|dotted=no}}\\n|{{h:title|dhra (ipa:d̪ʱrə)|ध्र|dotted=no}}\\n|{{h:title|dhla (ipa:d̪ʱlə)|ध्ल|dotted=no}}\\n|{{h:title|dhva (ipa:d̪ʱvə)|ध्व|dotted=no}}\\n|{{h:title|dhśa (ipa:d̪ʱʃə)|ध्श|dotted=no}}\\n|{{h:title|dhṣa (ipa:d̪ʱʂə)|ध्ष|dotted=no}}\\n|{{h:title|dhsa (ipa:d̪ʱsə)|ध्स|dotted=no}}\\n|{{h:title|dhha (ipa:d̪ʱhə)|ध्ह|dotted=no}}\\n|{{h:title|dhḷa (ipa:d̪ʱɭə)|ध्ळ|dotted=no}}\\n|-\\n!{{h:title|n (ipa:n̪)|न|dotted=no}}\\n\\n|{{h:title|nka (ipa:n̪kə)|न्क|dotted=no}}\\n|{{h:title|nkha (ipa:n̪kʰə)|न्ख|dotted=no}}\\n|{{h:title|nga (ipa:n̪ɡə)|न्ग|dotted=no}}\\n|{{h:title|ngha (ipa:n̪ɡʱə)|न्घ|dotted=no}}\\n|{{h:title|nṅa (ipa:n̪ŋə)|न्ङ|dotted=no}}\\n|{{h:title|nca (ipa:n̪cɕə)|न्च|dotted=no}}\\n|{{h:title|ncha (ipa:n̪cɕʰə)|न्छ|dotted=no}}\\n|{{h:title|nja (ipa:n̪ɟʝə)|न्ज|dotted=no}}\\n|{{h:title|njha (ipa:n̪ɟʝʱə)|न्झ|dotted=no}}\\n|{{h:title|nña (ipa:n̪ɲə)|न्ञ|dotted=no}}\\n|{{h:title|nṭa (ipa:n̪ʈə)|न्ट|dotted=no}}\\n|{{h:title|nṭha (ipa:n̪ʈʰə)|न्ठ|dotted=no}}\\n|{{h:title|nḍa (ipa:n̪ɖə)|न्ड|dotted=no}}\\n|{{h:title|nḍha (ipa:n̪ɖʱə)|न्ढ|dotted=no}}\\n|{{h:title|nṇa (ipa:n̪ɳə)|न्ण|dotted=no}}\\n|{{h:title|nta (ipa:n̪t̪ə)|न्त|dotted=no}}\\n|{{h:title|ntha (ipa:n̪t̪ʰə)|न्थ|dotted=no}}\\n|{{h:title|nda (ipa:n̪d̪ə)|न्द|dotted=no}}\\n|{{h:title|ndha (ipa:n̪d̪ʱə)|न्ध|dotted=no}}\\n|{{h:title|nna (ipa:n̪n̪ə)|न्न|dotted=no}}\\n|{{h:title|npa (ipa:n̪pə)|न्प|dotted=no}}\\n|{{h:title|npha (ipa:n̪pʰə)|न्फ|dotted=no}}\\n|{{h:title|nba (ipa:n̪bə)|न्ब|dotted=no}}\\n|{{h:title|nbha (ipa:n̪bʱə)|न्भ|dotted=no}}\\n|{{h:title|nma (ipa:n̪mə)|न्म|dotted=no}}\\n|{{h:title|nya (ipa:n̪jə)|न्य|dotted=no}}\\n|{{h:title|nra (ipa:n̪rə)|न्र|dotted=no}}\\n|{{h:title|nla (ipa:n̪lə)|न्ल|dotted=no}}\\n|{{h:title|nva (ipa:n̪və)|न्व|dotted=no}}\\n|{{h:title|nśa (ipa:n̪ʃə)|न्श|dotted=no}}\\n|{{h:title|nṣa (ipa:n̪ʂə)|न्ष|dotted=no}}\\n|{{h:title|nsa (ipa:n̪sə)|न्स|dotted=no}}\\n|{{h:title|nha (ipa:n̪hə)|न्ह|dotted=no}}\\n|{{h:title|nḷa (ipa:n̪ɭə)|न्ळ|dotted=no}}\\n|-\\n!{{h:title|p (ipa:p)|प|dotted=no}}\\n\\n|{{h:title|pka (ipa:pkə)|प्क|dotted=no}}\\n|{{h:title|pkha (ipa:pkʰə)|प्ख|dotted=no}}\\n|{{h:title|pga (ipa:pɡə)|प्ग|dotted=no}}\\n|{{h:title|pgha (ipa:pɡʱə)|प्घ|dotted=no}}\\n|{{h:title|pṅa (ipa:pŋə)|प्ङ|dotted=no}}\\n|{{h:title|pca (ipa:pcɕə)|प्च|dotted=no}}\\n|{{h:title|pcha (ipa:pcɕʰə)|प्छ|dotted=no}}\\n|{{h:title|pja (ipa:pɟʝə)|प्ज|dotted=no}}\\n|{{h:title|pjha (ipa:pɟʝʱə)|प्झ|dotted=no}}\\n|{{h:title|pña (ipa:pɲə)|प्ञ|dotted=no}}\\n|{{h:title|pṭa (ipa:pʈə)|प्ट|dotted=no}}\\n|{{h:title|pṭha (ipa:pʈʰə)|प्ठ|dotted=no}}\\n|{{h:title|pḍa (ipa:pɖə)|प्ड|dotted=no}}\\n|{{h:title|pḍha (ipa:pɖʱə)|प्ढ|dotted=no}}\\n|{{h:title|pṇa (ipa:pɳə)|प्ण|dotted=no}}\\n|{{h:title|pta (ipa:pt̪ə)|प्त|dotted=no}}\\n|{{h:title|ptha (ipa:pt̪ʰə)|प्थ|dotted=no}}\\n|{{h:title|pda (ipa:pd̪ə)|प्द|dotted=no}}\\n|{{h:title|pdha (ipa:pd̪ʱə)|प्ध|dotted=no}}\\n|{{h:title|pna (ipa:pn̪ə)|प्न|dotted=no}}\\n|{{h:title|ppa (ipa:ppə)|प्प|dotted=no}}\\n|{{h:title|ppha (ipa:ppʰə)|प्फ|dotted=no}}\\n|{{h:title|pba (ipa:pbə)|प्ब|dotted=no}}\\n|{{h:title|pbha (ipa:pbʱə)|प्भ|dotted=no}}\\n|{{h:title|pma (ipa:pmə)|प्म|dotted=no}}\\n|{{h:title|pya (ipa:pjə)|प्य|dotted=no}}\\n|{{h:title|pra (ipa:prə)|प्र|dotted=no}}\\n|{{h:title|pla (ipa:plə)|प्ल|dotted=no}}\\n|{{h:title|pva (ipa:pvə)|प्व|dotted=no}}\\n|{{h:title|pśa (ipa:pʃə)|प्श|dotted=no}}\\n|{{h:title|pṣa (ipa:pʂə)|प्ष|dotted=no}}\\n|{{h:title|psa (ipa:psə)|प्स|dotted=no}}\\n|{{h:title|pha (ipa:phə)|प्ह|dotted=no}}\\n|{{h:title|pḷa (ipa:pɭə)|प्ळ|dotted=no}}\\n|-\\n!{{h:title|ph (ipa:pʰ)|फ|dotted=no}}\\n\\n|{{h:title|phka (ipa:pʰkə)|फ्क|dotted=no}}\\n|{{h:title|phkha (ipa:pʰkʰə)|फ्ख|dotted=no}}\\n|{{h:title|phga (ipa:pʰɡə)|फ्ग|dotted=no}}\\n|{{h:title|phgha (ipa:pʰɡʱə)|फ्घ|dotted=no}}\\n|{{h:title|phṅa (ipa:pʰŋə)|फ्ङ|dotted=no}}\\n|{{h:title|phca (ipa:pʰcɕə)|फ्च|dotted=no}}\\n|{{h:title|phcha (ipa:pʰcɕʰə)|फ्छ|dotted=no}}\\n|{{h:title|phja (ipa:pʰɟʝə)|फ्ज|dotted=no}}\\n|{{h:title|phjha (ipa:pʰɟʝʱə)|फ्झ|dotted=no}}\\n|{{h:title|phña (ipa:pʰɲə)|फ्ञ|dotted=no}}\\n|{{h:title|phṭa (ipa:pʰʈə)|फ्ट|dotted=no}}\\n|{{h:title|phṭha (ipa:pʰʈʰə)|फ्ठ|dotted=no}}\\n|{{h:title|phḍa (ipa:pʰɖə)|फ्ड|dotted=no}}\\n|{{h:title|phḍha (ipa:pʰɖʱə)|फ्ढ|dotted=no}}\\n|{{h:title|phṇa (ipa:pʰɳə)|फ्ण|dotted=no}}\\n|{{h:title|phta (ipa:pʰt̪ə)|फ्त|dotted=no}}\\n|{{h:title|phtha (ipa:pʰt̪ʰə)|फ्थ|dotted=no}}\\n|{{h:title|phda (ipa:pʰd̪ə)|फ्द|dotted=no}}\\n|{{h:title|phdha (ipa:pʰd̪ʱə)|फ्ध|dotted=no}}\\n|{{h:title|phna (ipa:pʰn̪ə)|फ्न|dotted=no}}\\n|{{h:title|phpa (ipa:pʰpə)|फ्प|dotted=no}}\\n|{{h:title|phpha (ipa:pʰpʰə)|फ्फ|dotted=no}}\\n|{{h:title|phba (ipa:pʰbə)|फ्ब|dotted=no}}\\n|{{h:title|phbha (ipa:pʰbʱə)|फ्भ|dotted=no}}\\n|{{h:title|phma (ipa:pʰmə)|फ्म|dotted=no}}\\n|{{h:title|phya (ipa:pʰjə)|फ्य|dotted=no}}\\n|{{h:title|phra (ipa:pʰrə)|फ्र|dotted=no}}\\n|{{h:title|phla (ipa:pʰlə)|फ्ल|dotted=no}}\\n|{{h:title|phva (ipa:pʰvə)|फ्व|dotted=no}}\\n|{{h:title|phśa (ipa:pʰʃə)|फ्श|dotted=no}}\\n|{{h:title|phṣa (ipa:pʰʂə)|फ्ष|dotted=no}}\\n|{{h:title|phsa (ipa:pʰsə)|फ्स|dotted=no}}\\n|{{h:title|phha (ipa:pʰhə)|फ्ह|dotted=no}}\\n|{{h:title|phḷa (ipa:pʰɭə)|फ्ळ|dotted=no}}\\n|-\\n!{{h:title|b (ipa:b)|ब|dotted=no}}\\n\\n|{{h:title|bka (ipa:bkə)|ब्क|dotted=no}}\\n|{{h:title|bkha (ipa:bkʰə)|ब्ख|dotted=no}}\\n|{{h:title|bga (ipa:bɡə)|ब्ग|dotted=no}}\\n|{{h:title|bgha (ipa:bɡʱə)|ब्घ|dotted=no}}\\n|{{h:title|bṅa (ipa:bŋə)|ब्ङ|dotted=no}}\\n|{{h:title|bca (ipa:bcɕə)|ब्च|dotted=no}}\\n|{{h:title|bcha (ipa:bcɕʰə)|ब्छ|dotted=no}}\\n|{{h:title|bja (ipa:bɟʝə)|ब्ज|dotted=no}}\\n|{{h:title|bjha (ipa:bɟʝʱə)|ब्झ|dotted=no}}\\n|{{h:title|bña (ipa:bɲə)|ब्ञ|dotted=no}}\\n|{{h:title|bṭa (ipa:bʈə)|ब्ट|dotted=no}}\\n|{{h:title|bṭha (ipa:bʈʰə)|ब्ठ|dotted=no}}\\n|{{h:title|bḍa (ipa:bɖə)|ब्ड|dotted=no}}\\n|{{h:title|bḍha (ipa:bɖʱə)|ब्ढ|dotted=no}}\\n|{{h:title|bṇa (ipa:bɳə)|ब्ण|dotted=no}}\\n|{{h:title|bta (ipa:bt̪ə)|ब्त|dotted=no}}\\n|{{h:title|btha (ipa:bt̪ʰə)|ब्थ|dotted=no}}\\n|{{h:title|bda (ipa:bd̪ə)|ब्द|dotted=no}}\\n|{{h:title|bdha (ipa:bd̪ʱə)|ब्ध|dotted=no}}\\n|{{h:title|bna (ipa:bn̪ə)|ब्न|dotted=no}}\\n|{{h:title|bpa (ipa:bpə)|ब्प|dotted=no}}\\n|{{h:title|bpha (ipa:bpʰə)|ब्फ|dotted=no}}\\n|{{h:title|bba (ipa:bbə)|ब्ब|dotted=no}}\\n|{{h:title|bbha (ipa:bbʱə)|ब्भ|dotted=no}}\\n|{{h:title|bma (ipa:bmə)|ब्म|dotted=no}}\\n|{{h:title|bya (ipa:bjə)|ब्य|dotted=no}}\\n|{{h:title|bra (ipa:brə)|ब्र|dotted=no}}\\n|{{h:title|bla (ipa:blə)|ब्ल|dotted=no}}\\n|{{h:title|bva (ipa:bvə)|ब्व|dotted=no}}\\n|{{h:title|bśa (ipa:bʃə)|ब्श|dotted=no}}\\n|{{h:title|bṣa (ipa:bʂə)|ब्ष|dotted=no}}\\n|{{h:title|bsa (ipa:bsə)|ब्स|dotted=no}}\\n|{{h:title|bha (ipa:bhə)|ब्ह|dotted=no}}\\n|{{h:title|bḷa (ipa:bɭə)|ब्ळ|dotted=no}}\\n|-\\n!{{h:title|bh (ipa:bʱ)|भ|dotted=no}}\\n\\n|{{h:title|bhka (ipa:bʱkə)|भ्क|dotted=no}}\\n|{{h:title|bhkha (ipa:bʱkʰə)|भ्ख|dotted=no}}\\n|{{h:title|bhga (ipa:bʱɡə)|भ्ग|dotted=no}}\\n|{{h:title|bhgha (ipa:bʱɡʱə)|भ्घ|dotted=no}}\\n|{{h:title|bhṅa (ipa:bʱŋə)|भ्ङ|dotted=no}}\\n|{{h:title|bhca (ipa:bʱcɕə)|भ्च|dotted=no}}\\n|{{h:title|bhcha (ipa:bʱcɕʰə)|भ्छ|dotted=no}}\\n|{{h:title|bhja (ipa:bʱɟʝə)|भ्ज|dotted=no}}\\n|{{h:title|bhjha (ipa:bʱɟʝʱə)|भ्झ|dotted=no}}\\n|{{h:title|bhña (ipa:bʱɲə)|भ्ञ|dotted=no}}\\n|{{h:title|bhṭa (ipa:bʱʈə)|भ्ट|dotted=no}}\\n|{{h:title|bhṭha (ipa:bʱʈʰə)|भ्ठ|dotted=no}}\\n|{{h:title|bhḍa (ipa:bʱɖə)|भ्ड|dotted=no}}\\n|{{h:title|bhḍha (ipa:bʱɖʱə)|भ्ढ|dotted=no}}\\n|{{h:title|bhṇa (ipa:bʱɳə)|भ्ण|dotted=no}}\\n|{{h:title|bhta (ipa:bʱt̪ə)|भ्त|dotted=no}}\\n|{{h:title|bhtha (ipa:bʱt̪ʰə)|भ्थ|dotted=no}}\\n|{{h:title|bhda (ipa:bʱd̪ə)|भ्द|dotted=no}}\\n|{{h:title|bhdha (ipa:bʱd̪ʱə)|भ्ध|dotted=no}}\\n|{{h:title|bhna (ipa:bʱn̪ə)|भ्न|dotted=no}}\\n|{{h:title|bhpa (ipa:bʱpə)|भ्प|dotted=no}}\\n|{{h:title|bhpha (ipa:bʱpʰə)|भ्फ|dotted=no}}\\n|{{h:title|bhba (ipa:bʱbə)|भ्ब|dotted=no}}\\n|{{h:title|bhbha (ipa:bʱbʱə)|भ्भ|dotted=no}}\\n|{{h:title|bhma (ipa:bʱmə)|भ्म|dotted=no}}\\n|{{h:title|bhya (ipa:bʱjə)|भ्य|dotted=no}}\\n|{{h:title|bhra (ipa:bʱrə)|भ्र|dotted=no}}\\n|{{h:title|bhla (ipa:bʱlə)|भ्ल|dotted=no}}\\n|{{h:title|bhva (ipa:bʱvə)|भ्व|dotted=no}}\\n|{{h:title|bhśa (ipa:bʱʃə)|भ्श|dotted=no}}\\n|{{h:title|bhṣa (ipa:bʱʂə)|भ्ष|dotted=no}}\\n|{{h:title|bhsa (ipa:bʱsə)|भ्स|dotted=no}}\\n|{{h:title|bhha (ipa:bʱhə)|भ्ह|dotted=no}}\\n|{{h:title|bhḷa (ipa:bʱɭə)|भ्ळ|dotted=no}}\\n|-\\n!{{h:title|m (ipa:m)|म|dotted=no}}\\n\\n|{{h:title|mka (ipa:mkə)|म्क|dotted=no}}\\n|{{h:title|mkha (ipa:mkʰə)|म्ख|dotted=no}}\\n|{{h:title|mga (ipa:mɡə)|म्ग|dotted=no}}\\n|{{h:title|mgha (ipa:mɡʱə)|म्घ|dotted=no}}\\n|{{h:title|mṅa (ipa:mŋə)|म्ङ|dotted=no}}\\n|{{h:title|mca (ipa:mcɕə)|म्च|dotted=no}}\\n|{{h:title|mcha (ipa:mcɕʰə)|म्छ|dotted=no}}\\n|{{h:title|mja (ipa:mɟʝə)|म्ज|dotted=no}}\\n|{{h:title|mjha (ipa:mɟʝʱə)|म्झ|dotted=no}}\\n|{{h:title|mña (ipa:mɲə)|म्ञ|dotted=no}}\\n|{{h:title|mṭa (ipa:mʈə)|म्ट|dotted=no}}\\n|{{h:title|mṭha (ipa:mʈʰə)|म्ठ|dotted=no}}\\n|{{h:title|mḍa (ipa:mɖə)|म्ड|dotted=no}}\\n|{{h:title|mḍha (ipa:mɖʱə)|म्ढ|dotted=no}}\\n|{{h:title|mṇa (ipa:mɳə)|म्ण|dotted=no}}\\n|{{h:title|mta (ipa:mt̪ə)|म्त|dotted=no}}\\n|{{h:title|mtha (ipa:mt̪ʰə)|म्थ|dotted=no}}\\n|{{h:title|mda (ipa:md̪ə)|म्द|dotted=no}}\\n|{{h:title|mdha (ipa:md̪ʱə)|म्ध|dotted=no}}\\n|{{h:title|mna (ipa:mn̪ə)|म्न|dotted=no}}\\n|{{h:title|mpa (ipa:mpə)|म्प|dotted=no}}\\n|{{h:title|mpha (ipa:mpʰə)|म्फ|dotted=no}}\\n|{{h:title|mba (ipa:mbə)|म्ब|dotted=no}}\\n|{{h:title|mbha (ipa:mbʱə)|म्भ|dotted=no}}\\n|{{h:title|mma (ipa:mmə)|म्म|dotted=no}}\\n|{{h:title|mya (ipa:mjə)|म्य|dotted=no}}\\n|{{h:title|mra (ipa:mrə)|म्र|dotted=no}}\\n|{{h:title|mla (ipa:mlə)|म्ल|dotted=no}}\\n|{{h:title|mva (ipa:mvə)|म्व|dotted=no}}\\n|{{h:title|mśa (ipa:mʃə)|म्श|dotted=no}}\\n|{{h:title|mṣa (ipa:mʂə)|म्ष|dotted=no}}\\n|{{h:title|msa (ipa:msə)|म्स|dotted=no}}\\n|{{h:title|mha (ipa:mhə)|म्ह|dotted=no}}\\n|{{h:title|mḷa (ipa:mɭə)|म्ळ|dotted=no}}\\n|-\\n!{{h:title|y (ipa:j)|य|dotted=no}}\\n\\n|{{h:title|yka (ipa:jkə)|य्क|dotted=no}}\\n|{{h:title|ykha (ipa:jkʰə)|य्ख|dotted=no}}\\n|{{h:title|yga (ipa:jɡə)|य्ग|dotted=no}}\\n|{{h:title|ygha (ipa:jɡʱə)|य्घ|dotted=no}}\\n|{{h:title|yṅa (ipa:jŋə)|य्ङ|dotted=no}}\\n|{{h:title|yca (ipa:jcɕə)|य्च|dotted=no}}\\n|{{h:title|ycha (ipa:jcɕʰə)|य्छ|dotted=no}}\\n|{{h:title|yja (ipa:jɟʝə)|य्ज|dotted=no}}\\n|{{h:title|yjha (ipa:jɟʝʱə)|य्झ|dotted=no}}\\n|{{h:title|yña (ipa:jɲə)|य्ञ|dotted=no}}\\n|{{h:title|yṭa (ipa:jʈə)|य्ट|dotted=no}}\\n|{{h:title|yṭha (ipa:jʈʰə)|य्ठ|dotted=no}}\\n|{{h:title|yḍa (ipa:jɖə)|य्ड|dotted=no}}\\n|{{h:title|yḍha (ipa:jɖʱə)|य्ढ|dotted=no}}\\n|{{h:title|yṇa (ipa:jɳə)|य्ण|dotted=no}}\\n|{{h:title|yta (ipa:jt̪ə)|य्त|dotted=no}}\\n|{{h:title|ytha (ipa:jt̪ʰə)|य्थ|dotted=no}}\\n|{{h:title|yda (ipa:jd̪ə)|य्द|dotted=no}}\\n|{{h:title|ydha (ipa:jd̪ʱə)|य्ध|dotted=no}}\\n|{{h:title|yna (ipa:jn̪ə)|य्न|dotted=no}}\\n|{{h:title|ypa (ipa:jpə)|य्प|dotted=no}}\\n|{{h:title|ypha (ipa:jpʰə)|य्फ|dotted=no}}\\n|{{h:title|yba (ipa:jbə)|य्ब|dotted=no}}\\n|{{h:title|ybha (ipa:jbʱə)|य्भ|dotted=no}}\\n|{{h:title|yma (ipa:jmə)|य्म|dotted=no}}\\n|{{h:title|yya (ipa:jjə)|य्य|dotted=no}}\\n|{{h:title|yra (ipa:jrə)|य्र|dotted=no}}\\n|{{h:title|yla (ipa:jlə)|य्ल|dotted=no}}\\n|{{h:title|yva (ipa:jvə)|य्व|dotted=no}}\\n|{{h:title|yśa (ipa:jʃə)|य्श|dotted=no}}\\n|{{h:title|yṣa (ipa:jʂə)|य्ष|dotted=no}}\\n|{{h:title|ysa (ipa:jsə)|य्स|dotted=no}}\\n|{{h:title|yha (ipa:jhə)|य्ह|dotted=no}}\\n|{{h:title|yḷa (ipa:jɭə)|य्ळ|dotted=no}}\\n|-\\n!{{h:title|r (ipa:r)|र|dotted=no}}\\n\\n|{{h:title|rka (ipa:rkə)|र्क|dotted=no}}\\n|{{h:title|rkha (ipa:rkʰə)|र्ख|dotted=no}}\\n|{{h:title|rga (ipa:rɡə)|र्ग|dotted=no}}\\n|{{h:title|rgha (ipa:rɡʱə)|र्घ|dotted=no}}\\n|{{h:title|rṅa (ipa:rŋə)|र्ङ|dotted=no}}\\n|{{h:title|rca (ipa:rcɕə)|र्च|dotted=no}}\\n|{{h:title|rcha (ipa:rcɕʰə)|र्छ|dotted=no}}\\n|{{h:title|rja (ipa:rɟʝə)|र्ज|dotted=no}}\\n|{{h:title|rjha (ipa:rɟʝʱə)|र्झ|dotted=no}}\\n|{{h:title|rña (ipa:rɲə)|र्ञ|dotted=no}}\\n|{{h:title|rṭa (ipa:rʈə)|र्ट|dotted=no}}\\n|{{h:title|rṭha (ipa:rʈʰə)|र्ठ|dotted=no}}\\n|{{h:title|rḍa (ipa:rɖə)|र्ड|dotted=no}}\\n|{{h:title|rḍha (ipa:rɖʱə)|र्ढ|dotted=no}}\\n|{{h:title|rṇa (ipa:rɳə)|र्ण|dotted=no}}\\n|{{h:title|rta (ipa:rt̪ə)|र्त|dotted=no}}\\n|{{h:title|rtha (ipa:rt̪ʰə)|र्थ|dotted=no}}\\n|{{h:title|rda (ipa:rd̪ə)|र्द|dotted=no}}\\n|{{h:title|rdha (ipa:rd̪ʱə)|र्ध|dotted=no}}\\n|{{h:title|rna (ipa:rn̪ə)|र्न|dotted=no}}\\n|{{h:title|rpa (ipa:rpə)|र्प|dotted=no}}\\n|{{h:title|rpha (ipa:rpʰə)|र्फ|dotted=no}}\\n|{{h:title|rba (ipa:rbə)|र्ब|dotted=no}}\\n|{{h:title|rbha (ipa:rbʱə)|र्भ|dotted=no}}\\n|{{h:title|rma (ipa:rmə)|र्म|dotted=no}}\\n|{{h:title|rya (ipa:rjə)|र्य|dotted=no}}\\n|{{h:title|rra (ipa:rrə)|र्र|dotted=no}}\\n|{{h:title|rla (ipa:rlə)|र्ल|dotted=no}}\\n|{{h:title|rva (ipa:rvə)|र्व|dotted=no}}\\n|{{h:title|rśa (ipa:rʃə)|र्श|dotted=no}}\\n|{{h:title|rṣa (ipa:rʂə)|र्ष|dotted=no}}\\n|{{h:title|rsa (ipa:rsə)|र्स|dotted=no}}\\n|{{h:title|rha (ipa:rhə)|र्ह|dotted=no}}\\n|{{h:title|rḷa (ipa:rɭə)|र्ळ|dotted=no}}\\n|-\\n!{{h:title|l (ipa:l)|ल|dotted=no}}\\n\\n|{{h:title|lka (ipa:lkə)|ल्क|dotted=no}}\\n|{{h:title|lkha (ipa:lkʰə)|ल्ख|dotted=no}}\\n|{{h:title|lga (ipa:lɡə)|ल्ग|dotted=no}}\\n|{{h:title|lgha (ipa:lɡʱə)|ल्घ|dotted=no}}\\n|{{h:title|lṅa (ipa:lŋə)|ल्ङ|dotted=no}}\\n|{{h:title|lca (ipa:lcɕə)|ल्च|dotted=no}}\\n|{{h:title|lcha (ipa:lcɕʰə)|ल्छ|dotted=no}}\\n|{{h:title|lja (ipa:lɟʝə)|ल्ज|dotted=no}}\\n|{{h:title|ljha (ipa:lɟʝʱə)|ल्झ|dotted=no}}\\n|{{h:title|lña (ipa:lɲə)|ल्ञ|dotted=no}}\\n|{{h:title|lṭa (ipa:lʈə)|ल्ट|dotted=no}}\\n|{{h:title|lṭha (ipa:lʈʰə)|ल्ठ|dotted=no}}\\n|{{h:title|lḍa (ipa:lɖə)|ल्ड|dotted=no}}\\n|{{h:title|lḍha (ipa:lɖʱə)|ल्ढ|dotted=no}}\\n|{{h:title|lṇa (ipa:lɳə)|ल्ण|dotted=no}}\\n|{{h:title|lta (ipa:lt̪ə)|ल्त|dotted=no}}\\n|{{h:title|ltha (ipa:lt̪ʰə)|ल्थ|dotted=no}}\\n|{{h:title|lda (ipa:ld̪ə)|ल्द|dotted=no}}\\n|{{h:title|ldha (ipa:ld̪ʱə)|ल्ध|dotted=no}}\\n|{{h:title|lna (ipa:ln̪ə)|ल्न|dotted=no}}\\n|{{h:title|lpa (ipa:lpə)|ल्प|dotted=no}}\\n|{{h:title|lpha (ipa:lpʰə)|ल्फ|dotted=no}}\\n|{{h:title|lba (ipa:lbə)|ल्ब|dotted=no}}\\n|{{h:title|lbha (ipa:lbʱə)|ल्भ|dotted=no}}\\n|{{h:title|lma (ipa:lmə)|ल्म|dotted=no}}\\n|{{h:title|lya (ipa:ljə)|ल्य|dotted=no}}\\n|{{h:title|lra (ipa:lrə)|ल्र|dotted=no}}\\n|{{h:title|lla (ipa:llə)|ल्ल|dotted=no}}\\n|{{h:title|lva (ipa:lvə)|ल्व|dotted=no}}\\n|{{h:title|lśa (ipa:lʃə)|ल्श|dotted=no}}\\n|{{h:title|lṣa (ipa:lʂə)|ल्ष|dotted=no}}\\n|{{h:title|lsa (ipa:lsə)|ल्स|dotted=no}}\\n|{{h:title|lha (ipa:lhə)|ल्ह|dotted=no}}\\n|{{h:title|lḷa (ipa:lɭə)|ल्ळ|dotted=no}}\\n|-\\n!{{h:title|v (ipa:v)|व|dotted=no}}\\n\\n|{{h:title|vka (ipa:vkə)|व्क|dotted=no}}\\n|{{h:title|vkha (ipa:vkʰə)|व्ख|dotted=no}}\\n|{{h:title|vga (ipa:vɡə)|व्ग|dotted=no}}\\n|{{h:title|vgha (ipa:vɡʱə)|व्घ|dotted=no}}\\n|{{h:title|vṅa (ipa:vŋə)|व्ङ|dotted=no}}\\n|{{h:title|vca (ipa:vcɕə)|व्च|dotted=no}}\\n|{{h:title|vcha (ipa:vcɕʰə)|व्छ|dotted=no}}\\n|{{h:title|vja (ipa:vɟʝə)|व्ज|dotted=no}}\\n|{{h:title|vjha (ipa:vɟʝʱə)|व्झ|dotted=no}}\\n|{{h:title|vña (ipa:vɲə)|व्ञ|dotted=no}}\\n|{{h:title|vṭa (ipa:vʈə)|व्ट|dotted=no}}\\n|{{h:title|vṭha (ipa:vʈʰə)|व्ठ|dotted=no}}\\n|{{h:title|vḍa (ipa:vɖə)|व्ड|dotted=no}}\\n|{{h:title|vḍha (ipa:vɖʱə)|व्ढ|dotted=no}}\\n|{{h:title|vṇa (ipa:vɳə)|व्ण|dotted=no}}\\n|{{h:title|vta (ipa:vt̪ə)|व्त|dotted=no}}\\n|{{h:title|vtha (ipa:vt̪ʰə)|व्थ|dotted=no}}\\n|{{h:title|vda (ipa:vd̪ə)|व्द|dotted=no}}\\n|{{h:title|vdha (ipa:vd̪ʱə)|व्ध|dotted=no}}\\n|{{h:title|vna (ipa:vn̪ə)|व्न|dotted=no}}\\n|{{h:title|vpa (ipa:vpə)|व्प|dotted=no}}\\n|{{h:title|vpha (ipa:vpʰə)|व्फ|dotted=no}}\\n|{{h:title|vba (ipa:vbə)|व्ब|dotted=no}}\\n|{{h:title|vbha (ipa:vbʱə)|व्भ|dotted=no}}\\n|{{h:title|vma (ipa:vmə)|व्म|dotted=no}}\\n|{{h:title|vya (ipa:vjə)|व्य|dotted=no}}\\n|{{h:title|vra (ipa:vrə)|व्र|dotted=no}}\\n|{{h:title|vla (ipa:vlə)|व्ल|dotted=no}}\\n|{{h:title|vva (ipa:vvə)|व्व|dotted=no}}\\n|{{h:title|vśa (ipa:vʃə)|व्श|dotted=no}}\\n|{{h:title|vṣa (ipa:vʂə)|व्ष|dotted=no}}\\n|{{h:title|vsa (ipa:vsə)|व्स|dotted=no}}\\n|{{h:title|vha (ipa:vhə)|व्ह|dotted=no}}\\n|{{h:title|vḷa (ipa:vɭə)|व्ळ|dotted=no}}\\n|-\\n!{{h:title|ś (ipa:ʃ)|श|dotted=no}}\\n\\n|{{h:title|śka (ipa:ʃkə)|श्क|dotted=no}}\\n|{{h:title|śkha (ipa:ʃkʰə)|श्ख|dotted=no}}\\n|{{h:title|śga (ipa:ʃɡə)|श्ग|dotted=no}}\\n|{{h:title|śgha (ipa:ʃɡʱə)|श्घ|dotted=no}}\\n|{{h:title|śṅa (ipa:ʃŋə)|श्ङ|dotted=no}}\\n|{{h:title|śca (ipa:ʃcɕə)|श्च|dotted=no}}\\n|{{h:title|ścha (ipa:ʃcɕʰə)|श्छ|dotted=no}}\\n|{{h:title|śja (ipa:ʃɟʝə)|श्ज|dotted=no}}\\n|{{h:title|śjha (ipa:ʃɟʝʱə)|श्झ|dotted=no}}\\n|{{h:title|śña (ipa:ʃɲə)|श्ञ|dotted=no}}\\n|{{h:title|śṭa (ipa:ʃʈə)|श्ट|dotted=no}}\\n|{{h:title|śṭha (ipa:ʃʈʰə)|श्ठ|dotted=no}}\\n|{{h:title|śḍa (ipa:ʃɖə)|श्ड|dotted=no}}\\n|{{h:title|śḍha (ipa:ʃɖʱə)|श्ढ|dotted=no}}\\n|{{h:title|śṇa (ipa:ʃɳə)|श्ण|dotted=no}}\\n|{{h:title|śta (ipa:ʃt̪ə)|श्त|dotted=no}}\\n|{{h:title|śtha (ipa:ʃt̪ʰə)|श्थ|dotted=no}}\\n|{{h:title|śda (ipa:ʃd̪ə)|श्द|dotted=no}}\\n|{{h:title|śdha (ipa:ʃd̪ʱə)|श्ध|dotted=no}}\\n|{{h:title|śna (ipa:ʃn̪ə)|श्न|dotted=no}}\\n|{{h:title|śpa (ipa:ʃpə)|श्प|dotted=no}}\\n|{{h:title|śpha (ipa:ʃpʰə)|श्फ|dotted=no}}\\n|{{h:title|śba (ipa:ʃbə)|श्ब|dotted=no}}\\n|{{h:title|śbha (ipa:ʃbʱə)|श्भ|dotted=no}}\\n|{{h:title|śma (ipa:ʃmə)|श्म|dotted=no}}\\n|{{h:title|śya (ipa:ʃjə)|श्य|dotted=no}}\\n|[[wikt:श्र|{{h:title|śra (ipa:ʃrə)|\\'\\'\\'श्र\\'\\'\\'|dotted=no}}]]\\n|{{h:title|śla (ipa:ʃlə)|श्ल|dotted=no}}\\n|{{h:title|śva (ipa:ʃvə)|श्व|dotted=no}}\\n|{{h:title|śśa (ipa:ʃʃə)|श्श|dotted=no}}\\n|{{h:title|śṣa (ipa:ʃʃə)|श्ष|dotted=no}}\\n|{{h:title|śsa (ipa:ʃsə)|श्स|dotted=no}}\\n|{{h:title|śha (ipa:ʃhə)|श्ह|dotted=no}}\\n|{{h:title|śḷa (ipa:ʃɭə)|श्ळ|dotted=no}}\\n|-\\n!{{h:title|ṣ (ipa:ʂ)|ष|dotted=no}}\\n\\n|{{h:title|ṣka (ipa:ʃkə)|ष्क|dotted=no}}\\n|{{h:title|ṣkha (ipa:ʃkʰə)|ष्ख|dotted=no}}\\n|{{h:title|ṣga (ipa:ʃɡə)|ष्ग|dotted=no}}\\n|{{h:title|ṣgha (ipa:ʃɡʱə)|ष्घ|dotted=no}}\\n|{{h:title|ṣṅa (ipa:ʃŋə)|ष्ङ|dotted=no}}\\n|{{h:title|ṣca (ipa:ʃcɕə)|ष्च|dotted=no}}\\n|{{h:title|ṣcha (ipa:ʃcɕʰə)|ष्छ|dotted=no}}\\n|{{h:title|ṣja (ipa:ʃɟʝə)|ष्ज|dotted=no}}\\n|{{h:title|ṣjha (ipa:ʃɟʝʱə)|ष्झ|dotted=no}}\\n|{{h:title|ṣña (ipa:ʃɲə)|ष्ञ|dotted=no}}\\n|{{h:title|ṣṭa (ipa:ʃʈə)|ष्ट|dotted=no}}\\n|{{h:title|ṣṭha (ipa:ʃʈʰə)|ष्ठ|dotted=no}}\\n|{{h:title|ṣḍa (ipa:ʃɖə)|ष्ड|dotted=no}}\\n|{{h:title|ṣḍha (ipa:ʃɖʱə)|ष्ढ|dotted=no}}\\n|{{h:title|ṣṇa (ipa:ʃɳə)|ष्ण|dotted=no}}\\n|{{h:title|ṣta (ipa:ʃt̪ə)|ष्त|dotted=no}}\\n|{{h:title|ṣtha (ipa:ʃt̪ʰə)|ष्थ|dotted=no}}\\n|{{h:title|ṣda (ipa:ʃd̪ə)|ष्द|dotted=no}}\\n|{{h:title|ṣdha (ipa:ʃd̪ʱə)|ष्ध|dotted=no}}\\n|{{h:title|ṣna (ipa:ʃn̪ə)|ष्न|dotted=no}}\\n|{{h:title|ṣpa (ipa:ʃpə)|ष्प|dotted=no}}\\n|{{h:title|ṣpha (ipa:ʃpʰə)|ष्फ|dotted=no}}\\n|{{h:title|ṣba (ipa:ʃbə)|ष्ब|dotted=no}}\\n|{{h:title|ṣbha (ipa:ʃbʱə)|ष्भ|dotted=no}}\\n|{{h:title|ṣma (ipa:ʃmə)|ष्म|dotted=no}}\\n|{{h:title|ṣya (ipa:ʃjə)|ष्य|dotted=no}}\\n|{{h:title|ṣra (ipa:ʃrə)|ष्र|dotted=no}}\\n|{{h:title|ṣla (ipa:ʃlə)|ष्ल|dotted=no}}\\n|{{h:title|ṣva (ipa:ʃvə)|ष्व|dotted=no}}\\n|{{h:title|ṣśa (ipa:ʃʃə)|ष्श|dotted=no}}\\n|{{h:title|\\\\1ṣa (ipa:ʃʃə)|ष्ष|dotted=no}}\\n|{{h:title|ṣsa (ipa:ʃsə)|ष्स|dotted=no}}\\n|{{h:title|ṣha (ipa:ʃhə)|ष्ह|dotted=no}}\\n|{{h:title|ṣḷa (ipa:ʃɭə)|ष्ळ|dotted=no}}\\n|-\\n!{{h:title|s (ipa:s)|स|dotted=no}}\\n\\n|{{h:title|ska (ipa:skə)|स्क|dotted=no}}\\n|{{h:title|skha (ipa:skʰə)|स्ख|dotted=no}}\\n|{{h:title|sga (ipa:sɡə)|स्ग|dotted=no}}\\n|{{h:title|sgha (ipa:sɡʱə)|स्घ|dotted=no}}\\n|{{h:title|sṅa (ipa:sŋə)|स्ङ|dotted=no}}\\n|{{h:title|sca (ipa:scɕə)|स्च|dotted=no}}\\n|{{h:title|scha (ipa:scɕʰə)|स्छ|dotted=no}}\\n|{{h:title|sja (ipa:sɟʝə)|स्ज|dotted=no}}\\n|{{h:title|sjha (ipa:sɟʝʱə)|स्झ|dotted=no}}\\n|{{h:title|sña (ipa:sɲə)|स्ञ|dotted=no}}\\n|{{h:title|sṭa (ipa:sʈə)|स्ट|dotted=no}}\\n|{{h:title|sṭha (ipa:sʈʰə)|स्ठ|dotted=no}}\\n|{{h:title|sḍa (ipa:sɖə)|स्ड|dotted=no}}\\n|{{h:title|sḍha (ipa:sɖʱə)|स्ढ|dotted=no}}\\n|{{h:title|sṇa (ipa:sɳə)|स्ण|dotted=no}}\\n|{{h:title|sta (ipa:st̪ə)|स्त|dotted=no}}\\n|{{h:title|stha (ipa:st̪ʰə)|स्थ|dotted=no}}\\n|{{h:title|sda (ipa:sd̪ə)|स्द|dotted=no}}\\n|{{h:title|sdha (ipa:sd̪ʱə)|स्ध|dotted=no}}\\n|{{h:title|sna (ipa:sn̪ə)|स्न|dotted=no}}\\n|{{h:title|spa (ipa:spə)|स्प|dotted=no}}\\n|{{h:title|spha (ipa:spʰə)|स्फ|dotted=no}}\\n|{{h:title|sba (ipa:sbə)|स्ब|dotted=no}}\\n|{{h:title|sbha (ipa:sbʱə)|स्भ|dotted=no}}\\n|{{h:title|sma (ipa:smə)|स्म|dotted=no}}\\n|{{h:title|sya (ipa:sjə)|स्य|dotted=no}}\\n|{{h:title|sra (ipa:srə)|स्र|dotted=no}}\\n|{{h:title|sla (ipa:slə)|स्ल|dotted=no}}\\n|{{h:title|sva (ipa:svə)|स्व|dotted=no}}\\n|{{h:title|sśa (ipa:sʃə)|स्श|dotted=no}}\\n|{{h:title|sṣa (ipa:sʂə)|स्ष|dotted=no}}\\n|{{h:title|ssa (ipa:ssə)|स्स|dotted=no}}\\n|{{h:title|sha (ipa:shə)|स्ह|dotted=no}}\\n|{{h:title|sḷa (ipa:sɭə)|स्ळ|dotted=no}}\\n|-\\n!{{h:title|h (ipa:h)|ह|dotted=no}}\\n\\n|{{h:title|hka (ipa:hkə)|ह्क|dotted=no}}\\n|{{h:title|hkha (ipa:hkʰə)|ह्ख|dotted=no}}\\n|{{h:title|hga (ipa:hɡə)|ह्ग|dotted=no}}\\n|{{h:title|hgha (ipa:hɡʱə)|ह्घ|dotted=no}}\\n|{{h:title|hṅa (ipa:hŋə)|ह्ङ|dotted=no}}\\n|{{h:title|hca (ipa:hcɕə)|ह्च|dotted=no}}\\n|{{h:title|hcha (ipa:hcɕʰə)|ह्छ|dotted=no}}\\n|{{h:title|hja (ipa:hɟʝə)|ह्ज|dotted=no}}\\n|{{h:title|hjha (ipa:hɟʝʱə)|ह्झ|dotted=no}}\\n|{{h:title|hña (ipa:hɲə)|ह्ञ|dotted=no}}\\n|{{h:title|hṭa (ipa:hʈə)|ह्ट|dotted=no}}\\n|{{h:title|hṭha (ipa:hʈʰə)|ह्ठ|dotted=no}}\\n|{{h:title|hḍa (ipa:hɖə)|ह्ड|dotted=no}}\\n|{{h:title|hḍha (ipa:hɖʱə)|ह्ढ|dotted=no}}\\n|{{h:title|hṇa (ipa:hɳə)|ह्ण|dotted=no}}\\n|{{h:title|hta (ipa:ht̪ə)|ह्त|dotted=no}}\\n|{{h:title|htha (ipa:ht̪ʰə)|ह्थ|dotted=no}}\\n|{{h:title|hda (ipa:hd̪ə)|ह्द|dotted=no}}\\n|{{h:title|hdha (ipa:hd̪ʱə)|ह्ध|dotted=no}}\\n|{{h:title|hna (ipa:hn̪ə)|ह्न|dotted=no}}\\n|{{h:title|hpa (ipa:hpə)|ह्प|dotted=no}}\\n|{{h:title|hpha (ipa:hpʰə)|ह्फ|dotted=no}}\\n|{{h:title|hba (ipa:hbə)|ह्ब|dotted=no}}\\n|{{h:title|hbha (ipa:hbʱə)|ह्भ|dotted=no}}\\n|[[wikt:ह्म|{{h:title|hma (ipa:hmə)|\\'\\'\\'ह्म\\'\\'\\'|dotted=no}}]]\\n|[[wikt:ह्य|{{h:title|hya (ipa:hjə)|\\'\\'\\'ह्य\\'\\'\\'|dotted=no}}]]\\n|{{h:title|hra (ipa:hrə)|ह्र|dotted=no}}\\n|{{h:title|hla (ipa:hlə)|ह्ल|dotted=no}}\\n|{{h:title|hva (ipa:hvə)|ह्व|dotted=no}}\\n|{{h:title|hśa (ipa:hʃə)|ह्श|dotted=no}}\\n|{{h:title|hṣa (ipa:hʂə)|ह्ष|dotted=no}}\\n|{{h:title|hsa (ipa:hsə)|ह्स|dotted=no}}\\n|{{h:title|hha (ipa:hhə)|ह्ह|dotted=no}}\\n|{{h:title|hḷa (ipa:hɭə)|ह्ळ|dotted=no}}\\n|-\\n!{{h:title|ḷ (ipa:ɭ)|ळ|dotted=no}}\\n\\n|{{h:title|ḷka (ipa:ɭkə)|ळ्क|dotted=no}}\\n|{{h:title|ḷkha (ipa:ɭkʰə)|ळ्ख|dotted=no}}\\n|{{h:title|ḷga (ipa:ɭɡə)|ळ्ग|dotted=no}}\\n|{{h:title|ḷgha (ipa:ɭɡʱə)|ळ्घ|dotted=no}}\\n|{{h:title|ḷṅa (ipa:ɭŋə)|ळ्ङ|dotted=no}}\\n|{{h:title|ḷca (ipa:ɭcɕə)|ळ्च|dotted=no}}\\n|{{h:title|ḷcha (ipa:ɭcɕʰə)|ळ्छ|dotted=no}}\\n|{{h:title|ḷja (ipa:ɭɟʝə)|ळ्ज|dotted=no}}\\n|{{h:title|ḷjha (ipa:ɭɟʝʱə)|ळ्झ|dotted=no}}\\n|{{h:title|ḷña (ipa:ɭɲə)|ळ्ञ|dotted=no}}\\n|{{h:title|ḷṭa (ipa:ɭʈə)|ळ्ट|dotted=no}}\\n|{{h:title|ḷṭha (ipa:ɭʈʰə)|ळ्ठ|dotted=no}}\\n|{{h:title|ḷḍa (ipa:ɭɖə)|ळ्ड|dotted=no}}\\n|{{h:title|ḷḍha (ipa:ɭɖʱə)|ळ्ढ|dotted=no}}\\n|{{h:title|ḷṇa (ipa:ɭɳə)|ळ्ण|dotted=no}}\\n|{{h:title|ḷta (ipa:ɭt̪ə)|ळ्त|dotted=no}}\\n|{{h:title|ḷtha (ipa:ɭt̪ʰə)|ळ्थ|dotted=no}}\\n|{{h:title|ḷda (ipa:ɭd̪ə)|ळ्द|dotted=no}}\\n|{{h:title|ḷdha (ipa:ɭd̪ʱə)|ळ्ध|dotted=no}}\\n|{{h:title|ḷna (ipa:ɭn̪ə)|ळ्न|dotted=no}}\\n|{{h:title|ḷpa (ipa:ɭpə)|ळ्प|dotted=no}}\\n|{{h:title|ḷpha (ipa:ɭpʰə)|ळ्फ|dotted=no}}\\n|{{h:title|ḷba (ipa:ɭbə)|ळ्ब|dotted=no}}\\n|{{h:title|ḷbha (ipa:ɭbʱə)|ळ्भ|dotted=no}}\\n|{{h:title|ḷma (ipa:ɭmə)|ळ्म|dotted=no}}\\n|{{h:title|ḷya (ipa:ɭjə)|ळ्य|dotted=no}}\\n|{{h:title|ḷra (ipa:ɭrə)|ळ्र|dotted=no}}\\n|{{h:title|ḷla (ipa:ɭlə)|ळ्ल|dotted=no}}\\n|{{h:title|ḷva (ipa:ɭvə)|ळ्व|dotted=no}}\\n|{{h:title|ḷśa (ipa:ɭʃə)|ळ्श|dotted=no}}\\n|{{h:title|ḷṣa (ipa:ɭʂə)|ळ्ष|dotted=no}}\\n|{{h:title|ḷsa (ipa:ɭsə)|ळ्स|dotted=no}}\\n|{{h:title|ḷha (ipa:ɭhə)|ळ्ह|dotted=no}}\\n|{{h:title|ḷḷa (ipa:ɭɭə)|ळ्ळ|dotted=no}}\\n|}\\n\\n[[ब्राह्मी परिवार की लिपियों]] में देवनागरी लिपि सबसे अधिक संयुक्ताक्षरों को समर्थन देती है। देवनागरी २ से अधिक व्यंजनों के संयुक्ताक्षर को भी समर्थन देती है। [[छन्दस फॉण्ट]] देवनागरी में बहुत संयुक्ताक्षरों को समर्थन देता है।\\n[[चित्र:janasanskritsans ddhrya.svg|250px|thumb| द्+ध्+र्+य्+अ संयुक्ताक्षर]]\\n\\n=== पुरानी देवनागरी ===\\nपुराने समय में प्रयुक्त हुई जाने वाली देवनागरी के कुछ वर्ण आधुनिक देवनागरी से भिन्न हैं।\\n{| class=\"wikitable\" \\n|-\\n\\n! आधुनिक देवनागरी !!पुरानी देवनागरी\\n\\n|- style=\"background: white\"\\n\\n| [[चित्र:devanagari a.svg|15px]] || [[चित्र:devanagari a old.svg|15px]]\\n\\n|- style=\"background: white\"\\n\\n| [[चित्र:devanagari jh.svg|15px]] || [[चित्र:devanagari jh old.svg|15px]]\\n\\n|- style=\"background: white\"\\n\\n| [[चित्र:devanagari nn.svg|15px]] || [[चित्र:devanagari nn old.svg|15px]]\\n\\n|- style=\"background: white\"\\n\\n| [[चित्र:devanagari l old.svg|15px]] || [[चित्र:devanagari l.svg|15px]]\\n\\n|}\\n<br />\\n\\n= देवनागरी लिपि के गुण =\\n[[चित्र:देवनागरी तालिका.gif|right | thumb | देवनागरी के वर्णों के वर्गीकरण की तालिका]]\\n\\n* भारतीय भाषाओं के लिये वर्णों की पूर्णता एवं सम्पन्नता (५२ वर्ण, न बहुत अधिक न बहुत कम)।\\n\\n* \\'\\'\\'एक ध्वनि के लिये एक सांकेतिक चिह्न \\'\\'\\' -- जैसा बोलें वैसा लिखें।\\n\\n* \\'\\'\\'एक सांकेतिक चिह्न द्वारा केवल एक ध्वनि का निरूपण \\'\\'\\' -- जैसा लिखें वैसा पढ़ें।\\n\\n:उपरोक्त दोनों गुणों के कारण ब्राह्मी लिपि का उपयोग करने वाली सभी भारतीय भाषाएँ \\'स्पेलिंग की समस्या\\' से मुक्त हैं।\\n\\n* \\'\\'\\'स्वर और व्यंजन में तर्कसंगत एवं वैज्ञानिक क्रम-विन्यास\\'\\'\\' - देवनागरी के वर्णों का क्रमविन्यास उनके उच्चारण के स्थान (ओष्ठ्य, दन्त्य, तालव्य, मूर्धन्य आदि) को ध्यान में रखते हुए बनाया गया है। इसके अतिरिक्त वर्ण-क्रम के निर्धारण में [[भाषा-विज्ञान]] के कई अन्य पहलुओ का भी ध्यान रखा गया है। देवनागरी की वर्णमाला (वास्तव में, ब्राह्मी से उत्पन्न सभी लिपियों की वर्णमालाएँ) एक अत्यन्त तर्कपूर्ण ध्वन्यात्मक क्रम (phonetic order) में व्यवस्थित है। यह क्रम इतना तर्कपूर्ण है कि अन्तरराष्ट्रीय ध्वन्यात्मक संघ (ipa) ने [[अन्तर्राष्ट्रीय ध्वन्यात्मक वर्णमाला]] के निर्माण के लिये मामूली परिवर्तनों के साथ इसी क्रम को अंगीकार कर लिया।\\n\\n* \\'\\'\\'वर्णों का [[प्रत्याहार]] रूप में उपयोग\\'\\'\\' : [[माहेश्वर सूत्र]] में देवनागरी वर्णों को एक विशिष्ट क्रम में सजाया गया है। इसमें से किसी वर्ण से आरम्भ करके किसी दूसरे वर्ण तक के वर्णसमूह को दो अक्षर का एक छोटा नाम दे दिया जाता है जिसे \\'प्रत्याहार\\' कहते हैं। प्रत्याहार का प्रयोग करते हुए [[सन्धि]] आदि के नियम अत्यन्त सरल और संक्षिप्त ढंग से दिए गये हैं (जैसे, \\'\\'आद् गुणः\\'\\')\\n\\n* देवनागरी लिपि के वर्णों का उपयोग [[संख्या|संख्याओं]] को निरूपित करने के लिये किया जाता रहा है। (देखिये [[कटपयादि]], [[भूतसंख्या]] तथा [[आर्यभट्ट की संख्यापद्धति]])\\n\\n* \\'\\'\\'मात्राओं की संख्या के आधार पर [[छन्द|छन्दों]] का वर्गीकरण\\'\\'\\' : यह भारतीय लिपियों की अद्भुत विशेषता है कि किसी पद्य के लिखित रूप से मात्राओं और उनके क्रम को गिनकर बताया जा सकता है कि कौन सा छन्द है। रोमन, अरबी एवं अन्य में यह गुण अप्राप्य है।\\n\\n* \\'\\'\\'[[उच्चारण]] और लेखन में एकरुपता \\'\\'\\'\\n\\n* \\'\\'\\'लिपि चिह्नों के नाम और ध्वनि मे कोई अन्तर नहीं\\'\\'\\' (जैसे रोमन में अक्षर का नाम “बी” है और ध्वनि “ब” है)\\n\\n* \\'\\'\\'लेखन और [[मुद्रण]] मे एकरूपता\\'\\'\\' (रोमन, अरबी और फ़ारसी मे हस्तलिखित और मुद्रित रूप अलग-अलग हैं)\\n\\n* देवनागरी, \\'स्माल लेटर\" और \\'कैपिटल लेटर\\' की अवैज्ञानिक व्यवस्था से मुक्त है।\\n\\n* \\'\\'\\'मात्राओं का प्रयोग \\'\\'\\'\\n[[चित्र:devanagari matras.png|thumb|600px|center|\\'\\'\\'क\\'\\'\\' के उपर विभिन्न मात्राएं लगाने के बाद का स्वरूप]]\\n\\n* \\'\\'\\'अर्ध-अक्षर के रूप की सुगमता\\'\\'\\' : खड़ी पाई को हटाकर - दायें से बायें क्रम में लिखकर तथा अर्द्ध अक्षर को ऊपर तथा उसके नीचे पूर्ण अक्षर को लिखकर - ऊपर नीचे क्रम में संयुक्ताक्षर बनाने की दो प्रकार की रीति प्रचलित है।\\n\\n* \\'\\'\\'अन्य\\'\\'\\' - बायें से दायें, शिरोरेखा, संयुक्ताक्षरों का प्रयोग, अधिकांश वर्णों में एक उर्ध्व-रेखा की प्रधानता, अनेक ध्वनियों को निरूपित करने की क्षमता आदि।<ref>[http://www.dsource.in/resource/devanagari-letterforms-history/devanagari_letterforms/characteristics_of_devanagari.html history of devanagari letterforms]</ref>\\n\\n* भारतवर्ष के साहित्य में कुछ ऐसे रूप विकसित हुए हैं जो दायें-से-बायें अथवा बाये-से-दायें पढ़ने पर समान रहते हैं। उदाहरणस्वरूप [[केशवदास]] का एक [[सवैया]] लीजिये :\\n\\n:: \\'\\'मां सस मोह सजै बन बीन, नवीन बजै सह मोस समा।\\'\\' <br />\\n:: \\'\\'मार लतानि बनावति सारि, रिसाति वनाबनि ताल रमा ॥\\'\\'\\n\\n:: \\'\\'मानव ही रहि मोरद मोद, दमोदर मोहि रही वनमा।\\'\\' <br />\\n:: \\'\\'माल बनी बल केसबदास, सदा बसकेल बनी बलमा ॥\\'\\'\\n\\n:इस [[सवैया]] की किसी भी पंक्ति को किसी ओर से भी पढिये, कोई अंतर नही पड़ेगा।\\n  \\n:: \\'\\'सदा सील तुम सरद के दरस हर तरह खास। \\'\\'\\n:: \\'\\'सखा हर तरह सरद के सर सम तुलसीदास॥\\'\\'\\n\\n==देवनागरी लिपि के दोष==\\n1.कुल मिलाकर 403 टाइप होने के कारण टंकण, मुंद्रण में कठिनाई। \\n\\n2.शिरोरेखा का प्रयोग अनावश्यक अलंकरण के लिए।\\n\\n3.अनावश्यक वर्ण (ऋ, ॠ, लृ, ॡ, ं, ं, ष)— आज इन्हें कोई शुद्ध उच्चारण के साथ उच्चारित नहीं कर पाता। \\n\\n4.द्विरूप वर्ण (ंप्र अ, ज्ञ, क्ष, त, त्र, छ, झ, रा ण, श)\\n\\n5.समरूप वर्ण (ख में र व का, घ में ध का, म में भ का भ्रम होना)।\\n\\n6.वर्णों के संयुक्त करने की कोई निश्चित व्यवस्था नहीं।\\n\\n7.अनुस्वार एवं अनुनासिकता के प्रयोग में एकरूपता का अभाव।\\n\\n.त्वरापूर्ण लेखन नहीं क्योंकि लेखन में हाथ बार–बार उठाना पड़ता है। \\n\\n9.वर्णों के संयुक्तीकरण में र के प्रयोग को लेकर भ्रम की स्थिति। \\n\\n10.इ की मात्रा (ि) का लेखन वर्ण के पहले पर उच्चारण वर्ण के बाद।\\n\\n== देवनागरी पर महापुरुषों के विचार ==\\n[[आचार्य विनोबा भावे]] संसार की अनेक लिपियों के जानकार थे। उनकी स्पष्ट धारणा थी कि देवनागरी लिपि भारत ही नहीं, संसार की सर्वाधिक वैज्ञानिक लिपि है। अगर भारत की सब भाषाओं के लिए इसका व्यवहार चल पड़े तो सारे भारतीय एक दूसरे के बिल्कुल नजदीक आ जाएंगे। हिंदुस्तान की एकता में देवनागरी लिपि हिंदी से ही अधिक उपयोगी हो सकती है। [[अनन्त शयनम् अयंगार]] तो दक्षिण भारतीय भाषाओं के लिए भी देवनागरी की संभावना स्वीकार करते थे। [[सेठ गोविन्ददास]] इसे राष्ट्रीय लिपि घोषित करने के पक्ष में थे।\\n\\n*(१) हिन्दुस्तान की एकता के लिये हिन्दी भाषा जितना काम देगी, उससे बहुत अधिक काम देवनागरी लिपि दे सकती है। \\n::— \\'\\'\\'आचार्य विनोबा भावे\\'\\'\\'\\n\\n*(२) देवनागरी किसी भी लिपि की तुलना में अधिक वैज्ञानिक एवं व्यवस्थित लिपि है। \\n::— \\'\\'\\'सर विलियम जोन्स\\'\\'\\'\\n\\n*(३) मानव मस्तिष्क से निकली हुई वर्णमालाओं में नागरी सबसे अधिक \\'\\'\\'पूर्ण\\'\\'\\' वर्णमाला है। \\n::— \\'\\'\\'जान क्राइस्ट\\'\\'\\'\\n\\n*(४) [[उर्दू]] लिखने के लिये देवनागरी लिपि अपनाने से उर्दू उत्कर्ष को प्राप्त होगी। \\n::— \\'\\'\\'खुशवन्त सिंह\\'\\'\\'\\n\\n*(५) the devanagri alphabet is a splendid monument of phonological accuracy, in the sciences of language. <br />\\n::— \\'\\'\\'मोहन लाल विद्यार्थी\\'\\'\\' - indian culture through the ages, p.&nbsp;61\\n\\n*(६) एक सर्वमान्य लिपि स्वीकार करने से भारत की विभिन्न भाषाओं में जो ज्ञान का भंडार भरा है उसे प्राप्त करने का एक साधारण व्यक्ति को सहज ही अवसर प्राप्त होगा। हमारे लिए यदि कोई सर्व-मान्य लिपि स्वीकार करना संभव है तो वह देवनागरी है। \\n::— \\'\\'\\'[[एम.सी.छागला]]\\'\\'\\'\\n\\n*(७) प्राचीन भारत के महत्तम उपलब्धियों में से एक उसकी विलक्षण वर्णमाला है जिसमें प्रथम स्वर आते हैं और फिर व्यंजन जो सभी उत्पत्ति क्रम के अनुसार अत्यंत वैज्ञानिक ढंग से वर्गीकृत किये गए हैं। इस वर्णमाला का अविचारित रूप से वर्गीकृत तथा अपर्याप्त [[रोमन लिपि|रोमन वर्णमाला]] से, जो तीन हजार वर्षों से क्रमशः विकसित हो रही थी, पर्याप्त अंतर है।\\n::— \\'\\'\\'ए एल बाशम\\'\\'\\', \"द वंडर दैट वाज इंडिया\" के लेखक और इतिहासविद्\\n\\n== भारत के लिये देवनागरी का महत्व ==\\n{{मुख्य|भारत के लिये देवनागरी का महत्व}}\\n\\nबहुत से लोगों का विचार है कि भारत में अनेकों भाषाएँ होना कोई समस्या नहीं है जबकि उनकी लिपियाँ अलग-अलग होना बहुत बड़ी समस्या है। [[महात्मा गांधी|गांधीजी]] ने १९४० में [[गुजराती भाषा]] की एक पुस्तक को देवनागरी लिपि में छपवाया और इसका उद्देश्य बताया था कि मेरा सपना है कि [[संस्कृत]] से निकली हर भाषा की लिपि देवनागरी हो।<ref>[https://www.shabdankan.com/2017/09/jindi-diwas-gandhi-on-devanagari.html देवनागरी की महत्ता पर बापू का पत्र]</ref>\\n: \\'\\'इस संस्करण को हिंदी में छापने के दो उद्देश्य हैं। मुख्य उद्देश्य यह है कि मैं जानना चाहता हूँ कि, गुजराती पढ़ने वालों को देवनागरी लिपि में पढ़ना कितना अच्छा लगता है। मैं जब दक्षिण अफ्रीका में था तब से मेरा स्वप्न है कि संस्कृत से निकली हर भाषा की एक लिपि हो, और वह देवनागरी हो। पर यह अभी भी स्वप्न ही है। एक-लिपि के बारे में बातचीत तो खूब होती हैं, लेकिन वही ‘बिल्ली के गले में घंटी कौन बांधे’ वाली बात है। कौन पहल करे ! गुजराती कहेगा ‘हमारी लिपि तो बड़ी सुन्दर सलोनी आसान है, इसे कैसे छोडूंगा?’ बीच में अभी एक नया पक्ष और निकल के आया है, वह ये, कुछ लोग कहते हैं कि देवनागरी खुद ही अभी अधूरी है, कठिन है; मैं भी यह मानता हूँ कि इसमें सुधार होना चाहिए। लेकिन अगर हम हर चीज़ के बिलकुल ठीक हो जाने का इंतज़ार करते रहेंगे तो सब हाथ से जायेगा, न जग के रहोगे न जोगी बनोगे। अब हमें यह नहीं करना चाहिए। इसी आजमाइश के लिए हमने यह देवनागरी संस्करण निकाला है। अगर लोग यह (देवनागरी में गुजराती) पसंद करेंगे तो ‘नवजीवन पुस्तक’ और भाषाओं को भी देवनागरी में प्रकाशित करने का प्रयत्न करेगा।\\n\\n: \\'\\'इस साहस के पीछे दूसरा उद्देश्य यह है कि हिंदी पढ़ने वाली जनता गुजराती पुस्तक देवनागरी लिपि में पढ़ सके। मेरा अभिप्राय यह है कि अगर देवनागरी लिपि में गुजराती किताब छपेगी तो भाषा को सीखने में आने वाली आधी दिक्कतें तो ऐसे ही कम हो जाएँगी।\\n\\n: \\'\\'इस संस्करण को लोकप्रिय बनाने के लिए इसकी कीमत बहुत कम राखी गयी है, मुझे उम्मीद है कि इस साहस को गुजराती और हिंदी पढ़ने वाले सफल करेंगे।\\n\\nइसी प्रकार [[विनोबा भावे]] का विचार था कि-\\n: \\'\\' हिन्दुस्तान की एकता के लिये [[हिन्दी भाषा]] जितना काम देगी, उससे बहुत अधिक काम देवनागरी लिपि देगी। इसलिए मैं चाहता हूँ कि सभी भाषाएँ देवनागरी में भी लिखी जाएं। सभी लिपियां चलें लेकिन साथ-साथ देवनागरी का भी प्रयोग किया जाये। विनोबा जी \"नागरी ही\" नहीं \"नागरी भी\" चाहते थे। उन्हीं की सद्प्रेरणा से 1975 में [[नागरी लिपि परिषद]] की स्थापना हुई।\\n\\n=== विश्वलिपि के रूप में देवनागरी ===\\n{{pov}}\\nबौद्ध संस्कृति से प्रभावित क्षेत्र नागरी के लिए नया नहीं है। [[चीन]] और [[जापान]] [[चित्रलिपि]] का व्यवहार करते हैं। इन चित्रों की संख्या बहुत अधिक होने के कारण भाषा सीखने में बहुत कठिनाई होती है। देववाणी की वाहिका होने के नाते देवनागरी भारत की सीमाओं से बाहर निकलकर चीन और जापान के लिए भी समुचित विकल्प दे सकती है। भारतीय मूल के लोग संसार में जहां-जहां भी रहते हैं, वे देवनागरी से परिचय रखते हैं, विशेषकर [[मारीशस]], [[सूरीनाम]], [[फिजी]], [[गुयाना]], [[त्रिनिदाद]], [[टोबैगो]] आदि के लोग। इस तरह देवनागरी लिपि न केवल भारत के अंदर सारे प्रांतवासियों को प्रेम-बंधन में बांधकर सीमोल्लंघन कर दक्षिण-पूर्व एशिया के पुराने वृहत्तर भारतीय परिवार को भी ‘बहुजन हिताय, बहुजन सुखाय‘ अनुप्राणित कर सकती है तथा विभिन्न देशों को एक अधिक सुचारू और वैज्ञानिक विकल्प प्रदान कर ‘विश्व नागरी‘ की पदवी का दावा इक्कीसवीं सदी में कर सकती है। उस पर प्रसार लिपिगत साम्राज्यवाद और शोषण का माध्यम न होकर सत्य, अहिंसा, त्याग, संयम जैसे उदात्त मानवमूल्यों का संवाहक होगा, असत्\\u200c से सत्\\u200c, तमस्\\u200c से ज्योति तथा मृत्यु से अमरता की दिशा में।\\n\\n=== लिपि-विहीन भाषाओं के लिये देवनागरी ===\\n{{pov}}\\n\\n{{मुख्य|लिपिविहीन भाषाओं के लिये देवनागरी}}\\n\\nदुनिया की कई भाषाओं के लिये देवनागरी सबसे अच्छा विकल्प हो सकती है क्योंकि यह यह बोलने की पूरी आजादी देता है। दुनिया की और किसी भी लिपि मे यह नही हो सकता है। इन्डोनेशिया, विएतनाम, अफ्रीका आदि के लिये तो यही सबसे सही रहेगा। अष्टाध्यायी को देखकर कोई भी समझ सकता है की दुनिया मे इससे अच्छी कोई भी लिपि नहीं है। अग\\u200dर दुनिया पक्षपातरहित हो तो देवनागरी ही दुनिया की सर्वमान्य लिपि होगी क्योंकि यह पूर्णत: वैज्ञानिक है। [[अंग्रेजी]] भाषा में वर्तनी (स्पेलिंग) की विकराल समस्या के कारगर समाधान के लिये देवनागरी पर आधारित [[देवग्रीक]] लिपि प्रस्तावित की गयी है।\\n\\n== देवनागरी की वैज्ञानिकता ==\\nविस्तृत लेख [[देवनागरी की वैज्ञानिकता]] देखें।\\n\\nजिस प्रकार [[भारतीय अंक|भारतीय अंकों]] को उनकी वैज्ञानिकता के कारण विश्व ने सहर्ष स्वीकार कर लिया वैसे ही देवनागरी भी अपनी वैज्ञानिकता के कारण ही एक दिन विश्वनागरी बनेगी।\\n\\n== देवनागरी लिपि में सुधार ==\\nदेवनागरी का विकास उस युग में हुआ था जब लेखन हाथ से किया जाता था और लेखन के लिए शिलाएँ, ताड़पत्र, चर्मपत्र, भोजपत्र, ताम्रपत्र आदि का ही प्रयोग होता था। किन्तु लेखन प्रौद्योगिकी ने बहुत अधिक विकास किया और प्रिन्टिंग प्रेस, टाइपराइटर आदि से होते हुए वह कम्प्यूटर युग में पहुँच गयी है जहाँ बोलकर भी लिखना सम्भव हो गया है। प्रौद्योगिकी के विकास के साथ किसी भी लिपि के लेखन में समस्याएँ आना प्रत्याशित है। इसी कारण देवनागरी में भी समय-समय पर सुधार या मानकीकरण के प्रयास किए गये।\\n\\nभारत के स्वाधीनता आंदोलनों में हिंदी को [[राष्ट्रभाषा]] का दर्जा प्राप्त होने के बाद लिपि के विकास व मानकीकरण हेतु कई व्यक्तिगत एवं संस्थागत प्रयास हुए। सर्वप्रथम [[बाल गंगाधर तिलक]] ने \\'केसरी फॉन्ट\\' तैयार किया था। आगे चलकर [[विनायक दामोदर सावरकर|सावरकर बंधुओं]] ने [[बारहखड़ी]] तैयार की। गोरखनाथ ने मात्रा-व्यवस्था में सुधार किया। डॉ. [[श्यामसुंदर दास]] ने [[अनुस्वार]] के प्रयोग को व्यापक बनाकर देवनागरी के सरलीकरण के प्रयास किये।\\n\\nदेवनागरी के विकास में अनेक संस्थागत प्रयासों की भूमिका भी अत्यंत महत्त्वपूर्ण रही है। १९३५ में [[हिंदी साहित्य सम्मेलन]] ने [[नागरी लिपि सुधार समिति]]<ref>[https://ia802800.us.archive.org/14/items/naiktypodevav21971bocr/naik_typodeva_v2_1971b_ocr.pdf notes on the works of script reforms]</ref> के माध्यम से बारहखड़ी और शिरोरेखा से संबंधित सुधार किये। इसी प्रकार, १९४७ में [[आचार्य नरेन्द्र देव|नरेन्द्र देव]] की अध्यक्षता में गठित एक समिति ने बारहखड़ी, मात्रा व्यवस्था, अनुस्वार व अनुनासिक से संबंधित महत्त्वपूर्ण सुझाव दिये।देवनागरी लिपि के विकास हेतु [[भारत सरकार]] के शिक्षा मंत्रालय ने कई स्तरों पर प्रयास किये हैं। सन् १९६६ में मानक देवनागरी वर्णमाला प्रकाशित की गई और  १९६७ में ‘हिंदी वर्तनी का मानकीकरण’ प्रकाशित किया गया।\\n\\n== देवनागरी के सम्पादित्र व अन्य सॉफ्टवेयर ==\\n\\n\\'\\'\\'[[इंटरनेट पर हिन्दी के साधन]]\\'\\'\\' देखिये। \\n<br />\\n\\n== देवनागरी से अन्य लिपियों में रूपान्तरण ==\\n\\n* [[आइट्राँस|itrans]] (itrans) निरूपण, देवनागरी को लैटिन (रोमन) में परिवर्तित करने का आधुनिकतम और अक्षत (lossless) तरीका है। ([http://www.aczoom.com/itrans/online/ online interface to itrans]) \\n\\n* आजकल अनेक कम्प्यूटर प्रोग्राम उपलब्ध हैं जिनकी सहायता से देवनागरी में लिखे पाठ को किसी भी भारतीय लिपि में बदला जा सकता है। \\n\\n* कुछ ऐसे भी कम्प्यूटर प्रोग्राम हैं जिनकी सहायता से देवनागरी में लिखे पाठ को लैटिन, अरबी, चीनी, क्रिलिक, आईपीए (ipa) आदि में बदला जा सकता है। ([http://demo.icu-project.org/icu-bin/translit icu transform demo])\\n\\n* [[यूनिकोड]] के पदार्पण के बाद देवनागरी का रोमनीकरण (romanization) अब अनावश्यक होता जा रहा है। क्योंकि धीरे-धीरे कम्प्यूटर पर देवनागरी को (और अन्य लिपियों को भी) पूर्ण समर्थन मिलने लगा है।\\n\\n== देवनागरी यूनिकोड ==\\n\\n{| border=\"1\" cellspacing=\"0\" cellpadding=\"5\" style=\"font-size: large; border-collapse:collapse; width:100%\"\\n|- style=\"font-size: small; text-align:center;\"\\n| &nbsp; || 0 || 1 || 2 || 3 || 4 || 5 || 6 || 7 || 8 || 9 || a || b || c || d || e || f\\n|-\\n| style=\"font-size: small;\" | u+090x\\n| bgcolor=\"#cccccc\" | &#x900; || &#x901; ||&#x902; || &#x903; || &#x904; || &#x905; || &#x906; || &#x907; || &#x908; || &#x909; || &#x90a; || &#x90b; || &#x90c; || &#x90d; || &#x90e; || &#x90f;\\n|-\\n| style=\"font-size: small;\" | u+091x\\n| &#x910; || &#x911; ||&#x912; || &#x913; || &#x914; || &#x915; || &#x916; || &#x917; || &#x918; || &#x919; || &#x91a; || &#x91b; || &#x91c; || &#x91d; || &#x91e; || &#x91f;\\n|-\\n| style=\"font-size: small;\" | u+092x\\n| &#x920; || &#x921; ||&#x922; || &#x923; || &#x924; || &#x925; || &#x926; || &#x927; || &#x928; || &#x929; || &#x92a; || &#x92b; || &#x92c; || &#x92d; || &#x92e; || &#x92f;\\n|-\\n| style=\"font-size: small;\" | u+093x\\n|&#x930; || &#x931; ||&#x932; || &#x933; || &#x934; || &#x935; || &#x936; || &#x937; || &#x938; || &#x939; || bgcolor=\"#cccccc\" | &#x93a; || bgcolor=\"#cccccc\" | &#x93b; || &#x93c; || &#x93d; || &#x93e; || &#x93f;\\n|-\\n| style=\"font-size: small;\" | u+094x\\n|&#x940; || &#x941; ||&#x942; || &#x943; || &#x944; || &#x945; || &#x946; || &#x947; || &#x948; || &#x949; || &#x94a; || &#x94b; || &#x94c; || &#x94d; || bgcolor=\"#cccccc\" | &#x94e; || bgcolor=\"#cccccc\" | &#x94f;\\n|-\\n| style=\"font-size: small;\" | u+095x\\n|&#x950; || &#x951; ||&#x952; || &#x953; || &#x954; || bgcolor=\"#cccccc\" | &#x955; || bgcolor=\"#cccccc\" | &#x956; || bgcolor=\"#cccccc\" | &#x957; ||क़||ख़||ग़||ज़||ड़||ढ़||फ़||य़\\n|-\\n| style=\"font-size: small;\" | u+096x\\n|&#x960; || &#x961; ||&#x962; || &#x963; || &#x964; || &#x965; || &#x966; || &#x967; || &#x968; || &#x969; || &#x96a; || &#x96b; || &#x96c; || &#x96d; || &#x96e; || &#x96f;\\n|-\\n| style=\"font-size: small;\" | u+097x\\n|&#x970; || bgcolor=\"#cccccc\" | &#x971; ||bgcolor=\"#cccccc\" | &#x972; || bgcolor=\"#cccccc\" | &#x973; || bgcolor=\"#cccccc\" | &#x974; || bgcolor=\"#cccccc\" | &#x975; || bgcolor=\"#cccccc\" | &#x976; || bgcolor=\"#cccccc\" | &#x977; || bgcolor=\"#cccccc\" | &#x978; || bgcolor=\"#cccccc\" | &#x979; || &#x97a; || &#x97b; || &#x97c; || bgcolor=\"#cccccc\" | &#x97d; || &#x97e; || &#x97f;\\n|}\\n\\n==कम्प्यूटर कुंजीपटल पर देवनागरी==\\n[[चित्र:devanagari inscript keyboard.jpg|center|600px|इंस्क्रिप्ट कुंजीपटल पर देवनागरी वर्ण (windows, solaris, java)]]\\n<ref>ram narayan ray</ref>\\n\\n== सन्दर्भ ==\\n{{reflist}}\\n\\n== इन्हें भी देखें ==\\n{{col-begin}}\\n{{col-break}}\\n* [[देवनागरी वर्णमाला]]\\n* [[देवनागरी की वैज्ञानिकता]]\\n* [[नागरी प्रचारिणी सभा]]\\n* [[नागरी संगम पत्रिका]]\\n* [[नागरी एवं भारतीय भाषाएँ]]\\n* [[गौरीदत्त]] - देवनागरी के महान प्रचारक\\n* [[यूनिकोड]]\\n* [[इण्डिक यूनिकोड]]\\n* [[हिन्दी के साधन इंटरनेट पर]]\\n{{col-break}}\\n* [[हन्टेरियन लिप्यन्तरण]]\\n* [[इंस्क्रिप्ट]]\\n* [[इस्की]] (iscii)\\n* [[ब्राह्मी लिपि]]\\n* [[ब्राह्मी परिवार की लिपियाँ]]\\n* [[भारतीय लिपियाँ]]\\n* [[श्वा]] (schwa)\\n* [[सहस्वानिकी]]\\n* [[भारतीय संख्या प्रणाली]]\\n{{col-end}}\\n\\n== बाहरी कड़ियाँ ==\\n* [http://www.cs.colostate.edu/~malaiya/images/brah11.gif ब्राह्मी-लिपि परिवार का वृक्ष] - इसमें ब्राह्मी से उत्पन्न लिपियों की समय-रेखा का चित्र दिया हुआ है।\\n* [http://www.cs.colostate.edu/~malaiya/images/south1.gif पहलवी-ब्राह्मी लिपि से उत्पन्न दक्षिण-पूर्व एशिया की लिपियों की समय-रेखा]\\n* [http://www.lakesparadise.com/madhumati/show-article_2069.html राष्ट्रीय एकता की धरोहर : \\'\\'\\'देवनागरी लिपि\\'\\'\\']\\n* [http://www.prabhasakshi.com/showarticle.aspx?articleid=090723-131027-440010 सबने स्वीकारा है देवनागरी की वैज्ञानिकता को] (प्रभासाक्षी)\\n* [http://www.prabhasakshi.com/showarticle.aspx?articleid=120425-112232-440010 देवनागरी का लंबा विकासात्मक इतिहास] (प्रभासाक्षी)\\n* [http://www.lakesparadise.com/madhumati/show-article_2069.html राष्ट्रीय एकता की धरोहर : देवनागरी लिपि] (मधुमती)\\n* [http://www.prabhasakshi.com/showarticle.aspx?articleid=120502-125738-440010 हर ढांचे में आसानी से ढल जाती है नागरी] (डॉ॰ जुबैदा हाशिम मुल्ला ; 02 मई 2012)\\n* [http://tlt.its.psu.edu/suggestions/international/bylanguage/devanagarichart.html unicode entity codes for the devanāgarī script]\\n* http://www.ancientscripts.com/devanagari.html\\n* http://www.unicode.org/charts/pdf/u0900.pdf\\n* [http://www.cs.jhu.edu/~habib/papers/langindpaper.pdf language independent speech compression using devanagari phonetics]\\n* [http://books.google.co.in/books?id=j3umf2zqe_wc&printsec=frontcover#v=onepage&q=&f=false राजभाषा हिन्दी] (गूगल पुस्तक ; लेखक - भोलानाथ तिवारी)\\n* [http://groups.google.co.in/group/technical-hindi/browse_thread/thread/c922140a950b0a53?hl=en अंग्रेजी भी देवनागरी में लिखें]\\n* [http://people.w3.org/rishida/scripts/pickers/devanagari/ \\'\\'\\'devanagari character picker v11\\'\\'\\']\\n* [https://sites.google.com/site/sanskrtavak/home/resources/sa-ja \\'\\'\\'the influence of sanskrit on the japanese sound system\\'\\'\\'] (james h. buck, university of georgia)\\n* [http://kevincarmody.com/vedic/vedic.html#devnag देवनागरी सॉफ्टवेयर] (केविन कार्मोदी)\\n* [http://www.hitxp.com/articles/sanskrit-lessons/science-alphabet-devanagari-script/ sanskrit lesson 3 – sanskrit alphabet and devanagari script]\\n* [http://www.academia.edu/3020947/devanagari_lipi_ora_sanganaka देवनागरी लिपि एवं संगणक] (अम्बा कुलकर्णी, विभागाध्यक्ष ,संस्कृत अध्ययन विभाग, हैदराबाद विश्वविद्यालय)\\n[[श्रेणी:देवनागरी]]\\n[[श्रेणी:लिपि]]\\n[[श्रेणी:हिन्दी]]\\n[[श्रेणी:ब्राह्मी परिवार की लिपियाँ]]'"
      ]
     },
     "execution_count": 58,
     "metadata": {},
     "output_type": "execute_result"
    }
   ],
   "source": [
    "wiki_df_raw.tokens[3]"
   ]
  },
  {
   "cell_type": "code",
   "execution_count": 52,
   "metadata": {
    "scrolled": true
   },
   "outputs": [
    {
     "data": {
      "text/plain": [
       "['तीन',\n",
       " 'अंग्रेजी',\n",
       " 'देवनागरी',\n",
       " 'लिखें',\n",
       " 'देवनागरी',\n",
       " 'सॉफ्टवेयर',\n",
       " 'केविन',\n",
       " 'कार्मोदी',\n",
       " 'तीन',\n",
       " 'देवनागरी',\n",
       " 'लिपि',\n",
       " 'संगणक',\n",
       " 'अम्बा',\n",
       " 'कुलकर्णी',\n",
       " 'विभागाध्यक्ष',\n",
       " 'संस्कृत',\n",
       " 'अध्ययन',\n",
       " 'विभाग',\n",
       " 'हैदराबाद',\n",
       " 'विश्वविद्यालय']"
      ]
     },
     "execution_count": 52,
     "metadata": {},
     "output_type": "execute_result"
    }
   ],
   "source": [
    "wiki_df.tokens[3][-20:]"
   ]
  },
  {
   "cell_type": "markdown",
   "metadata": {},
   "source": [
    "## Preprocess it and save \n",
    "Output files:\n",
    "`vocab_train_en.pt`, `wiki_tensor_dataset_en.pt`, `classes_list.pt`"
   ]
  },
  {
   "cell_type": "markdown",
   "metadata": {},
   "source": [
    "Preprocess the data (the functions are in `preprocess.py`):\n",
    "<ol>\n",
    "    <li> Remove rows with missing labels. </li>\n",
    "    <li> Remove rows with no tokens. </li>\n",
    "    <li> Create a set of all categories. Binarize the labels. </li>\n",
    "    <li> Split in train/val/test. </li>\n",
    "    <li> Build vocabulary for train. </li>\n",
    "</ol>\n",
    "\n",
    "Make DataLoader:\n",
    "<ol>\n",
    "    <li> Tokenize train/val/test. </li>\n",
    "    <li> Create batches using collate function that pads the short sentences. </li>\n",
    "</ol>\n",
    "\n",
    "Use pretrained embeddings:\n",
    "<ol>\n",
    "    <li> Load pretrained embeddings. </li>\n",
    "    <li> Create embedding matrix for given vocabulary. Words that are in given vocabualry but not in pretrained embeddings have zero embedding vector. </li>\n",
    "</ol>"
   ]
  },
  {
   "cell_type": "code",
   "execution_count": 22,
   "metadata": {
    "scrolled": false
   },
   "outputs": [],
   "source": [
    "import preprocess\n",
    "import importlib\n",
    "importlib.reload(preprocess)\n",
    "\n",
    "from preprocess import train_validate_test_split\n",
    "from preprocess import tokenize_dataset, TensoredDataset, pad_collate_fn\n",
    "from preprocess import create_vocab_from_tokens, create_lookups_for_vocab"
   ]
  },
  {
   "cell_type": "code",
   "execution_count": 32,
   "metadata": {},
   "outputs": [
    {
     "name": "stdout",
     "output_type": "stream",
     "text": [
      "% of articles with missing labels: 0.0 (0 articles)\n"
     ]
    },
    {
     "data": {
      "text/plain": [
       "(32825, 4)"
      ]
     },
     "execution_count": 32,
     "metadata": {},
     "output_type": "execute_result"
    }
   ],
   "source": [
    "#Removing rows with missing labels\n",
    "mask = wiki_df.mid_level_categories.apply(lambda x: len(x) > 0)\n",
    "print(f\"% of articles with missing labels: {(1 - mask).sum() / mask.shape[0]} ({(1 - mask).sum()} articles)\")\n",
    "wiki_df = wiki_df[mask]\n",
    "wiki_df = wiki_df.reset_index(drop=True)\n",
    "wiki_df.shape"
   ]
  },
  {
   "cell_type": "code",
   "execution_count": 31,
   "metadata": {},
   "outputs": [
    {
     "data": {
      "text/plain": [
       "998"
      ]
     },
     "execution_count": 31,
     "metadata": {},
     "output_type": "execute_result"
    }
   ],
   "source": [
    "(1 - mask).sum()"
   ]
  },
  {
   "cell_type": "code",
   "execution_count": 11,
   "metadata": {},
   "outputs": [
    {
     "data": {
      "text/plain": [
       "(99960, 3)"
      ]
     },
     "execution_count": 11,
     "metadata": {},
     "output_type": "execute_result"
    }
   ],
   "source": [
    "#Removing rows with no tokens\n",
    "mask = wiki_df.tokens.apply(lambda x: len(x) > 0)\n",
    "wiki_df = wiki_df[mask]\n",
    "wiki_df = wiki_df.reset_index(drop=True)\n",
    "wiki_df.shape"
   ]
  },
  {
   "cell_type": "code",
   "execution_count": 12,
   "metadata": {
    "scrolled": false
   },
   "outputs": [
    {
     "name": "stdout",
     "output_type": "stream",
     "text": [
      "Saved.\n",
      "['Culture.Arts' 'Culture.Broadcasting' 'Culture.Crafts and hobbies'\n",
      " 'Culture.Entertainment' 'Culture.Food and drink' 'Culture.Games and toys'\n",
      " 'Culture.Internet culture' 'Culture.Language and literature'\n",
      " 'Culture.Media' 'Culture.Music' 'Culture.Performing arts'\n",
      " 'Culture.Philosophy and religion' 'Culture.Plastic arts' 'Culture.Sports'\n",
      " 'Culture.Visual arts' 'Geography.Africa' 'Geography.Americas'\n",
      " 'Geography.Antarctica' 'Geography.Asia' 'Geography.Bodies of water'\n",
      " 'Geography.Europe' 'Geography.Landforms' 'Geography.Maps'\n",
      " 'Geography.Oceania' 'Geography.Parks'\n",
      " 'History_And_Society.Business and economics'\n",
      " 'History_And_Society.Education' 'History_And_Society.History and society'\n",
      " 'History_And_Society.Military and warfare'\n",
      " 'History_And_Society.Politics and government'\n",
      " 'History_And_Society.Transportation' 'STEM.Biology' 'STEM.Chemistry'\n",
      " 'STEM.Engineering' 'STEM.Geosciences' 'STEM.Information science'\n",
      " 'STEM.Mathematics' 'STEM.Medicine' 'STEM.Meteorology' 'STEM.Physics'\n",
      " 'STEM.Science' 'STEM.Space' 'STEM.Technology' 'STEM.Time']\n"
     ]
    },
    {
     "data": {
      "text/html": [
       "<div>\n",
       "<style scoped>\n",
       "    .dataframe tbody tr th:only-of-type {\n",
       "        vertical-align: middle;\n",
       "    }\n",
       "\n",
       "    .dataframe tbody tr th {\n",
       "        vertical-align: top;\n",
       "    }\n",
       "\n",
       "    .dataframe thead th {\n",
       "        text-align: right;\n",
       "    }\n",
       "</style>\n",
       "<table border=\"1\" class=\"dataframe\">\n",
       "  <thead>\n",
       "    <tr style=\"text-align: right;\">\n",
       "      <th></th>\n",
       "      <th>QID</th>\n",
       "      <th>mid_level_categories</th>\n",
       "      <th>tokens</th>\n",
       "      <th>labels</th>\n",
       "    </tr>\n",
       "  </thead>\n",
       "  <tbody>\n",
       "    <tr>\n",
       "      <td>0</td>\n",
       "      <td>Q2000864</td>\n",
       "      <td>[Culture.Philosophy and religion]</td>\n",
       "      <td>[affirming, consequent, sometimes, called, con...</td>\n",
       "      <td>[0, 0, 0, 0, 0, 0, 0, 0, 0, 0, 0, 1, 0, 0, 0, ...</td>\n",
       "    </tr>\n",
       "    <tr>\n",
       "      <td>1</td>\n",
       "      <td>Q1064113</td>\n",
       "      <td>[History_And_Society.Business and economics]</td>\n",
       "      <td>[growth, two, six, two, zero, one, six, zero, ...</td>\n",
       "      <td>[0, 0, 0, 0, 0, 0, 0, 0, 0, 0, 0, 0, 0, 0, 0, ...</td>\n",
       "    </tr>\n",
       "    <tr>\n",
       "      <td>2</td>\n",
       "      <td>Q6941060</td>\n",
       "      <td>[Geography.Europe]</td>\n",
       "      <td>[museum, work, arbetets, museum, swedish, muse...</td>\n",
       "      <td>[0, 0, 0, 0, 0, 0, 0, 0, 0, 0, 0, 0, 0, 0, 0, ...</td>\n",
       "    </tr>\n",
       "    <tr>\n",
       "      <td>3</td>\n",
       "      <td>Q843920</td>\n",
       "      <td>[History_And_Society.History and society, STEM...</td>\n",
       "      <td>[like, one, dorset, england, arable, land, lat...</td>\n",
       "      <td>[0, 0, 0, 0, 0, 0, 0, 0, 0, 0, 0, 0, 0, 0, 0, ...</td>\n",
       "    </tr>\n",
       "    <tr>\n",
       "      <td>4</td>\n",
       "      <td>Q178999</td>\n",
       "      <td>[STEM.Biology, STEM.Medicine]</td>\n",
       "      <td>[axon, greek, axis, nerve, fiber, long, slende...</td>\n",
       "      <td>[0, 0, 0, 0, 0, 0, 0, 0, 0, 0, 0, 0, 0, 0, 0, ...</td>\n",
       "    </tr>\n",
       "  </tbody>\n",
       "</table>\n",
       "</div>"
      ],
      "text/plain": [
       "        QID                               mid_level_categories  \\\n",
       "0  Q2000864                  [Culture.Philosophy and religion]   \n",
       "1  Q1064113       [History_And_Society.Business and economics]   \n",
       "2  Q6941060                                 [Geography.Europe]   \n",
       "3   Q843920  [History_And_Society.History and society, STEM...   \n",
       "4   Q178999                      [STEM.Biology, STEM.Medicine]   \n",
       "\n",
       "                                              tokens  \\\n",
       "0  [affirming, consequent, sometimes, called, con...   \n",
       "1  [growth, two, six, two, zero, one, six, zero, ...   \n",
       "2  [museum, work, arbetets, museum, swedish, muse...   \n",
       "3  [like, one, dorset, england, arable, land, lat...   \n",
       "4  [axon, greek, axis, nerve, fiber, long, slende...   \n",
       "\n",
       "                                              labels  \n",
       "0  [0, 0, 0, 0, 0, 0, 0, 0, 0, 0, 0, 1, 0, 0, 0, ...  \n",
       "1  [0, 0, 0, 0, 0, 0, 0, 0, 0, 0, 0, 0, 0, 0, 0, ...  \n",
       "2  [0, 0, 0, 0, 0, 0, 0, 0, 0, 0, 0, 0, 0, 0, 0, ...  \n",
       "3  [0, 0, 0, 0, 0, 0, 0, 0, 0, 0, 0, 0, 0, 0, 0, ...  \n",
       "4  [0, 0, 0, 0, 0, 0, 0, 0, 0, 0, 0, 0, 0, 0, 0, ...  "
      ]
     },
     "execution_count": 12,
     "metadata": {},
     "output_type": "execute_result"
    }
   ],
   "source": [
    "# Binarize the labels\n",
    "# labels list: mlb.classes_\n",
    "mlb = MultiLabelBinarizer()\n",
    "wiki_df[\"labels\"] = list(mlb.fit_transform(wiki_df.mid_level_categories))\n",
    "\n",
    "if SAVE:\n",
    "    # SAVE classes list\n",
    "    torch.save(mlb.classes_, PATH_TO_DATA_FOLDER + 'classes_list.pt')\n",
    "    print(\"Saved.\")\n",
    "\n",
    "# LOAD\n",
    "classes = torch.load(PATH_TO_DATA_FOLDER + 'classes_list.pt')\n",
    "mlb = MultiLabelBinarizer(classes)\n",
    "\n",
    "print(classes)\n",
    "wiki_df.head()"
   ]
  },
  {
   "cell_type": "code",
   "execution_count": 13,
   "metadata": {},
   "outputs": [
    {
     "name": "stdout",
     "output_type": "stream",
     "text": [
      "Saved.\n"
     ]
    }
   ],
   "source": [
    "# train/val/test split\n",
    "wiki_train, wiki_valid, wiki_test = train_validate_test_split(wiki_df, seed=1)\n",
    "\n",
    "wiki_train = wiki_train.reset_index(drop=True)\n",
    "wiki_valid = wiki_valid.reset_index(drop=True)\n",
    "wiki_test = wiki_test.reset_index(drop=True)\n",
    "\n",
    "if SAVE:\n",
    "    # SAVE train/val/test dfs\n",
    "    torch.save(wiki_train, PATH_TO_DATA_FOLDER + \"df_wiki_train_en.pt\")\n",
    "    torch.save(wiki_valid, PATH_TO_DATA_FOLDER + \"df_wiki_valid_en.pt\")\n",
    "    torch.save(wiki_test, PATH_TO_DATA_FOLDER + \"df_wiki_test_en.pt\")\n",
    "    print(\"Saved.\")\n",
    "\n",
    "wiki_train = torch.load(PATH_TO_DATA_FOLDER + \"df_wiki_train_en.pt\")\n",
    "wiki_valid = torch.load(PATH_TO_DATA_FOLDER + \"df_wiki_valid_en.pt\")\n",
    "wiki_test = torch.load(PATH_TO_DATA_FOLDER + \"df_wiki_test_en.pt\")\n"
   ]
  },
  {
   "cell_type": "code",
   "execution_count": 14,
   "metadata": {
    "scrolled": true
   },
   "outputs": [
    {
     "data": {
      "text/html": [
       "<div>\n",
       "<style scoped>\n",
       "    .dataframe tbody tr th:only-of-type {\n",
       "        vertical-align: middle;\n",
       "    }\n",
       "\n",
       "    .dataframe tbody tr th {\n",
       "        vertical-align: top;\n",
       "    }\n",
       "\n",
       "    .dataframe thead th {\n",
       "        text-align: right;\n",
       "    }\n",
       "</style>\n",
       "<table border=\"1\" class=\"dataframe\">\n",
       "  <thead>\n",
       "    <tr style=\"text-align: right;\">\n",
       "      <th></th>\n",
       "      <th>QID</th>\n",
       "      <th>mid_level_categories</th>\n",
       "      <th>tokens</th>\n",
       "      <th>labels</th>\n",
       "    </tr>\n",
       "  </thead>\n",
       "  <tbody>\n",
       "    <tr>\n",
       "      <td>0</td>\n",
       "      <td>Q5346784</td>\n",
       "      <td>[Culture.Language and literature]</td>\n",
       "      <td>[edwin, romanzo, elmer, one, eight, five, zero...</td>\n",
       "      <td>[0, 0, 0, 0, 0, 0, 0, 1, 0, 0, 0, 0, 0, 0, 0, ...</td>\n",
       "    </tr>\n",
       "    <tr>\n",
       "      <td>1</td>\n",
       "      <td>Q4723109</td>\n",
       "      <td>[Culture.Language and literature]</td>\n",
       "      <td>[alfred, george, fysh, machin, born, one, eigh...</td>\n",
       "      <td>[0, 0, 0, 0, 0, 0, 0, 1, 0, 0, 0, 0, 0, 0, 0, ...</td>\n",
       "    </tr>\n",
       "    <tr>\n",
       "      <td>2</td>\n",
       "      <td>Q1456016</td>\n",
       "      <td>[Geography.Americas, Culture.Music]</td>\n",
       "      <td>[late, friends, first, full, length, studio, a...</td>\n",
       "      <td>[0, 0, 0, 0, 0, 0, 0, 0, 0, 1, 0, 0, 0, 0, 0, ...</td>\n",
       "    </tr>\n",
       "    <tr>\n",
       "      <td>3</td>\n",
       "      <td>Q59149462</td>\n",
       "      <td>[Geography.Americas, Culture.Sports, Culture.L...</td>\n",
       "      <td>[mat, alexis, romero, born, one, february, one...</td>\n",
       "      <td>[0, 0, 0, 0, 0, 0, 0, 1, 0, 0, 0, 0, 0, 1, 0, ...</td>\n",
       "    </tr>\n",
       "    <tr>\n",
       "      <td>4</td>\n",
       "      <td>Q30602920</td>\n",
       "      <td>[Culture.Plastic arts, Geography.Americas, Cul...</td>\n",
       "      <td>[confederate, memorial, fountain, historic, fo...</td>\n",
       "      <td>[1, 0, 0, 0, 0, 0, 0, 0, 0, 0, 0, 0, 1, 0, 1, ...</td>\n",
       "    </tr>\n",
       "  </tbody>\n",
       "</table>\n",
       "</div>"
      ],
      "text/plain": [
       "         QID                               mid_level_categories  \\\n",
       "0   Q5346784                  [Culture.Language and literature]   \n",
       "1   Q4723109                  [Culture.Language and literature]   \n",
       "2   Q1456016                [Geography.Americas, Culture.Music]   \n",
       "3  Q59149462  [Geography.Americas, Culture.Sports, Culture.L...   \n",
       "4  Q30602920  [Culture.Plastic arts, Geography.Americas, Cul...   \n",
       "\n",
       "                                              tokens  \\\n",
       "0  [edwin, romanzo, elmer, one, eight, five, zero...   \n",
       "1  [alfred, george, fysh, machin, born, one, eigh...   \n",
       "2  [late, friends, first, full, length, studio, a...   \n",
       "3  [mat, alexis, romero, born, one, february, one...   \n",
       "4  [confederate, memorial, fountain, historic, fo...   \n",
       "\n",
       "                                              labels  \n",
       "0  [0, 0, 0, 0, 0, 0, 0, 1, 0, 0, 0, 0, 0, 0, 0, ...  \n",
       "1  [0, 0, 0, 0, 0, 0, 0, 1, 0, 0, 0, 0, 0, 0, 0, ...  \n",
       "2  [0, 0, 0, 0, 0, 0, 0, 0, 0, 1, 0, 0, 0, 0, 0, ...  \n",
       "3  [0, 0, 0, 0, 0, 0, 0, 1, 0, 0, 0, 0, 0, 1, 0, ...  \n",
       "4  [1, 0, 0, 0, 0, 0, 0, 0, 0, 0, 0, 0, 1, 0, 1, ...  "
      ]
     },
     "execution_count": 14,
     "metadata": {},
     "output_type": "execute_result"
    }
   ],
   "source": [
    "wiki_train.head()"
   ]
  },
  {
   "cell_type": "code",
   "execution_count": 23,
   "metadata": {},
   "outputs": [
    {
     "name": "stdout",
     "output_type": "stream",
     "text": [
      "Train vocab size is: 595364\n",
      "All vocab size is: 682848\n"
     ]
    }
   ],
   "source": [
    "# Building vocabulary: train and all\n",
    "vocab_train = create_vocab_from_tokens(wiki_train['tokens'])\n",
    "vocab_val = create_vocab_from_tokens(wiki_valid['tokens'])\n",
    "vocab_test = create_vocab_from_tokens(wiki_test['tokens'])\n",
    "\n",
    "vocab_all = create_vocab_from_tokens([vocab_train, vocab_val, vocab_test])\n",
    "\n",
    "print(\"Train vocab size is: {}\".format(len(vocab_train)))\n",
    "print(\"All vocab size is: {}\".format(len(vocab_all)))\n",
    "\n",
    "index_to_word_train, word_to_index_train = create_lookups_for_vocab(vocab_train, add_tokens_list=[\"<pad>\", \"<unk>\"])\n",
    "index_to_word_all, word_to_index_all = create_lookups_for_vocab(vocab_all, add_tokens_list=[\"<pad>\", \"<unk>\"])\n",
    "\n",
    "if SAVE:\n",
    "    # SAVE vocab from train, all\n",
    "    torch.save(index_to_word_train, PATH_TO_DATA_FOLDER + 'vocab_train_en.pt')\n",
    "    torch.save(index_to_word_all, PATH_TO_DATA_FOLDER + 'vocab_all_en.pt')\n",
    "    print(\"Saved.\")\n",
    "\n",
    "# LOAD\n",
    "vocab_train = torch.load(PATH_TO_DATA_FOLDER + 'vocab_train_en.pt')\n",
    "vocab_all = torch.load(PATH_TO_DATA_FOLDER + 'vocab_all_en.pt')\n",
    "\n",
    "index_to_word_train, word_to_index_train = create_lookups_for_vocab(vocab_train)\n",
    "index_to_word_all, word_to_index_all = create_lookups_for_vocab(vocab_all)"
   ]
  },
  {
   "cell_type": "code",
   "execution_count": 18,
   "metadata": {
    "scrolled": true
   },
   "outputs": [
    {
     "name": "stderr",
     "output_type": "stream",
     "text": [
      "100%|██████████| 79968/79968 [00:09<00:00, 8749.83it/s] \n",
      "100%|██████████| 9996/9996 [00:00<00:00, 12383.81it/s]\n",
      "100%|██████████| 9996/9996 [00:00<00:00, 13668.84it/s]\n"
     ]
    },
    {
     "name": "stdout",
     "output_type": "stream",
     "text": [
      "Saved.\n"
     ]
    }
   ],
   "source": [
    "# tokenize datasets\n",
    "# CHANGE max number of tokens per article\n",
    "max_num_tokens = None\n",
    "\n",
    "# # specify vocabulary (word_to_index): 2 options\n",
    "vocab_name = \"vocab_train\" \n",
    "word_to_index = word_to_index_train\n",
    "# OR\n",
    "# vocab_name = \"vocab_all\"\n",
    "# word_to_index = word_to_index_all\n",
    "\n",
    "wiki_tokenized_datasets = {}\n",
    "wiki_tokenized_datasets['X_train'] = tokenize_dataset(wiki_train, word_to_index, max_num_tokens=max_num_tokens)\n",
    "wiki_tokenized_datasets['X_val'] = tokenize_dataset(wiki_valid, word_to_index, max_num_tokens=max_num_tokens)\n",
    "wiki_tokenized_datasets['X_test'] = tokenize_dataset(wiki_test, word_to_index, max_num_tokens=max_num_tokens)\n",
    "\n",
    "wiki_tokenized_datasets['y_train'] = list(wiki_train.labels)\n",
    "wiki_tokenized_datasets['y_val'] = list(wiki_valid.labels)\n",
    "wiki_tokenized_datasets['y_test'] = list(wiki_test.labels)\n",
    "\n",
    "wiki_tensor_dataset = {}\n",
    "wiki_tensor_dataset['train'] = TensoredDataset(\n",
    "    wiki_tokenized_datasets['X_train'], wiki_tokenized_datasets['y_train']\n",
    ")\n",
    "wiki_tensor_dataset['val'] = TensoredDataset(\n",
    "    wiki_tokenized_datasets['X_val'], wiki_tokenized_datasets['y_val']\n",
    ")\n",
    "wiki_tensor_dataset['test'] = TensoredDataset(\n",
    "    wiki_tokenized_datasets['X_test'], wiki_tokenized_datasets['y_test']\n",
    ")\n",
    "\n",
    "if SAVE:\n",
    "    # SAVE tensor datasets\n",
    "    torch.save(wiki_tensor_dataset, f'{PATH_TO_DATA_FOLDER}wiki_tensor_dataset_{vocab_name}_en.pt')\n",
    "    print(\"Saved.\")\n",
    "\n",
    "# LOAD\n",
    "wiki_tensor_dataset = torch.load(f'{PATH_TO_DATA_FOLDER}wiki_tensor_dataset_{vocab_name}_en.pt')"
   ]
  },
  {
   "cell_type": "code",
   "execution_count": 19,
   "metadata": {},
   "outputs": [
    {
     "name": "stdout",
     "output_type": "stream",
     "text": [
      "Vocab size: 595366\n"
     ]
    },
    {
     "data": {
      "text/plain": [
       "(tensor([13030,  8330,  3721,  8330,  3721,   132,  2496, 13031,  4719,  3982,\n",
       "         13031,  3178,   303,  5510, 13032,  8334,  2496, 13031,  4719,  1828,\n",
       "          2496,  1985, 13033, 10701, 13034,     7,  5299,  2338,  6948,     5,\n",
       "             9,     9,     8, 10510,   480, 13035, 13036, 11814, 13035, 13036,\n",
       "           965,   933,  2789,     5,   223,    10,   933, 13037,  6777,  1646,\n",
       "          3271, 13038,  2496, 13031,  4719,  1036, 13039,  1985,  2300,  1495,\n",
       "           601, 13040,  1495,     5,     9,   208,     6,     5,     9,     9,\n",
       "            11,   568,     5,     9,     9,   208, 13041,  1467,   403, 13042,\n",
       "          9309,  1065, 13043, 13044, 13043, 13044,  2300,  2189,  1880,  8330,\n",
       "          4719,   452,    10,     8,     8,     8, 13035, 13036,    21, 13045,\n",
       "          2300, 13045,  2641,  3721,  4340,  4251, 13043, 13044, 13046,  2496,\n",
       "         13031,  4719,  4340, 13045, 13047, 13048, 13049, 13050,  5496,  9571,\n",
       "           648,     5,     9,    10,     8,     5,    11, 13051,  6945,  9127,\n",
       "          2496,    53,  5458, 13051,  6945,  9127,  6945,  9127,  2025,   833,\n",
       "          6777,  3721, 13052,  3271, 13053, 13054,  3721, 11814, 13035, 13036,\n",
       "           689,  1261,    10,     8,     5,   253, 13055,  2496, 13031,  4719,\n",
       "         12197, 13052,  3271, 13053,  3721,  5251,   952,  3078,   167,  6674,\n",
       "            10,  8340,   439,  1366, 13056,   952,  1199,    10,     8,     5,\n",
       "             6,  3541,  1816,   794,    10,     8,     8,   611,   532,    10,\n",
       "             8,    10,     8,  1108, 13057,  2471,  5251,   952,   439,  8340,\n",
       "          1140,  2496, 13031,  4719,   132, 10436,  3078,  3271, 13053,   132,\n",
       "            58, 13058,   414, 13031,   132,   277,  2496,  2076, 13031,  1869,\n",
       "           525,    24, 13031,  4719,   526,  8330,  8340,  2496,    81,   397,\n",
       "           398, 13059,  3435,  2869,  2496, 13031,  8330,  8340,  2055,     5,\n",
       "             9,     9,     8,  8330,  8340,  2496, 13035, 13036]),\n",
       " tensor([248.]),\n",
       " tensor([0, 0, 0, 0, 0, 0, 0, 0, 0, 0, 0, 0, 1, 0, 0, 0, 1, 0, 0, 0, 0, 0, 0, 0,\n",
       "         0, 0, 0, 0, 0, 0, 0, 0, 0, 0, 0, 0, 0, 0, 0, 0, 0, 0, 0, 0]))"
      ]
     },
     "execution_count": 19,
     "metadata": {},
     "output_type": "execute_result"
    }
   ],
   "source": [
    "print(\"Vocab size:\", len(word_to_index))\n",
    "wiki_tensor_dataset[\"train\"].__getitem__(200)"
   ]
  },
  {
   "cell_type": "code",
   "execution_count": 18,
   "metadata": {},
   "outputs": [],
   "source": [
    "# # Next step after loading tensor dataset -- create dataloader\n",
    "# wiki_loaders = {}\n",
    "\n",
    "# batch_size = 32\n",
    "\n",
    "# for split, wiki_dataset in wiki_tensor_dataset.items():\n",
    "#     wiki_loaders[split] = DataLoader(\n",
    "#         wiki_dataset, \n",
    "#         batch_size=batch_size, \n",
    "#         shuffle=True, \n",
    "#         collate_fn=partial(pad_collate_fn, word_to_index=word_to_index)\n",
    "#     )"
   ]
  },
  {
   "cell_type": "code",
   "execution_count": null,
   "metadata": {},
   "outputs": [],
   "source": []
  }
 ],
 "metadata": {
  "kernelspec": {
   "display_name": "Python 3",
   "language": "python",
   "name": "python3"
  },
  "language_info": {
   "codemirror_mode": {
    "name": "ipython",
    "version": 3
   },
   "file_extension": ".py",
   "mimetype": "text/x-python",
   "name": "python",
   "nbconvert_exporter": "python",
   "pygments_lexer": "ipython3",
   "version": "3.7.4"
  }
 },
 "nbformat": 4,
 "nbformat_minor": 2
}
