{
 "cells": [
  {
   "cell_type": "code",
   "execution_count": 1,
   "metadata": {},
   "outputs": [],
   "source": [
    "# import dependencies\n",
    "import nltk\n",
    "import json\n",
    "import io\n",
    "import gzip\n",
    "import torch\n",
    "import string\n",
    "import random\n",
    "import jsonlines\n",
    "import pandas as pd\n",
    "import pickle as pkl\n",
    "import numpy as np\n",
    "from tqdm import tqdm\n",
    "from functools import partial\n",
    "\n",
    "import torch\n",
    "import torch.nn as nn\n",
    "import torch.functional as F\n",
    "from torch.autograd import Variable\n",
    "from torch.utils.data import Dataset, RandomSampler, SequentialSampler, DataLoader\n",
    "from sklearn.preprocessing import MultiLabelBinarizer\n"
   ]
  },
  {
   "cell_type": "code",
   "execution_count": 2,
   "metadata": {},
   "outputs": [],
   "source": [
    "# import utils\n",
    "# import importlib\n",
    "# importlib.reload(utils)"
   ]
  },
  {
   "cell_type": "code",
   "execution_count": 3,
   "metadata": {},
   "outputs": [
    {
     "data": {
      "text/plain": [
       "'cuda:0'"
      ]
     },
     "execution_count": 3,
     "metadata": {},
     "output_type": "execute_result"
    }
   ],
   "source": [
    "device = \"cuda:0\" if torch.cuda.is_available() else \"cpu\"\n",
    "device"
   ]
  },
  {
   "cell_type": "code",
   "execution_count": 4,
   "metadata": {},
   "outputs": [],
   "source": [
    "PATH_TO_FOLDER = \"/scratch/mz2476/\""
   ]
  },
  {
   "cell_type": "markdown",
   "metadata": {},
   "source": [
    "## Load data"
   ]
  },
  {
   "cell_type": "markdown",
   "metadata": {},
   "source": [
    "Preprocess the data (the functions are in `preprocess.py`):\n",
    "<ol>\n",
    "    <li> Remove stopwords. </li>\n",
    "    <li> Remove rows with missing labels. </li>\n",
    "    <li> Remove rows with no tokens. </li>\n",
    "    <li> Create a set of all categories. Binarize the labels. </li>\n",
    "    <li> Split in train/val/test. </li>\n",
    "    <li> Build vocabulary for train. </li>\n",
    "</ol>\n",
    "\n",
    "Make DataLoader:\n",
    "<ol>\n",
    "    <li> Tokenize train/val/test. </li>\n",
    "    <li> Create batches using collate function that pads the short sentences. </li>\n",
    "</ol>\n",
    "\n",
    "Use pretrained embeddings:\n",
    "<ol>\n",
    "    <li> Load pretrained embeddings. </li>\n",
    "    <li> Create embedding matrix for given vocabulary. Words that are in given vocabualry but not in pretrained embeddings have zero embedding vector. </li>\n",
    "</ol>"
   ]
  },
  {
   "cell_type": "code",
   "execution_count": 5,
   "metadata": {
    "scrolled": true
   },
   "outputs": [],
   "source": [
    "# load the dataframe from pickle file\n",
    "import pickle as pkl\n",
    "\n",
    "wiki_df =  pkl.load(open(PATH_TO_FOLDER + \"wikitext_tokenized.p\", \"rb\"))"
   ]
  },
  {
   "cell_type": "code",
   "execution_count": 6,
   "metadata": {
    "scrolled": false
   },
   "outputs": [
    {
     "data": {
      "text/html": [
       "<div>\n",
       "<style scoped>\n",
       "    .dataframe tbody tr th:only-of-type {\n",
       "        vertical-align: middle;\n",
       "    }\n",
       "\n",
       "    .dataframe tbody tr th {\n",
       "        vertical-align: top;\n",
       "    }\n",
       "\n",
       "    .dataframe thead th {\n",
       "        text-align: right;\n",
       "    }\n",
       "</style>\n",
       "<table border=\"1\" class=\"dataframe\">\n",
       "  <thead>\n",
       "    <tr style=\"text-align: right;\">\n",
       "      <th></th>\n",
       "      <th>QID</th>\n",
       "      <th>mid_level_categories</th>\n",
       "      <th>tokens</th>\n",
       "    </tr>\n",
       "  </thead>\n",
       "  <tbody>\n",
       "    <tr>\n",
       "      <td>0</td>\n",
       "      <td>Q2000864</td>\n",
       "      <td>[Culture.Philosophy and religion]</td>\n",
       "      <td>[affirming, the, consequent, sometimes, called...</td>\n",
       "    </tr>\n",
       "    <tr>\n",
       "      <td>1</td>\n",
       "      <td>Q1064113</td>\n",
       "      <td>[History_And_Society.Business and economics]</td>\n",
       "      <td>[growth, two, six, two, zero, one, six, zero, ...</td>\n",
       "    </tr>\n",
       "    <tr>\n",
       "      <td>2</td>\n",
       "      <td>Q6941060</td>\n",
       "      <td>[Geography.Europe]</td>\n",
       "      <td>[the, museum, of, work, or, arbetets, museum, ...</td>\n",
       "    </tr>\n",
       "    <tr>\n",
       "      <td>3</td>\n",
       "      <td>Q843920</td>\n",
       "      <td>[History_And_Society.History and society, STEM...</td>\n",
       "      <td>[like, this, one, in, dorset, england, arable,...</td>\n",
       "    </tr>\n",
       "    <tr>\n",
       "      <td>4</td>\n",
       "      <td>Q178999</td>\n",
       "      <td>[STEM.Biology, STEM.Medicine]</td>\n",
       "      <td>[an, axon, from, greek, axis, or, nerve, fiber...</td>\n",
       "    </tr>\n",
       "  </tbody>\n",
       "</table>\n",
       "</div>"
      ],
      "text/plain": [
       "        QID                               mid_level_categories  \\\n",
       "0  Q2000864                  [Culture.Philosophy and religion]   \n",
       "1  Q1064113       [History_And_Society.Business and economics]   \n",
       "2  Q6941060                                 [Geography.Europe]   \n",
       "3   Q843920  [History_And_Society.History and society, STEM...   \n",
       "4   Q178999                      [STEM.Biology, STEM.Medicine]   \n",
       "\n",
       "                                              tokens  \n",
       "0  [affirming, the, consequent, sometimes, called...  \n",
       "1  [growth, two, six, two, zero, one, six, zero, ...  \n",
       "2  [the, museum, of, work, or, arbetets, museum, ...  \n",
       "3  [like, this, one, in, dorset, england, arable,...  \n",
       "4  [an, axon, from, greek, axis, or, nerve, fiber...  "
      ]
     },
     "execution_count": 6,
     "metadata": {},
     "output_type": "execute_result"
    }
   ],
   "source": [
    "wiki_df.head()"
   ]
  },
  {
   "cell_type": "code",
   "execution_count": 9,
   "metadata": {
    "scrolled": true
   },
   "outputs": [
    {
     "name": "stderr",
     "output_type": "stream",
     "text": [
      "[nltk_data] Downloading package stopwords to /home/mz2476/nltk_data...\n",
      "[nltk_data]   Package stopwords is already up-to-date!\n"
     ]
    }
   ],
   "source": [
    "# import preprocess\n",
    "# import importlib\n",
    "# importlib.reload(preprocess)\n",
    "\n",
    "from preprocess import remove_stop_words, train_validate_test_split\n",
    "from preprocess import tokenize_dataset, TensoredDataset, pad_collate_fn"
   ]
  },
  {
   "cell_type": "code",
   "execution_count": 10,
   "metadata": {
    "scrolled": true
   },
   "outputs": [
    {
     "data": {
      "text/html": [
       "<div>\n",
       "<style scoped>\n",
       "    .dataframe tbody tr th:only-of-type {\n",
       "        vertical-align: middle;\n",
       "    }\n",
       "\n",
       "    .dataframe tbody tr th {\n",
       "        vertical-align: top;\n",
       "    }\n",
       "\n",
       "    .dataframe thead th {\n",
       "        text-align: right;\n",
       "    }\n",
       "</style>\n",
       "<table border=\"1\" class=\"dataframe\">\n",
       "  <thead>\n",
       "    <tr style=\"text-align: right;\">\n",
       "      <th></th>\n",
       "      <th>QID</th>\n",
       "      <th>mid_level_categories</th>\n",
       "      <th>tokens</th>\n",
       "    </tr>\n",
       "  </thead>\n",
       "  <tbody>\n",
       "    <tr>\n",
       "      <td>0</td>\n",
       "      <td>Q2000864</td>\n",
       "      <td>[Culture.Philosophy and religion]</td>\n",
       "      <td>[affirming, consequent, sometimes, called, con...</td>\n",
       "    </tr>\n",
       "    <tr>\n",
       "      <td>1</td>\n",
       "      <td>Q1064113</td>\n",
       "      <td>[History_And_Society.Business and economics]</td>\n",
       "      <td>[growth, two, six, two, zero, one, six, zero, ...</td>\n",
       "    </tr>\n",
       "    <tr>\n",
       "      <td>2</td>\n",
       "      <td>Q6941060</td>\n",
       "      <td>[Geography.Europe]</td>\n",
       "      <td>[museum, work, arbetets, museum, swedish, muse...</td>\n",
       "    </tr>\n",
       "    <tr>\n",
       "      <td>3</td>\n",
       "      <td>Q843920</td>\n",
       "      <td>[History_And_Society.History and society, STEM...</td>\n",
       "      <td>[like, one, dorset, england, arable, land, lat...</td>\n",
       "    </tr>\n",
       "    <tr>\n",
       "      <td>4</td>\n",
       "      <td>Q178999</td>\n",
       "      <td>[STEM.Biology, STEM.Medicine]</td>\n",
       "      <td>[axon, greek, axis, nerve, fiber, long, slende...</td>\n",
       "    </tr>\n",
       "  </tbody>\n",
       "</table>\n",
       "</div>"
      ],
      "text/plain": [
       "        QID                               mid_level_categories  \\\n",
       "0  Q2000864                  [Culture.Philosophy and religion]   \n",
       "1  Q1064113       [History_And_Society.Business and economics]   \n",
       "2  Q6941060                                 [Geography.Europe]   \n",
       "3   Q843920  [History_And_Society.History and society, STEM...   \n",
       "4   Q178999                      [STEM.Biology, STEM.Medicine]   \n",
       "\n",
       "                                              tokens  \n",
       "0  [affirming, consequent, sometimes, called, con...  \n",
       "1  [growth, two, six, two, zero, one, six, zero, ...  \n",
       "2  [museum, work, arbetets, museum, swedish, muse...  \n",
       "3  [like, one, dorset, england, arable, land, lat...  \n",
       "4  [axon, greek, axis, nerve, fiber, long, slende...  "
      ]
     },
     "execution_count": 10,
     "metadata": {},
     "output_type": "execute_result"
    }
   ],
   "source": [
    "#Removing stop words\n",
    "wiki_df['tokens'] = wiki_df[\"tokens\"].apply(remove_stop_words)\n",
    "wiki_df.head()"
   ]
  },
  {
   "cell_type": "code",
   "execution_count": 11,
   "metadata": {},
   "outputs": [
    {
     "data": {
      "text/plain": [
       "(99969, 3)"
      ]
     },
     "execution_count": 11,
     "metadata": {},
     "output_type": "execute_result"
    }
   ],
   "source": [
    "#Removing rows with missing labels\n",
    "mask = wiki_df.mid_level_categories.apply(lambda x: len(x) > 0)\n",
    "wiki_df = wiki_df[mask]\n",
    "wiki_df = wiki_df.reset_index(drop=True)\n",
    "wiki_df.shape"
   ]
  },
  {
   "cell_type": "code",
   "execution_count": 12,
   "metadata": {},
   "outputs": [
    {
     "data": {
      "text/plain": [
       "(99960, 3)"
      ]
     },
     "execution_count": 12,
     "metadata": {},
     "output_type": "execute_result"
    }
   ],
   "source": [
    "#Removing rows with no tokens\n",
    "mask = wiki_df.tokens.apply(lambda x: len(x) > 0)\n",
    "wiki_df = wiki_df[mask]\n",
    "wiki_df = wiki_df.reset_index(drop=True)\n",
    "wiki_df.shape"
   ]
  },
  {
   "cell_type": "code",
   "execution_count": 7,
   "metadata": {
    "scrolled": false
   },
   "outputs": [
    {
     "data": {
      "text/html": [
       "<div>\n",
       "<style scoped>\n",
       "    .dataframe tbody tr th:only-of-type {\n",
       "        vertical-align: middle;\n",
       "    }\n",
       "\n",
       "    .dataframe tbody tr th {\n",
       "        vertical-align: top;\n",
       "    }\n",
       "\n",
       "    .dataframe thead th {\n",
       "        text-align: right;\n",
       "    }\n",
       "</style>\n",
       "<table border=\"1\" class=\"dataframe\">\n",
       "  <thead>\n",
       "    <tr style=\"text-align: right;\">\n",
       "      <th></th>\n",
       "      <th>QID</th>\n",
       "      <th>mid_level_categories</th>\n",
       "      <th>tokens</th>\n",
       "      <th>labels</th>\n",
       "    </tr>\n",
       "  </thead>\n",
       "  <tbody>\n",
       "    <tr>\n",
       "      <td>0</td>\n",
       "      <td>Q2000864</td>\n",
       "      <td>[Culture.Philosophy and religion]</td>\n",
       "      <td>[affirming, the, consequent, sometimes, called...</td>\n",
       "      <td>[0, 0, 0, 0, 0, 0, 0, 0, 0, 0, 0, 1, 0, 0, 0, ...</td>\n",
       "    </tr>\n",
       "    <tr>\n",
       "      <td>1</td>\n",
       "      <td>Q1064113</td>\n",
       "      <td>[History_And_Society.Business and economics]</td>\n",
       "      <td>[growth, two, six, two, zero, one, six, zero, ...</td>\n",
       "      <td>[0, 0, 0, 0, 0, 0, 0, 0, 0, 0, 0, 0, 0, 0, 0, ...</td>\n",
       "    </tr>\n",
       "    <tr>\n",
       "      <td>2</td>\n",
       "      <td>Q6941060</td>\n",
       "      <td>[Geography.Europe]</td>\n",
       "      <td>[the, museum, of, work, or, arbetets, museum, ...</td>\n",
       "      <td>[0, 0, 0, 0, 0, 0, 0, 0, 0, 0, 0, 0, 0, 0, 0, ...</td>\n",
       "    </tr>\n",
       "    <tr>\n",
       "      <td>3</td>\n",
       "      <td>Q843920</td>\n",
       "      <td>[History_And_Society.History and society, STEM...</td>\n",
       "      <td>[like, this, one, in, dorset, england, arable,...</td>\n",
       "      <td>[0, 0, 0, 0, 0, 0, 0, 0, 0, 0, 0, 0, 0, 0, 0, ...</td>\n",
       "    </tr>\n",
       "    <tr>\n",
       "      <td>4</td>\n",
       "      <td>Q178999</td>\n",
       "      <td>[STEM.Biology, STEM.Medicine]</td>\n",
       "      <td>[an, axon, from, greek, axis, or, nerve, fiber...</td>\n",
       "      <td>[0, 0, 0, 0, 0, 0, 0, 0, 0, 0, 0, 0, 0, 0, 0, ...</td>\n",
       "    </tr>\n",
       "  </tbody>\n",
       "</table>\n",
       "</div>"
      ],
      "text/plain": [
       "        QID                               mid_level_categories  \\\n",
       "0  Q2000864                  [Culture.Philosophy and religion]   \n",
       "1  Q1064113       [History_And_Society.Business and economics]   \n",
       "2  Q6941060                                 [Geography.Europe]   \n",
       "3   Q843920  [History_And_Society.History and society, STEM...   \n",
       "4   Q178999                      [STEM.Biology, STEM.Medicine]   \n",
       "\n",
       "                                              tokens  \\\n",
       "0  [affirming, the, consequent, sometimes, called...   \n",
       "1  [growth, two, six, two, zero, one, six, zero, ...   \n",
       "2  [the, museum, of, work, or, arbetets, museum, ...   \n",
       "3  [like, this, one, in, dorset, england, arable,...   \n",
       "4  [an, axon, from, greek, axis, or, nerve, fiber...   \n",
       "\n",
       "                                              labels  \n",
       "0  [0, 0, 0, 0, 0, 0, 0, 0, 0, 0, 0, 1, 0, 0, 0, ...  \n",
       "1  [0, 0, 0, 0, 0, 0, 0, 0, 0, 0, 0, 0, 0, 0, 0, ...  \n",
       "2  [0, 0, 0, 0, 0, 0, 0, 0, 0, 0, 0, 0, 0, 0, 0, ...  \n",
       "3  [0, 0, 0, 0, 0, 0, 0, 0, 0, 0, 0, 0, 0, 0, 0, ...  \n",
       "4  [0, 0, 0, 0, 0, 0, 0, 0, 0, 0, 0, 0, 0, 0, 0, ...  "
      ]
     },
     "execution_count": 7,
     "metadata": {},
     "output_type": "execute_result"
    }
   ],
   "source": [
    "# Binarize the labels\n",
    "# labels list: mlb.classes_\n",
    "mlb = MultiLabelBinarizer()\n",
    "wiki_df[\"labels\"] = list(mlb.fit_transform(wiki_df.mid_level_categories))\n",
    "wiki_df.head()"
   ]
  },
  {
   "cell_type": "code",
   "execution_count": 8,
   "metadata": {},
   "outputs": [
    {
     "data": {
      "text/plain": [
       "array(['Culture.Arts', 'Culture.Broadcasting',\n",
       "       'Culture.Crafts and hobbies', 'Culture.Entertainment',\n",
       "       'Culture.Food and drink', 'Culture.Games and toys',\n",
       "       'Culture.Internet culture', 'Culture.Language and literature',\n",
       "       'Culture.Media', 'Culture.Music', 'Culture.Performing arts',\n",
       "       'Culture.Philosophy and religion', 'Culture.Plastic arts',\n",
       "       'Culture.Sports', 'Culture.Visual arts', 'Geography.Africa',\n",
       "       'Geography.Americas', 'Geography.Antarctica', 'Geography.Asia',\n",
       "       'Geography.Bodies of water', 'Geography.Europe',\n",
       "       'Geography.Landforms', 'Geography.Maps', 'Geography.Oceania',\n",
       "       'Geography.Parks', 'History_And_Society.Business and economics',\n",
       "       'History_And_Society.Education',\n",
       "       'History_And_Society.History and society',\n",
       "       'History_And_Society.Military and warfare',\n",
       "       'History_And_Society.Politics and government',\n",
       "       'History_And_Society.Transportation', 'STEM.Biology',\n",
       "       'STEM.Chemistry', 'STEM.Engineering', 'STEM.Geosciences',\n",
       "       'STEM.Information science', 'STEM.Mathematics', 'STEM.Medicine',\n",
       "       'STEM.Meteorology', 'STEM.Physics', 'STEM.Science', 'STEM.Space',\n",
       "       'STEM.Technology', 'STEM.Time'], dtype=object)"
      ]
     },
     "execution_count": 8,
     "metadata": {},
     "output_type": "execute_result"
    }
   ],
   "source": [
    "mlb.classes_"
   ]
  },
  {
   "cell_type": "code",
   "execution_count": 14,
   "metadata": {},
   "outputs": [],
   "source": [
    "# train/val/test split\n",
    "wiki_train, wiki_valid, wiki_test = train_validate_test_split(wiki_df, seed=1)\n",
    "\n",
    "wiki_train = wiki_train.reset_index(drop=True)\n",
    "wiki_valid = wiki_valid.reset_index(drop=True)\n",
    "wiki_test = wiki_test.reset_index(drop=True)"
   ]
  },
  {
   "cell_type": "code",
   "execution_count": 15,
   "metadata": {},
   "outputs": [
    {
     "name": "stdout",
     "output_type": "stream",
     "text": [
      "Vocab size is: 595364\n"
     ]
    }
   ],
   "source": [
    "# Building vocabulary\n",
    "vocab = list(set([y for x in list(wiki_train['tokens']) for y in x]))\n",
    "\n",
    "print(\"Vocab size is: {}\".format(len(vocab)))"
   ]
  },
  {
   "cell_type": "code",
   "execution_count": 16,
   "metadata": {},
   "outputs": [],
   "source": [
    "word_to_index = {\"<pad>\":0, \"<unk>\":1}\n",
    "for word in vocab:\n",
    "    if word not in word_to_index:\n",
    "        word_to_index[word] = len(word_to_index)\n",
    "index_to_word = {v:k for k, v in word_to_index.items()}"
   ]
  },
  {
   "cell_type": "code",
   "execution_count": 17,
   "metadata": {
    "scrolled": true
   },
   "outputs": [
    {
     "name": "stderr",
     "output_type": "stream",
     "text": [
      "100%|██████████| 79968/79968 [00:07<00:00, 11268.57it/s]\n",
      "100%|██████████| 9996/9996 [00:00<00:00, 10221.67it/s]\n",
      "100%|██████████| 9996/9996 [00:00<00:00, 10470.73it/s]\n"
     ]
    }
   ],
   "source": [
    "# CHANGE max number of tokens \n",
    "max_num_tokens = None\n",
    "wiki_tokenized_train = tokenize_dataset(wiki_train, word_to_index, max_num_tokens=max_num_tokens)\n",
    "wiki_tokenized_val = tokenize_dataset(wiki_valid, word_to_index, max_num_tokens=max_num_tokens)\n",
    "wiki_tokenized_test = tokenize_dataset(wiki_test, word_to_index, max_num_tokens=max_num_tokens)"
   ]
  },
  {
   "cell_type": "code",
   "execution_count": 18,
   "metadata": {},
   "outputs": [],
   "source": [
    "wiki_tokenized_datasets = {}\n",
    "wiki_tokenized_datasets['X_train'] = wiki_tokenized_train\n",
    "wiki_tokenized_datasets['X_val'] = wiki_tokenized_val\n",
    "wiki_tokenized_datasets['X_test'] = wiki_tokenized_test\n",
    "\n",
    "wiki_tokenized_datasets['y_train'] = list(wiki_train.labels)\n",
    "wiki_tokenized_datasets['y_val'] = list(wiki_valid.labels)\n",
    "wiki_tokenized_datasets['y_test'] = list(wiki_test.labels)"
   ]
  },
  {
   "cell_type": "code",
   "execution_count": 19,
   "metadata": {},
   "outputs": [],
   "source": [
    "wiki_tensor_dataset = {}\n",
    "wiki_tensor_dataset['train'] = TensoredDataset(\n",
    "    wiki_tokenized_datasets['X_train'], wiki_tokenized_datasets['y_train']\n",
    ")\n",
    "wiki_tensor_dataset['val'] = TensoredDataset(\n",
    "    wiki_tokenized_datasets['X_val'], wiki_tokenized_datasets['y_val']\n",
    ")\n",
    "wiki_tensor_dataset['test'] = TensoredDataset(\n",
    "    wiki_tokenized_datasets['X_test'], wiki_tokenized_datasets['y_test']\n",
    ")"
   ]
  },
  {
   "cell_type": "code",
   "execution_count": 20,
   "metadata": {},
   "outputs": [
    {
     "data": {
      "text/plain": [
       "(tensor([471099, 117993, 555725, 176363, 279153, 426975, 471099, 592294, 507425,\n",
       "         555133, 183208,  82528, 183208,  16074, 543350, 135704, 345438, 279300,\n",
       "          45624, 377149,  61989,  61989]),\n",
       " tensor([22.]),\n",
       " tensor([0, 0, 0, 0, 0, 0, 0, 0, 0, 0, 0, 0, 0, 0, 0, 0, 0, 0, 0, 0, 0, 0, 0, 0,\n",
       "         0, 0, 0, 0, 0, 0, 0, 1, 0, 0, 0, 0, 0, 0, 0, 0, 0, 0, 0, 0]))"
      ]
     },
     "execution_count": 20,
     "metadata": {},
     "output_type": "execute_result"
    }
   ],
   "source": [
    "wiki_tensor_dataset[\"train\"].__getitem__(90)"
   ]
  },
  {
   "cell_type": "code",
   "execution_count": 21,
   "metadata": {},
   "outputs": [],
   "source": [
    "# create dataloader\n",
    "wiki_loaders = {}\n",
    "\n",
    "batch_size = 32\n",
    "\n",
    "for split, wiki_dataset in wiki_tensor_dataset.items():\n",
    "    wiki_loaders[split] = DataLoader(\n",
    "        wiki_dataset, \n",
    "        batch_size=batch_size, \n",
    "        shuffle=True, \n",
    "        collate_fn=partial(pad_collate_fn, word_to_index=word_to_index)\n",
    "    )"
   ]
  },
  {
   "cell_type": "markdown",
   "metadata": {},
   "source": [
    "## Load the embeddings and make a pretrained embeddings matrix"
   ]
  },
  {
   "cell_type": "code",
   "execution_count": 24,
   "metadata": {},
   "outputs": [
    {
     "data": {
      "text/plain": [
       "<module 'utils' from '/home/mz2476/topic-modeling/topic-modeling/baseline/utils.py'>"
      ]
     },
     "execution_count": 24,
     "metadata": {},
     "output_type": "execute_result"
    }
   ],
   "source": [
    "import utils\n",
    "import importlib\n",
    "importlib.reload(utils)"
   ]
  },
  {
   "cell_type": "code",
   "execution_count": 23,
   "metadata": {
    "scrolled": true
   },
   "outputs": [
    {
     "name": "stderr",
     "output_type": "stream",
     "text": [
      "2519370it [03:33, 11826.48it/s]\n"
     ]
    }
   ],
   "source": [
    "# # CHANGE to googlenews vectors\n",
    "# import gensim\n",
    " \n",
    "# model = gensim.models.KeyedVectors.load(\"/scratch/mz2476/GoogleNews-vectors-negative300.bin\", binary=True)  \n",
    " \n",
    "# embeddings = model.vocab.keys()\n",
    "# wordsInVocab = len(embeddings)\n",
    "# print (wordsInVocab)\n",
    "\n",
    "# # embeddings = load_vectors(\"/scratch/mz2476/GoogleNews-vectors-negative300.bin\")\n",
    "\n",
    "# 2.5 million\n",
    "embeddings = utils.load_vectors(PATH_TO_FOLDER + \"wiki.en.align.vec\")"
   ]
  },
  {
   "cell_type": "code",
   "execution_count": 25,
   "metadata": {},
   "outputs": [],
   "source": [
    "#Creating the weight matrix for pretrained word embeddings\n",
    "vocab_size = len(index_to_word)\n",
    "embed_dim = len(embeddings[\"apple\"])\n",
    "weights_matrix = np.zeros((vocab_size,embed_dim))\n",
    "\n",
    "words_found = 0\n",
    "for i, word in enumerate(word_to_index):\n",
    "    if word in embeddings.keys():\n",
    "        weights_matrix[i] = embeddings[word]\n",
    "        words_found += 1\n",
    "    else:\n",
    "        weights_matrix[i] = np.zeros(embed_dim)\n",
    "weights_matrix = torch.FloatTensor(weights_matrix)"
   ]
  },
  {
   "cell_type": "code",
   "execution_count": 26,
   "metadata": {},
   "outputs": [
    {
     "name": "stdout",
     "output_type": "stream",
     "text": [
      "Total words in vocab: 595364\n",
      "No. of words from vocab found in fastText: 470346\n"
     ]
    }
   ],
   "source": [
    "print(\"Total words in vocab: {}\".format(len(vocab)))\n",
    "print(\"No. of words from vocab found in fastText: {}\".format(words_found))"
   ]
  },
  {
   "cell_type": "markdown",
   "metadata": {},
   "source": [
    "## Model"
   ]
  },
  {
   "cell_type": "code",
   "execution_count": 25,
   "metadata": {},
   "outputs": [],
   "source": [
    "import model\n",
    "import importlib\n",
    "importlib.reload(model)\n",
    "\n",
    "from model import FinalModel\n",
    "from torchcontrib.optim import SWA"
   ]
  },
  {
   "cell_type": "code",
   "execution_count": 26,
   "metadata": {},
   "outputs": [],
   "source": [
    "options = {\n",
    "    \"VOCAB_SIZE\": len(index_to_word),\n",
    "    \"dim_e\": weights_matrix.shape[1],\n",
    "    \"pretrained_embeddings\": weights_matrix,\n",
    "    \"num_layers\": 2,\n",
    "    \"num_classes\": len(mlb.classes_),\n",
    "    \"mid_features\": 100,\n",
    "    \"dropout_rate\": 0.2,\n",
    "    \"activation\": nn.ReLU()\n",
    "}\n",
    "model = FinalModel(options)\n",
    "\n",
    "if torch.cuda.is_available():\n",
    "    model = model.to(device)\n",
    "    \n",
    "# Criterion and Optimizer\n",
    "criterion = torch.nn.BCEWithLogitsLoss()\n",
    "# optimizer = torch.optim.Adam(model.parameters(), lr=0.001)\n",
    "base_opt = torch.optim.Adam(model.parameters(), lr=0.001)\n",
    "optimizer = SWA(base_opt)"
   ]
  },
  {
   "cell_type": "code",
   "execution_count": 27,
   "metadata": {},
   "outputs": [
    {
     "data": {
      "text/plain": [
       "FinalModel(\n",
       "  (layer_bag_of_words): BagOfWords(\n",
       "    (embed_e): Embedding(595366, 300)\n",
       "  )\n",
       "  (layer_out): Sequential(\n",
       "    (0): Linear(in_features=300, out_features=100, bias=True)\n",
       "    (1): ReLU()\n",
       "    (2): Linear(in_features=100, out_features=44, bias=True)\n",
       "  )\n",
       ")"
      ]
     },
     "execution_count": 27,
     "metadata": {},
     "output_type": "execute_result"
    }
   ],
   "source": [
    "model"
   ]
  },
  {
   "cell_type": "markdown",
   "metadata": {},
   "source": [
    "## Training"
   ]
  },
  {
   "cell_type": "code",
   "execution_count": 27,
   "metadata": {
    "scrolled": true
   },
   "outputs": [],
   "source": [
    "# import warnings\n",
    "# warnings.filterwarnings('ignore')\n",
    "\n",
    "# from utils import test_model\n",
    "\n",
    "# best_val_f1_micro = 0\n",
    "# num_epochs = 20\n",
    "# for epoch in range(num_epochs):\n",
    "#     runnin_loss = 0.0\n",
    "#     for i, (data, length, labels) in enumerate(wiki_loaders[\"train\"]):        \n",
    "#         model.train()\n",
    "#         data_batch, length_batch, label_batch = data.to(device),length.to(device), labels.float().to(device)\n",
    "\n",
    "#         optimizer.zero_grad()\n",
    "#         outputs = model(data_batch, length_batch)\n",
    "#         loss = criterion(outputs, label_batch)\n",
    "#         loss.backward()\n",
    "#         optimizer.step()\n",
    "\n",
    "#         runnin_loss += loss.item()\n",
    "#         #torch.nn.utils.clip_grad_norm(model.parameters(), 10)\n",
    "#         if i>0 and i % 300 == 0:\n",
    "#             print('Epoch: [{}/{}], Step: [{}/{}], Train_loss: {}'.format(\n",
    "#                 epoch+1, num_epochs, i+1, len(wiki_loaders[\"train\"]), runnin_loss / i))\n",
    "#         # validate every 300 iterations\n",
    "#         if i > 0 and i % 300 == 0:\n",
    "#             metrics_dict = test_model(wiki_loaders[\"val\"], model, device=device)\n",
    "#             print(\"Precision macro: {}, Recall macro: {}, F1 macro: {} \".format(\n",
    "#                 metrics_dict[\"precision_macro\"], metrics_dict[\"recall_macro\"], metrics_dict[\"f1_macro\"]\n",
    "#             ))\n",
    "#             print(\"Precision micro: {}, Recall micro: {}, F1 micro: {} \".format(\n",
    "#                 metrics_dict[\"precision_micro\"], metrics_dict[\"recall_micro\"], metrics_dict[\"f1_micro\"]\n",
    "#             ))\n",
    "            \n",
    "#             if metrics_dict[\"f1_micro\"] > best_val_f1_micro:\n",
    "#                 best_val_f1_micro = metrics_dict[\"f1_micro\"]\n",
    "#                 optimizer.swap_swa_sgd()\n",
    "#                 torch.save(model.state_dict(), 'baseline.pth')\n",
    "#                 print('Model Saved')\n",
    "#                 print()\n",
    "# optimizer.swap_swa_sgd()"
   ]
  },
  {
   "cell_type": "code",
   "execution_count": 28,
   "metadata": {},
   "outputs": [],
   "source": [
    "# word_to_index"
   ]
  },
  {
   "cell_type": "code",
   "execution_count": 29,
   "metadata": {},
   "outputs": [],
   "source": [
    "# model.load_state_dict(torch.load(\"../../baseline.pth\"))"
   ]
  },
  {
   "cell_type": "code",
   "execution_count": 30,
   "metadata": {},
   "outputs": [],
   "source": [
    "# model"
   ]
  },
  {
   "cell_type": "markdown",
   "metadata": {},
   "source": [
    "## Hyperparameter tuning"
   ]
  },
  {
   "cell_type": "markdown",
   "metadata": {},
   "source": [
    "Grid search vs. Random search"
   ]
  },
  {
   "cell_type": "markdown",
   "metadata": {},
   "source": [
    "<ol>\n",
    "    <li> dropout </li>\n",
    "    <li> learning rate </li>\n",
    "    <li> optimizer </li>\n",
    "    <li> num of hidden layers </li>\n",
    "    <li> dim of hidden layers </li>\n",
    "    <li> take only first 500 words from the article </li>\n",
    "    <li> TODO threshold </li>\n",
    "<ol>"
   ]
  },
  {
   "cell_type": "markdown",
   "metadata": {},
   "source": [
    "I focused on SWA optimizer."
   ]
  },
  {
   "cell_type": "code",
   "execution_count": 37,
   "metadata": {},
   "outputs": [],
   "source": [
    "# # one layer\n",
    "# range_dropout = [0]\n",
    "# range_num_hidden = [1]\n",
    "# range_dim_hidden = [40, 80, 120]\n",
    "# range_lr = [0.001, 0.01]\n",
    "\n",
    "# # many layers\n",
    "# range_dropout = [0, 0.1, 0.2]\n",
    "# range_num_hidden = [2, 3]\n",
    "# range_dim_hidden = [40, 80, 120]\n",
    "# range_lr = [0.001, 0.01]\n",
    "\n",
    "# best hyperparams\n",
    "range_dropout = [0.2]\n",
    "range_num_hidden = [2]\n",
    "range_dim_hidden = [120, 150, 200]\n",
    "range_lr = [0.01]"
   ]
  },
  {
   "cell_type": "code",
   "execution_count": 38,
   "metadata": {},
   "outputs": [],
   "source": [
    "import model\n",
    "import importlib\n",
    "importlib.reload(model)\n",
    "\n",
    "from model import FinalModel\n",
    "from torchcontrib.optim import SWA\n",
    "import itertools"
   ]
  },
  {
   "cell_type": "code",
   "execution_count": 42,
   "metadata": {},
   "outputs": [],
   "source": [
    "import warnings\n",
    "warnings.filterwarnings('ignore')\n",
    "\n",
    "from utils import test_model\n",
    "\n",
    "def train_model(wiki_loaders, model, criterion, optimizer, \n",
    "                num_epochs=10, device=device, model_name=\"model\", save_model=False):\n",
    "    best_val_f1_micro = 0\n",
    "    best_metrics_dict = {}\n",
    "    for epoch in range(num_epochs):\n",
    "        runnin_loss = 0.0\n",
    "        for i, (data, length, labels) in enumerate(wiki_loaders[\"train\"]):        \n",
    "            model.train()\n",
    "            data_batch, length_batch, label_batch = data.to(device),length.to(device), labels.float().to(device)\n",
    "\n",
    "            optimizer.zero_grad()\n",
    "            outputs = model(data_batch, length_batch)\n",
    "            loss = criterion(outputs, label_batch)\n",
    "            loss.backward()\n",
    "            optimizer.step()\n",
    "\n",
    "            runnin_loss += loss.item()\n",
    "            #torch.nn.utils.clip_grad_norm(model.parameters(), 10)\n",
    "            if i>0 and i % 1000 == 0:\n",
    "                print('Epoch: [{}/{}], Step: [{}/{}], Train_loss: {}'.format(\n",
    "                    epoch+1, num_epochs, i+1, len(wiki_loaders[\"train\"]), runnin_loss / i))\n",
    "            # validate every 300 iterations\n",
    "            if i > 0 and i % 1000 == 0:\n",
    "                optimizer.update_swa()\n",
    "                metrics_dict = test_model(wiki_loaders[\"val\"], model, device=device)\n",
    "                print(\"Precision macro: {}, Recall macro: {}, F1 macro: {} \".format(\n",
    "                    metrics_dict[\"precision_macro\"], metrics_dict[\"recall_macro\"], metrics_dict[\"f1_macro\"]\n",
    "                ))\n",
    "                print(\"Precision micro: {}, Recall micro: {}, F1 micro: {} \".format(\n",
    "                    metrics_dict[\"precision_micro\"], metrics_dict[\"recall_micro\"], metrics_dict[\"f1_micro\"]\n",
    "                ))\n",
    "\n",
    "                if metrics_dict[\"f1_micro\"] > best_val_f1_micro:\n",
    "                    best_val_f1_micro = metrics_dict[\"f1_micro\"]\n",
    "                    best_metrics_dict = metrics_dict\n",
    "                    if save_model:\n",
    "                        optimizer.swap_swa_sgd()\n",
    "                        torch.save(model.state_dict(), f\"../../baseline_models_params/{model_name}.pth\")\n",
    "                        print('Model Saved')\n",
    "                        print()\n",
    "    optimizer.swap_swa_sgd()\n",
    "    return best_metrics_dict"
   ]
  },
  {
   "cell_type": "code",
   "execution_count": 43,
   "metadata": {
    "scrolled": true
   },
   "outputs": [
    {
     "name": "stdout",
     "output_type": "stream",
     "text": [
      "\n",
      " {'optimizer': 'SWA', 'num_hidden': 2, 'dim_hidden': 120, 'dropout_rate': 0.2, 'learning_rate': 0.01, 'num_epochs': 10}\n",
      "Epoch: [1/10], Step: [1001/2499], Train_loss: 0.07928904701024293\n",
      "Precision macro: 0.4670512747524935, Recall macro: 0.2556344769866677, F1 macro: 0.2998043658170084 \n",
      "Precision micro: 0.8254851812847901, Recall micro: 0.641266873137381, F1 micro: 0.7218074785411254 \n",
      "Model Saved\n",
      "\n",
      "Epoch: [1/10], Step: [2001/2499], Train_loss: 0.06521074903383851\n",
      "Precision macro: 0.5513418170772652, Recall macro: 0.34172569419011417, F1 macro: 0.3947908330140031 \n",
      "Precision micro: 0.8180641645664464, Recall micro: 0.7018056448314147, F1 micro: 0.7554884569415612 \n",
      "Model Saved\n",
      "\n",
      "Epoch: [2/10], Step: [1001/2499], Train_loss: 0.04617469101585448\n",
      "Precision macro: 0.5849650660993994, Recall macro: 0.421704079406314, F1 macro: 0.4658738328319751 \n",
      "Precision micro: 0.8236686390532545, Recall micro: 0.7320750306784316, F1 micro: 0.7751755715744206 \n",
      "Model Saved\n",
      "\n",
      "Epoch: [2/10], Step: [2001/2499], Train_loss: 0.04587682490516454\n",
      "Precision macro: 0.6047026245641761, Recall macro: 0.4014893509453342, F1 macro: 0.45266248239703016 \n",
      "Precision micro: 0.8349501297991528, Recall micro: 0.7141938876877227, F1 micro: 0.7698655160467386 \n",
      "Epoch: [3/10], Step: [1001/2499], Train_loss: 0.04268197570182383\n",
      "Precision macro: 0.6383066261173119, Recall macro: 0.453753510274394, F1 macro: 0.5108430265649907 \n",
      "Precision micro: 0.837216978018351, Recall micro: 0.7411324723894116, F1 micro: 0.7862500774905462 \n",
      "Model Saved\n",
      "\n",
      "Epoch: [3/10], Step: [2001/2499], Train_loss: 0.04306680440437049\n",
      "Precision macro: 0.608489672592651, Recall macro: 0.42137342253640564, F1 macro: 0.4676007707316089 \n",
      "Precision micro: 0.8264025107885445, Recall micro: 0.7385613276456495, F1 micro: 0.7800166630666213 \n",
      "Epoch: [4/10], Step: [1001/2499], Train_loss: 0.04170264769718051\n",
      "Precision macro: 0.6220930408125155, Recall macro: 0.45150698289096075, F1 macro: 0.5043948644222106 \n",
      "Precision micro: 0.8452261306532663, Recall micro: 0.737158885058143, F1 micro: 0.787502340970098 \n",
      "Model Saved\n",
      "\n",
      "Epoch: [4/10], Step: [2001/2499], Train_loss: 0.0415355846658349\n",
      "Precision macro: 0.6730361245633952, Recall macro: 0.4931564507574729, F1 macro: 0.5478832847911628 \n",
      "Precision micro: 0.8300583164300203, Recall micro: 0.7652077368082744, F1 micro: 0.7963148773146036 \n",
      "Model Saved\n",
      "\n",
      "Epoch: [5/10], Step: [1001/2499], Train_loss: 0.040316337803378705\n",
      "Precision macro: 0.6869966025109007, Recall macro: 0.5057949594924454, F1 macro: 0.5614807701536971 \n",
      "Precision micro: 0.8349678508800416, Recall micro: 0.7512417460410215, F1 micro: 0.7908951091971701 \n",
      "Epoch: [5/10], Step: [2001/2499], Train_loss: 0.040157628391869364\n",
      "Precision macro: 0.7355093922756446, Recall macro: 0.5017628151357273, F1 macro: 0.5611795269107057 \n",
      "Precision micro: 0.8407178543255325, Recall micro: 0.7473265938175656, F1 micro: 0.791276102088167 \n",
      "Epoch: [6/10], Step: [1001/2499], Train_loss: 0.0390374801652506\n",
      "Precision macro: 0.7068141200178544, Recall macro: 0.4650729020191712, F1 macro: 0.5342825905328786 \n",
      "Precision micro: 0.8651274109531184, Recall micro: 0.7181674750189914, F1 micro: 0.7848271017593154 \n",
      "Epoch: [6/10], Step: [2001/2499], Train_loss: 0.03912280011037365\n",
      "Precision macro: 0.7022548824691469, Recall macro: 0.5179213104592274, F1 macro: 0.5706309394538889 \n",
      "Precision micro: 0.8381480772909891, Recall micro: 0.7680126219832876, F1 micro: 0.8015490638531438 \n",
      "Model Saved\n",
      "\n",
      "Epoch: [7/10], Step: [1001/2499], Train_loss: 0.03986510665714741\n",
      "Precision macro: 0.6620525179843418, Recall macro: 0.5118661985408275, F1 macro: 0.554627136242843 \n",
      "Precision micro: 0.8092502842098965, Recall micro: 0.7903348331677672, F1 micro: 0.7996807189735705 \n",
      "Epoch: [7/10], Step: [2001/2499], Train_loss: 0.03963392532337457\n",
      "Precision macro: 0.7118020377758165, Recall macro: 0.49386237664609745, F1 macro: 0.5584041163535894 \n",
      "Precision micro: 0.8556559846617365, Recall micro: 0.7302051072284228, F1 micro: 0.7879685972822145 \n",
      "Epoch: [8/10], Step: [1001/2499], Train_loss: 0.03855162894167006\n",
      "Precision macro: 0.7065000626136096, Recall macro: 0.5012051020296732, F1 macro: 0.5570621852511652 \n",
      "Precision micro: 0.8206791067604772, Recall micro: 0.7838485362005493, F1 micro: 0.8018411142327694 \n",
      "Model Saved\n",
      "\n",
      "Epoch: [8/10], Step: [2001/2499], Train_loss: 0.038469857569783925\n",
      "Precision macro: 0.754729759528125, Recall macro: 0.5040196702700276, F1 macro: 0.5697850157512294 \n",
      "Precision micro: 0.8507085356929014, Recall micro: 0.74720972360194, F1 micro: 0.7956072672971627 \n",
      "Epoch: [9/10], Step: [1001/2499], Train_loss: 0.03818271810002625\n",
      "Precision macro: 0.7506177141595333, Recall macro: 0.5244255786206204, F1 macro: 0.5917124311355453 \n",
      "Precision micro: 0.85261070720423, Recall micro: 0.7538128907847835, F1 micro: 0.8001736811090779 \n",
      "Epoch: [9/10], Step: [2001/2499], Train_loss: 0.03819826085306704\n",
      "Precision macro: 0.712815548222079, Recall macro: 0.5316218664296946, F1 macro: 0.5903180620745663 \n",
      "Precision micro: 0.8412667822958824, Recall micro: 0.7652661719160871, F1 micro: 0.8014687882496939 \n",
      "Epoch: [10/10], Step: [1001/2499], Train_loss: 0.03750091683492064\n",
      "Precision macro: 0.7632415785656469, Recall macro: 0.5095350381813714, F1 macro: 0.5838058676185356 \n",
      "Precision micro: 0.8587825374052059, Recall micro: 0.7345293052065681, F1 micro: 0.7918110236220472 \n",
      "Epoch: [10/10], Step: [2001/2499], Train_loss: 0.03765036214049906\n",
      "Precision macro: 0.6960512890166916, Recall macro: 0.5299293694343944, F1 macro: 0.5716920225296435 \n",
      "Precision micro: 0.8379927853645968, Recall micro: 0.7601823175363759, F1 micro: 0.7971933694886173 \n",
      "\n",
      " {'optimizer': 'SWA', 'num_hidden': 2, 'dim_hidden': 150, 'dropout_rate': 0.2, 'learning_rate': 0.01, 'num_epochs': 10}\n",
      "Epoch: [1/10], Step: [1001/2499], Train_loss: 0.07508861297741533\n",
      "Precision macro: 0.5327846246194166, Recall macro: 0.26295155075864235, F1 macro: 0.30945934750469617 \n",
      "Precision micro: 0.8264075067024129, Recall micro: 0.6484543913983521, F1 micro: 0.7266952621066763 \n",
      "Model Saved\n",
      "\n",
      "Epoch: [1/10], Step: [2001/2499], Train_loss: 0.062113368597812954\n",
      "Precision macro: 0.5875281910123126, Recall macro: 0.3808443814460862, F1 macro: 0.4308217151315961 \n",
      "Precision micro: 0.8467003588954809, Recall micro: 0.6755098463156665, F1 micro: 0.7514789052850549 \n",
      "Model Saved\n",
      "\n",
      "Epoch: [2/10], Step: [1001/2499], Train_loss: 0.044652051873505114\n",
      "Precision macro: 0.6250319940734553, Recall macro: 0.40984475162863543, F1 macro: 0.46686391468020044 \n",
      "Precision micro: 0.8325865580448065, Recall micro: 0.7166481622158593, F1 micro: 0.7702791822378545 \n",
      "Model Saved\n",
      "\n",
      "Epoch: [2/10], Step: [2001/2499], Train_loss: 0.044603979366831484\n",
      "Precision macro: 0.6530962967097514, Recall macro: 0.43320583277281843, F1 macro: 0.48193778451393227 \n",
      "Precision micro: 0.8072082028611777, Recall micro: 0.7682463624145387, F1 micro: 0.787245508982036 \n",
      "Model Saved\n",
      "\n",
      "Epoch: [3/10], Step: [1001/2499], Train_loss: 0.04211077832058072\n",
      "Precision macro: 0.6440129802232368, Recall macro: 0.4528644051184637, F1 macro: 0.4985251189353205 \n",
      "Precision micro: 0.8453203304889612, Recall micro: 0.729387015719044, F1 micro: 0.7830860441042693 \n",
      "Epoch: [3/10], Step: [2001/2499], Train_loss: 0.041774912728928026\n",
      "Precision macro: 0.6395237109857205, Recall macro: 0.4897133065608909, F1 macro: 0.5304615905305945 \n",
      "Precision micro: 0.8202913172331169, Recall micro: 0.7601823175363759, F1 micro: 0.7890937765376683 \n",
      "Model Saved\n",
      "\n",
      "Epoch: [4/10], Step: [1001/2499], Train_loss: 0.04096769217401743\n",
      "Precision macro: 0.6906276140707144, Recall macro: 0.4814880187848459, F1 macro: 0.5423265443861222 \n",
      "Precision micro: 0.8189261828864304, Recall micro: 0.7656167825629638, F1 micro: 0.7913747281952164 \n",
      "Model Saved\n",
      "\n",
      "Epoch: [4/10], Step: [2001/2499], Train_loss: 0.04066670590545982\n",
      "Precision macro: 0.686211219630605, Recall macro: 0.46431555873323477, F1 macro: 0.5242874239220267 \n",
      "Precision micro: 0.839678704368837, Recall micro: 0.751358616256647, F1 micro: 0.7930672916795165 \n",
      "Model Saved\n",
      "\n",
      "Epoch: [5/10], Step: [1001/2499], Train_loss: 0.03985526420362294\n",
      "Precision macro: 0.6630051126531874, Recall macro: 0.47444665202472613, F1 macro: 0.5341376517488077 \n",
      "Precision micro: 0.8405952540555034, Recall micro: 0.7327762519721849, F1 micro: 0.7829914770066498 \n"
     ]
    },
    {
     "name": "stdout",
     "output_type": "stream",
     "text": [
      "Epoch: [5/10], Step: [2001/2499], Train_loss: 0.0397099956907332\n",
      "Precision macro: 0.7170223563840179, Recall macro: 0.48907240981954225, F1 macro: 0.5430327958961562 \n",
      "Precision micro: 0.8310722100656455, Recall micro: 0.7767778881552037, F1 micro: 0.8030083363537512 \n",
      "Model Saved\n",
      "\n",
      "Epoch: [6/10], Step: [1001/2499], Train_loss: 0.0389523807503283\n",
      "Precision macro: 0.6772916965637377, Recall macro: 0.49613505711887806, F1 macro: 0.5501839407146716 \n",
      "Precision micro: 0.8443261490521943, Recall micro: 0.7600070122129375, F1 micro: 0.7999507949687855 \n",
      "Epoch: [6/10], Step: [2001/2499], Train_loss: 0.03909501453023404\n",
      "Precision macro: 0.688544465771505, Recall macro: 0.4950216313628479, F1 macro: 0.5553492912566844 \n",
      "Precision micro: 0.8408571241915463, Recall micro: 0.7521182726582131, F1 micro: 0.7940160394818014 \n",
      "Epoch: [7/10], Step: [1001/2499], Train_loss: 0.037911234153434635\n",
      "Precision macro: 0.72330736074817, Recall macro: 0.5057970581777096, F1 macro: 0.5674313047814954 \n",
      "Precision micro: 0.8433609282315364, Recall micro: 0.7560334248816689, F1 micro: 0.7973131201084612 \n",
      "Epoch: [7/10], Step: [2001/2499], Train_loss: 0.03811253985017538\n",
      "Precision macro: 0.735404748494762, Recall macro: 0.5247356868127242, F1 macro: 0.5883627818796991 \n",
      "Precision micro: 0.8163521261347348, Recall micro: 0.7987494886928066, F1 micro: 0.8074548837758808 \n",
      "Model Saved\n",
      "\n",
      "Epoch: [8/10], Step: [1001/2499], Train_loss: 0.03843437322415411\n",
      "Precision macro: 0.7210289853395431, Recall macro: 0.5388087929788444, F1 macro: 0.592202514637762 \n",
      "Precision micro: 0.8270486752926679, Recall micro: 0.7843744521708642, F1 micro: 0.8051465075128214 \n",
      "Epoch: [8/10], Step: [2001/2499], Train_loss: 0.0383975744433701\n",
      "Precision macro: 0.6992898851374332, Recall macro: 0.5102767841956677, F1 macro: 0.5663740364499792 \n",
      "Precision micro: 0.840703453549127, Recall micro: 0.770992812481739, F1 micro: 0.804340537080501 \n",
      "Epoch: [9/10], Step: [1001/2499], Train_loss: 0.03774346977099776\n",
      "Precision macro: 0.6931379881340025, Recall macro: 0.5312588777323901, F1 macro: 0.582146225826629 \n",
      "Precision micro: 0.8481570253287556, Recall micro: 0.7650908665926489, F1 micro: 0.8044854070660522 \n",
      "Epoch: [9/10], Step: [2001/2499], Train_loss: 0.037587121571414174\n",
      "Precision macro: 0.7127278209740692, Recall macro: 0.5479352005530874, F1 macro: 0.6013516496910886 \n",
      "Precision micro: 0.8315769898338705, Recall micro: 0.7839069713083621, F1 micro: 0.8070386524289367 \n",
      "Epoch: [10/10], Step: [1001/2499], Train_loss: 0.03663988929614425\n",
      "Precision macro: 0.709481809023517, Recall macro: 0.5721970619476768, F1 macro: 0.6197288390483818 \n",
      "Precision micro: 0.8252005142962101, Recall micro: 0.7875883831005668, F1 micro: 0.8059558691622316 \n",
      "Epoch: [10/10], Step: [2001/2499], Train_loss: 0.03693692010641098\n",
      "Precision macro: 0.7170095004407719, Recall macro: 0.5671773638833967, F1 macro: 0.6194870803653243 \n",
      "Precision micro: 0.8413715146948003, Recall micro: 0.7829135744755449, F1 micro: 0.8110905953930441 \n",
      "Model Saved\n",
      "\n",
      "\n",
      " {'optimizer': 'SWA', 'num_hidden': 2, 'dim_hidden': 200, 'dropout_rate': 0.2, 'learning_rate': 0.01, 'num_epochs': 10}\n",
      "Epoch: [1/10], Step: [1001/2499], Train_loss: 0.07158189982734621\n",
      "Precision macro: 0.543242749632403, Recall macro: 0.29821036074462737, F1 macro: 0.35331468480445777 \n",
      "Precision micro: 0.8290805103387594, Recall micro: 0.6607257640390346, F1 micro: 0.735390719001008 \n",
      "Model Saved\n",
      "\n",
      "Epoch: [1/10], Step: [2001/2499], Train_loss: 0.05979512958042323\n",
      "Precision macro: 0.5905997554752749, Recall macro: 0.38499800151868135, F1 macro: 0.44029936240934775 \n",
      "Precision micro: 0.8403041825095057, Recall micro: 0.7102787354642669, F1 micro: 0.7698397618595225 \n",
      "Model Saved\n",
      "\n",
      "Epoch: [2/10], Step: [1001/2499], Train_loss: 0.044194696195423606\n",
      "Precision macro: 0.6498879312402979, Recall macro: 0.4259821101224071, F1 macro: 0.4794968384315629 \n",
      "Precision micro: 0.8294456820862273, Recall micro: 0.7397300298019049, F1 micro: 0.782023166023166 \n",
      "Model Saved\n",
      "\n",
      "Epoch: [2/10], Step: [2001/2499], Train_loss: 0.04376225086394697\n",
      "Precision macro: 0.6475281810369894, Recall macro: 0.4481308030091057, F1 macro: 0.4986893244884264 \n",
      "Precision micro: 0.8153396730685561, Recall micro: 0.7665517442879682, F1 micro: 0.790193361845672 \n",
      "Model Saved\n",
      "\n",
      "Epoch: [3/10], Step: [1001/2499], Train_loss: 0.04150185792148113\n",
      "Precision macro: 0.6453549213151687, Recall macro: 0.4758368578031076, F1 macro: 0.5247897863329039 \n",
      "Precision micro: 0.8474172185430463, Recall micro: 0.747735639572255, F1 micro: 0.7944618632229223 \n",
      "Model Saved\n",
      "\n",
      "Epoch: [3/10], Step: [2001/2499], Train_loss: 0.04147170973476023\n",
      "Precision macro: 0.640170664821529, Recall macro: 0.450704309953551, F1 macro: 0.507775439574046 \n",
      "Precision micro: 0.8359889386357651, Recall micro: 0.7419505638987904, F1 micro: 0.786167610909879 \n",
      "Epoch: [4/10], Step: [1001/2499], Train_loss: 0.039839284092187885\n",
      "Precision macro: 0.6930068255194137, Recall macro: 0.5168092703000212, F1 macro: 0.5669622286788644 \n",
      "Precision micro: 0.8437744714173845, Recall micro: 0.7555659440191668, F1 micro: 0.797237722354102 \n",
      "Model Saved\n",
      "\n",
      "Epoch: [4/10], Step: [2001/2499], Train_loss: 0.039918805623427034\n",
      "Precision macro: 0.7123232953022991, Recall macro: 0.5121571000894182, F1 macro: 0.5638287093214963 \n",
      "Precision micro: 0.8220412193014933, Recall micro: 0.7784725062817741, F1 micro: 0.7996638554578469 \n",
      "Model Saved\n",
      "\n",
      "Epoch: [5/10], Step: [1001/2499], Train_loss: 0.03900393402017653\n",
      "Precision macro: 0.7103583057084139, Recall macro: 0.503471057033955, F1 macro: 0.5669297529574592 \n",
      "Precision micro: 0.8634944856766318, Recall micro: 0.7274586571612225, F1 micro: 0.7896606406596891 \n",
      "Epoch: [5/10], Step: [2001/2499], Train_loss: 0.038852011450566354\n",
      "Precision macro: 0.7268057442280946, Recall macro: 0.4797824314875058, F1 macro: 0.5486400046706502 \n",
      "Precision micro: 0.8491225755376699, Recall micro: 0.7521182726582131, F1 micro: 0.7976821294660841 \n",
      "Epoch: [6/10], Step: [1001/2499], Train_loss: 0.03798630561493337\n",
      "Precision macro: 0.7043151684837129, Recall macro: 0.5501048782265049, F1 macro: 0.5984487118165046 \n",
      "Precision micro: 0.8213958600476278, Recall micro: 0.7860690702974347, F1 micro: 0.8033442818751866 \n",
      "Model Saved\n",
      "\n",
      "Epoch: [6/10], Step: [2001/2499], Train_loss: 0.03832140597980469\n",
      "Precision macro: 0.7045892760093275, Recall macro: 0.49830432456918916, F1 macro: 0.5612182126139401 \n",
      "Precision micro: 0.8525292357900462, Recall micro: 0.7327178168643721, F1 micro: 0.7880959115049809 \n",
      "Epoch: [7/10], Step: [1001/2499], Train_loss: 0.038324132878333333\n",
      "Precision macro: 0.722727199534864, Recall macro: 0.562173955893958, F1 macro: 0.6137245387164186 \n",
      "Precision micro: 0.8237724842002917, Recall micro: 0.7921463215099632, F1 micro: 0.8076499151002413 \n",
      "Model Saved\n",
      "\n",
      "Epoch: [7/10], Step: [2001/2499], Train_loss: 0.03784672850649804\n",
      "Precision macro: 0.7226701468960793, Recall macro: 0.5126765799834594, F1 macro: 0.5749636637900452 \n",
      "Precision micro: 0.8361422620954823, Recall micro: 0.762461286741074, F1 micro: 0.7976037655113393 \n",
      "Epoch: [8/10], Step: [1001/2499], Train_loss: 0.037146882742643356\n",
      "Precision macro: 0.6863242835169086, Recall macro: 0.536295505743624, F1 macro: 0.5849759280797566 \n",
      "Precision micro: 0.8450640445076982, Recall micro: 0.7633378133582657, F1 micro: 0.802124589358632 \n",
      "Epoch: [8/10], Step: [2001/2499], Train_loss: 0.036973619252443315\n",
      "Precision macro: 0.7234633032571227, Recall macro: 0.5287729177836383, F1 macro: 0.5902575928386276 \n",
      "Precision micro: 0.8362156021206766, Recall micro: 0.7742067434114416, F1 micro: 0.8040173559486603 \n",
      "Epoch: [9/10], Step: [1001/2499], Train_loss: 0.03646438997611404\n",
      "Precision macro: 0.747194433280514, Recall macro: 0.540174413671551, F1 macro: 0.5971469257352678 \n",
      "Precision micro: 0.8229946193332921, Recall micro: 0.7775959796645825, F1 micro: 0.7996514632534103 \n",
      "Epoch: [9/10], Step: [2001/2499], Train_loss: 0.036533339489251374\n",
      "Precision macro: 0.723463315051898, Recall macro: 0.5844595105450712, F1 macro: 0.6260281911383245 \n",
      "Precision micro: 0.841099691027177, Recall micro: 0.7794659031145913, F1 micro: 0.8091107606453961 \n",
      "Model Saved\n",
      "\n",
      "Epoch: [10/10], Step: [1001/2499], Train_loss: 0.03721501465886831\n",
      "Precision macro: 0.708675561071297, Recall macro: 0.5356044452018085, F1 macro: 0.5842758872956584 \n",
      "Precision micro: 0.8332917550205813, Recall micro: 0.7807514754864723, F1 micro: 0.8061664705704891 \n"
     ]
    },
    {
     "name": "stdout",
     "output_type": "stream",
     "text": [
      "Epoch: [10/10], Step: [2001/2499], Train_loss: 0.03734443296585232\n",
      "Precision macro: 0.7454165274001323, Recall macro: 0.5212493326605562, F1 macro: 0.5818862657241856 \n",
      "Precision micro: 0.827331486611265, Recall micro: 0.7853678490036814, F1 micro: 0.805803705258109 \n"
     ]
    }
   ],
   "source": [
    "results_df = pd.DataFrame(columns=[\n",
    "    \"optimizer\", \"num_hidden\", \"dim_hidden\", \"dropout_rate\", \"learning_rate\", \"num_epochs\", \n",
    "    'precision_macro', 'recall_macro', 'f1_macro', \n",
    "    'precision_micro', 'recall_micro', 'f1_micro'\n",
    "])\n",
    "\n",
    "\n",
    "for num_hidden, dim_hidden, dropout_rate, lr in itertools.product(range_num_hidden, range_dim_hidden, range_dropout, range_lr):\n",
    "    # model\n",
    "    options = {\n",
    "        \"VOCAB_SIZE\": len(index_to_word),\n",
    "        \"dim_e\": weights_matrix.shape[1],\n",
    "        \"pretrained_embeddings\": weights_matrix,\n",
    "        \"num_layers\": num_hidden,\n",
    "        \"num_classes\": len(mlb.classes_),\n",
    "        \"mid_features\": dim_hidden,\n",
    "        \"dropout_rate\": dropout_rate,\n",
    "        \"activation\": nn.ReLU()\n",
    "    }\n",
    "    num_epochs = 10\n",
    "    \n",
    "    result = {\n",
    "        \"optimizer\": \"SWA\", \n",
    "        \"num_hidden\": num_hidden,\n",
    "        \"dim_hidden\": dim_hidden,\n",
    "        \"dropout_rate\": dropout_rate,\n",
    "        \"learning_rate\": lr,\n",
    "        \"num_epochs\": num_epochs\n",
    "    }\n",
    "    print(\"\\n\", result)\n",
    "    \n",
    "    model = FinalModel(options)\n",
    "    \n",
    "    if torch.cuda.is_available():\n",
    "        model = model.to(device)\n",
    "    \n",
    "    # Criterion and Optimizer\n",
    "    criterion = torch.nn.BCEWithLogitsLoss()\n",
    "    # optimizer = torch.optim.Adam(model.parameters(), lr=0.001)\n",
    "    base_opt = torch.optim.Adam(model.parameters(), lr=lr)\n",
    "    optimizer = SWA(base_opt) \n",
    "    \n",
    "    # train the model\n",
    "    model_name = \"_\".join([str(key) + \"_\" + str(value) for key, value in result.items()])\n",
    "#     print(model_name)\n",
    "    metrics_dict = train_model(\n",
    "        wiki_loaders, model, criterion, optimizer, num_epochs=num_epochs, \n",
    "        model_name=model_name, save_model=True\n",
    "    )\n",
    "    result.update(metrics_dict)\n",
    "    \n",
    "    results_df = results_df.append(result, ignore_index=True)\n",
    "#     results_df.to_csv(\"results/results_tuning_2_3_layers_maxlen_500.csv\")"
   ]
  },
  {
   "cell_type": "code",
   "execution_count": 46,
   "metadata": {},
   "outputs": [
    {
     "data": {
      "text/html": [
       "<div>\n",
       "<style scoped>\n",
       "    .dataframe tbody tr th:only-of-type {\n",
       "        vertical-align: middle;\n",
       "    }\n",
       "\n",
       "    .dataframe tbody tr th {\n",
       "        vertical-align: top;\n",
       "    }\n",
       "\n",
       "    .dataframe thead th {\n",
       "        text-align: right;\n",
       "    }\n",
       "</style>\n",
       "<table border=\"1\" class=\"dataframe\">\n",
       "  <thead>\n",
       "    <tr style=\"text-align: right;\">\n",
       "      <th></th>\n",
       "      <th>optimizer</th>\n",
       "      <th>num_hidden</th>\n",
       "      <th>dim_hidden</th>\n",
       "      <th>dropout_rate</th>\n",
       "      <th>learning_rate</th>\n",
       "      <th>num_epochs</th>\n",
       "      <th>precision_macro</th>\n",
       "      <th>recall_macro</th>\n",
       "      <th>f1_macro</th>\n",
       "      <th>precision_micro</th>\n",
       "      <th>recall_micro</th>\n",
       "      <th>f1_micro</th>\n",
       "    </tr>\n",
       "  </thead>\n",
       "  <tbody>\n",
       "    <tr>\n",
       "      <td>0</td>\n",
       "      <td>SWA</td>\n",
       "      <td>2</td>\n",
       "      <td>120</td>\n",
       "      <td>0.2</td>\n",
       "      <td>0.01</td>\n",
       "      <td>10</td>\n",
       "      <td>0.706500</td>\n",
       "      <td>0.501205</td>\n",
       "      <td>0.557062</td>\n",
       "      <td>0.820679</td>\n",
       "      <td>0.783849</td>\n",
       "      <td>0.801841</td>\n",
       "    </tr>\n",
       "    <tr>\n",
       "      <td>1</td>\n",
       "      <td>SWA</td>\n",
       "      <td>2</td>\n",
       "      <td>150</td>\n",
       "      <td>0.2</td>\n",
       "      <td>0.01</td>\n",
       "      <td>10</td>\n",
       "      <td>0.717010</td>\n",
       "      <td>0.567177</td>\n",
       "      <td>0.619487</td>\n",
       "      <td>0.841372</td>\n",
       "      <td>0.782914</td>\n",
       "      <td>0.811091</td>\n",
       "    </tr>\n",
       "    <tr>\n",
       "      <td>2</td>\n",
       "      <td>SWA</td>\n",
       "      <td>2</td>\n",
       "      <td>200</td>\n",
       "      <td>0.2</td>\n",
       "      <td>0.01</td>\n",
       "      <td>10</td>\n",
       "      <td>0.723463</td>\n",
       "      <td>0.584460</td>\n",
       "      <td>0.626028</td>\n",
       "      <td>0.841100</td>\n",
       "      <td>0.779466</td>\n",
       "      <td>0.809111</td>\n",
       "    </tr>\n",
       "  </tbody>\n",
       "</table>\n",
       "</div>"
      ],
      "text/plain": [
       "  optimizer num_hidden dim_hidden  dropout_rate  learning_rate num_epochs  \\\n",
       "0       SWA          2        120           0.2           0.01         10   \n",
       "1       SWA          2        150           0.2           0.01         10   \n",
       "2       SWA          2        200           0.2           0.01         10   \n",
       "\n",
       "   precision_macro  recall_macro  f1_macro  precision_micro  recall_micro  \\\n",
       "0         0.706500      0.501205  0.557062         0.820679      0.783849   \n",
       "1         0.717010      0.567177  0.619487         0.841372      0.782914   \n",
       "2         0.723463      0.584460  0.626028         0.841100      0.779466   \n",
       "\n",
       "   f1_micro  \n",
       "0  0.801841  \n",
       "1  0.811091  \n",
       "2  0.809111  "
      ]
     },
     "execution_count": 46,
     "metadata": {},
     "output_type": "execute_result"
    }
   ],
   "source": [
    "results_df"
   ]
  },
  {
   "cell_type": "code",
   "execution_count": null,
   "metadata": {},
   "outputs": [],
   "source": [
    "# results_df.to_csv(\"results_tuning.csv\")"
   ]
  },
  {
   "cell_type": "code",
   "execution_count": null,
   "metadata": {},
   "outputs": [],
   "source": []
  }
 ],
 "metadata": {
  "kernelspec": {
   "display_name": "Python 3",
   "language": "python",
   "name": "python3"
  },
  "language_info": {
   "codemirror_mode": {
    "name": "ipython",
    "version": 3
   },
   "file_extension": ".py",
   "mimetype": "text/x-python",
   "name": "python",
   "nbconvert_exporter": "python",
   "pygments_lexer": "ipython3",
   "version": "3.7.4"
  }
 },
 "nbformat": 4,
 "nbformat_minor": 2
}
