{
 "cells": [
  {
   "cell_type": "code",
   "execution_count": 1,
   "metadata": {},
   "outputs": [],
   "source": [
    "# import dependencies\n",
    "import nltk\n",
    "import json\n",
    "import io\n",
    "import gzip\n",
    "import torch\n",
    "import string\n",
    "import random\n",
    "import jsonlines\n",
    "import pandas as pd\n",
    "import pickle as pkl\n",
    "import numpy as np\n",
    "from tqdm import tqdm\n",
    "from functools import partial\n",
    "\n",
    "import torch\n",
    "import torch.nn as nn\n",
    "import torch.functional as F\n",
    "from torch.autograd import Variable\n",
    "from torch.utils.data import Dataset, RandomSampler, SequentialSampler, DataLoader\n",
    "from sklearn.preprocessing import MultiLabelBinarizer"
   ]
  },
  {
   "cell_type": "code",
   "execution_count": 2,
   "metadata": {},
   "outputs": [
    {
     "data": {
      "text/plain": [
       "'cuda:0'"
      ]
     },
     "execution_count": 2,
     "metadata": {},
     "output_type": "execute_result"
    }
   ],
   "source": [
    "device = \"cuda:0\" if torch.cuda.is_available() else \"cpu\"\n",
    "device"
   ]
  },
  {
   "cell_type": "code",
   "execution_count": 3,
   "metadata": {},
   "outputs": [],
   "source": [
    "PATH_TO_EMBEDDINGS_FOLDER = \"/scratch/mz2476/wiki/embeddings/\"\n",
    "PATH_TO_DATA_FOLDER = \"/scratch/mz2476/wiki/data/\"\n",
    "PATH_TO_MODELS_FOLDER = \"/scratch/mz2476/wiki/models/\""
   ]
  },
  {
   "cell_type": "markdown",
   "metadata": {},
   "source": [
    "## Load data"
   ]
  },
  {
   "cell_type": "code",
   "execution_count": 4,
   "metadata": {},
   "outputs": [
    {
     "name": "stderr",
     "output_type": "stream",
     "text": [
      "[nltk_data] Downloading package stopwords to /home/mz2476/nltk_data...\n",
      "[nltk_data]   Package stopwords is already up-to-date!\n"
     ]
    }
   ],
   "source": [
    "from preprocess import create_lookups_for_vocab, pad_collate_fn"
   ]
  },
  {
   "cell_type": "code",
   "execution_count": 5,
   "metadata": {},
   "outputs": [
    {
     "name": "stdout",
     "output_type": "stream",
     "text": [
      "Vocab size is: 682850\n"
     ]
    }
   ],
   "source": [
    "# LOAD vocab, tensor dataset, classes\n",
    "vocab = torch.load(PATH_TO_DATA_FOLDER + \"vocab_all_en.pt\")\n",
    "print(\"Vocab size is:\", len(vocab))\n",
    "index_to_word, word_to_index = create_lookups_for_vocab(vocab)\n",
    "\n",
    "wiki_tensor_dataset = torch.load(PATH_TO_DATA_FOLDER + \"wiki_tensor_dataset_vocab_all_en.pt\")\n",
    "\n",
    "classes = torch.load(PATH_TO_DATA_FOLDER + \"classes_list.pt\")\n",
    "mlb = MultiLabelBinarizer(classes)"
   ]
  },
  {
   "cell_type": "code",
   "execution_count": 6,
   "metadata": {},
   "outputs": [
    {
     "data": {
      "text/plain": [
       "(tensor([13030,  8330,  3721,  8330,  3721,   132,  2496, 13031,  4719,  3982,\n",
       "         13031,  3178,   303,  5510, 13032,  8334,  2496, 13031,  4719,  1828,\n",
       "          2496,  1985, 13033, 10701, 13034,     7,  5299,  2338,  6948,     5,\n",
       "             9,     9,     8, 10510,   480, 13035, 13036, 11814, 13035, 13036,\n",
       "           965,   933,  2789,     5,   223,    10,   933, 13037,  6777,  1646,\n",
       "          3271, 13038,  2496, 13031,  4719,  1036, 13039,  1985,  2300,  1495,\n",
       "           601, 13040,  1495,     5,     9,   208,     6,     5,     9,     9,\n",
       "            11,   568,     5,     9,     9,   208, 13041,  1467,   403, 13042,\n",
       "          9309,  1065, 13043, 13044, 13043, 13044,  2300,  2189,  1880,  8330,\n",
       "          4719,   452,    10,     8,     8,     8, 13035, 13036,    21, 13045,\n",
       "          2300, 13045,  2641,  3721,  4340,  4251, 13043, 13044, 13046,  2496,\n",
       "         13031,  4719,  4340, 13045, 13047, 13048, 13049, 13050,  5496,  9571,\n",
       "           648,     5,     9,    10,     8,     5,    11, 13051,  6945,  9127,\n",
       "          2496,    53,  5458, 13051,  6945,  9127,  6945,  9127,  2025,   833,\n",
       "          6777,  3721, 13052,  3271, 13053, 13054,  3721, 11814, 13035, 13036,\n",
       "           689,  1261,    10,     8,     5,   253, 13055,  2496, 13031,  4719,\n",
       "         12197, 13052,  3271, 13053,  3721,  5251,   952,  3078,   167,  6674,\n",
       "            10,  8340,   439,  1366, 13056,   952,  1199,    10,     8,     5,\n",
       "             6,  3541,  1816,   794,    10,     8,     8,   611,   532,    10,\n",
       "             8,    10,     8,  1108, 13057,  2471,  5251,   952,   439,  8340,\n",
       "          1140,  2496, 13031,  4719,   132, 10436,  3078,  3271, 13053,   132,\n",
       "            58, 13058,   414, 13031,   132,   277,  2496,  2076, 13031,  1869,\n",
       "           525,    24, 13031,  4719,   526,  8330,  8340,  2496,    81,   397,\n",
       "           398, 13059,  3435,  2869,  2496, 13031,  8330,  8340,  2055,     5,\n",
       "             9,     9,     8,  8330,  8340,  2496, 13035, 13036]),\n",
       " tensor([248.]),\n",
       " tensor([0, 0, 0, 0, 0, 0, 0, 0, 0, 0, 0, 0, 1, 0, 0, 0, 1, 0, 0, 0, 0, 0, 0, 0,\n",
       "         0, 0, 0, 0, 0, 0, 0, 0, 0, 0, 0, 0, 0, 0, 0, 0, 0, 0, 0, 0]))"
      ]
     },
     "execution_count": 6,
     "metadata": {},
     "output_type": "execute_result"
    }
   ],
   "source": [
    "wiki_tensor_dataset[\"train\"].__getitem__(200)"
   ]
  },
  {
   "cell_type": "code",
   "execution_count": 7,
   "metadata": {},
   "outputs": [],
   "source": [
    "# create dataloader\n",
    "wiki_loaders = {}\n",
    "\n",
    "batch_size = 32\n",
    "\n",
    "for split, wiki_dataset in wiki_tensor_dataset.items():\n",
    "    wiki_loaders[split] = DataLoader(\n",
    "        wiki_dataset, \n",
    "        batch_size=batch_size, \n",
    "        shuffle=True, \n",
    "        collate_fn=partial(pad_collate_fn, word_to_index=word_to_index)\n",
    "    )"
   ]
  },
  {
   "cell_type": "markdown",
   "metadata": {},
   "source": [
    "## Load the embeddings and make a pretrained embeddings matrix"
   ]
  },
  {
   "cell_type": "code",
   "execution_count": 8,
   "metadata": {},
   "outputs": [
    {
     "data": {
      "text/plain": [
       "<module 'utils' from '/home/mz2476/topic-modeling/topic-modeling/baseline/utils.py'>"
      ]
     },
     "execution_count": 8,
     "metadata": {},
     "output_type": "execute_result"
    }
   ],
   "source": [
    "import utils\n",
    "import importlib\n",
    "importlib.reload(utils)"
   ]
  },
  {
   "cell_type": "code",
   "execution_count": 9,
   "metadata": {
    "scrolled": true
   },
   "outputs": [
    {
     "name": "stderr",
     "output_type": "stream",
     "text": [
      "2519370it [03:22, 12469.20it/s]\n"
     ]
    }
   ],
   "source": [
    "# # Aligned fasstext. 2.5 million\n",
    "embeddings = utils.load_vectors(PATH_TO_EMBEDDINGS_FOLDER + \"wiki.en.align.vec\")\n",
    "\n",
    "# # CHANGE to googlenews vectors\n",
    "# import gensim\n",
    " \n",
    "# model = gensim.models.KeyedVectors.load(\"/scratch/mz2476/GoogleNews-vectors-negative300.bin\", binary=True)  \n",
    " \n",
    "# embeddings = model.vocab.keys()\n",
    "# wordsInVocab = len(embeddings)\n",
    "# print (wordsInVocab)\n",
    "\n",
    "# # embeddings = load_vectors(\"/scratch/mz2476/GoogleNews-vectors-negative300.bin\")\n",
    "\n"
   ]
  },
  {
   "cell_type": "code",
   "execution_count": 11,
   "metadata": {},
   "outputs": [
    {
     "name": "stdout",
     "output_type": "stream",
     "text": [
      "Total words in vocab: 682850\n",
      "No. of words from vocab found in embeddings: 528314\n"
     ]
    }
   ],
   "source": [
    "#Creating the weight matrix for pretrained word embeddings\n",
    "weights_matrix_ve = utils.create_embeddings_matrix(word_to_index, embeddings)"
   ]
  },
  {
   "cell_type": "markdown",
   "metadata": {},
   "source": [
    "## Model"
   ]
  },
  {
   "cell_type": "code",
   "execution_count": 12,
   "metadata": {},
   "outputs": [],
   "source": [
    "import model\n",
    "import importlib\n",
    "importlib.reload(model)\n",
    "\n",
    "from model import FinalModel\n",
    "from torchcontrib.optim import SWA"
   ]
  },
  {
   "cell_type": "code",
   "execution_count": 15,
   "metadata": {},
   "outputs": [],
   "source": [
    "options = {\n",
    "    \"VOCAB_SIZE\": len(index_to_word),\n",
    "    \"dim_e\": weights_matrix_ve.shape[1],\n",
    "    \"pretrained_embeddings\": weights_matrix_ve,\n",
    "    \"num_layers\": 2,\n",
    "    \"num_classes\": len(classes),\n",
    "    \"mid_features\": 150,\n",
    "    \"dropout_rate\": 0.2,\n",
    "    \"activation\": nn.ReLU()\n",
    "}\n",
    "model = FinalModel(options)\n",
    "\n",
    "if torch.cuda.is_available():\n",
    "    model = model.to(device)\n",
    "    \n",
    "# Criterion and Optimizer\n",
    "criterion = torch.nn.BCEWithLogitsLoss()\n",
    "# optimizer = torch.optim.Adam(model.parameters(), lr=0.001)\n",
    "base_opt = torch.optim.Adam(model.parameters(), lr=0.001)\n",
    "optimizer = SWA(base_opt)"
   ]
  },
  {
   "cell_type": "code",
   "execution_count": 16,
   "metadata": {},
   "outputs": [
    {
     "data": {
      "text/plain": [
       "FinalModel(\n",
       "  (layer_bag_of_words): BagOfWords(\n",
       "    (embed_e): Embedding(682850, 300)\n",
       "  )\n",
       "  (layer_out): Sequential(\n",
       "    (0): Linear(in_features=300, out_features=150, bias=True)\n",
       "    (1): ReLU()\n",
       "    (2): Linear(in_features=150, out_features=44, bias=True)\n",
       "  )\n",
       ")"
      ]
     },
     "execution_count": 16,
     "metadata": {},
     "output_type": "execute_result"
    }
   ],
   "source": [
    "model"
   ]
  },
  {
   "cell_type": "markdown",
   "metadata": {},
   "source": [
    "## Hyperparameter tuning"
   ]
  },
  {
   "cell_type": "markdown",
   "metadata": {},
   "source": [
    "Grid search vs. Random search"
   ]
  },
  {
   "cell_type": "markdown",
   "metadata": {},
   "source": [
    "<ol>\n",
    "    <li> dropout </li>\n",
    "    <li> learning rate </li>\n",
    "    <li> optimizer </li>\n",
    "    <li> num of hidden layers </li>\n",
    "    <li> dim of hidden layers </li>\n",
    "    <li> take only first 500 words from the article </li>\n",
    "    <li> TODO threshold </li>\n",
    "<ol>"
   ]
  },
  {
   "cell_type": "markdown",
   "metadata": {},
   "source": [
    "I focused on SWA optimizer."
   ]
  },
  {
   "cell_type": "code",
   "execution_count": 48,
   "metadata": {},
   "outputs": [],
   "source": [
    "# # one layer\n",
    "# range_dropout = [0]\n",
    "# range_num_hidden = [1]\n",
    "# range_dim_hidden = [80, 120, 150]\n",
    "# range_lr = [0.01]\n",
    "\n",
    "# # many layers\n",
    "# range_dropout = [0, 0.1, 0.2]\n",
    "# range_num_hidden = [3] # 2\n",
    "# range_dim_hidden = [40, 80, 120]\n",
    "# range_lr = [0.001, 0.01]\n",
    "\n",
    "# best hyperparams\n",
    "range_dropout = [0.2]\n",
    "range_num_hidden = [2]\n",
    "range_dim_hidden = [120]\n",
    "range_lr = [0.01]"
   ]
  },
  {
   "cell_type": "code",
   "execution_count": 49,
   "metadata": {},
   "outputs": [],
   "source": [
    "import model\n",
    "import importlib\n",
    "importlib.reload(model)\n",
    "\n",
    "from model import FinalModel\n",
    "from torchcontrib.optim import SWA\n",
    "import itertools"
   ]
  },
  {
   "cell_type": "code",
   "execution_count": 50,
   "metadata": {},
   "outputs": [],
   "source": [
    "import warnings\n",
    "warnings.filterwarnings('ignore')\n",
    "\n",
    "from utils import test_model\n",
    "\n",
    "def train_model(wiki_loaders, model, criterion, optimizer, num_epochs=10, device=device, model_name=\"model\"):\n",
    "    best_val_f1_micro = 0\n",
    "    best_metrics_dict = {}\n",
    "    for epoch in range(num_epochs):\n",
    "        runnin_loss = 0.0\n",
    "        for i, (data, length, labels) in enumerate(wiki_loaders[\"train\"]):        \n",
    "            model.train()\n",
    "            data_batch, length_batch, label_batch = data.to(device),length.to(device), labels.float().to(device)\n",
    "\n",
    "            optimizer.zero_grad()\n",
    "            outputs = model(data_batch, length_batch)\n",
    "            loss = criterion(outputs, label_batch)\n",
    "            loss.backward()\n",
    "            optimizer.step()\n",
    "\n",
    "            runnin_loss += loss.item()\n",
    "            #torch.nn.utils.clip_grad_norm(model.parameters(), 10)\n",
    "            if i>0 and i % 1000 == 0:\n",
    "                print('Epoch: [{}/{}], Step: [{}/{}], Train_loss: {}'.format(\n",
    "                    epoch+1, num_epochs, i+1, len(wiki_loaders[\"train\"]), runnin_loss / i))\n",
    "            # validate every 300 iterations\n",
    "            if i > 0 and i % 1000 == 0:\n",
    "                optimizer.update_swa()\n",
    "                metrics_dict = test_model(wiki_loaders[\"val\"], model, device=device)\n",
    "                print(\"Precision macro: {}, Recall macro: {}, F1 macro: {} \".format(\n",
    "                    metrics_dict[\"precision_macro\"], metrics_dict[\"recall_macro\"], metrics_dict[\"f1_macro\"]\n",
    "                ))\n",
    "                print(\"Precision micro: {}, Recall micro: {}, F1 micro: {} \".format(\n",
    "                    metrics_dict[\"precision_micro\"], metrics_dict[\"recall_micro\"], metrics_dict[\"f1_micro\"]\n",
    "                ))\n",
    "\n",
    "                if metrics_dict[\"f1_micro\"] > best_val_f1_micro:\n",
    "                    best_val_f1_micro = metrics_dict[\"f1_micro\"]\n",
    "                    best_metrics_dict = metrics_dict\n",
    "                    optimizer.swap_swa_sgd()\n",
    "                    torch.save(model.state_dict(), f\"{PATH_TO_MODELS_FOLDER}en_{model_name}.pth\")\n",
    "                    print('Model Saved')\n",
    "                    print()\n",
    "    optimizer.swap_swa_sgd()\n",
    "    return best_metrics_dict"
   ]
  },
  {
   "cell_type": "code",
   "execution_count": 25,
   "metadata": {},
   "outputs": [],
   "source": [
    "# results_df_without_best = results_df"
   ]
  },
  {
   "cell_type": "code",
   "execution_count": 52,
   "metadata": {
    "scrolled": true
   },
   "outputs": [
    {
     "name": "stdout",
     "output_type": "stream",
     "text": [
      "\n",
      " {'optimizer': 'SWA', 'num_hidden': 2, 'dim_hidden': 120, 'dropout_rate': 0.2, 'learning_rate': 0.01, 'num_epochs': 10}\n",
      "Epoch: [1/10], Step: [1001/2499], Train_loss: 0.07884886454045772\n",
      "Precision macro: 0.48278520281296733, Recall macro: 0.24427291639746673, F1 macro: 0.2848108113092483 \n",
      "Precision micro: 0.8305071799572258, Recall micro: 0.6353649272482907, F1 micro: 0.7199470286376427 \n",
      "Model Saved\n",
      "\n",
      "Epoch: [1/10], Step: [2001/2499], Train_loss: 0.06491451930720359\n",
      "Precision macro: 0.5506346016000201, Recall macro: 0.39709446314405733, F1 macro: 0.43670556381221937 \n",
      "Precision micro: 0.8178386968613429, Recall micro: 0.7217320165955706, F1 micro: 0.766785658854571 \n",
      "Model Saved\n",
      "\n",
      "Epoch: [2/10], Step: [1001/2499], Train_loss: 0.04603251419588923\n",
      "Precision macro: 0.5799178912367894, Recall macro: 0.4350325971207185, F1 macro: 0.47757937974590453 \n",
      "Precision micro: 0.8240947992100066, Recall micro: 0.7314906796003039, F1 micro: 0.7750363743305576 \n",
      "Model Saved\n",
      "\n",
      "Epoch: [2/10], Step: [2001/2499], Train_loss: 0.04568742338847369\n",
      "Precision macro: 0.5998461252033623, Recall macro: 0.42353972913888444, F1 macro: 0.47257601324627796 \n",
      "Precision micro: 0.832708277524779, Recall micro: 0.7265821305440309, F1 micro: 0.7760337026057107 \n",
      "Model Saved\n",
      "\n",
      "Epoch: [3/10], Step: [1001/2499], Train_loss: 0.042324450623244046\n",
      "Precision macro: 0.6049880796293972, Recall macro: 0.45507207629270713, F1 macro: 0.49677944309313626 \n",
      "Precision micro: 0.8066020593579649, Recall micro: 0.7781803307427102, F1 micro: 0.7921363352467062 \n",
      "Model Saved\n",
      "\n",
      "Epoch: [3/10], Step: [2001/2499], Train_loss: 0.042795386868529024\n",
      "Precision macro: 0.6491919767553758, Recall macro: 0.4477065740780837, F1 macro: 0.5035272202312636 \n",
      "Precision micro: 0.8421123899796885, Recall micro: 0.726815870975282, F1 micro: 0.7802277075557507 \n",
      "Epoch: [4/10], Step: [1001/2499], Train_loss: 0.041213168079033496\n",
      "Precision macro: 0.6779490105452798, Recall macro: 0.4676783212056855, F1 macro: 0.5266815052665934 \n",
      "Precision micro: 0.8423873486402434, Recall micro: 0.7439373575644247, F1 micro: 0.7901073667225221 \n",
      "Epoch: [4/10], Step: [2001/2499], Train_loss: 0.04098927391599864\n",
      "Precision macro: 0.7091365217618241, Recall macro: 0.49963085202827356, F1 macro: 0.5603502880078491 \n",
      "Precision micro: 0.8270833333333333, Recall micro: 0.7655583474551511, F1 micro: 0.795132461384396 \n",
      "Model Saved\n",
      "\n",
      "Epoch: [5/10], Step: [1001/2499], Train_loss: 0.04104133003950119\n",
      "Precision macro: 0.6350521085386593, Recall macro: 0.4864559197945024, F1 macro: 0.5348866267079676 \n",
      "Precision micro: 0.8396560777106852, Recall micro: 0.7475603342488167, F1 micro: 0.7909363504281431 \n",
      "Epoch: [5/10], Step: [2001/2499], Train_loss: 0.040843296344392\n",
      "Precision macro: 0.6990001861793457, Recall macro: 0.486463082950875, F1 macro: 0.5441607381385284 \n",
      "Precision micro: 0.8530068321720896, Recall micro: 0.7368667095190791, F1 micro: 0.7906947579633811 \n",
      "Epoch: [6/10], Step: [1001/2499], Train_loss: 0.03969754467345774\n",
      "Precision macro: 0.7077149154774406, Recall macro: 0.530619353658873, F1 macro: 0.5788815088188025 \n",
      "Precision micro: 0.8359168241965974, Recall micro: 0.7752001402442588, F1 micro: 0.8044143952945457 \n",
      "Model Saved\n",
      "\n",
      "Epoch: [6/10], Step: [2001/2499], Train_loss: 0.039595012919045984\n",
      "Precision macro: 0.6852044357556163, Recall macro: 0.4947729811512129, F1 macro: 0.5549402605659272 \n",
      "Precision micro: 0.84253910560135, Recall micro: 0.7585461345176182, F1 micro: 0.7983394833948341 \n",
      "Epoch: [7/10], Step: [1001/2499], Train_loss: 0.03921786212734878\n",
      "Precision macro: 0.7328285963557011, Recall macro: 0.4934025834046912, F1 macro: 0.5602255360712859 \n",
      "Precision micro: 0.829725465446513, Recall micro: 0.7682463624145387, F1 micro: 0.7978032647612112 \n",
      "Epoch: [7/10], Step: [2001/2499], Train_loss: 0.03912620823457837\n",
      "Precision macro: 0.7381535194492753, Recall macro: 0.5107193050262103, F1 macro: 0.5753260352693276 \n",
      "Precision micro: 0.8271313005600498, Recall micro: 0.7767194530473909, F1 micro: 0.8011331103275774 \n",
      "Epoch: [8/10], Step: [1001/2499], Train_loss: 0.038420354846864936\n",
      "Precision macro: 0.7227796437984895, Recall macro: 0.5351473456005441, F1 macro: 0.5830636746942482 \n",
      "Precision micro: 0.8243259955478605, Recall micro: 0.778998422252089, F1 micro: 0.8010214811476641 \n",
      "Epoch: [8/10], Step: [2001/2499], Train_loss: 0.03820322468690574\n",
      "Precision macro: 0.7373818275303556, Recall macro: 0.5183955819786193, F1 macro: 0.5816550253656785 \n",
      "Precision micro: 0.8563341387642389, Recall micro: 0.7248290773096476, F1 micro: 0.7851129818342933 \n",
      "Epoch: [9/10], Step: [1001/2499], Train_loss: 0.03767920279316604\n",
      "Precision macro: 0.730109909267999, Recall macro: 0.5210328998293883, F1 macro: 0.5767924827239702 \n",
      "Precision micro: 0.8420112302194998, Recall micro: 0.7711096826973646, F1 micro: 0.8050022876315388 \n",
      "Model Saved\n",
      "\n",
      "Epoch: [9/10], Step: [2001/2499], Train_loss: 0.03823179210536182\n",
      "Precision macro: 0.727115954066544, Recall macro: 0.5079649224148803, F1 macro: 0.568533267674754 \n",
      "Precision micro: 0.8494806297772262, Recall micro: 0.7598317068894992, F1 micro: 0.8021591610117211 \n",
      "Epoch: [10/10], Step: [1001/2499], Train_loss: 0.038162963898852466\n",
      "Precision macro: 0.7238957418123616, Recall macro: 0.5106541377940188, F1 macro: 0.5708093507109265 \n",
      "Precision micro: 0.8442915557863309, Recall micro: 0.7601238824285631, F1 micro: 0.7999999999999999 \n",
      "Epoch: [10/10], Step: [2001/2499], Train_loss: 0.038348657907918096\n",
      "Precision macro: 0.7143548517540389, Recall macro: 0.5587128581209995, F1 macro: 0.6059718548525876 \n",
      "Precision micro: 0.8342105263157895, Recall micro: 0.7780050254192719, F1 micro: 0.805128050071055 \n",
      "Model Saved\n",
      "\n",
      "\n",
      " {'optimizer': 'SWA', 'num_hidden': 2, 'dim_hidden': 150, 'dropout_rate': 0.2, 'learning_rate': 0.01, 'num_epochs': 10}\n",
      "Epoch: [1/10], Step: [1001/2499], Train_loss: 0.07306841377913952\n",
      "Precision macro: 0.5243166666426988, Recall macro: 0.28494422260335467, F1 macro: 0.3389049542312716 \n",
      "Precision micro: 0.8369728915662651, Recall micro: 0.6495062233389821, F1 micro: 0.7314184187148356 \n",
      "Model Saved\n",
      "\n",
      "Epoch: [1/10], Step: [2001/2499], Train_loss: 0.061132249581627544\n",
      "Precision macro: 0.635437117058321, Recall macro: 0.3654957108813121, F1 macro: 0.42501692885872394 \n",
      "Precision micro: 0.859077380952381, Recall micro: 0.6746917548062876, F1 micro: 0.7558013942984323 \n",
      "Model Saved\n",
      "\n",
      "Epoch: [2/10], Step: [1001/2499], Train_loss: 0.044869204943999645\n",
      "Precision macro: 0.5725120985206039, Recall macro: 0.42826564092383884, F1 macro: 0.47987074566623655 \n",
      "Precision micro: 0.8450665568821188, Recall micro: 0.7196867878221236, F1 micro: 0.7773534888124467 \n",
      "Model Saved\n",
      "\n",
      "Epoch: [2/10], Step: [2001/2499], Train_loss: 0.04434390817396343\n",
      "Precision macro: 0.6299566262113747, Recall macro: 0.4352115485199766, F1 macro: 0.47664241429510523 \n",
      "Precision micro: 0.8277195281782438, Recall micro: 0.7380938467831473, F1 micro: 0.7803416427269638 \n",
      "Model Saved\n",
      "\n",
      "Epoch: [3/10], Step: [1001/2499], Train_loss: 0.04229024590924382\n",
      "Precision macro: 0.6790890071179843, Recall macro: 0.5057031299711618, F1 macro: 0.5503956249582312 \n",
      "Precision micro: 0.8150285468721223, Recall micro: 0.7757844913223865, F1 micro: 0.7949224597329502 \n",
      "Model Saved\n",
      "\n",
      "Epoch: [3/10], Step: [2001/2499], Train_loss: 0.041747743673622606\n",
      "Precision macro: 0.6708366406187684, Recall macro: 0.46856031565873396, F1 macro: 0.5245422677853512 \n",
      "Precision micro: 0.8427534784634845, Recall micro: 0.7397300298019049, F1 micro: 0.7878882180867617 \n",
      "Epoch: [4/10], Step: [1001/2499], Train_loss: 0.04040224212966859\n",
      "Precision macro: 0.6564456540859792, Recall macro: 0.5038249880229168, F1 macro: 0.5478170837271041 \n",
      "Precision micro: 0.8243996038623421, Recall micro: 0.7782972009583358, F1 micro: 0.8006853226727584 \n",
      "Model Saved\n",
      "\n",
      "Epoch: [4/10], Step: [2001/2499], Train_loss: 0.04024867432657629\n",
      "Precision macro: 0.6698469781207861, Recall macro: 0.46952406918724476, F1 macro: 0.5334865815489959 \n",
      "Precision micro: 0.8379196840026333, Recall micro: 0.7437620522409863, F1 micro: 0.7880382627000588 \n",
      "Epoch: [5/10], Step: [1001/2499], Train_loss: 0.039786267459392545\n",
      "Precision macro: 0.7113180982215703, Recall macro: 0.5334952164611697, F1 macro: 0.5769109417124747 \n",
      "Precision micro: 0.8192086982784658, Recall micro: 0.7924969321568398, F1 micro: 0.8056314601401925 \n"
     ]
    },
    {
     "name": "stdout",
     "output_type": "stream",
     "text": [
      "Model Saved\n",
      "\n",
      "Epoch: [5/10], Step: [2001/2499], Train_loss: 0.03947996575478464\n",
      "Precision macro: 0.7253816674467741, Recall macro: 0.5097362793442843, F1 macro: 0.5735923876795123 \n",
      "Precision micro: 0.8418758943671133, Recall micro: 0.7563256004207328, F1 micro: 0.7968110321051497 \n",
      "Epoch: [6/10], Step: [1001/2499], Train_loss: 0.03841240977682173\n",
      "Precision macro: 0.7075381847336066, Recall macro: 0.523968018207935, F1 macro: 0.5783681344736877 \n",
      "Precision micro: 0.8342162667497662, Recall micro: 0.7821539180739788, F1 micro: 0.8073466433439893 \n",
      "Model Saved\n",
      "\n",
      "Epoch: [6/10], Step: [2001/2499], Train_loss: 0.03868044700101018\n",
      "Precision macro: 0.6810137914670901, Recall macro: 0.48864109311523535, F1 macro: 0.5417693721536959 \n",
      "Precision micro: 0.8557554202858901, Recall micro: 0.7311400689534272, F1 micro: 0.788554862292809 \n",
      "Epoch: [7/10], Step: [1001/2499], Train_loss: 0.03814954659622163\n",
      "Precision macro: 0.7410328168074493, Recall macro: 0.5176111411375822, F1 macro: 0.5740277994388661 \n",
      "Precision micro: 0.8294368021713652, Recall micro: 0.7857184596505581, F1 micro: 0.806985956067699 \n",
      "Epoch: [7/10], Step: [2001/2499], Train_loss: 0.03815544887678698\n",
      "Precision macro: 0.7403670074363965, Recall macro: 0.5134169401556377, F1 macro: 0.5719633215904514 \n",
      "Precision micro: 0.8479413497414414, Recall micro: 0.7569683866066733, F1 micro: 0.799876505094165 \n",
      "Epoch: [8/10], Step: [1001/2499], Train_loss: 0.0372751427013427\n",
      "Precision macro: 0.7142050595952085, Recall macro: 0.553560227618584, F1 macro: 0.6046047653861785 \n",
      "Precision micro: 0.8416223740825107, Recall micro: 0.7772453690177058, F1 micro: 0.8081538414800862 \n",
      "Model Saved\n",
      "\n",
      "Epoch: [8/10], Step: [2001/2499], Train_loss: 0.03767990745510906\n",
      "Precision macro: 0.7104631881556683, Recall macro: 0.5406514230093734, F1 macro: 0.5929445762485256 \n",
      "Precision micro: 0.8364395686592283, Recall micro: 0.7841407117396132, F1 micro: 0.8094462540716613 \n",
      "Model Saved\n",
      "\n",
      "Epoch: [9/10], Step: [1001/2499], Train_loss: 0.03729407538753003\n",
      "Precision macro: 0.7183717783466832, Recall macro: 0.5308486067979122, F1 macro: 0.5808597427586935 \n",
      "Precision micro: 0.8332393660339535, Recall micro: 0.7772453690177058, F1 micro: 0.8042689563429677 \n",
      "Epoch: [9/10], Step: [2001/2499], Train_loss: 0.0371951974905096\n",
      "Precision macro: 0.7163666240578768, Recall macro: 0.5572144272944922, F1 macro: 0.606316244568881 \n",
      "Precision micro: 0.8479386511109654, Recall micro: 0.7559749897738561, F1 micro: 0.799320358356503 \n",
      "Epoch: [10/10], Step: [1001/2499], Train_loss: 0.03646156732551754\n",
      "Precision macro: 0.71484203761818, Recall macro: 0.5570713157047569, F1 macro: 0.6015199854413014 \n",
      "Precision micro: 0.8227855687402613, Recall micro: 0.8022555951615731, F1 micro: 0.8123908991390278 \n",
      "Model Saved\n",
      "\n",
      "Epoch: [10/10], Step: [2001/2499], Train_loss: 0.036901586799882355\n",
      "Precision macro: 0.7272546378830642, Recall macro: 0.5168333054481251, F1 macro: 0.581857843284974 \n",
      "Precision micro: 0.8527386028205969, Recall micro: 0.7596564015660608, F1 micro: 0.8035107237777366 \n",
      "\n",
      " {'optimizer': 'SWA', 'num_hidden': 2, 'dim_hidden': 200, 'dropout_rate': 0.2, 'learning_rate': 0.01, 'num_epochs': 10}\n",
      "Epoch: [1/10], Step: [1001/2499], Train_loss: 0.07266030113399029\n",
      "Precision macro: 0.5385545954300874, Recall macro: 0.30595873711286203, F1 macro: 0.35495576444933463 \n",
      "Precision micro: 0.8194434660091582, Recall micro: 0.6797171740781862, F1 micro: 0.7430688641880671 \n",
      "Model Saved\n",
      "\n",
      "Epoch: [1/10], Step: [2001/2499], Train_loss: 0.06013128186017275\n",
      "Precision macro: 0.5929872875426428, Recall macro: 0.36056592024551304, F1 macro: 0.4219190851742374 \n",
      "Precision micro: 0.8551033924497755, Recall micro: 0.6790159527844329, F1 micro: 0.7569539443684451 \n",
      "Model Saved\n",
      "\n",
      "Epoch: [2/10], Step: [1001/2499], Train_loss: 0.04408219688944519\n",
      "Precision macro: 0.6093872694235922, Recall macro: 0.4265890998800581, F1 macro: 0.48510831191947806 \n",
      "Precision micro: 0.8525252525252526, Recall micro: 0.7151288494127271, F1 micro: 0.7778060251684251 \n",
      "Model Saved\n",
      "\n",
      "Epoch: [2/10], Step: [2001/2499], Train_loss: 0.04349433800764382\n",
      "Precision macro: 0.6718018435689931, Recall macro: 0.4713341950077053, F1 macro: 0.5300281931234252 \n",
      "Precision micro: 0.8333441960503161, Recall micro: 0.7471512884941273, F1 micro: 0.7878974611782106 \n",
      "Model Saved\n",
      "\n",
      "Epoch: [3/10], Step: [1001/2499], Train_loss: 0.04120756959542632\n",
      "Precision macro: 0.6484776456904684, Recall macro: 0.5110271093433248, F1 macro: 0.5530459041012471 \n",
      "Precision micro: 0.8174578866768759, Recall micro: 0.7798165137614679, F1 micro: 0.7981936718703272 \n",
      "Model Saved\n",
      "\n",
      "Epoch: [3/10], Step: [2001/2499], Train_loss: 0.04106992219947279\n",
      "Precision macro: 0.673172068560685, Recall macro: 0.44538579297518516, F1 macro: 0.5075092604179159 \n",
      "Precision micro: 0.8543050893896842, Recall micro: 0.7288026646409163, F1 micro: 0.7865792129162462 \n",
      "Epoch: [4/10], Step: [1001/2499], Train_loss: 0.03961515498161316\n",
      "Precision macro: 0.7165594423222982, Recall macro: 0.47517688534858055, F1 macro: 0.5379647305194033 \n",
      "Precision micro: 0.8348327420172327, Recall micro: 0.7699994156489218, F1 micro: 0.8011064838739095 \n",
      "Model Saved\n",
      "\n",
      "Epoch: [4/10], Step: [2001/2499], Train_loss: 0.03983724975865334\n",
      "Precision macro: 0.665201704880004, Recall macro: 0.4792693091989932, F1 macro: 0.5312633570153479 \n",
      "Precision micro: 0.8263802148388708, Recall micro: 0.7732133465786244, F1 micro: 0.7989132075471699 \n",
      "Epoch: [5/10], Step: [1001/2499], Train_loss: 0.03878578617051244\n",
      "Precision macro: 0.690529419268466, Recall macro: 0.5037148663159932, F1 macro: 0.5576478793273443 \n",
      "Precision micro: 0.8557653676175171, Recall micro: 0.7468006778472507, F1 micro: 0.7975785564951478 \n",
      "Epoch: [5/10], Step: [2001/2499], Train_loss: 0.038720234220847485\n",
      "Precision macro: 0.6937835748994527, Recall macro: 0.5254725471746284, F1 macro: 0.5749214256340667 \n",
      "Precision micro: 0.8260097919216646, Recall micro: 0.7886986501490095, F1 micro: 0.8069231459061967 \n",
      "Model Saved\n",
      "\n",
      "Epoch: [6/10], Step: [1001/2499], Train_loss: 0.038339634474366904\n",
      "Precision macro: 0.7326464199629904, Recall macro: 0.5071667652062687, F1 macro: 0.5676036003749044 \n",
      "Precision micro: 0.8461237785016287, Recall micro: 0.7589551802723076, F1 micro: 0.8001725040815698 \n",
      "Epoch: [6/10], Step: [2001/2499], Train_loss: 0.038394959622994065\n",
      "Precision macro: 0.7372404862366676, Recall macro: 0.5223994345532079, F1 macro: 0.5874456099273956 \n",
      "Precision micro: 0.8538733569093214, Recall micro: 0.7477940746800678, F1 micro: 0.7973208722741433 \n",
      "Epoch: [7/10], Step: [1001/2499], Train_loss: 0.03726870928704738\n",
      "Precision macro: 0.7014664894142452, Recall macro: 0.5327194690008038, F1 macro: 0.5859364790177247 \n",
      "Precision micro: 0.8369606003752346, Recall micro: 0.7820370478583533, F1 micro: 0.8085671993474911 \n",
      "Model Saved\n",
      "\n",
      "Epoch: [7/10], Step: [2001/2499], Train_loss: 0.03753591725230217\n",
      "Precision macro: 0.7339826402567401, Recall macro: 0.5322832255698489, F1 macro: 0.5814976246333216 \n",
      "Precision micro: 0.8184444979532868, Recall micro: 0.7944837258224742, F1 micro: 0.8062861378799111 \n",
      "Epoch: [8/10], Step: [1001/2499], Train_loss: 0.03700271695666015\n",
      "Precision macro: 0.7094082961539957, Recall macro: 0.5547079838314267, F1 macro: 0.6030618295788336 \n",
      "Precision micro: 0.8140142517814727, Recall micro: 0.8010284578975049, F1 micro: 0.8074691485288487 \n",
      "Epoch: [8/10], Step: [2001/2499], Train_loss: 0.03714243729971349\n",
      "Precision macro: 0.7278926788397387, Recall macro: 0.5411213709112919, F1 macro: 0.5971612184379528 \n",
      "Precision micro: 0.8460146098648911, Recall micro: 0.7647402559457722, F1 micro: 0.8033269903627771 \n",
      "Epoch: [9/10], Step: [1001/2499], Train_loss: 0.03635337165184319\n",
      "Precision macro: 0.7104286844312645, Recall macro: 0.5864280488200667, F1 macro: 0.6303092766294992 \n",
      "Precision micro: 0.8441098317094774, Recall micro: 0.7796412084380295, F1 micro: 0.8105957046082809 \n",
      "Model Saved\n",
      "\n",
      "Epoch: [9/10], Step: [2001/2499], Train_loss: 0.0366673717321828\n",
      "Precision macro: 0.7434403393744361, Recall macro: 0.5150373434475234, F1 macro: 0.5788408817913508 \n",
      "Precision micro: 0.8351572759677318, Recall micro: 0.7804008648395956, F1 micro: 0.8068511358144032 \n",
      "Epoch: [10/10], Step: [1001/2499], Train_loss: 0.03653469828795642\n",
      "Precision macro: 0.7494701940514014, Recall macro: 0.5768361709179992, F1 macro: 0.6308736474515659 \n",
      "Precision micro: 0.8349460708782742, Recall micro: 0.7916204055396482, F1 micro: 0.8127062211290419 \n"
     ]
    },
    {
     "name": "stdout",
     "output_type": "stream",
     "text": [
      "Model Saved\n",
      "\n",
      "Epoch: [10/10], Step: [2001/2499], Train_loss: 0.03630785045819357\n",
      "Precision macro: 0.7385858289295506, Recall macro: 0.5513073627260797, F1 macro: 0.6059596451961754 \n",
      "Precision micro: 0.8384496124031008, Recall micro: 0.7900426576287033, F1 micro: 0.8135266863228834 \n",
      "Model Saved\n",
      "\n"
     ]
    }
   ],
   "source": [
    "results_df = pd.DataFrame(columns=[\n",
    "    \"optimizer\", \"num_hidden\", \"dim_hidden\", \"dropout_rate\", \"learning_rate\", \"num_epochs\", \n",
    "    'precision_macro', 'recall_macro', 'f1_macro', \n",
    "    'precision_micro', 'recall_micro', 'f1_micro'\n",
    "])\n",
    "\n",
    "\n",
    "for num_hidden, dim_hidden, dropout_rate, lr in itertools.product(range_num_hidden, range_dim_hidden, range_dropout, range_lr):\n",
    "    # model\n",
    "    options = {\n",
    "        \"VOCAB_SIZE\": len(index_to_word),\n",
    "        \"dim_e\": weights_matrix_ve.shape[1],\n",
    "        \"pretrained_embeddings\": weights_matrix_ve,\n",
    "        \"num_layers\": num_hidden,\n",
    "        \"num_classes\": len(classes),\n",
    "        \"mid_features\": dim_hidden,\n",
    "        \"dropout_rate\": dropout_rate,\n",
    "        \"activation\": nn.ReLU()\n",
    "    }\n",
    "    num_epochs = 10\n",
    "    \n",
    "    result = {\n",
    "        \"optimizer\": \"SWA\", \n",
    "        \"num_hidden\": num_hidden,\n",
    "        \"dim_hidden\": dim_hidden,\n",
    "        \"dropout_rate\": dropout_rate,\n",
    "        \"learning_rate\": lr,\n",
    "        \"num_epochs\": num_epochs\n",
    "    }\n",
    "    print(\"\\n\", result)\n",
    "    \n",
    "    model = FinalModel(options)\n",
    "    \n",
    "    if torch.cuda.is_available():\n",
    "        model = model.to(device)\n",
    "    \n",
    "    # Criterion and Optimizer\n",
    "    criterion = torch.nn.BCEWithLogitsLoss()\n",
    "    # optimizer = torch.optim.Adam(model.parameters(), lr=0.001)\n",
    "    base_opt = torch.optim.Adam(model.parameters(), lr=lr)\n",
    "    optimizer = SWA(base_opt) \n",
    "    \n",
    "    # train the model\n",
    "    model_name = \"_\".join([str(key) + \"_\" + str(value) for key, value in result.items()])\n",
    "    metrics_dict = train_model(wiki_loaders, model, criterion, optimizer, num_epochs=num_epochs, model_name=model_name)\n",
    "    result.update(metrics_dict)\n",
    "    \n",
    "    results_df = results_df.append(result, ignore_index=True)\n",
    "    results_df.to_csv(\"results/results_tuning_2_layers_1101.csv\")"
   ]
  },
  {
   "cell_type": "code",
   "execution_count": null,
   "metadata": {},
   "outputs": [],
   "source": [
    "# results_df.to_csv(\"results_tuning.csv\")"
   ]
  },
  {
   "cell_type": "code",
   "execution_count": null,
   "metadata": {},
   "outputs": [],
   "source": []
  }
 ],
 "metadata": {
  "kernelspec": {
   "display_name": "Python 3",
   "language": "python",
   "name": "python3"
  },
  "language_info": {
   "codemirror_mode": {
    "name": "ipython",
    "version": 3
   },
   "file_extension": ".py",
   "mimetype": "text/x-python",
