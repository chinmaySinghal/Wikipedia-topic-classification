{
 "cells": [
  {
   "cell_type": "code",
   "execution_count": 1,
   "metadata": {},
   "outputs": [
    {
     "name": "stderr",
     "output_type": "stream",
     "text": [
      "/scratch/mz2476/miniconda3/envs/wiki/lib/python3.7/site-packages/tensorboard/compat/tensorflow_stub/dtypes.py:541: FutureWarning: Passing (type, 1) or '1type' as a synonym of type is deprecated; in a future version of numpy, it will be understood as (type, (1,)) / '(1,)type'.\n",
      "  _np_qint8 = np.dtype([(\"qint8\", np.int8, 1)])\n",
      "/scratch/mz2476/miniconda3/envs/wiki/lib/python3.7/site-packages/tensorboard/compat/tensorflow_stub/dtypes.py:542: FutureWarning: Passing (type, 1) or '1type' as a synonym of type is deprecated; in a future version of numpy, it will be understood as (type, (1,)) / '(1,)type'.\n",
      "  _np_quint8 = np.dtype([(\"quint8\", np.uint8, 1)])\n",
      "/scratch/mz2476/miniconda3/envs/wiki/lib/python3.7/site-packages/tensorboard/compat/tensorflow_stub/dtypes.py:543: FutureWarning: Passing (type, 1) or '1type' as a synonym of type is deprecated; in a future version of numpy, it will be understood as (type, (1,)) / '(1,)type'.\n",
      "  _np_qint16 = np.dtype([(\"qint16\", np.int16, 1)])\n",
      "/scratch/mz2476/miniconda3/envs/wiki/lib/python3.7/site-packages/tensorboard/compat/tensorflow_stub/dtypes.py:544: FutureWarning: Passing (type, 1) or '1type' as a synonym of type is deprecated; in a future version of numpy, it will be understood as (type, (1,)) / '(1,)type'.\n",
      "  _np_quint16 = np.dtype([(\"quint16\", np.uint16, 1)])\n",
      "/scratch/mz2476/miniconda3/envs/wiki/lib/python3.7/site-packages/tensorboard/compat/tensorflow_stub/dtypes.py:545: FutureWarning: Passing (type, 1) or '1type' as a synonym of type is deprecated; in a future version of numpy, it will be understood as (type, (1,)) / '(1,)type'.\n",
      "  _np_qint32 = np.dtype([(\"qint32\", np.int32, 1)])\n",
      "/scratch/mz2476/miniconda3/envs/wiki/lib/python3.7/site-packages/tensorboard/compat/tensorflow_stub/dtypes.py:550: FutureWarning: Passing (type, 1) or '1type' as a synonym of type is deprecated; in a future version of numpy, it will be understood as (type, (1,)) / '(1,)type'.\n",
      "  np_resource = np.dtype([(\"resource\", np.ubyte, 1)])\n"
     ]
    }
   ],
   "source": [
    "from pathlib import Path\n",
    "import numpy as np\n",
    "import pandas as pd\n",
    "from functools import partial\n",
    "\n",
    "import torch\n",
    "import torch.nn as nn\n",
    "\n",
    "import sys\n",
    "sys.path.append(\"../../\")\n",
    "\n",
    "from baseline.MY_PATHS import *\n",
    "\n",
    "from baseline.data_creation import wiki_dataset\n",
    "from baseline.data_creation.preprocess import pad_collate_fn\n",
    "\n",
    "import baseline.training\n",
    "from baseline.training import get_train_val_loader, ClassifierLearner\n",
    "\n",
    "import baseline.model\n",
    "from baseline.model import FinalModel\n",
    "\n",
    "import baseline.results_analysis\n",
    "from baseline.results_analysis import plot_errorbars_by_model, get_mean_std_k"
   ]
  },
  {
   "cell_type": "code",
   "execution_count": 2,
   "metadata": {
    "scrolled": false
   },
   "outputs": [
    {
     "data": {
      "text/plain": [
       "'cuda:0'"
      ]
     },
     "execution_count": 2,
     "metadata": {},
     "output_type": "execute_result"
    }
   ],
   "source": [
    "device = \"cuda:0\" if torch.cuda.is_available() else \"cpu\"\n",
    "device"
   ]
  },
  {
   "cell_type": "markdown",
   "metadata": {},
   "source": [
    "# Monolingual (en)"
   ]
  },
  {
   "cell_type": "markdown",
   "metadata": {},
   "source": [
    "## Load the data"
   ]
  },
  {
   "cell_type": "code",
   "execution_count": 4,
   "metadata": {},
   "outputs": [
    {
     "name": "stdout",
     "output_type": "stream",
     "text": [
      "english vocab size is: 817780\n",
      "Order: dict_keys(['english'])\n"
     ]
    },
    {
     "name": "stderr",
     "output_type": "stream",
     "text": [
      "\r",
      "  0%|          | 0/26764 [00:00<?, ?it/s]"
     ]
    },
    {
     "name": "stdout",
     "output_type": "stream",
     "text": [
      "Combined train size: 8921 \n",
      "Combined val size: 3345\n"
     ]
    },
    {
     "name": "stderr",
     "output_type": "stream",
     "text": [
      "100%|██████████| 26764/26764 [00:05<00:00, 4844.11it/s]\n",
      "100%|██████████| 8921/8921 [00:01<00:00, 5019.07it/s]\n",
      "100%|██████████| 3345/3345 [00:00<00:00, 5067.60it/s]\n",
      "2519370it [03:49, 10979.00it/s]\n"
     ]
    },
    {
     "name": "stdout",
     "output_type": "stream",
     "text": [
      "Total words in vocab: 817780\n",
      "No. of words from vocab found in embeddings: 598288\n",
      "Saved /scratch/mz2476/wiki/data/202001_dumps/en_embeddings_matrix_with_idx_to_word.pt\n",
      "Embeddings matrix shape: torch.Size([817782, 300]), \n",
      "Vocab size: 817782\n"
     ]
    }
   ],
   "source": [
    "(index_to_word, word_to_index,\n",
    "     dict_wiki_tensor_dataset,\n",
    "     weights_matrix_ve, classes) = wiki_dataset.get_monolingual_datasets(\n",
    "                                                LANGUAGE=\"english\", \n",
    "                                                max_num_tokens=1000,\n",
    "                                                SAVE=True, LOAD=False)"
   ]
  },
  {
   "cell_type": "code",
   "execution_count": 5,
   "metadata": {
    "scrolled": false
   },
   "outputs": [
    {
     "data": {
      "text/plain": [
       "dict_keys(['monolingual_train_en', 'multilingual_train_en', 'val_en', 'val'])"
      ]
     },
     "execution_count": 5,
     "metadata": {},
     "output_type": "execute_result"
    }
   ],
   "source": [
    "dict_wiki_tensor_dataset[\"val\"] = dict_wiki_tensor_dataset[\"val_en\"]\n",
    "dict_wiki_tensor_dataset.keys()"
   ]
  },
  {
   "cell_type": "code",
   "execution_count": 6,
   "metadata": {
    "scrolled": true
   },
   "outputs": [
    {
     "data": {
      "text/plain": [
       "TextData(tokens=tensor([248506, 511995, 248510, 603388, 152379, 788195, 140934, 119704,  10576,\n",
       "        410789, 215106, 248506,  92660, 215109, 277006, 503897, 110248, 503757,\n",
       "        603388, 146796, 199755, 675997, 277435, 277006, 788195,  39328, 489037,\n",
       "        564572, 218821, 516156, 665525, 615497, 515918, 456060, 544746, 112305,\n",
       "        395740, 137598, 404768, 662928, 321119, 243021, 515918, 497519, 665525,\n",
       "        810601, 676188, 683500, 248506, 408507, 291099, 683500, 248506, 722596,\n",
       "        571074, 199553, 515918, 497519, 497519, 812585, 248506, 327210, 473388,\n",
       "        537788, 701508, 493548, 172258, 147819,  20959, 735413, 206958, 572983,\n",
       "        599505, 432467, 270475, 324940,   3661, 548235, 240244, 572529, 327671,\n",
       "        293412, 425949, 248506, 515918, 574971, 152377, 689740, 622962,  10576,\n",
       "        408507,  10588, 152377, 308430, 176632, 321196, 648138, 297959, 308430,\n",
       "        176632, 321196, 290922, 408507,  10588, 152377, 255129, 567578, 544944,\n",
       "        112300, 242330, 297959, 255129, 544944, 112300, 567578, 439791, 215109,\n",
       "        277006, 648631, 599971, 255129, 273367, 665525, 544944, 802498, 745848,\n",
       "        810601, 515918, 810601, 745848, 810601, 515918, 745848, 306139, 201228,\n",
       "        322230, 322230, 320710, 186305, 660802, 574586, 564572, 601736, 564209,\n",
       "        220120, 248506, 482574, 520471, 248348, 565394, 394759, 565394, 139729,\n",
       "        112336, 152379, 615414, 651456, 218989, 378057, 610258, 404768, 300258,\n",
       "        515918, 665525, 647507, 810601, 199537, 323397,  39328, 146796, 581803,\n",
       "        581806, 544755, 395730, 603044,   3468,  63490, 544755,  63490, 737182,\n",
       "         63490, 223546, 454824, 515918, 236080, 119922, 234789, 221153,  41988,\n",
       "        515918, 205051, 119922, 478256, 394759, 478257, 677264, 371747, 375617,\n",
       "        521662, 371747, 521662, 240649, 248506, 229695, 515918, 810601, 515918,\n",
       "        647507, 745848, 745848,  66070, 611442, 787450, 556037, 375617,  86367,\n",
       "         65989, 181175, 640454, 112162, 412996, 589521, 655386,  24688, 788195,\n",
       "         10576, 515918, 647507, 515918, 497519, 515918, 647507, 745848, 745848,\n",
       "        244345, 223834, 553974, 634492, 167687,  97425, 399489, 234789, 459289,\n",
       "        248506, 146796,  39328, 515918, 204345, 647507, 235340, 241520, 733424,\n",
       "        243051, 396578, 143403, 270484, 648255,  63490, 274670, 409305,  39328,\n",
       "        248506, 243021, 511995, 510274, 515918, 204345, 204345, 235340, 515918,\n",
       "        497519, 515918, 810601, 248506,  70249, 515918, 241564, 716061, 244345,\n",
       "        215109,  10576, 229827, 697329, 515918, 497519, 235340, 497519, 794985,\n",
       "        783789, 316368,  20669,  68111, 248506, 327442, 248506, 519646, 525741,\n",
       "        572744, 772313, 243021, 143403,   8117, 716061, 244345, 215109,  10576,\n",
       "         70249, 321125,  49999, 515918, 647507, 515918, 497519, 665525, 810601,\n",
       "        234789, 571056, 248506, 206933, 515918, 497519, 665525, 515918,  55272,\n",
       "        515027,  91704, 515895, 772232, 571056,  55272,   4222, 567147, 571124,\n",
       "        696332, 561806, 172449,  63218, 243936, 223969, 158722, 561806, 537668,\n",
       "        271136, 222857, 567147, 147819, 123869,  21523, 244345, 407146, 771400,\n",
       "        567147, 571054, 565749,  55272,  46291, 306139,  55272, 186085, 486182,\n",
       "         46019, 248506, 486182,  46019, 337702, 515918, 497519, 665525, 241564,\n",
       "        324909, 515918, 537788, 618202, 515918, 497519, 665525, 241564, 248510,\n",
       "        152409, 709568,  41294, 152409, 675597, 524275, 567147, 604440, 536888,\n",
       "        172251, 244345, 535822, 237309, 792973, 745848, 241564, 305813, 604440,\n",
       "         55272, 567147, 167234, 233091, 152409, 211090, 518784, 319817, 175422,\n",
       "        790200, 575285, 609500, 244345, 672610, 685953, 601725, 110436, 167687,\n",
       "        254058, 524679, 248506, 112305, 167065,  55272, 181175, 515918, 497519,\n",
       "        665525, 647507,  91704, 603044, 571056, 604535, 243879, 244345, 240090,\n",
       "        704742, 143471, 248506, 772313, 243021, 772313, 244345, 240090, 515918,\n",
       "        497519, 241564, 810601, 433520, 515918, 497519, 665525, 204345,  91704,\n",
       "        168924, 248506, 515918, 537788, 683500, 186088,  69601, 218583, 493548,\n",
       "        537788, 537576, 172267, 248507, 541585, 327736, 248510, 599745, 571530,\n",
       "        561806,  10222, 537599,  91704, 675597, 240468, 663394, 486182, 469699,\n",
       "        696292, 270474, 176632, 561642, 760361, 541585, 731230, 690684, 599973,\n",
       "        737144, 610219, 186803, 248510, 561840, 538723,  91704, 206933, 571056,\n",
       "        229695, 515918, 497519, 647507, 235340,  36427, 515918, 497519, 647507,\n",
       "        235340, 565595, 772232, 571056,   2951, 603044, 565595, 571924, 457290,\n",
       "        608526,  51420, 691558,  91704, 206933, 571056, 168641, 515918, 497519,\n",
       "        647507, 497519, 504805, 515918, 497519, 204345, 665525, 647507, 802498,\n",
       "        715742, 199553, 515918, 497519, 497519, 810601, 201228, 185002, 175174,\n",
       "        561806, 404505, 575959, 775035, 172449, 688358, 689048, 794893, 604239,\n",
       "        273584, 794893,  91704, 490115, 641361, 641361,  66921, 426170, 660802,\n",
       "        781601, 145905,   6889, 574151, 517984, 541585, 520072, 486182, 561806,\n",
       "        146416, 433520,  36427, 515918, 497519, 497519, 810601, 185164, 248506,\n",
       "        247898, 561806, 701508, 541585, 647507, 241564, 561806, 520067,  48992,\n",
       "        146416, 537597, 218489, 186803, 745848, 412917, 140863, 618232, 541585,\n",
       "         20669, 755669, 245410, 518784,  46222, 537668, 147598,  97506, 467112,\n",
       "        247010, 248510, 573707, 537788,  36427, 515918, 497519, 497519, 810601,\n",
       "        146416,  36297, 699459, 561806, 599516, 320662, 154026, 486182, 644489,\n",
       "        248506, 644489, 168681, 102345, 572983, 243936,  46019, 571124, 110985,\n",
       "        223288, 775769, 603516,  48973, 276749, 561806, 701508, 735014, 473750,\n",
       "        172251,  91704, 603931, 541585, 121938, 154011, 735144, 270474, 291002,\n",
       "        493548, 571924, 457290, 115522, 526713, 441196, 248510, 671286, 172258,\n",
       "        274658, 616451, 604538, 270474, 109332, 669264, 571530, 270474, 320655,\n",
       "        603237, 648255, 518784, 537668, 107291, 616451, 192470, 575916, 147819,\n",
       "        440397, 515918, 497519, 497519, 810601, 575841,  66789,  82625, 608561,\n",
       "        321125, 346257, 604647, 688604, 223000, 567256, 571056, 605552, 147820,\n",
       "        144591, 486182,  46019, 188374, 110154, 240077, 433520, 515918, 497519,\n",
       "        497519, 515918, 518784, 541585, 148323,  36427, 515918, 497519, 497519,\n",
       "        810601, 146416, 306139, 645589, 515918, 497519, 497519, 810601, 745848,\n",
       "        152409, 709568,  48979, 753468,   3018, 175422,  32439, 270474, 172449,\n",
       "        757503, 167941, 518784, 398764, 234789, 473750, 486182,  46019, 206949,\n",
       "         21350, 722596, 810601, 802519, 731218, 557333, 645589, 510780, 515918,\n",
       "        497519, 497519, 810601, 541585, 252947, 395723, 425676, 787257, 571056,\n",
       "        515027,  91704, 524831, 511966, 440397, 745848, 810601, 810601, 241564,\n",
       "        239424, 571056, 515027,  91704, 206941, 168641, 515918, 497519, 497519,\n",
       "        722596, 235340, 515918, 779438, 518784, 111123, 599679, 764074, 206941,\n",
       "        604539, 646292, 137785, 186362, 775035, 603249, 399489,  12290, 270474,\n",
       "        518784, 225461, 794864, 733371, 561806, 647334, 705457, 399489, 536566,\n",
       "          4410, 504805, 515918, 497519, 497519, 241564, 648255, 518784, 233152,\n",
       "        320655, 270474, 486182, 755709,  41830, 674530,  99822, 306139, 515918,\n",
       "        497519, 497519, 665525, 515918, 497519, 497519, 647507, 400072, 474636,\n",
       "        206949, 575841,  56368, 602350, 537690, 561840, 541585, 394351, 772464,\n",
       "        400072, 206941, 648255, 425634, 137422, 320662, 404768, 206933, 518784,\n",
       "        440734, 515918, 497519, 497519, 647507, 410728, 206941, 225403, 186803,\n",
       "        518784, 571056, 515027,  91704, 140940, 199884, 206941, 168641, 515918,\n",
       "        497519, 497519, 204345, 395723, 425674, 779438,  91704, 425634, 518748,\n",
       "        601152, 524332, 243607, 326245, 509948, 124641, 604539, 603235, 175422,\n",
       "        432467, 545093, 329559, 501911, 137785, 186362, 239416, 515918, 497519,\n",
       "        497519, 722596, 206941, 541676, 722435, 237049, 400072, 206949, 292745,\n",
       "        745848, 810601, 810601, 515918, 745848, 810601, 810601, 745848,  95368,\n",
       "        506830, 669264, 518784, 537668, 790164, 155034,   8124, 785961, 573306,\n",
       "        486182,  46019,  21350, 145179, 189621, 541585,  20666, 321134, 504805,\n",
       "        745848, 810601, 810601, 235340, 571056, 515027,  91704, 206933, 666221,\n",
       "        715633, 206941, 199738, 518748, 138173,  61193, 572983, 435516, 329559,\n",
       "        324813, 775032, 239424,  31148, 791649, 248506, 256682, 601731, 541676,\n",
       "        486182,  46019, 206949, 292745, 168641, 745848, 810601, 810601, 665525,\n",
       "        648255, 640866, 148218, 779461, 329559, 525781, 147820, 152551, 248506,\n",
       "        147820, 152551, 691087, 618470, 206949, 199553, 745848, 810601, 810601,\n",
       "        647507, 803744, 541585, 148590, 486182,  46019, 347002, 204345, 745848,\n",
       "        810601, 810601, 497519, 571056, 515027,  91704, 181175, 113516,  41896,\n",
       "        676820]), len=tensor([1000.]), target=tensor([0, 0, 0, 0, 0, 0, 0, 0, 0, 0, 0, 0, 0, 0, 0, 0, 0, 0, 0, 0, 0, 0, 1, 0,\n",
       "        0, 0, 0, 0, 0, 0, 0, 0, 0, 0, 0, 0, 0, 0, 0, 0, 0, 0, 0, 0, 0, 0, 0, 0,\n",
       "        0, 0, 0, 0, 0, 0, 0, 0, 0, 0, 0, 0, 0, 0, 0, 0]))"
      ]
     },
     "execution_count": 6,
     "metadata": {},
     "output_type": "execute_result"
    }
   ],
   "source": [
    "dict_wiki_tensor_dataset['multilingual_train_en'][1]"
   ]
  },
  {
   "cell_type": "markdown",
   "metadata": {},
   "source": [
    "## Model"
   ]
  },
  {
   "cell_type": "code",
   "execution_count": 10,
   "metadata": {},
   "outputs": [
    {
     "name": "stdout",
     "output_type": "stream",
     "text": [
      "\n",
      " {'optimizer': 'Adam', 'num_hidden': 1, 'dim_hidden': 150, 'dropout_rate': 0.2, 'learning_rate': 0.01, 'num_epochs': 10}\n"
     ]
    }
   ],
   "source": [
    "SAVE_MODEL = False\n",
    "\n",
    "batch_size = 8\n",
    "lr = 0.01\n",
    "num_epochs = 10\n",
    "\n",
    "options = {\n",
    "    \"VOCAB_SIZE\": len(index_to_word),\n",
    "    \"dim_e\": weights_matrix_ve.shape[1],\n",
    "    \"pretrained_embeddings\": weights_matrix_ve,\n",
    "    \"num_layers\": 1,\n",
    "    \"num_classes\": len(classes),\n",
    "    \"mid_features\": 150,\n",
    "    \"dropout_rate\": 0.2,\n",
    "    \"activation\": nn.ReLU(),\n",
    "}\n",
    "    \n",
    "result = {\n",
    "    \"optimizer\": \"Adam\", \n",
    "    \"num_hidden\": options[\"num_layers\"],\n",
    "    \"dim_hidden\": options[\"mid_features\"],\n",
    "    \"dropout_rate\": options[\"dropout_rate\"],\n",
    "    \"learning_rate\": lr,\n",
    "    \"num_epochs\": num_epochs,\n",
    "}\n",
    "\n",
    "\n",
    "print(\"\\n\", result)\n",
    "model_name = \"en_\" + \"_\".join([str(key) + \"_\" + str(value) for key, value in result.items()])\n",
    "\n",
    "learner = ClassifierLearner(options, model_name, device=device)\n",
    "\n",
    "TRAIN_SET_NAME = \"monolingual_train_en\"\n",
    "\n",
    "val_keys = [\"val\", \"val_en\"]\n",
    "train_loader, dict_val_loader = get_train_val_loader(\n",
    "    dict_wiki_tensor_dataset[TRAIN_SET_NAME], \n",
    "    [dict_wiki_tensor_dataset[key] for key in val_keys], \n",
    "    collate_fn=partial(pad_collate_fn, pad_token=word_to_index[\"<pad>\"])\n",
    ")\n",
    "\n",
    "dict_val_loader = {\n",
    "   key : val_loader \n",
    "   for key, val_loader in zip(val_keys, dict_val_loader)\n",
    "}"
   ]
  },
  {
   "cell_type": "code",
   "execution_count": 11,
   "metadata": {
    "scrolled": false
   },
   "outputs": [
    {
     "name": "stdout",
     "output_type": "stream",
     "text": [
      "0 epoch\n",
      "Precision macro: 0.6106, Recall macro: 0.2557, F1 macro: 0.3208 \n",
      "Precision micro: 0.8555, Recall micro: 0.4928, F1 micro: 0.6254 \n",
      "1 epoch\n",
      "Precision macro: 0.7089, Recall macro: 0.3627, F1 macro: 0.4438 \n",
      "Precision micro: 0.851, Recall micro: 0.5932, F1 micro: 0.6991 \n",
      "2 epoch\n",
      "Precision macro: 0.7626, Recall macro: 0.4093, F1 macro: 0.498 \n",
      "Precision micro: 0.8608, Recall micro: 0.6152, F1 micro: 0.7175 \n",
      "3 epoch\n",
      "Precision macro: 0.7843, Recall macro: 0.4418, F1 macro: 0.5381 \n",
      "Precision micro: 0.8705, Recall micro: 0.6193, F1 micro: 0.7237 \n",
      "4 epoch\n",
      "Precision macro: 0.8017, Recall macro: 0.4658, F1 macro: 0.5615 \n",
      "Precision micro: 0.8718, Recall micro: 0.6382, F1 micro: 0.7369 \n",
      "5 epoch\n",
      "Precision macro: 0.8114, Recall macro: 0.5062, F1 macro: 0.5983 \n",
      "Precision micro: 0.8674, Recall micro: 0.658, F1 micro: 0.7484 \n",
      "6 epoch\n",
      "Precision macro: 0.8221, Recall macro: 0.5129, F1 macro: 0.6078 \n",
      "Precision micro: 0.8643, Recall micro: 0.6721, F1 micro: 0.7561 \n",
      "7 epoch\n",
      "Precision macro: 0.8361, Recall macro: 0.5144, F1 macro: 0.613 \n",
      "Precision micro: 0.8757, Recall micro: 0.6593, F1 micro: 0.7522 \n",
      "8 epoch\n",
      "Precision macro: 0.7992, Recall macro: 0.5424, F1 macro: 0.6322 \n",
      "Precision micro: 0.8701, Recall micro: 0.673, F1 micro: 0.759 \n",
      "9 epoch\n",
      "Precision macro: 0.8191, Recall macro: 0.5397, F1 macro: 0.6301 \n",
      "Precision micro: 0.867, Recall micro: 0.6844, F1 micro: 0.765 \n"
     ]
    },
    {
     "data": {
      "text/plain": [
       "({'precision_macro': 0.81905119950785,\n",
       "  'recall_macro': 0.539689167695425,\n",
       "  'f1_macro': 0.6301319986603817,\n",
       "  'precision_micro': 0.8670085877862596,\n",
       "  'recall_micro': 0.6843988325016477,\n",
       "  'f1_micro': 0.764956590370955},\n",
       " 9)"
      ]
     },
     "execution_count": 11,
     "metadata": {},
     "output_type": "execute_result"
    }
   ],
   "source": [
    "learner.set_loaders(train_loader, dict_val_loader)\n",
    "learner.train_model(num_epochs=10, lr=0.01)"
   ]
  },
  {
   "cell_type": "code",
   "execution_count": 13,
   "metadata": {},
   "outputs": [
    {
     "data": {
      "text/plain": [
       "{'precision_macro': 0.81905119950785,\n",
       " 'recall_macro': 0.539689167695425,\n",
       " 'f1_macro': 0.6301319986603817,\n",
       " 'precision_micro': 0.8670085877862596,\n",
       " 'recall_micro': 0.6843988325016477,\n",
       " 'f1_micro': 0.764956590370955}"
      ]
     },
     "execution_count": 13,
     "metadata": {},
     "output_type": "execute_result"
    }
   ],
   "source": [
    "learner.best_metrics_dict"
   ]
  },
  {
   "cell_type": "code",
   "execution_count": null,
   "metadata": {},
   "outputs": [],
   "source": [
    "batch_size = 8\n",
    "lr = 0.01\n",
    "num_epochs = 10\n",
    "\n",
    "options = {\n",
    "    \"VOCAB_SIZE\": len(index_to_word),\n",
    "    \"dim_e\": weights_matrix_ve.shape[1],\n",
    "    \"pretrained_embeddings\": weights_matrix_ve,\n",
    "    \"num_layers\": 1,\n",
    "    \"num_classes\": len(classes),\n",
    "    \"mid_features\": 150,\n",
    "    \"dropout_rate\": 0.2,\n",
    "    \"activation\": nn.ReLU(),\n",
    "}\n",
    "    \n",
    "result = {\n",
    "    \"optimizer\": \"Adam\", \n",
    "    \"num_hidden\": options[\"num_layers\"],\n",
    "    \"dim_hidden\": options[\"mid_features\"],\n",
    "    \"dropout_rate\": options[\"dropout_rate\"],\n",
    "    \"learning_rate\": lr,\n",
    "    \"num_epochs\": num_epochs,\n",
    "}\n",
    "\n"
   ]
  },
  {
   "cell_type": "code",
   "execution_count": null,
   "metadata": {},
   "outputs": [],
   "source": []
  },
  {
   "cell_type": "code",
   "execution_count": 1,
   "metadata": {},
   "outputs": [
    {
     "ename": "SyntaxError",
     "evalue": "invalid syntax (<ipython-input-1-10c6ba477819>, line 30)",
     "output_type": "error",
     "traceback": [
      "\u001b[0;36m  File \u001b[0;32m\"<ipython-input-1-10c6ba477819>\"\u001b[0;36m, line \u001b[0;32m30\u001b[0m\n\u001b[0;31m    options, dict_wiki_tensor_dataset, *,\u001b[0m\n\u001b[0m                                        ^\u001b[0m\n\u001b[0;31mSyntaxError\u001b[0m\u001b[0;31m:\u001b[0m invalid syntax\n"
     ]
    }
   ],
   "source": [
    "import pandas as pd\n",
    "from itertools import product\n",
    "from training import fit_model_given_options\n",
    "\n",
    "# CONST\n",
    "NUM_EPOCHS = 35\n",
    "LEARNING_RATE = 0.3\n",
    "\n",
    "# CHANGE\n",
    "LANGUAGE = \"english\"\n",
    "LIST_MAX_NUM_TOKENS = [500, 1000, None]\n",
    "LIST_NUM_LAYERS     = [1, 2, 3]\n",
    "LIST_MID_FEATURES   = [50, 150, 250]\n",
    "\n",
    "\n",
    "list_params_names = [\"max_num_tokens\", \"num_layers\", \"mid_features\"]\n",
    "list_scores_names = ['precision_macro', 'recall_macro', 'f1_macro',\n",
    "                     'precision_micro',  'recall_micro', 'f1_micro']\n",
    "results_df = pd.DataFrame(columns=list_params_names+list_scores_names)\n",
    "\n",
    "# CALCULATED BASE ON PREVIOUS\n",
    "EXPERIMENT_NAME = f\"20200212_{LANGUAGE}_experiment\"\n",
    "\n",
    "\n",
    "for max_num_tokens in LIST_MAX_NUM_TOKENS:\n",
    "    (index_to_word, word_to_index,\n",
    "        dict_wiki_tensor_dataset,\n",
    "        weights_matrix_ve, classes) = wiki_dataset.get_monolingual_datasets(\n",
    "                                                    LANGUAGE=LANGUAGE, \n",
    "                                                    max_num_tokens=max_num_tokens,\n",
    "                                                    SAVE=True, LOAD=False)\n",
    "\n",
    "    for num_layers, mid_features in product(LIST_NUM_LAYERS, LIST_MID_FEATURES):\n",
    "        options[\"num_layers\"]   = num_layers\n",
    "        options[\"mid_features\"] = mid_features\n",
    "        \n",
    "        learner = fit_model_given_options(\n",
    "            options, dict_wiki_tensor_dataset,\n",
    "            num_epochs=NUM_EPOCHS, lr=LEARNING_RATE,\n",
    "            pad_idx=word_to_index[\"<pad>\"], device=device,\n",
    "            TRAIN_SET_NAME=\"train\")\n",
    "\n",
    "        # appending scores to df\n",
    "        list_current_params = [max_num_tokens, num_layers, mid_features]\n",
    "        list_best_metrics = list(learner.best_metrics_dict.values())\n",
    "        results_df.loc[results_df.shape[0]] = list_current_params + list_best_metrics\n",
    "\n",
    "        results_df.to_csv(f\"../results/{EXPERIMENT_NAME}.csv\")"
   ]
  },
  {
   "cell_type": "markdown",
   "metadata": {},
   "source": [
    "# Multilingual"
   ]
  },
  {
   "cell_type": "code",
   "execution_count": 3,
   "metadata": {
    "scrolled": true
   },
   "outputs": [
    {
     "name": "stdout",
     "output_type": "stream",
     "text": [
      "english vocab size is: 817780\n",
      "russian vocab size is: 911153\n",
      "hindi vocab size is: 462838\n",
      "Order: dict_keys(['english', 'russian', 'hindi'])\n"
     ]
    },
    {
     "name": "stderr",
     "output_type": "stream",
     "text": [
      "  1%|          | 162/26764 [00:00<00:16, 1606.36it/s]"
     ]
    },
    {
     "name": "stdout",
     "output_type": "stream",
     "text": [
      "Combined train size: 26763 \n",
      "Combined val size: 10035\n"
     ]
    },
    {
     "name": "stderr",
     "output_type": "stream",
     "text": [
      "100%|██████████| 26764/26764 [00:14<00:00, 1824.84it/s]\n",
      "100%|██████████| 8921/8921 [00:05<00:00, 1779.72it/s]\n",
      "100%|██████████| 3345/3345 [00:01<00:00, 1798.60it/s]\n",
      "100%|██████████| 26764/26764 [00:10<00:00, 2574.70it/s]\n",
      "100%|██████████| 8921/8921 [00:03<00:00, 2663.57it/s]\n",
      "100%|██████████| 3345/3345 [00:01<00:00, 2692.78it/s]\n",
      "100%|██████████| 26764/26764 [00:03<00:00, 7622.60it/s]\n",
      "100%|██████████| 8921/8921 [00:01<00:00, 7189.43it/s]\n",
      "100%|██████████| 3345/3345 [00:00<00:00, 7588.64it/s]\n",
      "100%|██████████| 17842/17842 [00:08<00:00, 2159.42it/s]\n",
      "100%|██████████| 17842/17842 [00:09<00:00, 1842.35it/s]\n",
      "100%|██████████| 17842/17842 [00:04<00:00, 3918.09it/s]\n",
      "100%|██████████| 26763/26763 [00:09<00:00, 2714.49it/s]\n",
      "100%|██████████| 10035/10035 [00:03<00:00, 2585.05it/s]\n",
      "2519370it [03:29, 12030.90it/s]\n"
     ]
    },
    {
     "name": "stdout",
     "output_type": "stream",
     "text": [
      "Total words in vocab: 817780\n",
      "No. of words from vocab found in embeddings: 598288\n",
      "Saved /scratch/mz2476/wiki/data/202001_dumps/en_embeddings_matrix_with_idx_to_word.pt\n"
     ]
    },
    {
     "name": "stderr",
     "output_type": "stream",
     "text": [
      "1888423it [02:41, 11661.07it/s]\n"
     ]
    },
    {
     "name": "stdout",
     "output_type": "stream",
     "text": [
      "Total words in vocab: 911153\n",
      "No. of words from vocab found in embeddings: 630674\n",
      "Saved /scratch/mz2476/wiki/data/202001_dumps/ru_embeddings_matrix_with_idx_to_word.pt\n"
     ]
    },
    {
     "name": "stderr",
     "output_type": "stream",
     "text": [
      "158016it [00:13, 11928.96it/s]\n"
     ]
    },
    {
     "name": "stdout",
     "output_type": "stream",
     "text": [
      "Total words in vocab: 462838\n",
      "No. of words from vocab found in embeddings: 104529\n",
      "Saved /scratch/mz2476/wiki/data/202001_dumps/hi_embeddings_matrix_with_idx_to_word.pt\n",
      "Embeddings matrix shape: torch.Size([2191773, 300]), \n",
      "Vocab size: 2191773\n"
     ]
    }
   ],
   "source": [
    "(index_to_word, word_to_index,\n",
    "     dict_wiki_tensor_dataset,\n",
    "     weights_matrix_ve, classes) = wiki_dataset.get_mixed_datasets(LANGUAGES_LIST=[\"english\", \"russian\", \"hindi\"],\n",
    "                                                                  SAVE=False, LOAD=True)"
   ]
  },
  {
   "cell_type": "code",
   "execution_count": 103,
   "metadata": {},
   "outputs": [
    {
     "name": "stdout",
     "output_type": "stream",
     "text": [
      "\n",
      " {'optimizer': 'Adam', 'num_hidden': 2, 'dim_hidden': 150, 'dropout_rate': 0.2, 'learning_rate': 0.01, 'num_epochs': 10}\n"
     ]
    }
   ],
   "source": [
    "SAVE_MODEL = False\n",
    "\n",
    "batch_size = 8\n",
    "lr = 0.01\n",
    "num_epochs = 10\n",
    "\n",
    "options = {\n",
    "    \"VOCAB_SIZE\": len(index_to_word),\n",
    "    \"dim_e\": weights_matrix_ve.shape[1],\n",
    "    \"pretrained_embeddings\": weights_matrix_ve,\n",
    "    \"num_layers\": 2,\n",
    "    \"num_classes\": len(classes),\n",
    "    \"mid_features\": 150,\n",
    "    \"dropout_rate\": 0.2,\n",
    "    \"activation\": nn.ReLU(),\n",
    "}\n",
    "    \n",
    "result = {\n",
    "    \"optimizer\": \"Adam\", \n",
    "    \"num_hidden\": options[\"num_layers\"],\n",
    "    \"dim_hidden\": options[\"mid_features\"],\n",
    "    \"dropout_rate\": options[\"dropout_rate\"],\n",
    "    \"learning_rate\": lr,\n",
    "    \"num_epochs\": num_epochs\n",
    "}\n",
    "\n",
    "\n",
    "print(\"\\n\", result)\n",
    "model_name = \"mixed_en_hi_ru_\" + \"_\".join([str(key) + \"_\" + str(value) for key, value in result.items()])\n",
    "\n",
    "learner = ClassifierLearner(options, model_name, device=device)\n",
    "\n",
    "TRAIN_SET_NAME = \"train_ru_hi\"\n",
    "\n",
    "val_keys = [\"val_en\", \"val_ru\", \"val_hi\", \"val\"]\n",
    "train_loader, dict_val_loader = get_train_val_loader(\n",
    "    dict_wiki_tensor_dataset[TRAIN_SET_NAME], \n",
    "    [dict_wiki_tensor_dataset[key] for key in val_keys], \n",
    "    collate_fn=partial(pad_collate_fn, pad_token=word_to_index[\"<pad>\"])\n",
    ")"
   ]
  },
  {
   "cell_type": "code",
   "execution_count": 104,
   "metadata": {},
   "outputs": [],
   "source": [
    "dict_val_loader = {\n",
    "   key : val_loader \n",
    "   for key, val_loader in zip(val_keys, dict_val_loader)\n",
    "}"
   ]
  },
  {
   "cell_type": "code",
   "execution_count": 105,
   "metadata": {
    "scrolled": true
   },
   "outputs": [],
   "source": [
    "learner.set_loaders(train_loader, dict_val_loader)"
   ]
  },
  {
   "cell_type": "code",
   "execution_count": 106,
   "metadata": {
    "scrolled": false
   },
   "outputs": [
    {
     "name": "stdout",
     "output_type": "stream",
     "text": [
      "0 epoch\n"
     ]
    },
    {
     "name": "stderr",
     "output_type": "stream",
     "text": [
      "/scratch/mz2476/miniconda3/envs/my_base/lib/python3.7/site-packages/sklearn/metrics/classification.py:1437: UndefinedMetricWarning: Precision and F-score are ill-defined and being set to 0.0 in labels with no predicted samples.\n",
      "  'precision', 'predicted', average, warn_for)\n"
     ]
    },
    {
     "name": "stdout",
     "output_type": "stream",
     "text": [
      "Precision macro: 0.478, Recall macro: 0.308, F1 macro: 0.338 \n",
      "Precision micro: 0.6999, Recall micro: 0.5129, F1 micro: 0.592 \n",
      "1 epoch\n",
      "Precision macro: 0.5606, Recall macro: 0.3561, F1 macro: 0.4034 \n",
      "Precision micro: 0.7577, Recall micro: 0.5422, F1 micro: 0.6321 \n",
      "2 epoch\n",
      "Precision macro: 0.5981, Recall macro: 0.3765, F1 macro: 0.4323 \n",
      "Precision micro: 0.78, Recall micro: 0.5484, F1 micro: 0.644 \n",
      "3 epoch\n",
      "Precision macro: 0.6154, Recall macro: 0.3955, F1 macro: 0.4528 \n",
      "Precision micro: 0.7778, Recall micro: 0.5398, F1 micro: 0.6373 \n",
      "4 epoch\n",
      "Precision macro: 0.6637, Recall macro: 0.3488, F1 macro: 0.426 \n",
      "Precision micro: 0.8099, Recall micro: 0.5097, F1 micro: 0.6257 \n",
      "5 epoch\n",
      "Precision macro: 0.6996, Recall macro: 0.3894, F1 macro: 0.4702 \n",
      "Precision micro: 0.7945, Recall micro: 0.5243, F1 micro: 0.6318 \n",
      "6 epoch\n",
      "Precision macro: 0.6558, Recall macro: 0.3706, F1 macro: 0.4479 \n",
      "Precision micro: 0.7915, Recall micro: 0.5234, F1 micro: 0.6301 \n",
      "7 epoch\n",
      "Precision macro: 0.6834, Recall macro: 0.3584, F1 macro: 0.4411 \n",
      "Precision micro: 0.8106, Recall micro: 0.4991, F1 micro: 0.6178 \n",
      "8 epoch\n",
      "Precision macro: 0.6554, Recall macro: 0.3647, F1 macro: 0.4465 \n",
      "Precision micro: 0.7949, Recall micro: 0.4888, F1 micro: 0.6054 \n",
      "9 epoch\n",
      "Precision macro: 0.7038, Recall macro: 0.372, F1 macro: 0.4508 \n",
      "Precision micro: 0.7853, Recall micro: 0.4983, F1 micro: 0.6097 \n"
     ]
    },
    {
     "data": {
      "text/plain": [
       "({'precision_macro': 0.5981279524194624,\n",
       "  'recall_macro': 0.3765000431513384,\n",
       "  'f1_macro': 0.4323283941173918,\n",
       "  'precision_micro': 0.7799862919808088,\n",
       "  'recall_micro': 0.548433734939759,\n",
       "  'f1_micro': 0.644029428409734},\n",
       " 2)"
      ]
     },
     "execution_count": 106,
     "metadata": {},
     "output_type": "execute_result"
    }
   ],
   "source": [
    "learner.train_model(num_epochs=10, lr=0.01)"
   ]
  },
  {
   "cell_type": "code",
   "execution_count": 14,
   "metadata": {},
   "outputs": [],
   "source": []
  },
  {
   "cell_type": "code",
   "execution_count": 12,
   "metadata": {},
   "outputs": [],
   "source": [
    "# model_to_mean_std = {}"
   ]
  },
  {
   "cell_type": "code",
   "execution_count": 107,
   "metadata": {
    "scrolled": false
   },
   "outputs": [
    {
     "name": "stderr",
     "output_type": "stream",
     "text": [
      "/scratch/mz2476/miniconda3/envs/my_base/lib/python3.7/site-packages/sklearn/metrics/classification.py:1439: UndefinedMetricWarning: Recall and F-score are ill-defined and being set to 0.0 in labels with no true samples.\n",
      "  'recall', 'true', average, warn_for)\n"
     ]
    }
   ],
   "source": [
    "model_name = \"ru_hi\"\n",
    "metric_name='f1_micro'\n",
    "\n",
    "model_to_mean_std[model_name] = get_mean_std_k(\n",
    "    learner, num_splits=5, dict_wiki_tensor_dataset=dict_wiki_tensor_dataset,\n",
    "    metric_name=metric_name)\n",
    "\n",
    "path_to_scores = Path(f\"results/{metric_name}_scores/\")\n",
    "path_to_scores.mkdir(exist_ok=True)\n",
    "\n",
    "torch.save({model_name : model_to_mean_std[model_name]},\n",
    "           path_to_scores/f\"{model_name}_mean_std.pt\")"
   ]
  },
  {
   "cell_type": "code",
   "execution_count": 108,
   "metadata": {},
   "outputs": [
    {
     "data": {
      "text/plain": [
       "{'en_ru_hi': (array([0.72578073, 0.73661407, 0.72184931, 0.71880635]),\n",
       "  array([0.01138429, 0.01295924, 0.00999198, 0.01529219])),\n",
       " 'en_10000': (array([0.56765543, 0.74780998, 0.51652677, 0.41886   ]),\n",
       "  array([0.01769305, 0.00759178, 0.01055212, 0.02637208])),\n",
       " 'ru_10000': (array([0.50379083, 0.28351139, 0.74216949, 0.38999469]),\n",
       "  array([0.01480177, 0.01275749, 0.01128729, 0.01290086])),\n",
       " 'hi_10000': (array([0.49762526, 0.2637681 , 0.44155477, 0.7321612 ]),\n",
       "  array([0.01204092, 0.02172915, 0.02064882, 0.00725539])),\n",
       " 'ru_hi': (array([0.60975416, 0.32264033, 0.72024224, 0.70657882]),\n",
       "  array([0.00287078, 0.02289315, 0.01780929, 0.01101969]))}"
      ]
     },
     "execution_count": 108,
     "metadata": {},
     "output_type": "execute_result"
    }
   ],
   "source": [
    "model_to_mean_std"
   ]
  },
  {
   "cell_type": "code",
   "execution_count": 76,
   "metadata": {},
   "outputs": [],
   "source": [
    "# for model_name in model_to_mean_std.keys():\n",
    "#     torch.save({model_name : model_to_mean_std[model_name]}, f\"results/f1_micro_scores/{model_name}_mean_std.pt\")"
   ]
  },
  {
   "cell_type": "code",
   "execution_count": 117,
   "metadata": {},
   "outputs": [],
   "source": [
    "def create_plot(files_list, model_names, colors_m=\"kbrg\"):\n",
    "    # Load\n",
    "    model_to_mean_std = {}\n",
    "    # files_list = path_to_scores.iterdir()\n",
    "\n",
    "    [model_to_mean_std.update(torch.load(fname)) for fname in files_list]\n",
    "\n",
    "    mean_mk = np.array([mean_std[0] for mean_std in model_to_mean_std.values()])\n",
    "    std_mk  = np.array([mean_std[1] for mean_std in model_to_mean_std.values()])\n",
    "\n",
    "    axis = plot_errorbars_by_model(np.array(mean_mk), np.array(std_mk), labels_m=model_names, colors_m=colors_m,)\n",
    "    axis.set_xlabel(\"Subset of validation articles\")\n",
    "    axis.set_ylabel(\"Micro F1 score\")\n",
    "    axis.legend()\n",
    "    return axis"
   ]
  },
  {
   "cell_type": "code",
   "execution_count": 40,
   "metadata": {},
   "outputs": [],
   "source": [
    "# ! rm -r results/f1_micro_scores/.ipynb_checkpoints"
   ]
  },
  {
   "cell_type": "code",
   "execution_count": 116,
   "metadata": {},
   "outputs": [
    {
     "data": {
      "text/plain": [
       "<matplotlib.axes._subplots.AxesSubplot at 0x2b2f16000490>"
      ]
     },
     "execution_count": 116,
     "metadata": {},
     "output_type": "execute_result"
    },
    {
     "data": {
      "image/png": "[encoded data removed]",
      "text/plain": [
       "<Figure size 432x288 with 1 Axes>"
      ]
     },
     "metadata": {
      "needs_background": "light"
     },
     "output_type": "display_data"
    }
   ],
   "source": [
    "path_to_scores = Path(f\"results/{metric_name}_scores/\")\n",
    "files_list = list(path_to_scores.iterdir())\n",
    "model_to_mean_std = {}\n",
    "\n",
    "[model_to_mean_std.update(torch.load(fname)) for fname in files_list]\n",
    "\n",
    "create_plot(files_list, model_to_mean_std.keys(), \"kbrgcybr\")"
   ]
  },
  {
   "cell_type": "code",
   "execution_count": 118,
   "metadata": {},
   "outputs": [
    {
     "data": {
      "text/plain": [
       "<matplotlib.axes._subplots.AxesSubplot at 0x2b2fb7392b10>"
      ]
     },
     "execution_count": 118,
     "metadata": {},
     "output_type": "execute_result"
    },
    {
     "data": {
      "image/png": "[encoded data removed]",
      "text/plain": [
       "<Figure size 432x288 with 1 Axes>"
      ]
     },
     "metadata": {
      "needs_background": "light"
     },
     "output_type": "display_data"
    }
   ],
   "source": [
    "files_list = [\n",
    "    'results/f1_micro_scores/en_ru_hi_mean_std.pt',\n",
    "    'results/f1_micro_scores/en_10000_mean_std.pt',\n",
    "    'results/f1_micro_scores/ru_10000_mean_std.pt',\n",
    "    'results/f1_micro_scores/hi_10000_mean_std.pt',\n",
    "]\n",
    "model_names = [\n",
    "    \"Mixed\",\n",
    "    \"English\",\n",
    "    \"Russian\",\n",
    "    \"Hindi\",\n",
    "]\n",
    "\n",
    "create_plot(files_list, model_names, \"kbrg\")"
   ]
  },
  {
   "cell_type": "code",
   "execution_count": 119,
   "metadata": {
    "scrolled": true
   },
   "outputs": [
    {
     "data": {
      "text/plain": [
       "<matplotlib.axes._subplots.AxesSubplot at 0x2b2f15fa50d0>"
      ]
     },
     "execution_count": 119,
     "metadata": {},
     "output_type": "execute_result"
    },
    {
     "data": {
      "image/png": "[encoded data removed]",
      "text/plain": [
       "<Figure size 432x288 with 1 Axes>"
      ]
     },
     "metadata": {
      "needs_background": "light"
     },
     "output_type": "display_data"
    }
   ],
   "source": [
    "files_list = [\n",
    "    'results/f1_micro_scores/en_ru_hi_mean_std.pt',\n",
    "    'results/f1_micro_scores/en_ru_mean_std.pt',\n",
    "    'results/f1_micro_scores/en_hi_mean_std.pt',\n",
    "    'results/f1_micro_scores/ru_hi_mean_std.pt',\n",
    "]\n",
    "model_names = [\n",
    "    \"Mixed\",\n",
    "    \"English and Russian\",\n",
    "    \"English and Hindi\",\n",
    "    \"Russian and Hindi\",\n",
    "]\n",
    "\n",
    "create_plot(files_list, model_names, \"kbrg\")"
   ]
  },
  {
   "cell_type": "code",
   "execution_count": 98,
   "metadata": {},
   "outputs": [
    {
     "data": {
      "text/plain": [
       "<matplotlib.axes._subplots.AxesSubplot at 0x2b2a62274450>"
      ]
     },
     "execution_count": 98,
     "metadata": {},
     "output_type": "execute_result"
    },
    {
     "data": {
      "image/png": "[encoded data removed]",
      "text/plain": [
       "<Figure size 432x288 with 1 Axes>"
      ]
     },
     "metadata": {
      "needs_background": "light"
     },
     "output_type": "display_data"
    }
   ],
   "source": []
  },
  {
   "cell_type": "code",
   "execution_count": 77,
   "metadata": {},
   "outputs": [
    {
     "name": "stderr",
     "output_type": "stream",
     "text": [
      "/scratch/mz2476/miniconda3/envs/my_base/lib/python3.7/site-packages/sklearn/metrics/classification.py:1437: UndefinedMetricWarning: Precision and F-score are ill-defined and being set to 0.0 in labels with no predicted samples.\n",
      "  'precision', 'predicted', average, warn_for)\n",
      "/scratch/mz2476/miniconda3/envs/my_base/lib/python3.7/site-packages/sklearn/metrics/classification.py:1439: UndefinedMetricWarning: Recall and F-score are ill-defined and being set to 0.0 in labels with no true samples.\n",
      "  'recall', 'true', average, warn_for)\n"
     ]
    },
    {
     "data": {
      "text/html": [
       "<div>\n",
       "<style scoped>\n",
       "    .dataframe tbody tr th:only-of-type {\n",
       "        vertical-align: middle;\n",
       "    }\n",
       "\n",
       "    .dataframe tbody tr th {\n",
       "        vertical-align: top;\n",
       "    }\n",
       "\n",
       "    .dataframe thead th {\n",
       "        text-align: right;\n",
       "    }\n",
       "</style>\n",
       "<table border=\"1\" class=\"dataframe\">\n",
       "  <thead>\n",
       "    <tr style=\"text-align: right;\">\n",
       "      <th></th>\n",
       "      <th>precision_macro</th>\n",
       "      <th>recall_macro</th>\n",
       "      <th>f1_macro</th>\n",
       "      <th>precision_micro</th>\n",
       "      <th>recall_micro</th>\n",
       "      <th>f1_micro</th>\n",
       "    </tr>\n",
       "  </thead>\n",
       "  <tbody>\n",
       "    <tr>\n",
       "      <td>0</td>\n",
       "      <td>0.601943</td>\n",
       "      <td>0.474778</td>\n",
       "      <td>0.501424</td>\n",
       "      <td>0.806897</td>\n",
       "      <td>0.659155</td>\n",
       "      <td>0.725581</td>\n",
       "    </tr>\n",
       "    <tr>\n",
       "      <td>1</td>\n",
       "      <td>0.581520</td>\n",
       "      <td>0.475961</td>\n",
       "      <td>0.501708</td>\n",
       "      <td>0.798276</td>\n",
       "      <td>0.685926</td>\n",
       "      <td>0.737849</td>\n",
       "    </tr>\n",
       "    <tr>\n",
       "      <td>2</td>\n",
       "      <td>0.601665</td>\n",
       "      <td>0.457821</td>\n",
       "      <td>0.497679</td>\n",
       "      <td>0.795041</td>\n",
       "      <td>0.668056</td>\n",
       "      <td>0.726038</td>\n",
       "    </tr>\n",
       "  </tbody>\n",
       "</table>\n",
       "</div>"
      ],
      "text/plain": [
       "   precision_macro  recall_macro  f1_macro  precision_micro  recall_micro  \\\n",
       "0         0.601943      0.474778  0.501424         0.806897      0.659155   \n",
       "1         0.581520      0.475961  0.501708         0.798276      0.685926   \n",
       "2         0.601665      0.457821  0.497679         0.795041      0.668056   \n",
       "\n",
       "   f1_micro  \n",
       "0  0.725581  \n",
       "1  0.737849  \n",
       "2  0.726038  "
      ]
     },
     "execution_count": 77,
     "metadata": {},
     "output_type": "execute_result"
    }
   ],
   "source": []
  },
  {
   "cell_type": "code",
   "execution_count": 55,
   "metadata": {},
   "outputs": [],
   "source": []
  },
  {
   "cell_type": "code",
   "execution_count": 69,
   "metadata": {},
   "outputs": [
    {
     "data": {
      "text/plain": [
       "[array([ 0,  5, 10, 15, 20, 25, 30, 35, 40, 45, 50, 55, 60, 65, 70, 75, 80,\n",
       "        85, 90, 95]),\n",
       " array([ 1,  6, 11, 16, 21, 26, 31, 36, 41, 46, 51, 56, 61, 66, 71, 76, 81,\n",
       "        86, 91, 96]),\n",
       " array([ 2,  7, 12, 17, 22, 27, 32, 37, 42, 47, 52, 57, 62, 67, 72, 77, 82,\n",
       "        87, 92, 97]),\n",
       " array([ 3,  8, 13, 18, 23, 28, 33, 38, 43, 48, 53, 58, 63, 68, 73, 78, 83,\n",
       "        88, 93, 98]),\n",
       " array([ 4,  9, 14, 19, 24, 29, 34, 39, 44, 49, 54, 59, 64, 69, 74, 79, 84,\n",
       "        89, 94, 99])]"
      ]
     },
     "execution_count": 69,
     "metadata": {},
     "output_type": "execute_result"
    }
   ],
   "source": [
    "[np.arange(start, 100, num_splits) for start in range(num_splits)]"
   ]
  },
  {
   "cell_type": "code",
   "execution_count": 64,
   "metadata": {},
   "outputs": [
    {
     "name": "stderr",
     "output_type": "stream",
     "text": [
      "/scratch/mz2476/miniconda3/envs/my_base/lib/python3.7/site-packages/sklearn/metrics/classification.py:1437: UndefinedMetricWarning: Precision and F-score are ill-defined and being set to 0.0 in labels with no predicted samples.\n",
      "  'precision', 'predicted', average, warn_for)\n",
      "/scratch/mz2476/miniconda3/envs/my_base/lib/python3.7/site-packages/sklearn/metrics/classification.py:1439: UndefinedMetricWarning: Recall and F-score are ill-defined and being set to 0.0 in labels with no true samples.\n",
      "  'recall', 'true', average, warn_for)\n"
     ]
    },
    {
     "data": {
      "text/html": [
       "<div>\n",
       "<style scoped>\n",
       "    .dataframe tbody tr th:only-of-type {\n",
       "        vertical-align: middle;\n",
       "    }\n",
       "\n",
       "    .dataframe tbody tr th {\n",
       "        vertical-align: top;\n",
       "    }\n",
       "\n",
       "    .dataframe thead th {\n",
       "        text-align: right;\n",
       "    }\n",
       "</style>\n",
       "<table border=\"1\" class=\"dataframe\">\n",
       "  <thead>\n",
       "    <tr style=\"text-align: right;\">\n",
       "      <th></th>\n",
       "      <th>precision_macro</th>\n",
       "      <th>recall_macro</th>\n",
       "      <th>f1_macro</th>\n",
       "      <th>precision_micro</th>\n",
       "      <th>recall_micro</th>\n",
       "      <th>f1_micro</th>\n",
       "    </tr>\n",
       "  </thead>\n",
       "  <tbody>\n",
       "    <tr>\n",
       "      <td>0</td>\n",
       "      <td>0.651972</td>\n",
       "      <td>0.482795</td>\n",
       "      <td>0.534985</td>\n",
       "      <td>0.798883</td>\n",
       "      <td>0.680304</td>\n",
       "      <td>0.734841</td>\n",
       "    </tr>\n",
       "    <tr>\n",
       "      <td>1</td>\n",
       "      <td>0.651972</td>\n",
       "      <td>0.482795</td>\n",
       "      <td>0.534985</td>\n",
       "      <td>0.798883</td>\n",
       "      <td>0.680304</td>\n",
       "      <td>0.734841</td>\n",
       "    </tr>\n",
       "  </tbody>\n",
       "</table>\n",
       "</div>"
      ],
      "text/plain": [
       "   precision_macro  recall_macro  f1_macro  precision_micro  recall_micro  \\\n",
       "0         0.651972      0.482795  0.534985         0.798883      0.680304   \n",
       "1         0.651972      0.482795  0.534985         0.798883      0.680304   \n",
       "\n",
       "   f1_micro  \n",
       "0  0.734841  \n",
       "1  0.734841  "
      ]
     },
     "execution_count": 64,
     "metadata": {},
     "output_type": "execute_result"
    }
   ],
   "source": [
    "indices = np.arange(500)\n",
    "indices = np.arange(500, 1000)\n",
    "\n",
    "dict_of_metrics = learner.get_test_metrics(\n",
    "    data.Subset(learner.val_loader.dataset, indices), device=learner.device)\n",
    "\n",
    "import pandas as pd\n",
    "\n",
    "pd.DataFrame([dict_of_metrics, dict_of_metrics])"
   ]
  },
  {
   "cell_type": "code",
   "execution_count": null,
   "metadata": {},
   "outputs": [],
   "source": [
    "# train the model\n",
    "model_name = \"mixed_en_hi_ru_\" + \"_\".join([str(key) + \"_\" + str(value) for key, value in result.items()])\n",
    "print(model_name)\n",
    "metrics_dict = train_model(train_loader, val_loader, model, criterion, optimizer, options, device,\n",
    "                num_epochs=10, model_name=\"model\", save_model=False)\n",
    "result.update(metrics_dict)"
   ]
  },
  {
   "cell_type": "code",
   "execution_count": 8,
   "metadata": {},
   "outputs": [
    {
     "data": {
      "text/plain": [
       "0.01"
      ]
     },
     "execution_count": 8,
     "metadata": {},
     "output_type": "execute_result"
    }
   ],
   "source": [
    "optimizer.param_groups[0][\"lr\"]"
   ]
  },
  {
   "cell_type": "code",
   "execution_count": 120,
   "metadata": {},
   "outputs": [],
   "source": [
    "# loaders = create_data_loaders_for_model(wiki_loaders[\"train\"], wiki_loaders[\"val\"])\n",
    "# # create dataloader\n",
    "# wiki_loaders = {}\n",
    "\n",
    "\n",
    "# for split, wiki_dataset in dict_wiki_tensor_dataset.items():\n",
    "#     wiki_loaders[split] = DataLoader(\n",
    "#         wiki_dataset, \n",
    "#         batch_size=batch_size, \n",
    "#         shuffle=True, \n",
    "#         collate_fn=partial(pad_collate_fn, word_to_index=word_to_index)\n",
    "#     )\n",
    "\n",
    "\n",
    "# train_model(\n",
    "#     wiki_loaders, model, criterion, optimizer, options=options, num_epochs=num_epochs, \n",
    "#     model_name=model_name, save_model=SAVE_MODEL\n",
    "# )\n",
    "\n",
    "# results_df = results_df.append(result, ignore_index=True)\n",
    "#     results_df.to_csv(\"results/results_tuning_2_3_layers_maxlen_500.csv\""
   ]
  },
  {
   "cell_type": "markdown",
   "metadata": {},
   "source": [
    "## Combine logits from NLP and GraphSAGE"
   ]
  },
  {
   "cell_type": "markdown",
   "metadata": {},
   "source": [
    "### NLP"
   ]
  },
  {
   "cell_type": "code",
   "execution_count": 124,
   "metadata": {},
   "outputs": [],
   "source": [
    "from MY_PATHS import *"
   ]
  },
  {
   "cell_type": "code",
   "execution_count": 125,
   "metadata": {},
   "outputs": [],
   "source": [
    "# Load train/val/test QIDs\n",
    "wiki_df_train = torch.load(f\"{PATH_TO_DATA_FOR_MODEL_FOLDER}df_wiki_monolingual_train_30000_en.pt\")\n",
    "wiki_df_val   = torch.load(f\"{PATH_TO_DATA_FOR_MODEL_FOLDER}df_wiki_valid_1000_en.pt\")\n",
    "wiki_df_test  = torch.load(f\"{PATH_TO_DATA_FOR_MODEL_FOLDER}df_wiki_test_en.pt\")\n"
   ]
  },
  {
   "cell_type": "code",
   "execution_count": null,
   "metadata": {},
   "outputs": [],
   "source": [
    "SAVE_MODEL = False\n",
    "\n",
    "batch_size = 8\n",
    "lr = 0.01\n",
    "num_epochs = 10\n",
    "\n",
    "options = {\n",
    "    \"VOCAB_SIZE\": len(index_to_word),\n",
    "    \"dim_e\": weights_matrix_ve.shape[1],\n",
    "    \"pretrained_embeddings\": weights_matrix_ve,\n",
    "    \"num_layers\": 2,\n",
    "    \"num_classes\": len(classes),\n",
    "    \"mid_features\": 150,\n",
    "    \"dropout_rate\": 0.2,\n",
    "    \"activation\": nn.ReLU(),\n",
    "}\n",
    "    \n",
    "result = {\n",
    "    \"optimizer\": \"Adam\", \n",
    "    \"num_hidden\": options[\"num_layers\"],\n",
    "    \"dim_hidden\": options[\"mid_features\"],\n",
    "    \"dropout_rate\": options[\"dropout_rate\"],\n",
    "    \"learning_rate\": lr,\n",
    "    \"num_epochs\": num_epochs\n",
    "}\n",
    "\n",
    "\n",
    "print(\"\\n\", result)\n",
    "model_name = \"mixed_en_hi_ru_\" + \"_\".join([str(key) + \"_\" + str(value) for key, value in result.items()])\n",
    "\n",
    "learner = ClassifierLearner(options, model_name, device=device)\n",
    "\n",
    "TRAIN_SET_NAME = \"train_ru_hi\"\n",
    "\n",
    "val_keys = [\"val_en\", \"val_ru\", \"val_hi\", \"val\"]\n",
    "train_loader, dict_val_loader = get_train_val_loader(\n",
    "    dict_wiki_tensor_dataset[TRAIN_SET_NAME], \n",
    "    [dict_wiki_tensor_dataset[key] for key in val_keys], \n",
    "    collate_fn=partial(pad_collate_fn, pad_token=word_to_index[\"<pad>\"])\n",
    ")"
   ]
  }
 ],
 "metadata": {
  "kernelspec": {
   "display_name": "Python 3",
   "language": "python",
   "name": "python3"
  },
  "language_info": {
   "codemirror_mode": {
    "name": "ipython",
    "version": 3
   },
   "file_extension": ".py",
   "mimetype": "text/x-python",
   "name": "python",
   "nbconvert_exporter": "python",
   "pygments_lexer": "ipython3",
   "version": "3.7.4-final"
  },
  "toc": {
   "base_numbering": 1,
   "nav_menu": {},
   "number_sections": true,
   "sideBar": true,
   "skip_h1_title": false,
   "title_cell": "Table of Contents",
   "title_sidebar": "Contents",
   "toc_cell": false,
   "toc_position": {},
   "toc_section_display": true,
   "toc_window_display": false
  }
 },
 "nbformat": 4,
 "nbformat_minor": 2
}