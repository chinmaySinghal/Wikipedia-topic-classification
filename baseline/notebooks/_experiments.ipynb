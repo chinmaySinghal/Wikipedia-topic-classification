{
 "cells": [
  {
   "cell_type": "code",
   "execution_count": 1,
   "metadata": {},
   "outputs": [],
   "source": [
    "# import dependencies\n",
    "import nltk\n",
    "import json\n",
    "import io\n",
    "import gzip\n",
    "import torch\n",
    "import string\n",
    "import random\n",
    "import jsonlines\n",
    "import pandas as pd\n",
    "import pickle as pkl\n",
    "import numpy as np\n",
    "from tqdm import tqdm, tqdm_notebook\n",
    "from functools import partial\n",
    "\n",
    "import torch\n",
    "import torch.nn as nn\n",
    "import torch.functional as F\n",
    "from torch.autograd import Variable\n",
    "from torch.utils.data import Dataset, RandomSampler, SequentialSampler, DataLoader\n",
    "from sklearn.preprocessing import MultiLabelBinarizer"
   ]
  },
  {
   "cell_type": "code",
   "execution_count": 2,
   "metadata": {},
   "outputs": [
    {
     "data": {
      "text/plain": [
       "<module 'utils' from '/home/mz2476/topic-modeling/topic-modeling/baseline/utils.py'>"
      ]
     },
     "execution_count": 2,
     "metadata": {},
     "output_type": "execute_result"
    }
   ],
   "source": [
    "from importlib import reload\n",
    "\n",
    "import utils\n",
    "reload(utils)\n",
    "\n",
    "# import wiki_parser\n",
    "# reload(wiki_parser)"
   ]
  },
  {
   "cell_type": "code",
   "execution_count": 3,
   "metadata": {},
   "outputs": [
    {
     "data": {
      "text/plain": [
       "'cpu'"
      ]
     },
     "execution_count": 3,
     "metadata": {},
     "output_type": "execute_result"
    }
   ],
   "source": [
    "device = \"cuda:0\" if torch.cuda.is_available() else \"cpu\"\n",
    "device"
   ]
  },
  {
   "cell_type": "code",
   "execution_count": 4,
   "metadata": {},
   "outputs": [],
   "source": [
    "PATH_TO_DATA_FOLDER = \"/scratch/mz2476/wiki/data/aligned_datasets/\"\n",
    "\n",
    "SAVE = True\n",
    "DEBUG = False\n",
    "LOAD = False"
   ]
  },
  {
   "cell_type": "code",
   "execution_count": 5,
   "metadata": {},
   "outputs": [
    {
     "name": "stdout",
     "output_type": "stream",
     "text": [
      "{'classes_list': 'classes_list.pt', 'json': 'wikitext_topics_ru_filtered.json', 'wiki_df': 'wikitext_tokenized_text_sections_outlinks_ru.p'}\n"
     ]
    }
   ],
   "source": [
    "LANGUAGE = \"russian\"\n",
    "LANGUAGE_CODE = LANGUAGE[:2]\n",
    "FILE_NAMES_DICT = {\n",
    "    \"classes_list\": 'classes_list.pt',\n",
    "    \n",
    "    \"json\": f\"wikitext_topics_{LANGUAGE_CODE}_filtered.json\",\n",
    "    \"wiki_df\": f\"wikitext_tokenized_text_sections_outlinks_{LANGUAGE_CODE}.p\",\n",
    "#     \"vocab\": f\"vocab_train_{LANGUAGE_CODE}.pt\",\n",
    "#     \"train\": f\"df_wiki_train_{LANGUAGE_CODE}.pt\",\n",
    "#     \"val\": f\"df_wiki_valid_{LANGUAGE_CODE}.pt\",\n",
    "#     \"test\": f\"df_wiki_test_{LANGUAGE_CODE}.pt\",\n",
    "#     \"tensor_dataset\": f\"wiki_tensor_dataset_{LANGUAGE_CODE}.pt\",\n",
    "}\n",
    "\n",
    "print(FILE_NAMES_DICT)"
   ]
  },
  {
   "cell_type": "code",
   "execution_count": 6,
   "metadata": {},
   "outputs": [],
   "source": [
    "wiki_df_en = pkl.load(open(PATH_TO_DATA_FOLDER + f\"wikitext_tokenized_text_sections_outlinks_en.p\", \"rb\"))\n",
    "wiki_df_ru = pkl.load(open(PATH_TO_DATA_FOLDER + f\"wikitext_tokenized_text_sections_outlinks_ru.p\", \"rb\"))\n",
    "wiki_df_hi = pkl.load(open(PATH_TO_DATA_FOLDER + f\"wikitext_tokenized_text_sections_outlinks_hi.p\", \"rb\"))\n"
   ]
  },
  {
   "cell_type": "code",
   "execution_count": 7,
   "metadata": {},
   "outputs": [],
   "source": [
    "qids_en = set(wiki_df_en.QID)\n",
    "qids_ru = set(wiki_df_ru.QID)\n",
    "qids_hi = set(wiki_df_hi.QID)"
   ]
  },
  {
   "cell_type": "code",
   "execution_count": 8,
   "metadata": {},
   "outputs": [
    {
     "data": {
      "text/plain": [
       "(33823, 33711, 33637)"
      ]
     },
     "execution_count": 8,
     "metadata": {},
     "output_type": "execute_result"
    }
   ],
   "source": [
    "# num of unique qid is each language\n",
    "len(qids_en), len(qids_ru), len(qids_hi)"
   ]
  },
  {
   "cell_type": "code",
   "execution_count": 15,
   "metadata": {},
   "outputs": [
    {
     "name": "stdout",
     "output_type": "stream",
     "text": [
      "difference between EN and RU: 112 0\n",
      "difference between EN and HI: 186 0\n",
      "difference between RU and HI: 183 109\n"
     ]
    }
   ],
   "source": [
    "print(\"difference between EN and RU:\", len(qids_en.difference(qids_ru)), len(qids_ru.difference(qids_en)))\n",
    "print(\"difference between EN and HI:\", len(qids_en.difference(qids_hi)), len(qids_hi.difference(qids_en)))\n",
    "print(\"difference between RU and HI:\", len(qids_ru.difference(qids_hi)), len(qids_hi.difference(qids_ru)))"
   ]
  },
  {
   "cell_type": "code",
   "execution_count": 17,
   "metadata": {},
   "outputs": [
    {
     "data": {
      "text/plain": [
       "33528"
      ]
     },
     "execution_count": 17,
     "metadata": {},
     "output_type": "execute_result"
    }
   ],
   "source": [
    "33823 - 186 - 112 + 3"
   ]
  },
  {
   "cell_type": "code",
   "execution_count": null,
   "metadata": {},
   "outputs": [],
   "source": []
  }
 ],
 "metadata": {
  "kernelspec": {
   "display_name": "Python 3",
   "language": "python",
   "name": "python3"
  },
  "language_info": {
   "codemirror_mode": {
    "name": "ipython",
    "version": 3
   },
   "file_extension": ".py",
   "mimetype": "text/x-python",
   "name": "python",
   "nbconvert_exporter": "python",
   "pygments_lexer": "ipython3",
   "version": "3.7.4"
  }
 },
 "nbformat": 4,
 "nbformat_minor": 2
}
