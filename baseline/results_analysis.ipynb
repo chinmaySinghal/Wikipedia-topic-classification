{
 "cells": [
  {
   "cell_type": "markdown",
   "metadata": {},
   "source": [
    "## Analysis"
   ]
  },
  {
   "cell_type": "markdown",
   "metadata": {},
   "source": [
    "<l>\n",
    "    <li> Plot graphs.</li>\n",
    "    <li> Find best hyperparameters.</li>\n",
    "<l>"
   ]
  },
  {
   "cell_type": "code",
   "execution_count": 1,
   "metadata": {},
   "outputs": [],
   "source": [
    "import numpy as np\n",
    "import pandas as pd"
   ]
  },
  {
   "cell_type": "code",
   "execution_count": 18,
   "metadata": {},
   "outputs": [],
   "source": [
    "results = {}\n",
    "results[\"results_1_layer\"] = pd.read_csv(\"results/results_tuning_1_layer.csv\", index_col=0)\n",
    "results[\"results_2_3_layers\"] = pd.read_csv(\"results/results_tuning_2_3_layers.csv\", index_col=0)\n",
    "results[\"results_1_layer_maxlen_500\"] = pd.read_csv(\"results/results_tuning_1_layer_maxlen_500.csv\", index_col=0)\n",
    "results[\"results_2_3_layers_maxlen_500\"] = pd.read_csv(\"results/results_tuning_2_3_layers_maxlen_500.csv\", index_col=0)"
   ]
  },
  {
   "cell_type": "code",
   "execution_count": 14,
   "metadata": {
    "scrolled": true
   },
   "outputs": [],
   "source": [
    "results[\"results_1_layer\"][\"max_num_tokens\"] = None\n",
    "results[\"results_2_3_layers\"][\"max_num_tokens\"] = None\n",
    "results[\"results_1_layer_maxlen_500\"][\"max_num_tokens\"] = 500\n",
    "results[\"results_2_3_layers_maxlen_500\"][\"max_num_tokens\"] = 500"
   ]
  },
  {
   "cell_type": "code",
   "execution_count": 19,
   "metadata": {},
   "outputs": [],
   "source": [
    "df_results = pd.concat(results.values(), ignore_index=True)"
   ]
  },
  {
   "cell_type": "code",
   "execution_count": 17,
   "metadata": {
    "scrolled": true
   },
   "outputs": [
    {
     "data": {
      "application/vnd.jupyter.widget-view+json": {
       "model_id": "602ec6361a394add9c291e2fb96fda52",
       "version_major": 2,
       "version_minor": 0
      },
      "text/plain": [
       "QgridWidget(grid_options={'fullWidthRows': True, 'syncColumnCellResize': True, 'forceFitColumns': True, 'defau…"
      ]
     },
     "metadata": {},
     "output_type": "display_data"
    }
   ],
   "source": [
    "# jupyter nbextension enable --py --sys-prefix qgrid\n",
    "import qgrid\n",
    "# only required if you have not enabled the ipywidgets nbextension yet\n",
    "# jupyter nbextension enable --py --sys-prefix widgetsnbextension\n",
    "#to show a df simply use the below:\n",
    "qgrid.show_grid(df_results)"
   ]
  },
  {
   "cell_type": "code",
   "execution_count": null,
   "metadata": {},
   "outputs": [],
   "source": []
  }
 ],
 "metadata": {
  "kernelspec": {
   "display_name": "Python 3",
   "language": "python",
   "name": "python3"
  },
  "language_info": {
   "codemirror_mode": {
    "name": "ipython",
    "version": 3
   },
   "file_extension": ".py",
   "mimetype": "text/x-python",
   "name": "python",
   "nbconvert_exporter": "python",
   "pygments_lexer": "ipython3",
   "version": "3.7.4"
  }
 },
 "nbformat": 4,
 "nbformat_minor": 2
}
