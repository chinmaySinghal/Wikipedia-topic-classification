{
 "cells": [
  {
   "cell_type": "markdown",
   "metadata": {},
   "source": [
    "## Analysis"
   ]
  },
  {
   "cell_type": "markdown",
   "metadata": {},
   "source": [
    "<l>\n",
    "    <li> Find best hyperparameters.</li>\n",
    "    <li> Plot per class tables for best models.</li>\n",
    "<l>"
   ]
  },
  {
   "cell_type": "markdown",
   "metadata": {},
   "source": [
    "### Load aggregated results to find best model"
   ]
  },
  {
   "cell_type": "code",
   "execution_count": 1,
   "metadata": {},
   "outputs": [],
   "source": [
    "import numpy as np\n",
    "import pandas as pd"
   ]
  },
  {
   "cell_type": "code",
   "execution_count": 2,
   "metadata": {},
   "outputs": [],
   "source": [
    "results = {}\n",
    "results[\"results_1_layer\"] = pd.read_csv(\"results/results_tuning_1_layer.csv\", index_col=0)\n",
    "results[\"results_2_3_layers\"] = pd.read_csv(\"results/results_tuning_2_3_layers.csv\", index_col=0)\n",
    "results[\"results_1_layer_maxlen_500\"] = pd.read_csv(\"results/results_tuning_1_layer_maxlen_500.csv\", index_col=0)\n",
    "results[\"results_2_3_layers_maxlen_500\"] = pd.read_csv(\"results/results_tuning_2_3_layers_maxlen_500.csv\", index_col=0)"
   ]
  },
  {
   "cell_type": "code",
   "execution_count": 3,
   "metadata": {
    "scrolled": true
   },
   "outputs": [],
   "source": [
    "results[\"results_1_layer\"][\"max_num_tokens\"] = None\n",
    "results[\"results_2_3_layers\"][\"max_num_tokens\"] = None\n",
    "results[\"results_1_layer_maxlen_500\"][\"max_num_tokens\"] = 500\n",
    "results[\"results_2_3_layers_maxlen_500\"][\"max_num_tokens\"] = 500"
   ]
  },
  {
   "cell_type": "code",
   "execution_count": 4,
   "metadata": {},
   "outputs": [],
   "source": [
    "df_results = pd.concat(results.values(), ignore_index=True)"
   ]
  },
  {
   "cell_type": "code",
   "execution_count": 5,
   "metadata": {
    "scrolled": true
   },
   "outputs": [
    {
     "data": {
      "application/vnd.jupyter.widget-view+json": {
       "model_id": "86ddd11a448446349177cfb65741a3c4",
       "version_major": 2,
       "version_minor": 0
      },
      "text/plain": [
       "QgridWidget(grid_options={'fullWidthRows': True, 'syncColumnCellResize': True, 'forceFitColumns': True, 'defau…"
      ]
     },
     "metadata": {},
     "output_type": "display_data"
    }
   ],
   "source": [
    "# jupyter nbextension enable --py --sys-prefix qgrid\n",
    "import qgrid\n",
    "# only required if you have not enabled the ipywidgets nbextension yet\n",
    "# jupyter nbextension enable --py --sys-prefix widgetsnbextension\n",
    "#to show a df simply use the below:\n",
    "qgrid.show_grid(df_results)"
   ]
  },
  {
   "cell_type": "markdown",
   "metadata": {},
   "source": [
    "### Load best model, show per class tables for it"
   ]
  },
  {
   "cell_type": "code",
   "execution_count": 2,
   "metadata": {},
   "outputs": [
    {
     "name": "stderr",
     "output_type": "stream",
     "text": [
      "[nltk_data] Downloading package stopwords to /home/mz2476/nltk_data...\n",
      "[nltk_data]   Package stopwords is already up-to-date!\n"
     ]
    }
   ],
   "source": [
    "# import dependencies\n",
    "import nltk\n",
    "import json\n",
    "import io\n",
    "import gzip\n",
    "import torch\n",
    "import string\n",
    "import random\n",
    "import jsonlines\n",
    "import pandas as pd\n",
    "import pickle as pkl\n",
    "import numpy as np\n",
    "from tqdm import tqdm\n",
    "from functools import partial\n",
    "\n",
    "import torch\n",
    "import torch.nn as nn\n",
    "import torch.functional as F\n",
    "from torch.autograd import Variable\n",
    "from torch.utils.data import Dataset, RandomSampler, SequentialSampler, DataLoader\n",
    "from sklearn.preprocessing import MultiLabelBinarizer\n",
    "\n",
    "import importlib\n",
    "\n",
    "import utils\n",
    "# importlib.reload(utils)\n",
    "from preprocess import create_lookups_for_vocab, pad_collate_fn\n",
    "\n",
    "import model\n",
    "# importlib.reload(model)\n",
    "from model import FinalModel\n",
    "from torchcontrib.optim import SWA\n",
    "\n",
    "import qgrid"
   ]
  },
  {
   "cell_type": "code",
   "execution_count": 3,
   "metadata": {},
   "outputs": [
    {
     "data": {
      "text/plain": [
       "'cpu'"
      ]
     },
     "execution_count": 3,
     "metadata": {},
     "output_type": "execute_result"
    }
   ],
   "source": [
    "device = \"cpu\" # \"cuda:0\" if torch.cuda.is_available() else \"cpu\"\n",
    "device"
   ]
  },
  {
   "cell_type": "code",
   "execution_count": 4,
   "metadata": {},
   "outputs": [],
   "source": [
    "PATH_TO_EMBEDDINGS_FOLDER = \"/scratch/mz2476/wiki/embeddings/\"\n",
    "PATH_TO_DATA_FOLDER = \"/scratch/mz2476/wiki/data/\"\n",
    "PATH_TO_MODELS_FOLDER = \"/scratch/mz2476/wiki/models/\""
   ]
  },
  {
   "cell_type": "code",
   "execution_count": 5,
   "metadata": {},
   "outputs": [],
   "source": [
    "def load_data_and_create_dataloaders(filename_vocab, filename_wiki_tensor_dataset, filename_classes):\n",
    "    # LOAD vocab, tensor dataset, classes\n",
    "    vocab = torch.load(PATH_TO_DATA_FOLDER + filename_vocab)\n",
    "    print(\"Vocab size is:\", len(vocab))\n",
    "    index_to_word, word_to_index = create_lookups_for_vocab(vocab)\n",
    "\n",
    "    wiki_tensor_dataset = torch.load(PATH_TO_DATA_FOLDER + filename_wiki_tensor_dataset)\n",
    "\n",
    "    classes = torch.load(PATH_TO_DATA_FOLDER + filename_classes)\n",
    "    mlb = MultiLabelBinarizer(classes)\n",
    "\n",
    "    # create dataloader\n",
    "    wiki_loaders = {}\n",
    "\n",
    "    batch_size = 32\n",
    "\n",
    "    for split, wiki_dataset in wiki_tensor_dataset.items():\n",
    "        wiki_loaders[split] = DataLoader(\n",
    "            wiki_dataset, \n",
    "            batch_size=batch_size, \n",
    "            shuffle=True, \n",
    "            collate_fn=partial(pad_collate_fn, word_to_index=word_to_index)\n",
    "        )\n",
    "    return vocab, index_to_word, word_to_index, wiki_tensor_dataset, classes, wiki_loaders"
   ]
  },
  {
   "cell_type": "code",
   "execution_count": 6,
   "metadata": {},
   "outputs": [
    {
     "name": "stdout",
     "output_type": "stream",
     "text": [
      "Vocab size is: 682850\n"
     ]
    }
   ],
   "source": [
    "vocab, index_to_word, word_to_index, wiki_tensor_dataset, classes, wiki_loaders = \\\n",
    "    load_data_and_create_dataloaders(\"vocab_all_en.pt\", \"wiki_tensor_dataset_vocab_all_en.pt\", \"classes_list.pt\")"
   ]
  },
  {
   "cell_type": "code",
   "execution_count": 10,
   "metadata": {},
   "outputs": [
    {
     "name": "stderr",
     "output_type": "stream",
     "text": [
      "341345it [00:26, 13650.51it/s]"
     ]
    },
    {
     "ename": "KeyboardInterrupt",
     "evalue": "",
     "output_type": "error",
     "traceback": [
      "\u001b[0;31m---------------------------------------------------------------------------\u001b[0m",
      "\u001b[0;31mKeyboardInterrupt\u001b[0m                         Traceback (most recent call last)",
      "\u001b[0;32m<ipython-input-10-615040705e9f>\u001b[0m in \u001b[0;36m<module>\u001b[0;34m\u001b[0m\n\u001b[1;32m      4\u001b[0m \u001b[0;34m\u001b[0m\u001b[0m\n\u001b[1;32m      5\u001b[0m \u001b[0;31m# # Aligned fasstext. 2.5 million\u001b[0m\u001b[0;34m\u001b[0m\u001b[0;34m\u001b[0m\u001b[0;34m\u001b[0m\u001b[0m\n\u001b[0;32m----> 6\u001b[0;31m \u001b[0membeddings\u001b[0m \u001b[0;34m=\u001b[0m \u001b[0mutils\u001b[0m\u001b[0;34m.\u001b[0m\u001b[0mload_vectors\u001b[0m\u001b[0;34m(\u001b[0m\u001b[0mPATH_TO_EMBEDDINGS_FOLDER\u001b[0m \u001b[0;34m+\u001b[0m \u001b[0;34m\"wiki.en.align.vec\"\u001b[0m\u001b[0;34m)\u001b[0m\u001b[0;34m\u001b[0m\u001b[0;34m\u001b[0m\u001b[0m\n\u001b[0m\u001b[1;32m      7\u001b[0m \u001b[0;31m#Creating the weight matrix for pretrained word embeddings\u001b[0m\u001b[0;34m\u001b[0m\u001b[0;34m\u001b[0m\u001b[0;34m\u001b[0m\u001b[0m\n\u001b[1;32m      8\u001b[0m \u001b[0mweights_matrix_ve\u001b[0m \u001b[0;34m=\u001b[0m \u001b[0mutils\u001b[0m\u001b[0;34m.\u001b[0m\u001b[0mcreate_embeddings_matrix\u001b[0m\u001b[0;34m(\u001b[0m\u001b[0mword_to_index\u001b[0m\u001b[0;34m,\u001b[0m \u001b[0membeddings\u001b[0m\u001b[0;34m)\u001b[0m\u001b[0;34m\u001b[0m\u001b[0;34m\u001b[0m\u001b[0m\n",
      "\u001b[0;32m~/topic-modeling/topic-modeling/baseline/utils.py\u001b[0m in \u001b[0;36mload_vectors\u001b[0;34m(fname)\u001b[0m\n\u001b[1;32m     14\u001b[0m     \u001b[0;32mfor\u001b[0m \u001b[0mline\u001b[0m \u001b[0;32min\u001b[0m \u001b[0mtqdm\u001b[0m\u001b[0;34m(\u001b[0m\u001b[0mfin\u001b[0m\u001b[0;34m)\u001b[0m\u001b[0;34m:\u001b[0m\u001b[0;34m\u001b[0m\u001b[0;34m\u001b[0m\u001b[0m\n\u001b[1;32m     15\u001b[0m         \u001b[0mtokens\u001b[0m \u001b[0;34m=\u001b[0m \u001b[0mline\u001b[0m\u001b[0;34m.\u001b[0m\u001b[0mrstrip\u001b[0m\u001b[0;34m(\u001b[0m\u001b[0;34m)\u001b[0m\u001b[0;34m.\u001b[0m\u001b[0msplit\u001b[0m\u001b[0;34m(\u001b[0m\u001b[0;34m' '\u001b[0m\u001b[0;34m)\u001b[0m\u001b[0;34m\u001b[0m\u001b[0;34m\u001b[0m\u001b[0m\n\u001b[0;32m---> 16\u001b[0;31m         \u001b[0mdata\u001b[0m\u001b[0;34m[\u001b[0m\u001b[0mtokens\u001b[0m\u001b[0;34m[\u001b[0m\u001b[0;36m0\u001b[0m\u001b[0;34m]\u001b[0m\u001b[0;34m]\u001b[0m \u001b[0;34m=\u001b[0m \u001b[0mtorch\u001b[0m\u001b[0;34m.\u001b[0m\u001b[0mtensor\u001b[0m\u001b[0;34m(\u001b[0m\u001b[0mlist\u001b[0m\u001b[0;34m(\u001b[0m\u001b[0mmap\u001b[0m\u001b[0;34m(\u001b[0m\u001b[0mfloat\u001b[0m\u001b[0;34m,\u001b[0m \u001b[0mtokens\u001b[0m\u001b[0;34m[\u001b[0m\u001b[0;36m1\u001b[0m\u001b[0;34m:\u001b[0m\u001b[0;34m]\u001b[0m\u001b[0;34m)\u001b[0m\u001b[0;34m)\u001b[0m\u001b[0;34m)\u001b[0m\u001b[0;34m\u001b[0m\u001b[0;34m\u001b[0m\u001b[0m\n\u001b[0m\u001b[1;32m     17\u001b[0m     \u001b[0;32mreturn\u001b[0m \u001b[0mdata\u001b[0m\u001b[0;34m\u001b[0m\u001b[0;34m\u001b[0m\u001b[0m\n\u001b[1;32m     18\u001b[0m \u001b[0;34m\u001b[0m\u001b[0m\n",
      "\u001b[0;31mKeyboardInterrupt\u001b[0m: "
     ]
    }
   ],
   "source": [
    "# import utils\n",
    "# import importlib\n",
    "# importlib.reload(utils)\n",
    "\n",
    "# # Aligned fasstext. 2.5 million\n",
    "embeddings = utils.load_vectors(PATH_TO_EMBEDDINGS_FOLDER + \"wiki.en.align.vec\")\n",
    "#Creating the weight matrix for pretrained word embeddings\n",
    "weights_matrix_ve = utils.create_embeddings_matrix(word_to_index, embeddings)"
   ]
  },
  {
   "cell_type": "code",
   "execution_count": null,
   "metadata": {},
   "outputs": [],
   "source": [
    "options_best_1_layer = {\n",
    "    \"VOCAB_SIZE\": len(index_to_word),\n",
    "    \"dim_e\": weights_matrix_ve.shape[1],\n",
    "    \"pretrained_embeddings\": weights_matrix_ve,\n",
    "    \"num_layers\": 1,\n",
    "    \"num_classes\": len(classes),\n",
    "    \"mid_features\": 150,\n",
    "    \"dropout_rate\": 0.2,\n",
    "    \"activation\": nn.ReLU(),\n",
    "    \"file_name\": \"en_optimizer_SWA_num_hidden_1_dim_hidden_150_dropout_rate_0_learning_rate_0.01_num_epochs_10.pth\"\n",
    "}\n",
    "\n",
    "options_best = {\n",
    "    \"VOCAB_SIZE\": len(index_to_word),\n",
    "    \"dim_e\": weights_matrix_ve.shape[1],\n",
    "    \"pretrained_embeddings\": weights_matrix_ve,\n",
    "    \"num_layers\": 2,\n",
    "    \"num_classes\": len(classes),\n",
    "    \"mid_features\": 200,\n",
    "    \"dropout_rate\": 0.2,\n",
    "    \"activation\": nn.ReLU(),\n",
    "    \"file_name\": \"en_optimizer_SWA_num_hidden_2_dim_hidden_200_dropout_rate_0.2_learning_rate_0.01_num_epochs_10.pth\"\n",
    "}"
   ]
  },
  {
   "cell_type": "code",
   "execution_count": null,
   "metadata": {
    "scrolled": true
   },
   "outputs": [],
   "source": [
    "options = options_best_2\n",
    "\n",
    "model = FinalModel(options)\n",
    "\n",
    "file_name = options[\"file_name\"]\n",
    "model.load_state_dict(torch.load(\n",
    "    f\"{PATH_TO_MODELS_FOLDER}/{file_name}\",\n",
    "    map_location=torch.device('cpu')\n",
    "))\n",
    "model.to(device)"
   ]
  },
  {
   "cell_type": "code",
   "execution_count": null,
   "metadata": {},
   "outputs": [],
   "source": [
    "# ls $PATH_TO_MODELS_FOLDER"
   ]
  },
  {
   "cell_type": "markdown",
   "metadata": {},
   "source": [
    "2 layer"
   ]
  },
  {
   "cell_type": "code",
   "execution_count": 39,
   "metadata": {
    "scrolled": true
   },
   "outputs": [
    {
     "name": "stderr",
     "output_type": "stream",
     "text": [
      "/home/mz2476/miniconda3/lib/python3.7/site-packages/sklearn/metrics/classification.py:1437: UndefinedMetricWarning: Precision and F-score are ill-defined and being set to 0.0 in labels with no predicted samples.\n",
      "  'precision', 'predicted', average, warn_for)\n"
     ]
    }
   ],
   "source": [
    "# metrics_dict = utils.test_model(wiki_loaders[\"val\"], model, device, threshold=0.5)\n",
    "\n",
    "# df_per_class_metrics = utils.create_per_class_tables(wiki_loaders[\"val\"], model, device, classes, threshold=0.5)\n",
    "# df_per_class_metrics.to_csv(\"results/per_class_metrics_val_best_2_layers_model.csv\")"
   ]
  },
  {
   "cell_type": "code",
   "execution_count": 12,
   "metadata": {},
   "outputs": [
    {
     "data": {
      "application/vnd.jupyter.widget-view+json": {
       "model_id": "b757ffea0a43455b829c95d36a638a62",
       "version_major": 2,
       "version_minor": 0
      },
      "text/plain": [
       "QgridWidget(grid_options={'fullWidthRows': True, 'syncColumnCellResize': True, 'forceFitColumns': True, 'defau…"
      ]
     },
     "metadata": {},
     "output_type": "display_data"
    },
    {
     "name": "stderr",
     "output_type": "stream",
     "text": [
      "\r",
      "341345it [00:40, 13650.51it/s]"
     ]
    }
   ],
   "source": [
    "df_per_class_metrics = pd.read_csv(\"results/per_class_metrics_val_best_2_layers_model.csv\", index_col=0)\n",
    "qgrid.show_grid(df_per_class_metrics)\n",
    "# df_per_class_metrics"
   ]
  },
  {
   "cell_type": "markdown",
   "metadata": {},
   "source": [
    "1 layer"
   ]
  },
  {
   "cell_type": "code",
   "execution_count": 46,
   "metadata": {
    "scrolled": true
   },
   "outputs": [],
   "source": [
    "# metrics_dict = utils.test_model(wiki_loaders[\"val\"], model, device, threshold=0.5)\n",
    "\n",
    "# df_per_class_metrics = utils.create_per_class_tables(wiki_loaders[\"val\"], model, device, classes, threshold=0.5)\n",
    "# df_per_class_metrics.to_csv(\"results/per_class_metrics_val_best_1_layer_model.csv\")"
   ]
  },
  {
   "cell_type": "code",
   "execution_count": 52,
   "metadata": {},
   "outputs": [
    {
     "data": {
      "text/html": [
       "<div>\n",
       "<style scoped>\n",
       "    .dataframe tbody tr th:only-of-type {\n",
       "        vertical-align: middle;\n",
       "    }\n",
       "\n",
       "    .dataframe tbody tr th {\n",
       "        vertical-align: top;\n",
       "    }\n",
       "\n",
       "    .dataframe thead th {\n",
       "        text-align: right;\n",
       "    }\n",
       "</style>\n",
       "<table border=\"1\" class=\"dataframe\">\n",
       "  <thead>\n",
       "    <tr style=\"text-align: right;\">\n",
       "      <th></th>\n",
       "      <th>class_name</th>\n",
       "      <th>count</th>\n",
       "      <th>TN</th>\n",
       "      <th>FN</th>\n",
       "      <th>TP</th>\n",
       "      <th>FP</th>\n",
       "      <th>precision</th>\n",
       "      <th>recall</th>\n",
       "      <th>f1</th>\n",
       "    </tr>\n",
       "  </thead>\n",
       "  <tbody>\n",
       "    <tr>\n",
       "      <td>0</td>\n",
       "      <td>Culture.Arts</td>\n",
       "      <td>19.0</td>\n",
       "      <td>9977</td>\n",
       "      <td>15</td>\n",
       "      <td>4</td>\n",
       "      <td>0</td>\n",
       "      <td>1.000000</td>\n",
       "      <td>0.210526</td>\n",
       "      <td>0.347826</td>\n",
       "    </tr>\n",
       "    <tr>\n",
       "      <td>1</td>\n",
       "      <td>Culture.Broadcasting</td>\n",
       "      <td>217.0</td>\n",
       "      <td>9739</td>\n",
       "      <td>104</td>\n",
       "      <td>113</td>\n",
       "      <td>40</td>\n",
       "      <td>0.738562</td>\n",
       "      <td>0.520737</td>\n",
       "      <td>0.610811</td>\n",
       "    </tr>\n",
       "    <tr>\n",
       "      <td>2</td>\n",
       "      <td>Culture.Crafts and hobbies</td>\n",
       "      <td>14.0</td>\n",
       "      <td>9982</td>\n",
       "      <td>14</td>\n",
       "      <td>0</td>\n",
       "      <td>0</td>\n",
       "      <td>0.000000</td>\n",
       "      <td>0.000000</td>\n",
       "      <td>0.000000</td>\n",
       "    </tr>\n",
       "    <tr>\n",
       "      <td>3</td>\n",
       "      <td>Culture.Entertainment</td>\n",
       "      <td>295.0</td>\n",
       "      <td>9659</td>\n",
       "      <td>131</td>\n",
       "      <td>164</td>\n",
       "      <td>42</td>\n",
       "      <td>0.796117</td>\n",
       "      <td>0.555932</td>\n",
       "      <td>0.654691</td>\n",
       "    </tr>\n",
       "    <tr>\n",
       "      <td>4</td>\n",
       "      <td>Culture.Food and drink</td>\n",
       "      <td>67.0</td>\n",
       "      <td>9925</td>\n",
       "      <td>32</td>\n",
       "      <td>35</td>\n",
       "      <td>4</td>\n",
       "      <td>0.897436</td>\n",
       "      <td>0.522388</td>\n",
       "      <td>0.660377</td>\n",
       "    </tr>\n",
       "    <tr>\n",
       "      <td>5</td>\n",
       "      <td>Culture.Games and toys</td>\n",
       "      <td>109.0</td>\n",
       "      <td>9882</td>\n",
       "      <td>41</td>\n",
       "      <td>68</td>\n",
       "      <td>5</td>\n",
       "      <td>0.931507</td>\n",
       "      <td>0.623853</td>\n",
       "      <td>0.747253</td>\n",
       "    </tr>\n",
       "    <tr>\n",
       "      <td>6</td>\n",
       "      <td>Culture.Internet culture</td>\n",
       "      <td>6.0</td>\n",
       "      <td>9990</td>\n",
       "      <td>6</td>\n",
       "      <td>0</td>\n",
       "      <td>0</td>\n",
       "      <td>0.000000</td>\n",
       "      <td>0.000000</td>\n",
       "      <td>0.000000</td>\n",
       "    </tr>\n",
       "    <tr>\n",
       "      <td>7</td>\n",
       "      <td>Culture.Language and literature</td>\n",
       "      <td>3631.0</td>\n",
       "      <td>5993</td>\n",
       "      <td>421</td>\n",
       "      <td>3210</td>\n",
       "      <td>372</td>\n",
       "      <td>0.896147</td>\n",
       "      <td>0.884054</td>\n",
       "      <td>0.890060</td>\n",
       "    </tr>\n",
       "    <tr>\n",
       "      <td>8</td>\n",
       "      <td>Culture.Media</td>\n",
       "      <td>3.0</td>\n",
       "      <td>9993</td>\n",
       "      <td>3</td>\n",
       "      <td>0</td>\n",
       "      <td>0</td>\n",
       "      <td>0.000000</td>\n",
       "      <td>0.000000</td>\n",
       "      <td>0.000000</td>\n",
       "    </tr>\n",
       "    <tr>\n",
       "      <td>9</td>\n",
       "      <td>Culture.Music</td>\n",
       "      <td>435.0</td>\n",
       "      <td>9472</td>\n",
       "      <td>92</td>\n",
       "      <td>343</td>\n",
       "      <td>89</td>\n",
       "      <td>0.793981</td>\n",
       "      <td>0.788506</td>\n",
       "      <td>0.791234</td>\n",
       "    </tr>\n",
       "    <tr>\n",
       "      <td>10</td>\n",
       "      <td>Culture.Performing arts</td>\n",
       "      <td>72.0</td>\n",
       "      <td>9920</td>\n",
       "      <td>51</td>\n",
       "      <td>21</td>\n",
       "      <td>4</td>\n",
       "      <td>0.840000</td>\n",
       "      <td>0.291667</td>\n",
       "      <td>0.432990</td>\n",
       "    </tr>\n",
       "    <tr>\n",
       "      <td>11</td>\n",
       "      <td>Culture.Philosophy and religion</td>\n",
       "      <td>274.0</td>\n",
       "      <td>9671</td>\n",
       "      <td>149</td>\n",
       "      <td>125</td>\n",
       "      <td>51</td>\n",
       "      <td>0.710227</td>\n",
       "      <td>0.456204</td>\n",
       "      <td>0.555556</td>\n",
       "    </tr>\n",
       "    <tr>\n",
       "      <td>12</td>\n",
       "      <td>Culture.Plastic arts</td>\n",
       "      <td>302.0</td>\n",
       "      <td>9651</td>\n",
       "      <td>121</td>\n",
       "      <td>181</td>\n",
       "      <td>43</td>\n",
       "      <td>0.808036</td>\n",
       "      <td>0.599338</td>\n",
       "      <td>0.688213</td>\n",
       "    </tr>\n",
       "    <tr>\n",
       "      <td>13</td>\n",
       "      <td>Culture.Sports</td>\n",
       "      <td>1567.0</td>\n",
       "      <td>8221</td>\n",
       "      <td>120</td>\n",
       "      <td>1447</td>\n",
       "      <td>208</td>\n",
       "      <td>0.874320</td>\n",
       "      <td>0.923421</td>\n",
       "      <td>0.898200</td>\n",
       "    </tr>\n",
       "    <tr>\n",
       "      <td>14</td>\n",
       "      <td>Culture.Visual arts</td>\n",
       "      <td>139.0</td>\n",
       "      <td>9834</td>\n",
       "      <td>102</td>\n",
       "      <td>37</td>\n",
       "      <td>23</td>\n",
       "      <td>0.616667</td>\n",
       "      <td>0.266187</td>\n",
       "      <td>0.371859</td>\n",
       "    </tr>\n",
       "    <tr>\n",
       "      <td>15</td>\n",
       "      <td>Geography.Africa</td>\n",
       "      <td>225.0</td>\n",
       "      <td>9744</td>\n",
       "      <td>124</td>\n",
       "      <td>101</td>\n",
       "      <td>27</td>\n",
       "      <td>0.789062</td>\n",
       "      <td>0.448889</td>\n",
       "      <td>0.572238</td>\n",
       "    </tr>\n",
       "    <tr>\n",
       "      <td>16</td>\n",
       "      <td>Geography.Americas</td>\n",
       "      <td>1884.0</td>\n",
       "      <td>7710</td>\n",
       "      <td>551</td>\n",
       "      <td>1333</td>\n",
       "      <td>402</td>\n",
       "      <td>0.768300</td>\n",
       "      <td>0.707537</td>\n",
       "      <td>0.736668</td>\n",
       "    </tr>\n",
       "    <tr>\n",
       "      <td>17</td>\n",
       "      <td>Geography.Antarctica</td>\n",
       "      <td>27.0</td>\n",
       "      <td>9968</td>\n",
       "      <td>3</td>\n",
       "      <td>24</td>\n",
       "      <td>1</td>\n",
       "      <td>0.960000</td>\n",
       "      <td>0.888889</td>\n",
       "      <td>0.923077</td>\n",
       "    </tr>\n",
       "    <tr>\n",
       "      <td>18</td>\n",
       "      <td>Geography.Asia</td>\n",
       "      <td>1399.0</td>\n",
       "      <td>8432</td>\n",
       "      <td>426</td>\n",
       "      <td>973</td>\n",
       "      <td>165</td>\n",
       "      <td>0.855009</td>\n",
       "      <td>0.695497</td>\n",
       "      <td>0.767048</td>\n",
       "    </tr>\n",
       "    <tr>\n",
       "      <td>19</td>\n",
       "      <td>Geography.Bodies of water</td>\n",
       "      <td>81.0</td>\n",
       "      <td>9893</td>\n",
       "      <td>34</td>\n",
       "      <td>47</td>\n",
       "      <td>22</td>\n",
       "      <td>0.681159</td>\n",
       "      <td>0.580247</td>\n",
       "      <td>0.626667</td>\n",
       "    </tr>\n",
       "    <tr>\n",
       "      <td>20</td>\n",
       "      <td>Geography.Europe</td>\n",
       "      <td>2168.0</td>\n",
       "      <td>7381</td>\n",
       "      <td>655</td>\n",
       "      <td>1513</td>\n",
       "      <td>447</td>\n",
       "      <td>0.771939</td>\n",
       "      <td>0.697878</td>\n",
       "      <td>0.733043</td>\n",
       "    </tr>\n",
       "    <tr>\n",
       "      <td>21</td>\n",
       "      <td>Geography.Landforms</td>\n",
       "      <td>57.0</td>\n",
       "      <td>9928</td>\n",
       "      <td>39</td>\n",
       "      <td>18</td>\n",
       "      <td>11</td>\n",
       "      <td>0.620690</td>\n",
       "      <td>0.315789</td>\n",
       "      <td>0.418605</td>\n",
       "    </tr>\n",
       "    <tr>\n",
       "      <td>22</td>\n",
       "      <td>Geography.Maps</td>\n",
       "      <td>1.0</td>\n",
       "      <td>9995</td>\n",
       "      <td>1</td>\n",
       "      <td>0</td>\n",
       "      <td>0</td>\n",
       "      <td>0.000000</td>\n",
       "      <td>0.000000</td>\n",
       "      <td>0.000000</td>\n",
       "    </tr>\n",
       "    <tr>\n",
       "      <td>23</td>\n",
       "      <td>Geography.Oceania</td>\n",
       "      <td>468.0</td>\n",
       "      <td>9500</td>\n",
       "      <td>145</td>\n",
       "      <td>323</td>\n",
       "      <td>28</td>\n",
       "      <td>0.920228</td>\n",
       "      <td>0.690171</td>\n",
       "      <td>0.788767</td>\n",
       "    </tr>\n",
       "    <tr>\n",
       "      <td>24</td>\n",
       "      <td>Geography.Parks</td>\n",
       "      <td>60.0</td>\n",
       "      <td>9931</td>\n",
       "      <td>50</td>\n",
       "      <td>10</td>\n",
       "      <td>5</td>\n",
       "      <td>0.666667</td>\n",
       "      <td>0.166667</td>\n",
       "      <td>0.266667</td>\n",
       "    </tr>\n",
       "    <tr>\n",
       "      <td>25</td>\n",
       "      <td>History_And_Society.Business and economics</td>\n",
       "      <td>207.0</td>\n",
       "      <td>9741</td>\n",
       "      <td>131</td>\n",
       "      <td>76</td>\n",
       "      <td>48</td>\n",
       "      <td>0.612903</td>\n",
       "      <td>0.367150</td>\n",
       "      <td>0.459215</td>\n",
       "    </tr>\n",
       "    <tr>\n",
       "      <td>26</td>\n",
       "      <td>History_And_Society.Education</td>\n",
       "      <td>181.0</td>\n",
       "      <td>9789</td>\n",
       "      <td>100</td>\n",
       "      <td>81</td>\n",
       "      <td>26</td>\n",
       "      <td>0.757009</td>\n",
       "      <td>0.447514</td>\n",
       "      <td>0.562500</td>\n",
       "    </tr>\n",
       "    <tr>\n",
       "      <td>27</td>\n",
       "      <td>History_And_Society.History and society</td>\n",
       "      <td>449.0</td>\n",
       "      <td>9492</td>\n",
       "      <td>400</td>\n",
       "      <td>49</td>\n",
       "      <td>55</td>\n",
       "      <td>0.471154</td>\n",
       "      <td>0.109131</td>\n",
       "      <td>0.177215</td>\n",
       "    </tr>\n",
       "    <tr>\n",
       "      <td>28</td>\n",
       "      <td>History_And_Society.Military and warfare</td>\n",
       "      <td>331.0</td>\n",
       "      <td>9624</td>\n",
       "      <td>90</td>\n",
       "      <td>241</td>\n",
       "      <td>41</td>\n",
       "      <td>0.854610</td>\n",
       "      <td>0.728097</td>\n",
       "      <td>0.786297</td>\n",
       "    </tr>\n",
       "    <tr>\n",
       "      <td>29</td>\n",
       "      <td>History_And_Society.Politics and government</td>\n",
       "      <td>343.0</td>\n",
       "      <td>9586</td>\n",
       "      <td>172</td>\n",
       "      <td>171</td>\n",
       "      <td>67</td>\n",
       "      <td>0.718487</td>\n",
       "      <td>0.498542</td>\n",
       "      <td>0.588640</td>\n",
       "    </tr>\n",
       "    <tr>\n",
       "      <td>30</td>\n",
       "      <td>History_And_Society.Transportation</td>\n",
       "      <td>551.0</td>\n",
       "      <td>9376</td>\n",
       "      <td>139</td>\n",
       "      <td>412</td>\n",
       "      <td>69</td>\n",
       "      <td>0.856549</td>\n",
       "      <td>0.747731</td>\n",
       "      <td>0.798450</td>\n",
       "    </tr>\n",
       "    <tr>\n",
       "      <td>31</td>\n",
       "      <td>STEM.Biology</td>\n",
       "      <td>771.0</td>\n",
       "      <td>9192</td>\n",
       "      <td>120</td>\n",
       "      <td>651</td>\n",
       "      <td>33</td>\n",
       "      <td>0.951754</td>\n",
       "      <td>0.844358</td>\n",
       "      <td>0.894845</td>\n",
       "    </tr>\n",
       "    <tr>\n",
       "      <td>32</td>\n",
       "      <td>STEM.Chemistry</td>\n",
       "      <td>36.0</td>\n",
       "      <td>9946</td>\n",
       "      <td>21</td>\n",
       "      <td>15</td>\n",
       "      <td>14</td>\n",
       "      <td>0.517241</td>\n",
       "      <td>0.416667</td>\n",
       "      <td>0.461538</td>\n",
       "    </tr>\n",
       "    <tr>\n",
       "      <td>33</td>\n",
       "      <td>STEM.Engineering</td>\n",
       "      <td>22.0</td>\n",
       "      <td>9974</td>\n",
       "      <td>17</td>\n",
       "      <td>5</td>\n",
       "      <td>0</td>\n",
       "      <td>1.000000</td>\n",
       "      <td>0.227273</td>\n",
       "      <td>0.370370</td>\n",
       "    </tr>\n",
       "    <tr>\n",
       "      <td>34</td>\n",
       "      <td>STEM.Geosciences</td>\n",
       "      <td>90.0</td>\n",
       "      <td>9894</td>\n",
       "      <td>40</td>\n",
       "      <td>50</td>\n",
       "      <td>12</td>\n",
       "      <td>0.806452</td>\n",
       "      <td>0.555556</td>\n",
       "      <td>0.657895</td>\n",
       "    </tr>\n",
       "    <tr>\n",
       "      <td>35</td>\n",
       "      <td>STEM.Information science</td>\n",
       "      <td>10.0</td>\n",
       "      <td>9986</td>\n",
       "      <td>8</td>\n",
       "      <td>2</td>\n",
       "      <td>0</td>\n",
       "      <td>1.000000</td>\n",
       "      <td>0.200000</td>\n",
       "      <td>0.333333</td>\n",
       "    </tr>\n",
       "    <tr>\n",
       "      <td>36</td>\n",
       "      <td>STEM.Mathematics</td>\n",
       "      <td>11.0</td>\n",
       "      <td>9985</td>\n",
       "      <td>11</td>\n",
       "      <td>0</td>\n",
       "      <td>0</td>\n",
       "      <td>0.000000</td>\n",
       "      <td>0.000000</td>\n",
       "      <td>0.000000</td>\n",
       "    </tr>\n",
       "    <tr>\n",
       "      <td>37</td>\n",
       "      <td>STEM.Medicine</td>\n",
       "      <td>154.0</td>\n",
       "      <td>9820</td>\n",
       "      <td>60</td>\n",
       "      <td>94</td>\n",
       "      <td>22</td>\n",
       "      <td>0.810345</td>\n",
       "      <td>0.610390</td>\n",
       "      <td>0.696296</td>\n",
       "    </tr>\n",
       "    <tr>\n",
       "      <td>38</td>\n",
       "      <td>STEM.Meteorology</td>\n",
       "      <td>5.0</td>\n",
       "      <td>9990</td>\n",
       "      <td>3</td>\n",
       "      <td>2</td>\n",
       "      <td>1</td>\n",
       "      <td>0.666667</td>\n",
       "      <td>0.400000</td>\n",
       "      <td>0.500000</td>\n",
       "    </tr>\n",
       "    <tr>\n",
       "      <td>39</td>\n",
       "      <td>STEM.Physics</td>\n",
       "      <td>18.0</td>\n",
       "      <td>9978</td>\n",
       "      <td>18</td>\n",
       "      <td>0</td>\n",
       "      <td>0</td>\n",
       "      <td>0.000000</td>\n",
       "      <td>0.000000</td>\n",
       "      <td>0.000000</td>\n",
       "    </tr>\n",
       "    <tr>\n",
       "      <td>40</td>\n",
       "      <td>STEM.Science</td>\n",
       "      <td>43.0</td>\n",
       "      <td>9952</td>\n",
       "      <td>41</td>\n",
       "      <td>2</td>\n",
       "      <td>1</td>\n",
       "      <td>0.666667</td>\n",
       "      <td>0.046512</td>\n",
       "      <td>0.086957</td>\n",
       "    </tr>\n",
       "    <tr>\n",
       "      <td>41</td>\n",
       "      <td>STEM.Space</td>\n",
       "      <td>67.0</td>\n",
       "      <td>9927</td>\n",
       "      <td>16</td>\n",
       "      <td>51</td>\n",
       "      <td>2</td>\n",
       "      <td>0.962264</td>\n",
       "      <td>0.761194</td>\n",
       "      <td>0.850000</td>\n",
       "    </tr>\n",
       "    <tr>\n",
       "      <td>42</td>\n",
       "      <td>STEM.Technology</td>\n",
       "      <td>275.0</td>\n",
       "      <td>9677</td>\n",
       "      <td>100</td>\n",
       "      <td>175</td>\n",
       "      <td>44</td>\n",
       "      <td>0.799087</td>\n",
       "      <td>0.636364</td>\n",
       "      <td>0.708502</td>\n",
       "    </tr>\n",
       "    <tr>\n",
       "      <td>43</td>\n",
       "      <td>STEM.Time</td>\n",
       "      <td>29.0</td>\n",
       "      <td>9966</td>\n",
       "      <td>29</td>\n",
       "      <td>0</td>\n",
       "      <td>1</td>\n",
       "      <td>0.000000</td>\n",
       "      <td>0.000000</td>\n",
       "      <td>0.000000</td>\n",
       "    </tr>\n",
       "  </tbody>\n",
       "</table>\n",
       "</div>"
      ],
      "text/plain": [
       "                                     class_name   count    TN   FN    TP   FP  \\\n",
       "0                                  Culture.Arts    19.0  9977   15     4    0   \n",
       "1                          Culture.Broadcasting   217.0  9739  104   113   40   \n",
       "2                    Culture.Crafts and hobbies    14.0  9982   14     0    0   \n",
       "3                         Culture.Entertainment   295.0  9659  131   164   42   \n",
       "4                        Culture.Food and drink    67.0  9925   32    35    4   \n",
       "5                        Culture.Games and toys   109.0  9882   41    68    5   \n",
       "6                      Culture.Internet culture     6.0  9990    6     0    0   \n",
       "7               Culture.Language and literature  3631.0  5993  421  3210  372   \n",
       "8                                 Culture.Media     3.0  9993    3     0    0   \n",
       "9                                 Culture.Music   435.0  9472   92   343   89   \n",
       "10                      Culture.Performing arts    72.0  9920   51    21    4   \n",
       "11              Culture.Philosophy and religion   274.0  9671  149   125   51   \n",
       "12                         Culture.Plastic arts   302.0  9651  121   181   43   \n",
       "13                               Culture.Sports  1567.0  8221  120  1447  208   \n",
       "14                          Culture.Visual arts   139.0  9834  102    37   23   \n",
       "15                             Geography.Africa   225.0  9744  124   101   27   \n",
       "16                           Geography.Americas  1884.0  7710  551  1333  402   \n",
       "17                         Geography.Antarctica    27.0  9968    3    24    1   \n",
       "18                               Geography.Asia  1399.0  8432  426   973  165   \n",
       "19                    Geography.Bodies of water    81.0  9893   34    47   22   \n",
       "20                             Geography.Europe  2168.0  7381  655  1513  447   \n",
       "21                          Geography.Landforms    57.0  9928   39    18   11   \n",
       "22                               Geography.Maps     1.0  9995    1     0    0   \n",
       "23                            Geography.Oceania   468.0  9500  145   323   28   \n",
       "24                              Geography.Parks    60.0  9931   50    10    5   \n",
       "25   History_And_Society.Business and economics   207.0  9741  131    76   48   \n",
       "26                History_And_Society.Education   181.0  9789  100    81   26   \n",
       "27      History_And_Society.History and society   449.0  9492  400    49   55   \n",
       "28     History_And_Society.Military and warfare   331.0  9624   90   241   41   \n",
       "29  History_And_Society.Politics and government   343.0  9586  172   171   67   \n",
       "30           History_And_Society.Transportation   551.0  9376  139   412   69   \n",
       "31                                 STEM.Biology   771.0  9192  120   651   33   \n",
       "32                               STEM.Chemistry    36.0  9946   21    15   14   \n",
       "33                             STEM.Engineering    22.0  9974   17     5    0   \n",
       "34                             STEM.Geosciences    90.0  9894   40    50   12   \n",
       "35                     STEM.Information science    10.0  9986    8     2    0   \n",
       "36                             STEM.Mathematics    11.0  9985   11     0    0   \n",
       "37                                STEM.Medicine   154.0  9820   60    94   22   \n",
       "38                             STEM.Meteorology     5.0  9990    3     2    1   \n",
       "39                                 STEM.Physics    18.0  9978   18     0    0   \n",
       "40                                 STEM.Science    43.0  9952   41     2    1   \n",
       "41                                   STEM.Space    67.0  9927   16    51    2   \n",
       "42                              STEM.Technology   275.0  9677  100   175   44   \n",
       "43                                    STEM.Time    29.0  9966   29     0    1   \n",
       "\n",
       "    precision    recall        f1  \n",
       "0    1.000000  0.210526  0.347826  \n",
       "1    0.738562  0.520737  0.610811  \n",
       "2    0.000000  0.000000  0.000000  \n",
       "3    0.796117  0.555932  0.654691  \n",
       "4    0.897436  0.522388  0.660377  \n",
       "5    0.931507  0.623853  0.747253  \n",
       "6    0.000000  0.000000  0.000000  \n",
       "7    0.896147  0.884054  0.890060  \n",
       "8    0.000000  0.000000  0.000000  \n",
       "9    0.793981  0.788506  0.791234  \n",
       "10   0.840000  0.291667  0.432990  \n",
       "11   0.710227  0.456204  0.555556  \n",
       "12   0.808036  0.599338  0.688213  \n",
       "13   0.874320  0.923421  0.898200  \n",
       "14   0.616667  0.266187  0.371859  \n",
       "15   0.789062  0.448889  0.572238  \n",
       "16   0.768300  0.707537  0.736668  \n",
       "17   0.960000  0.888889  0.923077  \n",
       "18   0.855009  0.695497  0.767048  \n",
       "19   0.681159  0.580247  0.626667  \n",
       "20   0.771939  0.697878  0.733043  \n",
       "21   0.620690  0.315789  0.418605  \n",
       "22   0.000000  0.000000  0.000000  \n",
       "23   0.920228  0.690171  0.788767  \n",
       "24   0.666667  0.166667  0.266667  \n",
       "25   0.612903  0.367150  0.459215  \n",
       "26   0.757009  0.447514  0.562500  \n",
       "27   0.471154  0.109131  0.177215  \n",
       "28   0.854610  0.728097  0.786297  \n",
       "29   0.718487  0.498542  0.588640  \n",
       "30   0.856549  0.747731  0.798450  \n",
       "31   0.951754  0.844358  0.894845  \n",
       "32   0.517241  0.416667  0.461538  \n",
       "33   1.000000  0.227273  0.370370  \n",
       "34   0.806452  0.555556  0.657895  \n",
       "35   1.000000  0.200000  0.333333  \n",
       "36   0.000000  0.000000  0.000000  \n",
       "37   0.810345  0.610390  0.696296  \n",
       "38   0.666667  0.400000  0.500000  \n",
       "39   0.000000  0.000000  0.000000  \n",
       "40   0.666667  0.046512  0.086957  \n",
       "41   0.962264  0.761194  0.850000  \n",
       "42   0.799087  0.636364  0.708502  \n",
       "43   0.000000  0.000000  0.000000  "
      ]
     },
     "execution_count": 52,
     "metadata": {},
     "output_type": "execute_result"
    }
   ],
   "source": [
    "df_per_class_metrics = pd.read_csv(\"results/per_class_metrics_val_best_1_layer_model.csv\", index_col=0)\n",
    "df_per_class_metrics"
   ]
  },
  {
   "cell_type": "code",
   "execution_count": 30,
   "metadata": {},
   "outputs": [],
   "source": []
  },
  {
   "cell_type": "markdown",
   "metadata": {},
   "source": [
    "## Analysis of models for Russian articles"
   ]
  },
  {
   "cell_type": "markdown",
   "metadata": {},
   "source": [
    "Load data and embedding matrix"
   ]
  },
  {
   "cell_type": "code",
   "execution_count": 8,
   "metadata": {},
   "outputs": [
    {
     "name": "stdout",
     "output_type": "stream",
     "text": [
      "Vocab size is: 376365\n"
     ]
    }
   ],
   "source": [
    "vocab, index_to_word, word_to_index, wiki_tensor_dataset, classes, wiki_loaders = \\\n",
    "    load_data_and_create_dataloaders(\"vocab_all_ru.pt\", \"wiki_tensor_dataset_vocab_all_ru.pt\", \"classes_list.pt\")"
   ]
  },
  {
   "cell_type": "code",
   "execution_count": 8,
   "metadata": {},
   "outputs": [
    {
     "name": "stderr",
     "output_type": "stream",
     "text": [
      "1888423it [02:53, 10855.83it/s]\n"
     ]
    },
    {
     "name": "stdout",
     "output_type": "stream",
     "text": [
      "Total words in vocab: 376365\n",
      "No. of words from vocab found in embeddings: 320854\n"
     ]
    }
   ],
   "source": [
    "# Load embeddings\n",
    "embeddings = utils.load_vectors(PATH_TO_EMBEDDINGS_FOLDER + \"wiki.ru.align.vec\")\n",
    "# Create the weight matrix for pretrained word embeddings\n",
    "weights_matrix_ve = utils.create_embeddings_matrix(word_to_index, embeddings)"
   ]
  },
  {
   "cell_type": "code",
   "execution_count": 9,
   "metadata": {},
   "outputs": [],
   "source": [
    "import model\n",
    "import importlib\n",
    "importlib.reload(model)\n",
    "\n",
    "from model import FinalModel\n",
    "from torchcontrib.optim import SWA"
   ]
  },
  {
   "cell_type": "code",
   "execution_count": 10,
   "metadata": {},
   "outputs": [],
   "source": [
    "# load models\n",
    "dict_model_names = {\n",
    "    \"frozen\": {\n",
    "        \"file_name\": \"ru_optimizer_SWA_num_hidden_2_dim_hidden_150_dropout_rate_0.2_learning_rate_0.01_num_epochs_10_frozen.pth\",\n",
    "    },\n",
    "    \"finetuned\": {\n",
    "        \"file_name\": \"ru_optimizer_SWA_num_hidden_2_dim_hidden_150_dropout_rate_0.2_learning_rate_0.01_num_epochs_10_init_pretrained.pth\",   \n",
    "    },\n",
    "    \"trained\": {\n",
    "        \"file_name\": \"ru_optimizer_SWA_num_hidden_2_dim_hidden_150_dropout_rate_0.2_learning_rate_0.01_num_epochs_10.pth\",   \n",
    "    },\n",
    "}\n",
    "\n",
    "options = {\n",
    "    \"VOCAB_SIZE\": len(index_to_word),\n",
    "    \"dim_e\": weights_matrix_ve.shape[1],\n",
    "    \"pretrained_embeddings\": weights_matrix_ve,\n",
    "    \"num_layers\": 2,\n",
    "    \"num_classes\": len(classes),\n",
    "    \"mid_features\": 150,\n",
    "    \"dropout_rate\": 0.2,\n",
    "    \"activation\": nn.ReLU(),\n",
    "}\n",
    "\n",
    "for model_name in dict_model_names.keys():\n",
    "    model = FinalModel(options)\n",
    "    # load the state dict from file\n",
    "    file_name = dict_model_names[model_name][\"file_name\"]\n",
    "    model.load_state_dict(torch.load(\n",
    "        f\"{PATH_TO_MODELS_FOLDER}{file_name}\",\n",
    "        map_location=torch.device('cpu')\n",
    "    ))\n",
    "    model.to(device)\n",
    "    # save model to dict\n",
    "    dict_model_names[model_name][\"model\"] = model"
   ]
  },
  {
   "cell_type": "code",
   "execution_count": 11,
   "metadata": {
    "scrolled": true
   },
   "outputs": [
    {
     "name": "stderr",
     "output_type": "stream",
     "text": [
      "/home/mz2476/miniconda3/lib/python3.7/site-packages/sklearn/metrics/classification.py:1437: UndefinedMetricWarning: Precision and F-score are ill-defined and being set to 0.0 in labels with no predicted samples.\n",
      "  'precision', 'predicted', average, warn_for)\n",
      "/home/mz2476/miniconda3/lib/python3.7/site-packages/sklearn/metrics/classification.py:1439: UndefinedMetricWarning: Recall and F-score are ill-defined and being set to 0.0 in labels with no true samples.\n",
      "  'recall', 'true', average, warn_for)\n"
     ]
    },
    {
     "name": "stdout",
     "output_type": "stream",
     "text": [
      "--- frozen\n",
      "Precision macro: 0.3503, Recall macro: 0.1435, F1 macro: 0.1715 \n",
      "Precision micro: 0.7678, Recall micro: 0.2693, F1 micro: 0.3987 \n",
      "--- finetuned\n",
      "Precision macro: 0.6015, Recall macro: 0.4704, F1 macro: 0.516 \n",
      "Precision micro: 0.8187, Recall micro: 0.7468, F1 micro: 0.7811 \n",
      "--- trained\n",
      "Precision macro: 0.5225, Recall macro: 0.3148, F1 macro: 0.3643 \n",
      "Precision micro: 0.8348, Recall micro: 0.6714, F1 micro: 0.7443 \n"
     ]
    }
   ],
   "source": [
    "# Calculate per class tables\n",
    "\n",
    "from utils import test_model\n",
    "\n",
    "for model_name in dict_model_names.keys():\n",
    "    model = dict_model_names[model_name][\"model\"]\n",
    "    # print aggregated metrics\n",
    "    metrics_dict = test_model(wiki_loaders[\"val\"], model, device=device)\n",
    "    metrics_dict = {key: round(value, 4) for key, value in metrics_dict.items()}\n",
    "    print(\"---\", model_name)\n",
    "    print(\"Precision macro: {}, Recall macro: {}, F1 macro: {} \".format(\n",
    "        metrics_dict[\"precision_macro\"], metrics_dict[\"recall_macro\"], metrics_dict[\"f1_macro\"]\n",
    "    ))\n",
    "    print(\"Precision micro: {}, Recall micro: {}, F1 micro: {} \".format(\n",
    "        metrics_dict[\"precision_micro\"], metrics_dict[\"recall_micro\"], metrics_dict[\"f1_micro\"]\n",
    "    ))\n",
    "    \n",
    "    # save per class tables\n",
    "    df_per_class_metrics = utils.create_per_class_tables(\n",
    "        wiki_loaders[\"val\"], model, device, classes, threshold=0.5\n",
    "    )\n",
    "    dict_model_names[model_name][\"df_results\"] = df_per_class_metrics\n",
    "#     # SAVE to file\n",
    "#     df_per_class_metrics.to_csv(f\"results/ru_per_class_metrics_val_{model_name}.csv\")"
   ]
  },
  {
   "cell_type": "code",
   "execution_count": 21,
   "metadata": {},
   "outputs": [
    {
     "name": "stdout",
     "output_type": "stream",
     "text": [
      "frozen\n"
     ]
    },
    {
     "data": {
      "application/vnd.jupyter.widget-view+json": {
       "model_id": "b8bf5f18a9b341fcadad55f10993c05d",
       "version_major": 2,
       "version_minor": 0
      },
      "text/plain": [
       "QgridWidget(grid_options={'fullWidthRows': True, 'syncColumnCellResize': True, 'forceFitColumns': True, 'defau…"
      ]
     },
     "metadata": {},
     "output_type": "display_data"
    }
   ],
   "source": [
    "# df_per_class_metrics = utils.create_per_class_tables(\n",
    "#         wiki_loaders[\"train\"], dict_model_names[\"frozen\"][\"model\"], device, classes, threshold=0.5\n",
    "#     )\n",
    "print(\"frozen\")\n",
    "qgrid.show_grid(df_per_class_metrics)"
   ]
  },
  {
   "cell_type": "code",
   "execution_count": 16,
   "metadata": {
    "scrolled": true
   },
   "outputs": [
    {
     "name": "stdout",
     "output_type": "stream",
     "text": [
      "frozen\n"
     ]
    },
    {
     "data": {
      "application/vnd.jupyter.widget-view+json": {
       "model_id": "7dd83a1da4cd433ba6ce3a966b5595ef",
       "version_major": 2,
       "version_minor": 0
      },
      "text/plain": [
       "QgridWidget(grid_options={'fullWidthRows': True, 'syncColumnCellResize': True, 'forceFitColumns': True, 'defau…"
      ]
     },
     "metadata": {},
     "output_type": "display_data"
    }
   ],
   "source": [
    "model_name = list(dict_model_names.keys())[0]\n",
    "print(model_name)\n",
    "qgrid.show_grid(dict_model_names[model_name][\"df_results\"])"
   ]
  },
  {
   "cell_type": "code",
   "execution_count": 17,
   "metadata": {},
   "outputs": [
    {
     "name": "stdout",
     "output_type": "stream",
     "text": [
      "finetuned\n"
     ]
    },
    {
     "data": {
      "application/vnd.jupyter.widget-view+json": {
       "model_id": "969e25a582f04160b779746372a376c1",
       "version_major": 2,
       "version_minor": 0
      },
      "text/plain": [
       "QgridWidget(grid_options={'fullWidthRows': True, 'syncColumnCellResize': True, 'forceFitColumns': True, 'defau…"
      ]
     },
     "metadata": {},
     "output_type": "display_data"
    }
   ],
   "source": [
    "model_name = list(dict_model_names.keys())[1]\n",
    "print(model_name)\n",
    "qgrid.show_grid(dict_model_names[model_name][\"df_results\"])"
   ]
  },
  {
   "cell_type": "code",
   "execution_count": 18,
   "metadata": {},
   "outputs": [
    {
     "name": "stdout",
     "output_type": "stream",
     "text": [
      "trained\n"
     ]
    },
    {
     "data": {
      "application/vnd.jupyter.widget-view+json": {
       "model_id": "d661143f82b84654a1f53ed45e1bde20",
       "version_major": 2,
       "version_minor": 0
      },
      "text/plain": [
       "QgridWidget(grid_options={'fullWidthRows': True, 'syncColumnCellResize': True, 'forceFitColumns': True, 'defau…"
      ]
     },
     "metadata": {},
     "output_type": "display_data"
    }
   ],
   "source": [
    "model_name = list(dict_model_names.keys())[2]\n",
    "print(model_name)\n",
    "qgrid.show_grid(dict_model_names[model_name][\"df_results\"])"
   ]
  },
  {
   "cell_type": "markdown",
   "metadata": {},
   "source": [
    "**Why frozen model classifies Russian articles on `Culture.Language and literature` incorrectly?**\n",
    "- look at such articles in English vs. in Russian"
   ]
  },
  {
   "cell_type": "code",
   "execution_count": 6,
   "metadata": {},
   "outputs": [],
   "source": [
    "df_wiki_ru = torch.load(PATH_TO_DATA_FOLDER + \"df_wiki_train_ru.pt\")"
   ]
  },
  {
   "cell_type": "code",
   "execution_count": 20,
   "metadata": {},
   "outputs": [],
   "source": [
    "class2idx = {name: idx for idx, name in enumerate(classes)}"
   ]
  },
  {
   "cell_type": "code",
   "execution_count": 21,
   "metadata": {},
   "outputs": [
    {
     "data": {
      "text/plain": [
       "7"
      ]
     },
     "execution_count": 21,
     "metadata": {},
     "output_type": "execute_result"
    }
   ],
   "source": [
    "class2idx['Culture.Language and literature']"
   ]
  },
  {
   "cell_type": "code",
   "execution_count": null,
   "metadata": {},
   "outputs": [],
   "source": []
  },
  {
   "cell_type": "code",
   "execution_count": 28,
   "metadata": {},
   "outputs": [],
   "source": [
    "from functools import partial\n",
    "\n",
    "def has_label_num(vec, label_num):\n",
    "    return int(vec[label_num] == 1)\n",
    "\n",
    "def has_label(labels_list, label):\n",
    "    return int(label in set(labels_list))"
   ]
  },
  {
   "cell_type": "code",
   "execution_count": 31,
   "metadata": {},
   "outputs": [],
   "source": [
    "df_wiki_ru[\"Culture.Language and literature\"] = df_wiki_ru.labels.apply(partial(has_label_num, label_num=7))\n",
    "df_wiki_ru[\"Culture.People\"] = df_wiki_ru.mid_level_categories_initial.apply(partial(has_label, label=\"Culture.People\"))"
   ]
  },
  {
   "cell_type": "code",
   "execution_count": 33,
   "metadata": {},
   "outputs": [
    {
     "data": {
      "text/plain": [
       "(4178, 7)"
      ]
     },
     "execution_count": 33,
     "metadata": {},
     "output_type": "execute_result"
    }
   ],
   "source": [
    "df_wiki_ru[df_wiki_ru[\"Culture.Language and literature\"] == 1].shape"
   ]
  },
  {
   "cell_type": "code",
   "execution_count": 34,
   "metadata": {},
   "outputs": [
    {
     "data": {
      "text/plain": [
       "(3762, 7)"
      ]
     },
     "execution_count": 34,
     "metadata": {},
     "output_type": "execute_result"
    }
   ],
   "source": [
    "df_wiki_ru[df_wiki_ru[\"Culture.People\"] == 1].shape"
   ]
  },
  {
   "cell_type": "code",
   "execution_count": null,
   "metadata": {},
   "outputs": [],
   "source": []
  }
 ],
 "metadata": {
  "kernelspec": {
   "display_name": "Python 3",
   "language": "python",
   "name": "python3"
  },
  "language_info": {
   "codemirror_mode": {
    "name": "ipython",
    "version": 3
   },
   "file_extension": ".py",
   "mimetype": "text/x-python",
   "name": "python",
   "nbconvert_exporter": "python",
   "pygments_lexer": "ipython3",
   "version": "3.7.4"
  }
 },
 "nbformat": 4,
 "nbformat_minor": 2
}
