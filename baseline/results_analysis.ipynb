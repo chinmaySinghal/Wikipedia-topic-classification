{
 "cells": [
  {
   "cell_type": "markdown",
   "metadata": {},
   "source": [
    "## Analysis"
   ]
  },
  {
   "cell_type": "markdown",
   "metadata": {},
   "source": [
    "<l>\n",
    "    <li> Find best hyperparameters.</li>\n",
    "    <li> Plot per class tables for best models.</li>\n",
    "<l>"
   ]
  },
  {
   "cell_type": "code",
   "execution_count": 1,
   "metadata": {},
   "outputs": [
    {
     "name": "stderr",
     "output_type": "stream",
     "text": [
      "[nltk_data] Downloading package stopwords to /home/mz2476/nltk_data...\n",
      "[nltk_data]   Package stopwords is already up-to-date!\n"
     ]
    }
   ],
   "source": [
    "import numpy as np\n",
    "import pandas as pd\n",
    "\n",
    "import qgrid\n",
    "\n",
    "# import dependencies\n",
    "import nltk\n",
    "import json\n",
    "import io\n",
    "import gzip\n",
    "import torch\n",
    "import string\n",
    "import random\n",
    "import jsonlines\n",
    "import pandas as pd\n",
    "import pickle as pkl\n",
    "import numpy as np\n",
    "from tqdm import tqdm\n",
    "from functools import partial\n",
    "\n",
    "import torch\n",
    "import torch.nn as nn\n",
    "import torch.functional as F\n",
    "from torch.autograd import Variable\n",
    "from torch.utils.data import Dataset, RandomSampler, SequentialSampler, DataLoader\n",
    "from sklearn.preprocessing import MultiLabelBinarizer\n",
    "\n",
    "import importlib\n",
    "\n",
    "import utils\n",
    "# importlib.reload(utils)\n",
    "from preprocess import create_lookups_for_vocab, pad_collate_fn\n",
    "\n",
    "import model\n",
    "# importlib.reload(model)\n",
    "from model import FinalModel\n",
    "from torchcontrib.optim import SWA"
   ]
  },
  {
   "cell_type": "code",
   "execution_count": 2,
   "metadata": {},
   "outputs": [
    {
     "data": {
      "text/plain": [
       "'cpu'"
      ]
     },
     "execution_count": 2,
     "metadata": {},
     "output_type": "execute_result"
    }
   ],
   "source": [
    "device = \"cpu\" # \"cuda:0\" if torch.cuda.is_available() else \"cpu\"\n",
    "device"
   ]
  },
  {
   "cell_type": "code",
   "execution_count": 3,
   "metadata": {},
   "outputs": [],
   "source": [
    "PATH_TO_EMBEDDINGS_FOLDER = \"/scratch/mz2476/wiki/embeddings/\"\n",
    "PATH_TO_DATA_FOLDER = \"/scratch/mz2476/wiki/data/\"\n",
    "PATH_TO_MODELS_FOLDER = \"/scratch/mz2476/wiki/models/\""
   ]
  },
  {
   "cell_type": "code",
   "execution_count": 6,
   "metadata": {},
   "outputs": [],
   "source": [
    "def load_data_and_create_dataloaders(filename_vocab, filename_wiki_tensor_dataset, filename_classes):\n",
    "    # LOAD vocab, tensor dataset, classes\n",
    "    vocab = torch.load(PATH_TO_DATA_FOLDER + filename_vocab)\n",
    "    print(\"Vocab size is:\", len(vocab))\n",
    "    index_to_word, word_to_index = create_lookups_for_vocab(vocab)\n",
    "\n",
    "    wiki_tensor_dataset = torch.load(PATH_TO_DATA_FOLDER + filename_wiki_tensor_dataset)\n",
    "\n",
    "    classes = torch.load(PATH_TO_DATA_FOLDER + filename_classes)\n",
    "    mlb = MultiLabelBinarizer(classes)\n",
    "\n",
    "    # create dataloader\n",
    "    wiki_loaders = {}\n",
    "\n",
    "    batch_size = 32\n",
    "\n",
    "    for split, wiki_dataset in wiki_tensor_dataset.items():\n",
    "        wiki_loaders[split] = DataLoader(\n",
    "            wiki_dataset, \n",
    "            batch_size=batch_size, \n",
    "            shuffle=True, \n",
    "            collate_fn=partial(pad_collate_fn, word_to_index=word_to_index)\n",
    "        )\n",
    "    return vocab, index_to_word, word_to_index, wiki_tensor_dataset, classes, wiki_loaders"
   ]
  },
  {
   "cell_type": "markdown",
   "metadata": {},
   "source": [
    "### Load aggregated results to find best model"
   ]
  },
  {
   "cell_type": "code",
   "execution_count": 5,
   "metadata": {},
   "outputs": [],
   "source": [
    "results = {}\n",
    "results[\"results_1_layer\"] = pd.read_csv(\"results/results_tuning_SWA.csv\", index_col=0)"
   ]
  },
  {
   "cell_type": "code",
   "execution_count": null,
   "metadata": {
    "scrolled": true
   },
   "outputs": [],
   "source": [
    "# results[\"results_1_layer\"][\"max_num_tokens\"] = None\n",
    "# results[\"results_2_3_layers\"][\"max_num_tokens\"] = None\n",
    "# results[\"results_1_layer_maxlen_500\"][\"max_num_tokens\"] = 500\n",
    "# results[\"results_2_3_layers_maxlen_500\"][\"max_num_tokens\"] = 500"
   ]
  },
  {
   "cell_type": "code",
   "execution_count": 7,
   "metadata": {},
   "outputs": [],
   "source": [
    "df_results = pd.concat(results.values(), ignore_index=True)"
   ]
  },
  {
   "cell_type": "code",
   "execution_count": 8,
   "metadata": {
    "scrolled": true
   },
   "outputs": [
    {
     "data": {
      "application/vnd.jupyter.widget-view+json": {
       "model_id": "dadccd66c1a04fa9851af78dd853171b",
       "version_major": 2,
       "version_minor": 0
      },
      "text/plain": [
       "QgridWidget(grid_options={'fullWidthRows': True, 'syncColumnCellResize': True, 'forceFitColumns': True, 'defau…"
      ]
     },
     "metadata": {},
     "output_type": "display_data"
    }
   ],
   "source": [
    "# jupyter nbextension enable --py --sys-prefix qgrid\n",
    "import qgrid\n",
    "# only required if you have not enabled the ipywidgets nbextension yet\n",
    "# jupyter nbextension enable --py --sys-prefix widgetsnbextension\n",
    "#to show a df simply use the below:\n",
    "qgrid.show_grid(df_results)"
   ]
  },
  {
   "cell_type": "markdown",
   "metadata": {},
   "source": [
    "### Load best model, show per class tables for it"
   ]
  },
  {
   "cell_type": "code",
   "execution_count": 6,
   "metadata": {},
   "outputs": [
    {
     "name": "stdout",
     "output_type": "stream",
     "text": [
      "Vocab size is: 682850\n"
     ]
    }
   ],
   "source": [
    "vocab, index_to_word, word_to_index, wiki_tensor_dataset, classes, wiki_loaders = \\\n",
    "    load_data_and_create_dataloaders(\"vocab_all_en.pt\", \"wiki_tensor_dataset_vocab_all_en.pt\", \"classes_list.pt\")"
   ]
  },
  {
   "cell_type": "code",
   "execution_count": 10,
   "metadata": {},
   "outputs": [
    {
     "name": "stderr",
     "output_type": "stream",
     "text": [
      "341345it [00:26, 13650.51it/s]"
     ]
    },
    {
     "ename": "KeyboardInterrupt",
     "evalue": "",
     "output_type": "error",
     "traceback": [
      "\u001b[0;31m---------------------------------------------------------------------------\u001b[0m",
      "\u001b[0;31mKeyboardInterrupt\u001b[0m                         Traceback (most recent call last)",
      "\u001b[0;32m<ipython-input-10-615040705e9f>\u001b[0m in \u001b[0;36m<module>\u001b[0;34m\u001b[0m\n\u001b[1;32m      4\u001b[0m \u001b[0;34m\u001b[0m\u001b[0m\n\u001b[1;32m      5\u001b[0m \u001b[0;31m# # Aligned fasstext. 2.5 million\u001b[0m\u001b[0;34m\u001b[0m\u001b[0;34m\u001b[0m\u001b[0;34m\u001b[0m\u001b[0m\n\u001b[0;32m----> 6\u001b[0;31m \u001b[0membeddings\u001b[0m \u001b[0;34m=\u001b[0m \u001b[0mutils\u001b[0m\u001b[0;34m.\u001b[0m\u001b[0mload_vectors\u001b[0m\u001b[0;34m(\u001b[0m\u001b[0mPATH_TO_EMBEDDINGS_FOLDER\u001b[0m \u001b[0;34m+\u001b[0m \u001b[0;34m\"wiki.en.align.vec\"\u001b[0m\u001b[0;34m)\u001b[0m\u001b[0;34m\u001b[0m\u001b[0;34m\u001b[0m\u001b[0m\n\u001b[0m\u001b[1;32m      7\u001b[0m \u001b[0;31m#Creating the weight matrix for pretrained word embeddings\u001b[0m\u001b[0;34m\u001b[0m\u001b[0;34m\u001b[0m\u001b[0;34m\u001b[0m\u001b[0m\n\u001b[1;32m      8\u001b[0m \u001b[0mweights_matrix_ve\u001b[0m \u001b[0;34m=\u001b[0m \u001b[0mutils\u001b[0m\u001b[0;34m.\u001b[0m\u001b[0mcreate_embeddings_matrix\u001b[0m\u001b[0;34m(\u001b[0m\u001b[0mword_to_index\u001b[0m\u001b[0;34m,\u001b[0m \u001b[0membeddings\u001b[0m\u001b[0;34m)\u001b[0m\u001b[0;34m\u001b[0m\u001b[0;34m\u001b[0m\u001b[0m\n",
      "\u001b[0;32m~/topic-modeling/topic-modeling/baseline/utils.py\u001b[0m in \u001b[0;36mload_vectors\u001b[0;34m(fname)\u001b[0m\n\u001b[1;32m     14\u001b[0m     \u001b[0;32mfor\u001b[0m \u001b[0mline\u001b[0m \u001b[0;32min\u001b[0m \u001b[0mtqdm\u001b[0m\u001b[0;34m(\u001b[0m\u001b[0mfin\u001b[0m\u001b[0;34m)\u001b[0m\u001b[0;34m:\u001b[0m\u001b[0;34m\u001b[0m\u001b[0;34m\u001b[0m\u001b[0m\n\u001b[1;32m     15\u001b[0m         \u001b[0mtokens\u001b[0m \u001b[0;34m=\u001b[0m \u001b[0mline\u001b[0m\u001b[0;34m.\u001b[0m\u001b[0mrstrip\u001b[0m\u001b[0;34m(\u001b[0m\u001b[0;34m)\u001b[0m\u001b[0;34m.\u001b[0m\u001b[0msplit\u001b[0m\u001b[0;34m(\u001b[0m\u001b[0;34m' '\u001b[0m\u001b[0;34m)\u001b[0m\u001b[0;34m\u001b[0m\u001b[0;34m\u001b[0m\u001b[0m\n\u001b[0;32m---> 16\u001b[0;31m         \u001b[0mdata\u001b[0m\u001b[0;34m[\u001b[0m\u001b[0mtokens\u001b[0m\u001b[0;34m[\u001b[0m\u001b[0;36m0\u001b[0m\u001b[0;34m]\u001b[0m\u001b[0;34m]\u001b[0m \u001b[0;34m=\u001b[0m \u001b[0mtorch\u001b[0m\u001b[0;34m.\u001b[0m\u001b[0mtensor\u001b[0m\u001b[0;34m(\u001b[0m\u001b[0mlist\u001b[0m\u001b[0;34m(\u001b[0m\u001b[0mmap\u001b[0m\u001b[0;34m(\u001b[0m\u001b[0mfloat\u001b[0m\u001b[0;34m,\u001b[0m \u001b[0mtokens\u001b[0m\u001b[0;34m[\u001b[0m\u001b[0;36m1\u001b[0m\u001b[0;34m:\u001b[0m\u001b[0;34m]\u001b[0m\u001b[0;34m)\u001b[0m\u001b[0;34m)\u001b[0m\u001b[0;34m)\u001b[0m\u001b[0;34m\u001b[0m\u001b[0;34m\u001b[0m\u001b[0m\n\u001b[0m\u001b[1;32m     17\u001b[0m     \u001b[0;32mreturn\u001b[0m \u001b[0mdata\u001b[0m\u001b[0;34m\u001b[0m\u001b[0;34m\u001b[0m\u001b[0m\n\u001b[1;32m     18\u001b[0m \u001b[0;34m\u001b[0m\u001b[0m\n",
      "\u001b[0;31mKeyboardInterrupt\u001b[0m: "
     ]
    }
   ],
   "source": [
    "# import utils\n",
    "# import importlib\n",
    "# importlib.reload(utils)\n",
    "\n",
    "# # Aligned fasstext. 2.5 million\n",
    "embeddings = utils.load_vectors(PATH_TO_EMBEDDINGS_FOLDER + \"wiki.en.align.vec\")\n",
    "#Creating the weight matrix for pretrained word embeddings\n",
    "weights_matrix_ve = utils.create_embeddings_matrix(word_to_index, embeddings)"
   ]
  },
  {
   "cell_type": "code",
   "execution_count": null,
   "metadata": {},
   "outputs": [],
   "source": [
    "options_best_1_layer = {\n",
    "    \"VOCAB_SIZE\": len(index_to_word),\n",
    "    \"dim_e\": weights_matrix_ve.shape[1],\n",
    "    \"pretrained_embeddings\": weights_matrix_ve,\n",
    "    \"num_layers\": 1,\n",
    "    \"num_classes\": len(classes),\n",
    "    \"mid_features\": 150,\n",
    "    \"dropout_rate\": 0.2,\n",
    "    \"activation\": nn.ReLU(),\n",
    "    \"file_name\": \"en_optimizer_SWA_num_hidden_1_dim_hidden_150_dropout_rate_0_learning_rate_0.01_num_epochs_10.pth\"\n",
    "}\n",
    "\n",
    "options_best = {\n",
    "    \"VOCAB_SIZE\": len(index_to_word),\n",
    "    \"dim_e\": weights_matrix_ve.shape[1],\n",
    "    \"pretrained_embeddings\": weights_matrix_ve,\n",
    "    \"num_layers\": 2,\n",
    "    \"num_classes\": len(classes),\n",
    "    \"mid_features\": 200,\n",
    "    \"dropout_rate\": 0.2,\n",
    "    \"activation\": nn.ReLU(),\n",
    "    \"file_name\": \"en_optimizer_SWA_num_hidden_2_dim_hidden_200_dropout_rate_0.2_learning_rate_0.01_num_epochs_10.pth\"\n",
    "}"
   ]
  },
  {
   "cell_type": "code",
   "execution_count": null,
   "metadata": {
    "scrolled": true
   },
   "outputs": [],
   "source": [
    "options = options_best_2\n",
    "\n",
    "model = FinalModel(options)\n",
    "\n",
    "file_name = options[\"file_name\"]\n",
    "model.load_state_dict(torch.load(\n",
    "    f\"{PATH_TO_MODELS_FOLDER}/{file_name}\",\n",
    "    map_location=torch.device('cpu')\n",
    "))\n",
    "model.to(device)"
   ]
  },
  {
   "cell_type": "code",
   "execution_count": null,
   "metadata": {},
   "outputs": [],
   "source": [
    "# ls $PATH_TO_MODELS_FOLDER"
   ]
  },
  {
   "cell_type": "markdown",
   "metadata": {},
   "source": [
    "2 layer"
   ]
  },
  {
   "cell_type": "code",
   "execution_count": 39,
   "metadata": {
    "scrolled": true
   },
   "outputs": [
    {
     "name": "stderr",
     "output_type": "stream",
     "text": [
      "/home/mz2476/miniconda3/lib/python3.7/site-packages/sklearn/metrics/classification.py:1437: UndefinedMetricWarning: Precision and F-score are ill-defined and being set to 0.0 in labels with no predicted samples.\n",
      "  'precision', 'predicted', average, warn_for)\n"
     ]
    }
   ],
   "source": [
    "# metrics_dict = utils.test_model(wiki_loaders[\"val\"], model, device, threshold=0.5)\n",
    "\n",
    "# df_per_class_metrics = utils.create_per_class_tables(wiki_loaders[\"val\"], model, device, classes, threshold=0.5)\n",
    "# df_per_class_metrics.to_csv(\"results/per_class_metrics_val_best_2_layers_model.csv\")"
   ]
  },
  {
   "cell_type": "code",
   "execution_count": 149,
   "metadata": {},
   "outputs": [
    {
     "data": {
      "application/vnd.jupyter.widget-view+json": {
       "model_id": "288a4deb90d04ffa9fde749efd32693d",
       "version_major": 2,
       "version_minor": 0
      },
      "text/plain": [
       "QgridWidget(grid_options={'fullWidthRows': True, 'syncColumnCellResize': True, 'forceFitColumns': True, 'defau…"
      ]
     },
     "metadata": {},
     "output_type": "display_data"
    }
   ],
   "source": [
    "df_per_class_metrics = pd.read_csv(\"results/per_class_metrics_val_best_2_layers_model.csv\", index_col=0)\n",
    "qgrid.show_grid(df_per_class_metrics)\n",
    "# df_per_class_metrics"
   ]
  },
  {
   "cell_type": "markdown",
   "metadata": {},
   "source": [
    "1 layer"
   ]
  },
  {
   "cell_type": "code",
   "execution_count": 46,
   "metadata": {
    "scrolled": true
   },
   "outputs": [],
   "source": [
    "# metrics_dict = utils.test_model(wiki_loaders[\"val\"], model, device, threshold=0.5)\n",
    "\n",
    "# df_per_class_metrics = utils.create_per_class_tables(wiki_loaders[\"val\"], model, device, classes, threshold=0.5)\n",
    "# df_per_class_metrics.to_csv(\"results/per_class_metrics_val_best_1_layer_model.csv\")"
   ]
  },
  {
   "cell_type": "code",
   "execution_count": 52,
   "metadata": {},
   "outputs": [
    {
     "data": {
      "text/html": [
       "<div>\n",
       "<style scoped>\n",
       "    .dataframe tbody tr th:only-of-type {\n",
       "        vertical-align: middle;\n",
       "    }\n",
       "\n",
       "    .dataframe tbody tr th {\n",
       "        vertical-align: top;\n",
       "    }\n",
       "\n",
       "    .dataframe thead th {\n",
       "        text-align: right;\n",
       "    }\n",
       "</style>\n",
       "<table border=\"1\" class=\"dataframe\">\n",
       "  <thead>\n",
       "    <tr style=\"text-align: right;\">\n",
       "      <th></th>\n",
       "      <th>class_name</th>\n",
       "      <th>count</th>\n",
       "      <th>TN</th>\n",
       "      <th>FN</th>\n",
       "      <th>TP</th>\n",
       "      <th>FP</th>\n",
       "      <th>precision</th>\n",
       "      <th>recall</th>\n",
       "      <th>f1</th>\n",
       "    </tr>\n",
       "  </thead>\n",
       "  <tbody>\n",
       "    <tr>\n",
       "      <td>0</td>\n",
       "      <td>Culture.Arts</td>\n",
       "      <td>19.0</td>\n",
       "      <td>9977</td>\n",
       "      <td>15</td>\n",
       "      <td>4</td>\n",
       "      <td>0</td>\n",
       "      <td>1.000000</td>\n",
       "      <td>0.210526</td>\n",
       "      <td>0.347826</td>\n",
       "    </tr>\n",
       "    <tr>\n",
       "      <td>1</td>\n",
       "      <td>Culture.Broadcasting</td>\n",
       "      <td>217.0</td>\n",
       "      <td>9739</td>\n",
       "      <td>104</td>\n",
       "      <td>113</td>\n",
       "      <td>40</td>\n",
       "      <td>0.738562</td>\n",
       "      <td>0.520737</td>\n",
       "      <td>0.610811</td>\n",
       "    </tr>\n",
       "    <tr>\n",
       "      <td>2</td>\n",
       "      <td>Culture.Crafts and hobbies</td>\n",
       "      <td>14.0</td>\n",
       "      <td>9982</td>\n",
       "      <td>14</td>\n",
       "      <td>0</td>\n",
       "      <td>0</td>\n",
       "      <td>0.000000</td>\n",
       "      <td>0.000000</td>\n",
       "      <td>0.000000</td>\n",
       "    </tr>\n",
       "    <tr>\n",
       "      <td>3</td>\n",
       "      <td>Culture.Entertainment</td>\n",
       "      <td>295.0</td>\n",
       "      <td>9659</td>\n",
       "      <td>131</td>\n",
       "      <td>164</td>\n",
       "      <td>42</td>\n",
       "      <td>0.796117</td>\n",
       "      <td>0.555932</td>\n",
       "      <td>0.654691</td>\n",
       "    </tr>\n",
       "    <tr>\n",
       "      <td>4</td>\n",
       "      <td>Culture.Food and drink</td>\n",
       "      <td>67.0</td>\n",
       "      <td>9925</td>\n",
       "      <td>32</td>\n",
       "      <td>35</td>\n",
       "      <td>4</td>\n",
       "      <td>0.897436</td>\n",
       "      <td>0.522388</td>\n",
       "      <td>0.660377</td>\n",
       "    </tr>\n",
       "    <tr>\n",
       "      <td>5</td>\n",
       "      <td>Culture.Games and toys</td>\n",
       "      <td>109.0</td>\n",
       "      <td>9882</td>\n",
       "      <td>41</td>\n",
       "      <td>68</td>\n",
       "      <td>5</td>\n",
       "      <td>0.931507</td>\n",
       "      <td>0.623853</td>\n",
       "      <td>0.747253</td>\n",
       "    </tr>\n",
       "    <tr>\n",
       "      <td>6</td>\n",
       "      <td>Culture.Internet culture</td>\n",
       "      <td>6.0</td>\n",
       "      <td>9990</td>\n",
       "      <td>6</td>\n",
       "      <td>0</td>\n",
       "      <td>0</td>\n",
       "      <td>0.000000</td>\n",
       "      <td>0.000000</td>\n",
       "      <td>0.000000</td>\n",
       "    </tr>\n",
       "    <tr>\n",
       "      <td>7</td>\n",
       "      <td>Culture.Language and literature</td>\n",
       "      <td>3631.0</td>\n",
       "      <td>5993</td>\n",
       "      <td>421</td>\n",
       "      <td>3210</td>\n",
       "      <td>372</td>\n",
       "      <td>0.896147</td>\n",
       "      <td>0.884054</td>\n",
       "      <td>0.890060</td>\n",
       "    </tr>\n",
       "    <tr>\n",
       "      <td>8</td>\n",
       "      <td>Culture.Media</td>\n",
       "      <td>3.0</td>\n",
       "      <td>9993</td>\n",
       "      <td>3</td>\n",
       "      <td>0</td>\n",
       "      <td>0</td>\n",
       "      <td>0.000000</td>\n",
       "      <td>0.000000</td>\n",
       "      <td>0.000000</td>\n",
       "    </tr>\n",
       "    <tr>\n",
       "      <td>9</td>\n",
       "      <td>Culture.Music</td>\n",
       "      <td>435.0</td>\n",
       "      <td>9472</td>\n",
       "      <td>92</td>\n",
       "      <td>343</td>\n",
       "      <td>89</td>\n",
       "      <td>0.793981</td>\n",
       "      <td>0.788506</td>\n",
       "      <td>0.791234</td>\n",
       "    </tr>\n",
       "    <tr>\n",
       "      <td>10</td>\n",
       "      <td>Culture.Performing arts</td>\n",
       "      <td>72.0</td>\n",
       "      <td>9920</td>\n",
       "      <td>51</td>\n",
       "      <td>21</td>\n",
       "      <td>4</td>\n",
       "      <td>0.840000</td>\n",
       "      <td>0.291667</td>\n",
       "      <td>0.432990</td>\n",
       "    </tr>\n",
       "    <tr>\n",
       "      <td>11</td>\n",
       "      <td>Culture.Philosophy and religion</td>\n",
       "      <td>274.0</td>\n",
       "      <td>9671</td>\n",
       "      <td>149</td>\n",
       "      <td>125</td>\n",
       "      <td>51</td>\n",
       "      <td>0.710227</td>\n",
       "      <td>0.456204</td>\n",
       "      <td>0.555556</td>\n",
       "    </tr>\n",
       "    <tr>\n",
       "      <td>12</td>\n",
       "      <td>Culture.Plastic arts</td>\n",
       "      <td>302.0</td>\n",
       "      <td>9651</td>\n",
       "      <td>121</td>\n",
       "      <td>181</td>\n",
       "      <td>43</td>\n",
       "      <td>0.808036</td>\n",
       "      <td>0.599338</td>\n",
       "      <td>0.688213</td>\n",
       "    </tr>\n",
       "    <tr>\n",
       "      <td>13</td>\n",
       "      <td>Culture.Sports</td>\n",
       "      <td>1567.0</td>\n",
       "      <td>8221</td>\n",
       "      <td>120</td>\n",
       "      <td>1447</td>\n",
       "      <td>208</td>\n",
       "      <td>0.874320</td>\n",
       "      <td>0.923421</td>\n",
       "      <td>0.898200</td>\n",
       "    </tr>\n",
       "    <tr>\n",
       "      <td>14</td>\n",
       "      <td>Culture.Visual arts</td>\n",
       "      <td>139.0</td>\n",
       "      <td>9834</td>\n",
       "      <td>102</td>\n",
       "      <td>37</td>\n",
       "      <td>23</td>\n",
       "      <td>0.616667</td>\n",
       "      <td>0.266187</td>\n",
       "      <td>0.371859</td>\n",
       "    </tr>\n",
       "    <tr>\n",
       "      <td>15</td>\n",
       "      <td>Geography.Africa</td>\n",
       "      <td>225.0</td>\n",
       "      <td>9744</td>\n",
       "      <td>124</td>\n",
       "      <td>101</td>\n",
       "      <td>27</td>\n",
       "      <td>0.789062</td>\n",
       "      <td>0.448889</td>\n",
       "      <td>0.572238</td>\n",
       "    </tr>\n",
       "    <tr>\n",
       "      <td>16</td>\n",
       "      <td>Geography.Americas</td>\n",
       "      <td>1884.0</td>\n",
       "      <td>7710</td>\n",
       "      <td>551</td>\n",
       "      <td>1333</td>\n",
       "      <td>402</td>\n",
       "      <td>0.768300</td>\n",
       "      <td>0.707537</td>\n",
       "      <td>0.736668</td>\n",
       "    </tr>\n",
       "    <tr>\n",
       "      <td>17</td>\n",
       "      <td>Geography.Antarctica</td>\n",
       "      <td>27.0</td>\n",
       "      <td>9968</td>\n",
       "      <td>3</td>\n",
       "      <td>24</td>\n",
       "      <td>1</td>\n",
       "      <td>0.960000</td>\n",
       "      <td>0.888889</td>\n",
       "      <td>0.923077</td>\n",
       "    </tr>\n",
       "    <tr>\n",
       "      <td>18</td>\n",
       "      <td>Geography.Asia</td>\n",
       "      <td>1399.0</td>\n",
       "      <td>8432</td>\n",
       "      <td>426</td>\n",
       "      <td>973</td>\n",
       "      <td>165</td>\n",
       "      <td>0.855009</td>\n",
       "      <td>0.695497</td>\n",
       "      <td>0.767048</td>\n",
       "    </tr>\n",
       "    <tr>\n",
       "      <td>19</td>\n",
       "      <td>Geography.Bodies of water</td>\n",
       "      <td>81.0</td>\n",
       "      <td>9893</td>\n",
       "      <td>34</td>\n",
       "      <td>47</td>\n",
       "      <td>22</td>\n",
       "      <td>0.681159</td>\n",
       "      <td>0.580247</td>\n",
       "      <td>0.626667</td>\n",
       "    </tr>\n",
       "    <tr>\n",
       "      <td>20</td>\n",
       "      <td>Geography.Europe</td>\n",
       "      <td>2168.0</td>\n",
       "      <td>7381</td>\n",
       "      <td>655</td>\n",
       "      <td>1513</td>\n",
       "      <td>447</td>\n",
       "      <td>0.771939</td>\n",
       "      <td>0.697878</td>\n",
       "      <td>0.733043</td>\n",
       "    </tr>\n",
       "    <tr>\n",
       "      <td>21</td>\n",
       "      <td>Geography.Landforms</td>\n",
       "      <td>57.0</td>\n",
       "      <td>9928</td>\n",
       "      <td>39</td>\n",
       "      <td>18</td>\n",
       "      <td>11</td>\n",
       "      <td>0.620690</td>\n",
       "      <td>0.315789</td>\n",
       "      <td>0.418605</td>\n",
       "    </tr>\n",
       "    <tr>\n",
       "      <td>22</td>\n",
       "      <td>Geography.Maps</td>\n",
       "      <td>1.0</td>\n",
       "      <td>9995</td>\n",
       "      <td>1</td>\n",
       "      <td>0</td>\n",
       "      <td>0</td>\n",
       "      <td>0.000000</td>\n",
       "      <td>0.000000</td>\n",
       "      <td>0.000000</td>\n",
       "    </tr>\n",
       "    <tr>\n",
       "      <td>23</td>\n",
       "      <td>Geography.Oceania</td>\n",
       "      <td>468.0</td>\n",
       "      <td>9500</td>\n",
       "      <td>145</td>\n",
       "      <td>323</td>\n",
       "      <td>28</td>\n",
       "      <td>0.920228</td>\n",
       "      <td>0.690171</td>\n",
       "      <td>0.788767</td>\n",
       "    </tr>\n",
       "    <tr>\n",
       "      <td>24</td>\n",
       "      <td>Geography.Parks</td>\n",
       "      <td>60.0</td>\n",
       "      <td>9931</td>\n",
       "      <td>50</td>\n",
       "      <td>10</td>\n",
       "      <td>5</td>\n",
       "      <td>0.666667</td>\n",
       "      <td>0.166667</td>\n",
       "      <td>0.266667</td>\n",
       "    </tr>\n",
       "    <tr>\n",
       "      <td>25</td>\n",
       "      <td>History_And_Society.Business and economics</td>\n",
       "      <td>207.0</td>\n",
       "      <td>9741</td>\n",
       "      <td>131</td>\n",
       "      <td>76</td>\n",
       "      <td>48</td>\n",
       "      <td>0.612903</td>\n",
       "      <td>0.367150</td>\n",
       "      <td>0.459215</td>\n",
       "    </tr>\n",
       "    <tr>\n",
       "      <td>26</td>\n",
       "      <td>History_And_Society.Education</td>\n",
       "      <td>181.0</td>\n",
       "      <td>9789</td>\n",
       "      <td>100</td>\n",
       "      <td>81</td>\n",
       "      <td>26</td>\n",
       "      <td>0.757009</td>\n",
       "      <td>0.447514</td>\n",
       "      <td>0.562500</td>\n",
       "    </tr>\n",
       "    <tr>\n",
       "      <td>27</td>\n",
       "      <td>History_And_Society.History and society</td>\n",
       "      <td>449.0</td>\n",
       "      <td>9492</td>\n",
       "      <td>400</td>\n",
       "      <td>49</td>\n",
       "      <td>55</td>\n",
       "      <td>0.471154</td>\n",
       "      <td>0.109131</td>\n",
       "      <td>0.177215</td>\n",
       "    </tr>\n",
       "    <tr>\n",
       "      <td>28</td>\n",
       "      <td>History_And_Society.Military and warfare</td>\n",
       "      <td>331.0</td>\n",
       "      <td>9624</td>\n",
       "      <td>90</td>\n",
       "      <td>241</td>\n",
       "      <td>41</td>\n",
       "      <td>0.854610</td>\n",
       "      <td>0.728097</td>\n",
       "      <td>0.786297</td>\n",
       "    </tr>\n",
       "    <tr>\n",
       "      <td>29</td>\n",
       "      <td>History_And_Society.Politics and government</td>\n",
       "      <td>343.0</td>\n",
       "      <td>9586</td>\n",
       "      <td>172</td>\n",
       "      <td>171</td>\n",
       "      <td>67</td>\n",
       "      <td>0.718487</td>\n",
       "      <td>0.498542</td>\n",
       "      <td>0.588640</td>\n",
       "    </tr>\n",
       "    <tr>\n",
       "      <td>30</td>\n",
       "      <td>History_And_Society.Transportation</td>\n",
       "      <td>551.0</td>\n",
       "      <td>9376</td>\n",
       "      <td>139</td>\n",
       "      <td>412</td>\n",
       "      <td>69</td>\n",
       "      <td>0.856549</td>\n",
       "      <td>0.747731</td>\n",
       "      <td>0.798450</td>\n",
       "    </tr>\n",
       "    <tr>\n",
       "      <td>31</td>\n",
       "      <td>STEM.Biology</td>\n",
       "      <td>771.0</td>\n",
       "      <td>9192</td>\n",
       "      <td>120</td>\n",
       "      <td>651</td>\n",
       "      <td>33</td>\n",
       "      <td>0.951754</td>\n",
       "      <td>0.844358</td>\n",
       "      <td>0.894845</td>\n",
       "    </tr>\n",
       "    <tr>\n",
       "      <td>32</td>\n",
       "      <td>STEM.Chemistry</td>\n",
       "      <td>36.0</td>\n",
       "      <td>9946</td>\n",
       "      <td>21</td>\n",
       "      <td>15</td>\n",
       "      <td>14</td>\n",
       "      <td>0.517241</td>\n",
       "      <td>0.416667</td>\n",
       "      <td>0.461538</td>\n",
       "    </tr>\n",
       "    <tr>\n",
       "      <td>33</td>\n",
       "      <td>STEM.Engineering</td>\n",
       "      <td>22.0</td>\n",
       "      <td>9974</td>\n",
       "      <td>17</td>\n",
       "      <td>5</td>\n",
       "      <td>0</td>\n",
       "      <td>1.000000</td>\n",
       "      <td>0.227273</td>\n",
       "      <td>0.370370</td>\n",
       "    </tr>\n",
       "    <tr>\n",
       "      <td>34</td>\n",
       "      <td>STEM.Geosciences</td>\n",
       "      <td>90.0</td>\n",
       "      <td>9894</td>\n",
       "      <td>40</td>\n",
       "      <td>50</td>\n",
       "      <td>12</td>\n",
       "      <td>0.806452</td>\n",
       "      <td>0.555556</td>\n",
       "      <td>0.657895</td>\n",
       "    </tr>\n",
       "    <tr>\n",
       "      <td>35</td>\n",
       "      <td>STEM.Information science</td>\n",
       "      <td>10.0</td>\n",
       "      <td>9986</td>\n",
       "      <td>8</td>\n",
       "      <td>2</td>\n",
       "      <td>0</td>\n",
       "      <td>1.000000</td>\n",
       "      <td>0.200000</td>\n",
       "      <td>0.333333</td>\n",
       "    </tr>\n",
       "    <tr>\n",
       "      <td>36</td>\n",
       "      <td>STEM.Mathematics</td>\n",
       "      <td>11.0</td>\n",
       "      <td>9985</td>\n",
       "      <td>11</td>\n",
       "      <td>0</td>\n",
       "      <td>0</td>\n",
       "      <td>0.000000</td>\n",
       "      <td>0.000000</td>\n",
       "      <td>0.000000</td>\n",
       "    </tr>\n",
       "    <tr>\n",
       "      <td>37</td>\n",
       "      <td>STEM.Medicine</td>\n",
       "      <td>154.0</td>\n",
       "      <td>9820</td>\n",
       "      <td>60</td>\n",
       "      <td>94</td>\n",
       "      <td>22</td>\n",
       "      <td>0.810345</td>\n",
       "      <td>0.610390</td>\n",
       "      <td>0.696296</td>\n",
       "    </tr>\n",
       "    <tr>\n",
       "      <td>38</td>\n",
       "      <td>STEM.Meteorology</td>\n",
       "      <td>5.0</td>\n",
       "      <td>9990</td>\n",
       "      <td>3</td>\n",
       "      <td>2</td>\n",
       "      <td>1</td>\n",
       "      <td>0.666667</td>\n",
       "      <td>0.400000</td>\n",
       "      <td>0.500000</td>\n",
       "    </tr>\n",
       "    <tr>\n",
       "      <td>39</td>\n",
       "      <td>STEM.Physics</td>\n",
       "      <td>18.0</td>\n",
       "      <td>9978</td>\n",
       "      <td>18</td>\n",
       "      <td>0</td>\n",
       "      <td>0</td>\n",
       "      <td>0.000000</td>\n",
       "      <td>0.000000</td>\n",
       "      <td>0.000000</td>\n",
       "    </tr>\n",
       "    <tr>\n",
       "      <td>40</td>\n",
       "      <td>STEM.Science</td>\n",
       "      <td>43.0</td>\n",
       "      <td>9952</td>\n",
       "      <td>41</td>\n",
       "      <td>2</td>\n",
       "      <td>1</td>\n",
       "      <td>0.666667</td>\n",
       "      <td>0.046512</td>\n",
       "      <td>0.086957</td>\n",
       "    </tr>\n",
       "    <tr>\n",
       "      <td>41</td>\n",
       "      <td>STEM.Space</td>\n",
       "      <td>67.0</td>\n",
       "      <td>9927</td>\n",
       "      <td>16</td>\n",
       "      <td>51</td>\n",
       "      <td>2</td>\n",
       "      <td>0.962264</td>\n",
       "      <td>0.761194</td>\n",
       "      <td>0.850000</td>\n",
       "    </tr>\n",
       "    <tr>\n",
       "      <td>42</td>\n",
       "      <td>STEM.Technology</td>\n",
       "      <td>275.0</td>\n",
       "      <td>9677</td>\n",
       "      <td>100</td>\n",
       "      <td>175</td>\n",
       "      <td>44</td>\n",
       "      <td>0.799087</td>\n",
       "      <td>0.636364</td>\n",
       "      <td>0.708502</td>\n",
       "    </tr>\n",
       "    <tr>\n",
       "      <td>43</td>\n",
       "      <td>STEM.Time</td>\n",
       "      <td>29.0</td>\n",
       "      <td>9966</td>\n",
       "      <td>29</td>\n",
       "      <td>0</td>\n",
       "      <td>1</td>\n",
       "      <td>0.000000</td>\n",
       "      <td>0.000000</td>\n",
       "      <td>0.000000</td>\n",
       "    </tr>\n",
       "  </tbody>\n",
       "</table>\n",
       "</div>"
      ],
      "text/plain": [
       "                                     class_name   count    TN   FN    TP   FP  \\\n",
       "0                                  Culture.Arts    19.0  9977   15     4    0   \n",
       "1                          Culture.Broadcasting   217.0  9739  104   113   40   \n",
       "2                    Culture.Crafts and hobbies    14.0  9982   14     0    0   \n",
       "3                         Culture.Entertainment   295.0  9659  131   164   42   \n",
       "4                        Culture.Food and drink    67.0  9925   32    35    4   \n",
       "5                        Culture.Games and toys   109.0  9882   41    68    5   \n",
       "6                      Culture.Internet culture     6.0  9990    6     0    0   \n",
       "7               Culture.Language and literature  3631.0  5993  421  3210  372   \n",
       "8                                 Culture.Media     3.0  9993    3     0    0   \n",
       "9                                 Culture.Music   435.0  9472   92   343   89   \n",
       "10                      Culture.Performing arts    72.0  9920   51    21    4   \n",
       "11              Culture.Philosophy and religion   274.0  9671  149   125   51   \n",
       "12                         Culture.Plastic arts   302.0  9651  121   181   43   \n",
       "13                               Culture.Sports  1567.0  8221  120  1447  208   \n",
       "14                          Culture.Visual arts   139.0  9834  102    37   23   \n",
       "15                             Geography.Africa   225.0  9744  124   101   27   \n",
       "16                           Geography.Americas  1884.0  7710  551  1333  402   \n",
       "17                         Geography.Antarctica    27.0  9968    3    24    1   \n",
       "18                               Geography.Asia  1399.0  8432  426   973  165   \n",
       "19                    Geography.Bodies of water    81.0  9893   34    47   22   \n",
       "20                             Geography.Europe  2168.0  7381  655  1513  447   \n",
       "21                          Geography.Landforms    57.0  9928   39    18   11   \n",
       "22                               Geography.Maps     1.0  9995    1     0    0   \n",
       "23                            Geography.Oceania   468.0  9500  145   323   28   \n",
       "24                              Geography.Parks    60.0  9931   50    10    5   \n",
       "25   History_And_Society.Business and economics   207.0  9741  131    76   48   \n",
       "26                History_And_Society.Education   181.0  9789  100    81   26   \n",
       "27      History_And_Society.History and society   449.0  9492  400    49   55   \n",
       "28     History_And_Society.Military and warfare   331.0  9624   90   241   41   \n",
       "29  History_And_Society.Politics and government   343.0  9586  172   171   67   \n",
       "30           History_And_Society.Transportation   551.0  9376  139   412   69   \n",
       "31                                 STEM.Biology   771.0  9192  120   651   33   \n",
       "32                               STEM.Chemistry    36.0  9946   21    15   14   \n",
       "33                             STEM.Engineering    22.0  9974   17     5    0   \n",
       "34                             STEM.Geosciences    90.0  9894   40    50   12   \n",
       "35                     STEM.Information science    10.0  9986    8     2    0   \n",
       "36                             STEM.Mathematics    11.0  9985   11     0    0   \n",
       "37                                STEM.Medicine   154.0  9820   60    94   22   \n",
       "38                             STEM.Meteorology     5.0  9990    3     2    1   \n",
       "39                                 STEM.Physics    18.0  9978   18     0    0   \n",
       "40                                 STEM.Science    43.0  9952   41     2    1   \n",
       "41                                   STEM.Space    67.0  9927   16    51    2   \n",
       "42                              STEM.Technology   275.0  9677  100   175   44   \n",
       "43                                    STEM.Time    29.0  9966   29     0    1   \n",
       "\n",
       "    precision    recall        f1  \n",
       "0    1.000000  0.210526  0.347826  \n",
       "1    0.738562  0.520737  0.610811  \n",
       "2    0.000000  0.000000  0.000000  \n",
       "3    0.796117  0.555932  0.654691  \n",
       "4    0.897436  0.522388  0.660377  \n",
       "5    0.931507  0.623853  0.747253  \n",
       "6    0.000000  0.000000  0.000000  \n",
       "7    0.896147  0.884054  0.890060  \n",
       "8    0.000000  0.000000  0.000000  \n",
       "9    0.793981  0.788506  0.791234  \n",
       "10   0.840000  0.291667  0.432990  \n",
       "11   0.710227  0.456204  0.555556  \n",
       "12   0.808036  0.599338  0.688213  \n",
       "13   0.874320  0.923421  0.898200  \n",
       "14   0.616667  0.266187  0.371859  \n",
       "15   0.789062  0.448889  0.572238  \n",
       "16   0.768300  0.707537  0.736668  \n",
       "17   0.960000  0.888889  0.923077  \n",
       "18   0.855009  0.695497  0.767048  \n",
       "19   0.681159  0.580247  0.626667  \n",
       "20   0.771939  0.697878  0.733043  \n",
       "21   0.620690  0.315789  0.418605  \n",
       "22   0.000000  0.000000  0.000000  \n",
       "23   0.920228  0.690171  0.788767  \n",
       "24   0.666667  0.166667  0.266667  \n",
       "25   0.612903  0.367150  0.459215  \n",
       "26   0.757009  0.447514  0.562500  \n",
       "27   0.471154  0.109131  0.177215  \n",
       "28   0.854610  0.728097  0.786297  \n",
       "29   0.718487  0.498542  0.588640  \n",
       "30   0.856549  0.747731  0.798450  \n",
       "31   0.951754  0.844358  0.894845  \n",
       "32   0.517241  0.416667  0.461538  \n",
       "33   1.000000  0.227273  0.370370  \n",
       "34   0.806452  0.555556  0.657895  \n",
       "35   1.000000  0.200000  0.333333  \n",
       "36   0.000000  0.000000  0.000000  \n",
       "37   0.810345  0.610390  0.696296  \n",
       "38   0.666667  0.400000  0.500000  \n",
       "39   0.000000  0.000000  0.000000  \n",
       "40   0.666667  0.046512  0.086957  \n",
       "41   0.962264  0.761194  0.850000  \n",
       "42   0.799087  0.636364  0.708502  \n",
       "43   0.000000  0.000000  0.000000  "
      ]
     },
     "execution_count": 52,
     "metadata": {},
     "output_type": "execute_result"
    }
   ],
   "source": [
    "df_per_class_metrics = pd.read_csv(\"results/per_class_metrics_val_best_1_layer_model.csv\", index_col=0)\n",
    "df_per_class_metrics"
   ]
  },
  {
   "cell_type": "code",
   "execution_count": 30,
   "metadata": {},
   "outputs": [],
   "source": []
  },
  {
   "cell_type": "markdown",
   "metadata": {},
   "source": [
    "## Analysis of models for Russian articles"
   ]
  },
  {
   "cell_type": "markdown",
   "metadata": {},
   "source": [
    "Load data and embedding matrix"
   ]
  },
  {
   "cell_type": "code",
   "execution_count": 7,
   "metadata": {},
   "outputs": [
    {
     "name": "stdout",
     "output_type": "stream",
     "text": [
      "Vocab size is: 376365\n"
     ]
    }
   ],
   "source": [
    "vocab, index_to_word, word_to_index, wiki_tensor_dataset, classes, wiki_loaders = \\\n",
    "    load_data_and_create_dataloaders(\"vocab_all_ru.pt\", \"wiki_tensor_dataset_vocab_all_ru.pt\", \"classes_list.pt\")"
   ]
  },
  {
   "cell_type": "code",
   "execution_count": 11,
   "metadata": {
    "scrolled": true
   },
   "outputs": [],
   "source": [
    "# Load weights matrix\n",
    "weights_matrix_ve = torch.load(PATH_TO_DATA_FOLDER + \"embedding_weights_matrix_vocab_all_ru.pt\")\n",
    "\n",
    "# # Load embeddings\n",
    "# embeddings = utils.load_vectors(PATH_TO_EMBEDDINGS_FOLDER + \"wiki.ru.align.vec\")\n",
    "# # Create the weight matrix for pretrained word embeddings\n",
    "# weights_matrix_ve = utils.create_embeddings_matrix(word_to_index, embeddings)"
   ]
  },
  {
   "cell_type": "code",
   "execution_count": 12,
   "metadata": {},
   "outputs": [],
   "source": [
    "import model\n",
    "import importlib\n",
    "importlib.reload(model)\n",
    "\n",
    "from model import FinalModel\n",
    "from torchcontrib.optim import SWA"
   ]
  },
  {
   "cell_type": "code",
   "execution_count": 13,
   "metadata": {},
   "outputs": [],
   "source": [
    "# load models\n",
    "dict_model_names = {\n",
    "    \"frozen\": {\n",
    "        \"file_name\": \"ru_optimizer_SWA_num_hidden_2_dim_hidden_150_dropout_rate_0.2_learning_rate_0.01_num_epochs_10_frozen.pth\",\n",
    "    },\n",
    "    \"finetuned\": {\n",
    "        \"file_name\": \"ru_optimizer_SWA_num_hidden_2_dim_hidden_150_dropout_rate_0.2_learning_rate_0.01_num_epochs_10_init_pretrained.pth\",   \n",
    "    },\n",
    "    \"trained\": {\n",
    "        \"file_name\": \"ru_optimizer_SWA_num_hidden_2_dim_hidden_150_dropout_rate_0.2_learning_rate_0.01_num_epochs_10.pth\",   \n",
    "    },\n",
    "}\n",
    "\n",
    "options = {\n",
    "    \"VOCAB_SIZE\": len(index_to_word),\n",
    "    \"dim_e\": weights_matrix_ve.shape[1],\n",
    "    \"pretrained_embeddings\": weights_matrix_ve,\n",
    "    \"num_layers\": 2,\n",
    "    \"num_classes\": len(classes),\n",
    "    \"mid_features\": 150,\n",
    "    \"dropout_rate\": 0.2,\n",
    "    \"activation\": nn.ReLU(),\n",
    "}\n",
    "\n",
    "for model_name in dict_model_names.keys():\n",
    "    model = FinalModel(options)\n",
    "    # load the state dict from file\n",
    "    file_name = dict_model_names[model_name][\"file_name\"]\n",
    "    model.load_state_dict(torch.load(\n",
    "        f\"{PATH_TO_MODELS_FOLDER}{file_name}\",\n",
    "        map_location=torch.device('cpu')\n",
    "    ))\n",
    "    model.to(device)\n",
    "    # save model to dict\n",
    "    dict_model_names[model_name][\"model\"] = model"
   ]
  },
  {
   "cell_type": "code",
   "execution_count": 14,
   "metadata": {
    "scrolled": true
   },
   "outputs": [
    {
     "name": "stderr",
     "output_type": "stream",
     "text": [
      "/home/mz2476/miniconda3/lib/python3.7/site-packages/sklearn/metrics/classification.py:1437: UndefinedMetricWarning: Precision and F-score are ill-defined and being set to 0.0 in labels with no predicted samples.\n",
      "  'precision', 'predicted', average, warn_for)\n",
      "/home/mz2476/miniconda3/lib/python3.7/site-packages/sklearn/metrics/classification.py:1439: UndefinedMetricWarning: Recall and F-score are ill-defined and being set to 0.0 in labels with no true samples.\n",
      "  'recall', 'true', average, warn_for)\n"
     ]
    },
    {
     "name": "stdout",
     "output_type": "stream",
     "text": [
      "--- frozen\n",
      "Precision macro: 0.3503, Recall macro: 0.1435, F1 macro: 0.1715 \n",
      "Precision micro: 0.7678, Recall micro: 0.2693, F1 micro: 0.3987 \n",
      "--- finetuned\n",
      "Precision macro: 0.6015, Recall macro: 0.4704, F1 macro: 0.516 \n",
      "Precision micro: 0.8187, Recall micro: 0.7468, F1 micro: 0.7811 \n",
      "--- trained\n",
      "Precision macro: 0.5225, Recall macro: 0.3148, F1 macro: 0.3643 \n",
      "Precision micro: 0.8348, Recall micro: 0.6714, F1 micro: 0.7443 \n"
     ]
    }
   ],
   "source": [
    "# Calculate per class tables\n",
    "\n",
    "from utils import test_model\n",
    "\n",
    "for model_name in dict_model_names.keys():\n",
    "    model = dict_model_names[model_name][\"model\"]\n",
    "    # print aggregated metrics\n",
    "    metrics_dict = test_model(wiki_loaders[\"val\"], model, device=device)\n",
    "    metrics_dict = {key: round(value, 4) for key, value in metrics_dict.items()}\n",
    "    print(\"---\", model_name)\n",
    "    print(\"Precision macro: {}, Recall macro: {}, F1 macro: {} \".format(\n",
    "        metrics_dict[\"precision_macro\"], metrics_dict[\"recall_macro\"], metrics_dict[\"f1_macro\"]\n",
    "    ))\n",
    "    print(\"Precision micro: {}, Recall micro: {}, F1 micro: {} \".format(\n",
    "        metrics_dict[\"precision_micro\"], metrics_dict[\"recall_micro\"], metrics_dict[\"f1_micro\"]\n",
    "    ))\n",
    "    \n",
    "    # save per class tables\n",
    "    df_per_class_metrics = utils.create_per_class_tables(\n",
    "        wiki_loaders[\"val\"], model, device, classes, threshold=0.5\n",
    "    )\n",
    "    dict_model_names[model_name][\"df_results\"] = df_per_class_metrics\n",
    "#     # SAVE to file\n",
    "#     df_per_class_metrics.to_csv(f\"results/ru_per_class_metrics_val_{model_name}.csv\")"
   ]
  },
  {
   "cell_type": "code",
   "execution_count": 21,
   "metadata": {},
   "outputs": [
    {
     "name": "stdout",
     "output_type": "stream",
     "text": [
      "frozen\n"
     ]
    },
    {
     "data": {
      "application/vnd.jupyter.widget-view+json": {
       "model_id": "b8bf5f18a9b341fcadad55f10993c05d",
       "version_major": 2,
       "version_minor": 0
      },
      "text/plain": [
       "QgridWidget(grid_options={'fullWidthRows': True, 'syncColumnCellResize': True, 'forceFitColumns': True, 'defau…"
      ]
     },
     "metadata": {},
     "output_type": "display_data"
    }
   ],
   "source": [
    "# df_per_class_metrics = utils.create_per_class_tables(\n",
    "#         wiki_loaders[\"train\"], dict_model_names[\"frozen\"][\"model\"], device, classes, threshold=0.5\n",
    "#     )\n",
    "print(\"frozen\")\n",
    "qgrid.show_grid(df_per_class_metrics)"
   ]
  },
  {
   "cell_type": "code",
   "execution_count": 16,
   "metadata": {
    "scrolled": true
   },
   "outputs": [
    {
     "name": "stdout",
     "output_type": "stream",
     "text": [
      "frozen\n"
     ]
    },
    {
     "data": {
      "application/vnd.jupyter.widget-view+json": {
       "model_id": "7dd83a1da4cd433ba6ce3a966b5595ef",
       "version_major": 2,
       "version_minor": 0
      },
      "text/plain": [
       "QgridWidget(grid_options={'fullWidthRows': True, 'syncColumnCellResize': True, 'forceFitColumns': True, 'defau…"
      ]
     },
     "metadata": {},
     "output_type": "display_data"
    }
   ],
   "source": [
    "model_name = list(dict_model_names.keys())[0]\n",
    "print(model_name)\n",
    "qgrid.show_grid(dict_model_names[model_name][\"df_results\"])"
   ]
  },
  {
   "cell_type": "code",
   "execution_count": 17,
   "metadata": {},
   "outputs": [
    {
     "name": "stdout",
     "output_type": "stream",
     "text": [
      "finetuned\n"
     ]
    },
    {
     "data": {
      "application/vnd.jupyter.widget-view+json": {
       "model_id": "969e25a582f04160b779746372a376c1",
       "version_major": 2,
       "version_minor": 0
      },
      "text/plain": [
       "QgridWidget(grid_options={'fullWidthRows': True, 'syncColumnCellResize': True, 'forceFitColumns': True, 'defau…"
      ]
     },
     "metadata": {},
     "output_type": "display_data"
    }
   ],
   "source": [
    "model_name = list(dict_model_names.keys())[1]\n",
    "print(model_name)\n",
    "qgrid.show_grid(dict_model_names[model_name][\"df_results\"])"
   ]
  },
  {
   "cell_type": "code",
   "execution_count": 18,
   "metadata": {},
   "outputs": [
    {
     "name": "stdout",
     "output_type": "stream",
     "text": [
      "trained\n"
     ]
    },
    {
     "data": {
      "application/vnd.jupyter.widget-view+json": {
       "model_id": "d661143f82b84654a1f53ed45e1bde20",
       "version_major": 2,
       "version_minor": 0
      },
      "text/plain": [
       "QgridWidget(grid_options={'fullWidthRows': True, 'syncColumnCellResize': True, 'forceFitColumns': True, 'defau…"
      ]
     },
     "metadata": {},
     "output_type": "display_data"
    }
   ],
   "source": [
    "model_name = list(dict_model_names.keys())[2]\n",
    "print(model_name)\n",
    "qgrid.show_grid(dict_model_names[model_name][\"df_results\"])"
   ]
  },
  {
   "cell_type": "markdown",
   "metadata": {},
   "source": [
    "**Why frozen model classifies Russian articles on `Culture.Language and literature` incorrectly?**\n",
    "- Distribution is different: in Russian articles most (3762/4178) articles within `Culture.Language and literature` are about People. Maybe in English it's not the case? \n",
    "    - Isaac said the distribution in English is very similar.\n",
    "- look at such articles in English vs. in Russian\n",
    "    - word категория (category) is present many times for each article (for any label)\n",
    "    - relativley short? no -- they are longer than on average.\n",
    "    - Have many dates? one nine zero zero ... \n",
    "    - Look at predicitons:"
   ]
  },
  {
   "cell_type": "code",
   "execution_count": 25,
   "metadata": {},
   "outputs": [],
   "source": [
    "df_wiki_ru = torch.load(PATH_TO_DATA_FOLDER + \"df_wiki_train_ru.pt\")\n",
    "df_wiki_en = torch.load(PATH_TO_DATA_FOLDER + \"df_wiki_train_en.pt\")"
   ]
  },
  {
   "cell_type": "code",
   "execution_count": 16,
   "metadata": {},
   "outputs": [],
   "source": [
    "class2idx = {name: idx for idx, name in enumerate(classes)}\n",
    "idx2class = classes"
   ]
  },
  {
   "cell_type": "code",
   "execution_count": 17,
   "metadata": {},
   "outputs": [
    {
     "data": {
      "text/plain": [
       "7"
      ]
     },
     "execution_count": 17,
     "metadata": {},
     "output_type": "execute_result"
    }
   ],
   "source": [
    "class2idx['Culture.Language and literature']"
   ]
  },
  {
   "cell_type": "code",
   "execution_count": 20,
   "metadata": {},
   "outputs": [],
   "source": [
    "from functools import partial\n",
    "\n",
    "def has_label_num(vec, label_num):\n",
    "    return int(vec[label_num] == 1)\n",
    "\n",
    "def has_label(labels_list, label):\n",
    "    return int(label in set(labels_list))"
   ]
  },
  {
   "cell_type": "code",
   "execution_count": 43,
   "metadata": {},
   "outputs": [],
   "source": [
    "df_wiki_ru[\"Culture.Language and literature\"] = df_wiki_ru.labels.apply(partial(has_label_num, label_num=7))\n",
    "df_wiki_ru[\"Culture.People\"] = df_wiki_ru.mid_level_categories_initial.apply(partial(has_label, label=\"Culture.People\"))"
   ]
  },
  {
   "cell_type": "code",
   "execution_count": 23,
   "metadata": {},
   "outputs": [],
   "source": []
  },
  {
   "cell_type": "code",
   "execution_count": 24,
   "metadata": {
    "scrolled": true
   },
   "outputs": [
    {
     "name": "stdout",
     "output_type": "stream",
     "text": [
      "Number of aritcles that have label Culture.Language and literature: 4178\n",
      "Number of aritcles that have label Culture.People: 3762\n"
     ]
    }
   ],
   "source": [
    "print(\"Number of aritcles that have label Culture.Language and literature:\", df_wiki_ru[df_wiki_ru[\"Culture.Language and literature\"] == 1].shape[0])\n",
    "print(\"Number of aritcles that have label Culture.People:\", df_wiki_ru[df_wiki_ru[\"Culture.People\"] == 1].shape[0])"
   ]
  },
  {
   "cell_type": "code",
   "execution_count": 29,
   "metadata": {},
   "outputs": [],
   "source": []
  },
  {
   "cell_type": "code",
   "execution_count": 53,
   "metadata": {},
   "outputs": [],
   "source": [
    "# load \"Culture.Language and literature\" articles for en and ru\n",
    "df_language_and_literature_ru = df_wiki_ru[df_wiki_ru[\"Culture.Language and literature\"] == 1]\n",
    "mask = df_wiki_en.labels.apply(partial(has_label_num, label_num=class2idx[\"Culture.Language and literature\"]))\n",
    "df_language_and_literature_en = df_wiki_en[mask == 1]"
   ]
  },
  {
   "cell_type": "code",
   "execution_count": 70,
   "metadata": {},
   "outputs": [
    {
     "data": {
      "text/plain": [
       "QID                                                                         Q1965979\n",
       "mid_level_categories                                              [STEM.Mathematics]\n",
       "tokens                             [демографи, ческая, стати, стика, составная, ч...\n",
       "mid_level_categories_initial                                      [STEM.Mathematics]\n",
       "labels                             [0, 0, 0, 0, 0, 0, 0, 0, 0, 0, 0, 0, 0, 0, 0, ...\n",
       "Culture.Language and literature                                                    0\n",
       "Culture.People                                                                     0\n",
       "Name: 8900, dtype: object"
      ]
     },
     "execution_count": 70,
     "metadata": {},
     "output_type": "execute_result"
    }
   ],
   "source": [
    "idx = 8900\n",
    "df_wiki_ru.iloc[idx]"
   ]
  },
  {
   "cell_type": "code",
   "execution_count": 71,
   "metadata": {
    "scrolled": true
   },
   "outputs": [
    {
     "name": "stdout",
     "output_type": "stream",
     "text": [
      "\n",
      "RU\n",
      " демографи ческая стати стика составная часть демография система демографических наук системы демографических наук осуществляющих сбор обработку анализ изложение данных характеризующих численность состав размещение движение населения стран территорий отдельных групп населения применением статистика статистических методов совокупность числовых данных численности структуре размещении естественном механическом движении населения область практической деятельности сбору обработке данных демография демографической статистика статистики средние века инки муруа мартин де мартин де муруа своей книге общая история перу сообщал использовании кипу качестве инструмента демографической статистике управлении трудовых ресурсов империя инков империи инков век вели подсч людей селения взрослых детей маркакамайос прибегали помощи кипу назначения людей каждого селения согласно занятию работы демографическая статистика новое время англия родина демографической статистики файл обложка монографии граунта наблюдения бюллетенями смертности шесть шесть истоков современной демографической статистики науки стоят английских имени купца граунт джон джона граунта шесть ноль шесть семь четыре друга петти уильям уильяма петти шесть шесть восемь семь петти оказался совместительству отцом основателем ещ одной менее важной человечества науки классическая политическая экономия политической экономии правда области делит славу основоположника другим уч ным буагильбер пьер лепезан буагильбером именно петти граунтом выбрав качестве объекта социальные явления превратили списки живущих умерших лондон первую демографическую статистику граунт которая послужила петти основой первой политико экономической теории народонаселения демографические исследования россии века начало статистике населения россия россии положено век произведен уч населения некоторых русских княжество княжеств конца век сначала новгород ской земле затем повсюду москва московском государстве получает распространение новый вид уч та сошное письмо систематизированный свод сведений указанием наличия описываемых землях дворов живущих людей состояниям начале века организовано проведение четыре подворных переписей шесть четыре шесть шесть четыре семь шесть семь шесть шесть семь восемь семь ноль семь пять семь семь переписи учитывали облагаемых податями лиц мужского пола начала век женского включая детей века основным источником изучения динамики населения первой половине век ревизии семь девять восемь пять семь проведено ноль ревизий семь девять семь четыре четыре семь шесть семь восемь семь девять пять восемь восемь пять восемь восемь пять ноль восемь пять восемь ревизии учитывали податное население подлежащее подушному обложению воинской повинности первичным материалом ревизий служила ревизская сказка составлявшаяся отдельное лицо семью сведения ревизских сказок обобщались сводной документации ревизии состоящей перечневых ведомостей генеральных табелей окладных книг ревизская сказка содержала такие сведения сословная принадлежность возраст место постоянного жительства наличие детей родственников работных людей др ревизии учитывали податные категории населения крестьян мещан церковнослужителей солдат некоторые категории подлежали уч ту дворяне почетные граждане государственные служащие др века семь ноль семь ноль налажен исповедный уч населения проводившийся русской православной церковью исповедные ведомости дают сведения общей численности населения социальной структуре восемь ноль восемь ноль налаживается административно полицейский уч населения восемь пять восемь основывался главным образом данных ревизий церковного уч та поэтому самостоятельным видом считаться восемь пять восемь абсолютное количество населения центральный статистический комитет мвд губернские статистические комитеты собирал помощи полиции волостных правлений которые регистрировали наличное население определ нную дату восемь пять восемь девять семь произведено шесть общеимперских исчислений населения состоянию января восемь пять девять восемь шесть четыре восемь шесть восемь восемь семь восемь восемь шесть восемь девять шесть остальные годы местная администрация основе данных естественном механическом движении населения высчитывала приблизительное количество населения данные естественном движении населения извлекались метрическая книга метрических книг специальных исследований области механического движения населения цск проводил поэтому приходилось пользоваться готовыми статистическими материалами других ведомств иностранных изданий эмиграция эмиграции извлекая необходимые сведения цск публиковал данные абсолютному количеству населения наряду другими статистическим сведениями изданиях статистический временник российской империи статистика российской империи статистический ежегодник россии кроме начиная восемь девять цск изданиях урожайной статистике давал приблизительные расчеты абсолютного числа сельского населения пореформенный период масштабах отдельных территорий россии проводятся локальные переписи населения петербург москве одессе харьков прибалтике казахстан семиреченской обл акмолинской обл семипалатинск восемь шесть девять семь территории российской империи организовано около ноль ноль местных переписей некоторых губерниях псковской восемь семь ноль восемь восемь семь астраханской восемь семь акмолинской восемь семь семь др переписывали жителей городах восемь шесть восемь восемь переписано население всей курляндской восемь восемь лифляндской эстляндской губерний ещ одним комплексом материалов демографической статистике локального типа являются материалы земских подворных переписей которые содержат подробные сведения населении преим крестьянском восемь января восемь девять семь всей российской империи кроме финляндия финляндии проведена первая единственная девять семь всероссийская перепись населения осуществлена пут непосредственного опроса населения одну ту дату восемь января восемь девять семь единой программе единому заранее утвержд нному плану уч проводился категориям населения наличному постоянному оседлому приписному результаты переписи восемь девять семь публиковались отдельными восемь девять выпусками губерниям также виде общеимперской сводки программа переписи включала четыре пунктов имя отчество фамилия прозвище семейное состояние холост женат вдов разведен отношение главе хозяйства родственник свойственник мыш жилец прислуга работник пол возраст состояние сословие вероисповедание место рождения место приписки место постоянного жительства родной язык грамотность занятие основное побочное перепись учла абсолютное количество населения распределением вероисповеданиям сословиям полу возрасту семейному положению получены данные грамотности населения количестве размерах хозяйств нанятой рабочей силе основных занятиях населения перепись населения впервые дала точные данные абсолютному количеству населения российской империи подробные материалы половозрастному семейному распределению населения позволяют вычислить важнейшие демографические показатели абсолютное количество населения россии учитывалось проведении сельскохозяйственных переписей девять шесть девять семь публикации данных переписи девять шесть содержатся данные уездам общем числе хозяйств количестве наличного сельского населения мужского женского пола всероссийская земельная сельскохозяйственная перепись девять семь учла общее число хозяйств абсолютное число наличного постоянного населения количество мных рабочих разработка статистики миграции населения россии систематический сбор статистических сведений естественном движении населения организован россии семь метрические ведомости однако восемь ноль уч распространялся христианские вероисповедания данные рождениях смертях браках определялись следующим образом духовенство др лица учреждения которые вели метрические книги ежегодно доставляли ежемесячные выписки метрических книг епархия епархии оттуда синод параллельно данные метрических книг доставлялись губернские областные городские статистические учреждения которые сводили данные движению населения таблицы семь шесть девять данные естественном движении начинают публиковаться епархиям населении православного исповедания прочих девять ноль годов кроме общее количество родившихся умерших браков отдельным местностям уездам содержались приложениях ежегодным отчетам губернаторов второй половины века данные естественном движении населения начинает публиковать цск опубликованы данные восемь шесть семь девять ноль специальных выпусках статистического временника российской империи статистики российской империи заглавием движение населения европейской россии год публикации включают сведения отдельно мужскому женскому полу распределении рождений месяцам количестве многоплодных рождений незаконнорожд нных распределении браков месяцам семейному положению возрасту распределении умерших месяцам возрасту восемь восемь однолетним восемь восемь девять ноль пятилетним возрастным группам метрическим ведомостям источнику демографической статистике присущи некоторые недостатки поскольку имели системный характер основе этих данных судить динамике народонаселения удовлетворительной степенью точности разработка статистики грамотности второй половине века крепостное право освобождения крестьян повестку дня вста одна жгучих социальных проблем россии вопиющая степень грамотность неграмотности населения данным переписи восемь девять семь грамотные составляли населения отдельно взятой сибири грамотных насчитывалось средней азии пять это вс население вычетом детей девять лет цифры немного возрастали семь шесть шесть соответственно вычет детей единственный демографический демографы статистики россии тщательно прорабатывали методику расч тов которая помогла приблизиться пониманию причин неграмотности значит нахождению способов преодоления тяжкого социального недуга дискуссии этому поводу нашли отражение фундаментальной статье рубакина грамотность опубликованной энциклопедический словарь брокгауза ефрона энциклопедическом словаре брокгауза ефрона некоторые фрагменты которой изложены ниже числе метод способов помощью которых составить менее точное понятие числе грамотных данное время данной стране рубакин называет следующие существует несколько метод способов помощью которых составить менее точное понятие числе грамотных данное время данной стране прямой способ наиболее полный точный поголовная перепись населения перепись населения цифры полученные таким способом наиболее близки истине ошибочны лишь постольку поскольку подвержена ошибкам сама перепись российская империя русские статистика статистики исследовавшие второй половине восемь восемь ноль годах иркутская губерния иркутскую губернию нашли полуграмотных приходилось семь пять ноль девять общего числа грамотных местностях глухих это отношение ещ менее благоприятно народной переписи установить точно цифру людей грамотных лишь известною осторожностью числу неграмотных относят дошкольное образование россии детей дошкольного возраста вследствие процент неграмотных данной стране значительно увеличивается определении степени распространения грамотности должна исключена вычислений та часть населения которая силу какого либо физического недостатка неспособна обучению грамоте сюда относятся например идиотия идиоты также слепота слепые глухота глухонемые прочие грамотность которых поставлена исключительные условия должна рассматриваться особо характерная населения полной точной характеристики распространения грамотности среди населения общего числа грамотных выделяют ещ ученик учащихся детей школьного возраста одно важных неудобств способа исследований заключается переписи производятся весьма значительные промежутки времени сведения собранные сильно запаздывают наблюдать поступательное движение грамотности года год невозможно другие косвенные способы исследования дают относительное представление распространении грамотности также позволяют судить поступательном движении числу учащихся прямой связи степенью грамотности данного народа находятся число начальная школа начальных школ учащихся детей взрослых обоего пола большее распространение школ значительное число учащихся заставляет предполагать большее распространение грамотности стороны однако начальных школ выходят грамотными значительный процент оканчивает курса особенно тех странах введено обязательного обучения сравнивая число детей посещающих школу числом детей школьного возраста посещающих посещавших можем получить лишь некоторое понятие распространении грамотности возрасте семь четыре лет слабым пунктом способа вычисления является также везде одинаковое определение школьного возраста который считается одних странах семь четыре других восемь шесть пять числу новобранцев весьма распростран нный способ судить грамотности данного народа это исследование грамотность новобранцев грамотности новобранцев сопоставляется общее число новобранцев числом грамотных способ тех странах введена воинская обязанность всеобщая воинская повинность многих отношениях весьма удобен новобранцы выходят разных сословие сло населения разных областей государства кроме призывы новобранцев совершаются периодически года год способа существенные неудобства первых оставляет стороне грамотность женского населения страны вторых предыдущий способ касается лишь грамотности одного слоя населения именно соответствующего призывному возрасту вступающим брак ещ способ суждения распространении грамотности данной стране это исследование грамотности лиц вступающих брачный союз брак этим способом пользуются особенности тех странах введена всеобщая воинская повинность представляет удобство подвергаются исследованию лица обоего пола разных сословий разных возрастов конфессия исповеданий вышеуказанные способы суждения распространении грамотности кроме первого переписи имея значения абсолютного имеют несомненно весьма ценное значение относительное грамотнее страна грамотных встретим среди призывных среди вступающих брак также больший процент учащихся наиболее грамотных государствах процент учащихся несколько процента детей школьного возраста сравнивая такого рода данные относящиеся одному какому либо времени разным странам получаем возможность судить относительной грамотности этих стран данное время сопоставляя данные либо период получаем возможность судить быстроте хода распространения грамотности народе примечания литература общий свод империи результатов разработки данных первой всеобщей переписи населения произведенной восемь января восемь девять семь спб девять ноль пять котельников история производства разработки всеобщей переписи населения восемь января восемь девять семь спб девять ноль девять новосельский сергей александрович новосельский обзор главнейших данных демографии санитарной статистике россии спб девять шесть брук кабузан динамика численности населения россии начале источники историография историческая демография проблемы суждения задачи девять восемь девять миронов достоверности метрических ведомостей важнейшего источника исторический демографии россии начала вв россия вв сб статей семь ноль летию дня рождения ганелина спб девять девять восемь категория демография категория области применения статистики\n"
     ]
    }
   ],
   "source": [
    "print(\"\\nRU\\n\", \" \".join(df_wiki_ru.iloc[idx].tokens))"
   ]
  },
  {
   "cell_type": "code",
   "execution_count": 64,
   "metadata": {
    "scrolled": false
   },
   "outputs": [
    {
     "name": "stdout",
     "output_type": "stream",
     "text": [
      "\n",
      "EN\n",
      " william earl kennard born january one nine one nine five seven american attorney served ambassador european union two zero zero nine one three chairman federal communications commission one nine nine seven two zero zero one nominated ambassador eu president barack obama august two zero zero nine confirmed senate november prior appointment kennard managing director global private equity firm carlyle group also chairman fcc appointed president bill clinton november one nine nine seven serving november three one nine nine seven january one nine two zero zero one early life education kennard graduate stanford university yale law school biography carlyle group prior becoming ambassador kennard managing director carlyle group global private equity firm one zero zero billion management kennard joined carlyle group may two zero zero one led investments telecommunications media sectors work fcc appointment fcc chairman kennard served fcc general counsel one nine nine three one nine nine seven joined fcc law firm dla piper piper rudnick verner liipfert bernhard mcpherson hand dla piper partner member firm board directors joining carlyle group kennard served chairman federal communications commission november one nine nine seven january two zero zero one presided agency historic time tenure shaped policies created explosion new wireless phones brought internet majority american households resulted billions dollars investment new broadband technologies time implemented bold new policies bridge digital divide united states around world kennard well known advocacy people risk stranded wrong side digital divide implemented fcc rate program brought internet almost every school library united states kennard leadership fcc dramatically expanded access communications technologies people disabilities fcc also adopted policies increase telephone service rural areas especially native americans living tribal lands reached create ownership employment opportunities women minorities fcc chairman kennard promoted benefits technology worldwide pioneered innovative fcc development initiative assist countries developing world participate fully global growth digital technology initiative kennard signed first partnership agreements behalf fcc ten countries four continents share regulatory experience emerging regulatory authorities news world report dubbed kennard consumer champion digital age received many honors awards accomplishments including honorary degrees howard university gallaudet university long island university awards congressional black caucus foundation easter seals foundation hispanic chamber commerce kennard currently serves boards directors inc ford motor company metlife inc duke energy previously served boards directors new york times company sprint nextel corporation national us wireless carrier handspring inc manufacturer treo wireless devices eaccess ltd national japanese wireless carrier well boards several companies owned carlyle group work eu ambassador william kennard first ambassador european union work institutions created eu lisbon treaty including high representative union foreign affairs security policy president european council european external action service also strengthened ties encouraged dialogue increasingly powerful european parliament time brussels ambassador kennard made reinvigorating eu economic relationship eliminating regulatory barriers top priorities key force behind february two zero one three decision launch negotiations ambitious us press office press releases two zero one three february statement us eu presidents transatlantic trade investment partnership aims expand trade investment across atlantic contribute development rules strengthen multilateral trading system also worked revitalize transatlantic economic council tec could better fulfill mission promoting economic growth increased trade job creation ambassador kennard helped cement close eu coordination range common foreign policy priorities including balkans libya transitions middle east adoption historic non proliferation sanctions iran north korea worked ensure eu pivoted came dealing asia integrating emerging powers global system tireless advocate need eu work compatible data privacy regimes manner protects personal data citizens facilitating flow commerce allowing effective law enforcement cooperation also first ambassador eu actively engage european audiences social media one notable event took place february two zero one three ambassador kennard eu ambassador jo vale de almeida co hosted transatlantic twittersation virtual conversation whose hashtag askambs reached one four zero zero zero zero zero impressions worldwide boards memberships kennard also serves boards directors nonprofit charitable organizations also serves board directors inc currently serves fellow yale corporation yale university member boards directors international african american museum center new american security advisor transatlantic think tank european horizons also serves secretary state john kerry foreign policy advisory board accolades may two zero one two american chamber commerce european union awarded ambassador kennard highest honor night two zero one two default aspx transatlantic business award contribution improving transatlantic relations removing barriers trade promoting issues policies support businesses operating europe see also list united states ambassadors references external links biography ambassador eu william kennard biography william kennard fcc gov speeches statements one nine five seven births living people ambassadors united states european union stanford university alumni chairpersons fcc politicians los angeles new york times corporate staff\n",
      "\n",
      "RU\n",
      " степа сем нович щу кин семь пять четыре ноль октября восемь восемь русский живописец мастер портрета академик профессор иах императорской академии художеств биография принят академию художеств воспитательного дома семь семь шесть обучался искусству рисования левицкий дмитрий григорьевич дмитрия левицкого императорская академия художеств императорской академии художеств которую окончил аттестатом степени семь восемь семь восемь шесть году вернулся парижа санкт петербург года назначен преподавателем портретного живописного класса исполненный поручению академии портрет адъюнкт ректора фельтен юрий матвеевич юрия матвеевича фельтена семь восемь шесть году получил звание кандидата академики следующем году портрет императора павел павла весь рост признан академиком январе восемь ноль года щукин назначен советником академии году временно занимал должность конференц секретаря незадолго смерти получил звание старшего советника умер ноль октября восемь восемь года кроме вышеупомянутых портретов щукин нарисовал портрет профессора архитектура архитектуры захаров андреян дмитриевич захарова портрет неизвестной дамы портрет священника среди учеников тропинин василий андреевич василий тропинин варнек александр григорьевич александр варнек примечания литература категория художники россии века категория академики императорской академии художеств категория похороненные смоленском православном кладбище\n"
     ]
    }
   ],
   "source": [
    "print(\"\\nEN\\n\", \" \".join(df_language_and_literature_en.iloc[300].tokens))\n",
    "print(\"\\nRU\\n\", \" \".join(df_language_and_literature_ru.iloc[300].tokens))"
   ]
  },
  {
   "cell_type": "code",
   "execution_count": 74,
   "metadata": {},
   "outputs": [
    {
     "data": {
      "text/plain": [
       "429.22546673049305"
      ]
     },
     "execution_count": 74,
     "metadata": {},
     "output_type": "execute_result"
    }
   ],
   "source": [
    "df_language_and_literature_ru.tokens.apply(len).mean()"
   ]
  },
  {
   "cell_type": "code",
   "execution_count": 75,
   "metadata": {},
   "outputs": [
    {
     "data": {
      "text/plain": [
       "383.0406060606061"
      ]
     },
     "execution_count": 75,
     "metadata": {},
     "output_type": "execute_result"
    }
   ],
   "source": [
    "df_wiki_ru.tokens.apply(len).mean()"
   ]
  },
  {
   "cell_type": "code",
   "execution_count": 77,
   "metadata": {},
   "outputs": [],
   "source": [
    "mask = df_wiki_ru.labels.apply(partial(has_label_num, label_num=class2idx[\"Culture.Entertainment\"]))\n",
    "df_masked_ru = df_wiki_ru[mask == 1]"
   ]
  },
  {
   "cell_type": "code",
   "execution_count": 80,
   "metadata": {},
   "outputs": [
    {
     "name": "stdout",
     "output_type": "stream",
     "text": [
      "\n",
      "RU\n",
      " морская фиалка режисс ра донателлы майорки основе романа джакомо пилати сюжет анжела жив деревне одном итальянских островов отец салваторе занимается добычей туф власти находится весь остров анжела влюбляется подругу детства сару отец слышать желает предосудительной страсти устраивает помолвку дочери местным парнем анжела противится воле отца запирает подвале проводит несколько месяцев заточении мать понимает дочь умереть вынуждает отца устроить подлог деревне объявляется анжела самом деле рождена мальчиком священник ошибся записывая пол понимают это обман противиться властному салваторе никто думает анжела мужском обличии новым именем анжело занимает должность управляющего каменоломнями женится саре счастливый союз гибнет родах сара умирает реб нок чьим биологическим отцом согласию девушек старый приятель сары выживает анжела снимает мужскую одежду нужды скрывать свой пол акт рский состав см также лесбийские отношения искусстве кино лесбийские отношения кинематографе ссылки категория фильмы мелодрамы италии категория фильмы лесбийскую тематику\n"
     ]
    }
   ],
   "source": [
    "df_masked_ru\n",
    "print(\"\\nRU\\n\", \" \".join(df_masked_ru.iloc[300].tokens))"
   ]
  },
  {
   "cell_type": "code",
   "execution_count": 88,
   "metadata": {},
   "outputs": [
    {
     "data": {
      "text/plain": [
       "tensor([[-22.1163,   2.5684, -27.5466, -15.2504, -18.9854, -18.6980, -13.9121,\n",
       "          -6.4596, -18.1404,   1.9936,  -6.1721, -18.4568, -17.7283, -10.3647,\n",
       "         -22.9436, -16.7896, -15.9124, -17.0027, -12.3437, -19.7163,   4.5700,\n",
       "         -24.8053, -22.8432, -22.6332, -37.1863, -16.7402, -18.0485,  -8.5453,\n",
       "         -17.7292, -15.8727, -15.6236,  -9.8806, -29.0841, -25.3743, -30.2649,\n",
       "         -24.2633, -28.6702, -12.2714, -23.3339, -20.5276, -22.0185, -15.9751,\n",
       "         -15.3403, -16.9245]], grad_fn=<AddmmBackward>)"
      ]
     },
     "execution_count": 88,
     "metadata": {},
     "output_type": "execute_result"
    }
   ],
   "source": [
    "model.eval()\n",
    "model(torch.LongTensor([[1,2,3]]), torch.LongTensor([3]))"
   ]
  },
  {
   "cell_type": "code",
   "execution_count": 90,
   "metadata": {},
   "outputs": [
    {
     "data": {
      "text/plain": [
       "<module 'utils' from '/home/mz2476/topic-modeling/topic-modeling/baseline/utils.py'>"
      ]
     },
     "execution_count": 90,
     "metadata": {},
     "output_type": "execute_result"
    }
   ],
   "source": [
    "from importlib import reload\n",
    "reload(utils)"
   ]
  },
  {
   "cell_type": "code",
   "execution_count": 97,
   "metadata": {},
   "outputs": [],
   "source": [
    "model = dict_model_names[\"frozen\"][\"model\"]\n",
    "true, preds = utils.get_true_and_pred_labels(wiki_loaders[\"train\"], model, device, threshold=0.5)"
   ]
  },
  {
   "cell_type": "code",
   "execution_count": 107,
   "metadata": {
    "scrolled": true
   },
   "outputs": [
    {
     "data": {
      "text/plain": [
       "array(['STEM.Biology'], dtype=object)"
      ]
     },
     "execution_count": 107,
     "metadata": {},
     "output_type": "execute_result"
    }
   ],
   "source": [
    "np.array(classes)[true[0].astype(int) == 1]"
   ]
  },
  {
   "cell_type": "code",
   "execution_count": 120,
   "metadata": {
    "scrolled": true
   },
   "outputs": [
    {
     "data": {
      "text/plain": [
       "(4178,)"
      ]
     },
     "execution_count": 120,
     "metadata": {},
     "output_type": "execute_result"
    }
   ],
   "source": [
    "np.where(true[:, 7] == 1)[0].shape"
   ]
  },
  {
   "cell_type": "code",
   "execution_count": 123,
   "metadata": {},
   "outputs": [],
   "source": [
    "preds_for_articles_language_and_literature = preds[np.where(true[:, 7] == 1)[0]]"
   ]
  },
  {
   "cell_type": "code",
   "execution_count": 148,
   "metadata": {},
   "outputs": [
    {
     "name": "stdout",
     "output_type": "stream",
     "text": [
      "Args sorted:\n",
      " [ 0 40 39 38 36 35 34 33 32 26 25 24 22 19 17 21 43  2 12  4  6  8 14  3\n",
      "  7 37 30 31 42  5 11 27 29 10 23 15  1 28 18 41 16  9 20 13]\n",
      "Count sorted:\n",
      " [   0    0    0    0    0    0    0    0    0    0    0    0    0    0\n",
      "    0    0    0    0    0    0    0    0    1    1    1    2    2    2\n",
      "    3    3    4    7   14   25   29   42   44   77   79   87  126  174\n",
      "  747 1257]\n"
     ]
    }
   ],
   "source": [
    "print(\"Args sorted:\\n\", np.argsort(preds_for_articles_language_and_literature.sum(axis=0)))\n",
    "print(\"Count sorted:\\n\", np.sort(preds_for_articles_language_and_literature.sum(axis=0)))"
   ]
  },
  {
   "cell_type": "code",
   "execution_count": 146,
   "metadata": {
    "scrolled": false
   },
   "outputs": [
    {
     "data": {
      "text/plain": [
       "'Geography.Europe'"
      ]
     },
     "execution_count": 146,
     "metadata": {},
     "output_type": "execute_result"
    }
   ],
   "source": [
    "classes[20]"
   ]
  },
  {
   "cell_type": "code",
   "execution_count": 156,
   "metadata": {},
   "outputs": [
    {
     "data": {
      "text/plain": [
       "[('Geography.Antarctica', 5.0),\n",
       " ('STEM.Meteorology', 8.0),\n",
       " ('Culture.Media', 8.0),\n",
       " ('Culture.Internet culture', 9.0),\n",
       " ('Geography.Maps', 10.0),\n",
       " ('STEM.Information science', 15.0),\n",
       " ('STEM.Mathematics', 23.0),\n",
       " ('STEM.Engineering', 29.0),\n",
       " ('Culture.Crafts and hobbies', 31.0),\n",
       " ('STEM.Time', 46.0),\n",
       " ('Geography.Parks', 53.0),\n",
       " ('Geography.Landforms', 59.0),\n",
       " ('Culture.Arts', 61.0),\n",
       " ('STEM.Physics', 67.0),\n",
       " ('Geography.Bodies of water', 69.0),\n",
       " ('STEM.Chemistry', 86.0),\n",
       " ('History_And_Society.Education', 93.0),\n",
       " ('Culture.Performing arts', 98.0),\n",
       " ('Culture.Food and drink', 106.0),\n",
       " ('STEM.Science', 108.0),\n",
       " ('STEM.Geosciences', 109.0),\n",
       " ('Culture.Plastic arts', 146.0),\n",
       " ('Geography.Oceania', 183.0),\n",
       " ('STEM.Medicine', 201.0),\n",
       " ('Culture.Visual arts', 204.0),\n",
       " ('STEM.Space', 211.0),\n",
       " ('Culture.Games and toys', 214.0),\n",
       " ('Culture.Broadcasting', 221.0),\n",
       " ('History_And_Society.Business and economics', 239.0),\n",
       " ('Geography.Africa', 288.0),\n",
       " ('History_And_Society.Politics and government', 388.0),\n",
       " ('Culture.Entertainment', 389.0),\n",
       " ('Culture.Philosophy and religion', 505.0),\n",
       " ('STEM.Technology', 516.0),\n",
       " ('Culture.Music', 519.0),\n",
       " ('History_And_Society.Transportation', 536.0),\n",
       " ('History_And_Society.Military and warfare', 616.0),\n",
       " ('STEM.Biology', 660.0),\n",
       " ('History_And_Society.History and society', 1074.0),\n",
       " ('Geography.Americas', 1466.0),\n",
       " ('Culture.Sports', 1729.0),\n",
       " ('Geography.Asia', 1998.0),\n",
       " ('Culture.Language and literature', 4178.0),\n",
       " ('Geography.Europe', 4371.0)]"
      ]
     },
     "execution_count": 156,
     "metadata": {},
     "output_type": "execute_result"
    }
   ],
   "source": [
    "vec_c = true.sum(axis=0)\n",
    "[(classes[i], count) for i, count in zip(np.argsort(vec_c), np.sort(vec_c))]"
   ]
  },
  {
   "cell_type": "code",
   "execution_count": 155,
   "metadata": {
    "scrolled": true
   },
   "outputs": [
    {
     "data": {
      "text/plain": [
       "[('Culture.Arts', 0),\n",
       " ('STEM.Science', 0),\n",
       " ('STEM.Physics', 0),\n",
       " ('STEM.Meteorology', 0),\n",
       " ('STEM.Mathematics', 0),\n",
       " ('STEM.Information science', 0),\n",
       " ('STEM.Engineering', 0),\n",
       " ('History_And_Society.Education', 0),\n",
       " ('History_And_Society.Business and economics', 0),\n",
       " ('Geography.Maps', 0),\n",
       " ('Geography.Antarctica', 0),\n",
       " ('Culture.Plastic arts', 0),\n",
       " ('Geography.Landforms', 0),\n",
       " ('STEM.Time', 0),\n",
       " ('Culture.Internet culture', 0),\n",
       " ('Culture.Media', 0),\n",
       " ('Culture.Crafts and hobbies', 0),\n",
       " ('Culture.Language and literature', 1),\n",
       " ('Geography.Parks', 2),\n",
       " ('Culture.Visual arts', 2),\n",
       " ('STEM.Geosciences', 4),\n",
       " ('STEM.Chemistry', 4),\n",
       " ('Geography.Bodies of water', 6),\n",
       " ('Culture.Food and drink', 6),\n",
       " ('Culture.Philosophy and religion', 14),\n",
       " ('Culture.Entertainment', 14),\n",
       " ('History_And_Society.History and society', 18),\n",
       " ('Culture.Games and toys', 37),\n",
       " ('Culture.Performing arts', 38),\n",
       " ('History_And_Society.Transportation', 44),\n",
       " ('STEM.Medicine', 80),\n",
       " ('Geography.Oceania', 104),\n",
       " ('Geography.Africa', 106),\n",
       " ('Culture.Broadcasting', 112),\n",
       " ('History_And_Society.Politics and government', 130),\n",
       " ('STEM.Biology', 186),\n",
       " ('STEM.Technology', 228),\n",
       " ('History_And_Society.Military and warfare', 319),\n",
       " ('Geography.Asia', 376),\n",
       " ('Culture.Music', 391),\n",
       " ('STEM.Space', 498),\n",
       " ('Geography.Americas', 574),\n",
       " ('Geography.Europe', 2289),\n",
       " ('Culture.Sports', 2320)]"
      ]
     },
     "execution_count": 155,
     "metadata": {},
     "output_type": "execute_result"
    }
   ],
   "source": [
    "vec_c = preds.sum(axis=0)\n",
    "[(classes[i], count) for i, count in zip(np.argsort(vec_c), np.sort(vec_c))]"
   ]
  },
  {
   "cell_type": "code",
   "execution_count": 157,
   "metadata": {
    "scrolled": true
   },
   "outputs": [
    {
     "data": {
      "text/plain": [
       "[('Culture.Arts', 0),\n",
       " ('STEM.Science', 0),\n",
       " ('STEM.Physics', 0),\n",
       " ('STEM.Meteorology', 0),\n",
       " ('STEM.Mathematics', 0),\n",
       " ('STEM.Information science', 0),\n",
       " ('STEM.Geosciences', 0),\n",
       " ('STEM.Engineering', 0),\n",
       " ('STEM.Chemistry', 0),\n",
       " ('History_And_Society.Education', 0),\n",
       " ('History_And_Society.Business and economics', 0),\n",
       " ('Geography.Parks', 0),\n",
       " ('Geography.Maps', 0),\n",
       " ('Geography.Bodies of water', 0),\n",
       " ('Geography.Antarctica', 0),\n",
       " ('Geography.Landforms', 0),\n",
       " ('STEM.Time', 0),\n",
       " ('Culture.Crafts and hobbies', 0),\n",
       " ('Culture.Plastic arts', 0),\n",
       " ('Culture.Food and drink', 0),\n",
       " ('Culture.Internet culture', 0),\n",
       " ('Culture.Media', 0),\n",
       " ('Culture.Visual arts', 1),\n",
       " ('Culture.Entertainment', 1),\n",
       " ('Culture.Language and literature', 1),\n",
       " ('STEM.Medicine', 2),\n",
       " ('History_And_Society.Transportation', 2),\n",
       " ('STEM.Biology', 2),\n",
       " ('STEM.Technology', 3),\n",
       " ('Culture.Games and toys', 3),\n",
       " ('Culture.Philosophy and religion', 4),\n",
       " ('History_And_Society.History and society', 7),\n",
       " ('History_And_Society.Politics and government', 14),\n",
       " ('Culture.Performing arts', 25),\n",
       " ('Geography.Oceania', 29),\n",
       " ('Geography.Africa', 42),\n",
       " ('Culture.Broadcasting', 44),\n",
       " ('History_And_Society.Military and warfare', 77),\n",
       " ('Geography.Asia', 79),\n",
       " ('STEM.Space', 87),\n",
       " ('Geography.Americas', 126),\n",
       " ('Culture.Music', 174),\n",
       " ('Geography.Europe', 747),\n",
       " ('Culture.Sports', 1257)]"
      ]
     },
     "execution_count": 157,
     "metadata": {},
     "output_type": "execute_result"
    }
   ],
   "source": [
    "vec_c = preds_for_articles_language_and_literature.sum(axis=0)\n",
    "[(classes[i], count) for i, count in zip(np.argsort(vec_c), np.sort(vec_c))]"
   ]
  },
  {
   "cell_type": "code",
   "execution_count": 130,
   "metadata": {},
   "outputs": [
    {
     "data": {
      "text/plain": [
       "array([['', '', '', ..., '', '', ''],\n",
       "       ['', '', '', ..., '', '', ''],\n",
       "       ['', '', '', ..., '', '', ''],\n",
       "       ...,\n",
       "       ['', '', '', ..., '', '', ''],\n",
       "       ['', '', '', ..., '', '', ''],\n",
       "       ['', '', '', ..., '', '', '']], dtype=object)"
      ]
     },
     "execution_count": 130,
     "metadata": {},
     "output_type": "execute_result"
    }
   ],
   "source": [
    "\n",
    "np.array(classes)[None, :] * preds_for_articles_language_and_literature"
   ]
  },
  {
   "cell_type": "code",
   "execution_count": 113,
   "metadata": {},
   "outputs": [
    {
     "data": {
      "text/plain": [
       "array([[False, False, False, ..., False, False, False],\n",
       "       [False, False, False, ..., False, False, False],\n",
       "       [False, False, False, ..., False, False, False],\n",
       "       ...,\n",
       "       [False, False, False, ..., False, False, False],\n",
       "       [False, False, False, ..., False, False, False],\n",
       "       [False, False, False, ..., False, False, False]])"
      ]
     },
     "execution_count": 113,
     "metadata": {},
     "output_type": "execute_result"
    }
   ],
   "source": [
    "preds[np.where(true[:, 7] == 1)]"
   ]
  },
  {
   "cell_type": "code",
   "execution_count": 105,
   "metadata": {},
   "outputs": [
    {
     "data": {
      "text/plain": [
       "array([0, 0, 0, 0, 0, 0, 0, 0, 0, 0, 0, 0, 0, 0, 0, 0, 0, 0, 0, 0, 0, 0,\n",
       "       0, 0, 0, 0, 0, 0, 0, 0, 0, 1, 0, 0, 0, 0, 0, 0, 0, 0, 0, 0, 0, 0])"
      ]
     },
     "execution_count": 105,
     "metadata": {},
     "output_type": "execute_result"
    }
   ],
   "source": [
    "true[0].astype(int)"
   ]
  },
  {
   "cell_type": "code",
   "execution_count": null,
   "metadata": {},
   "outputs": [],
   "source": []
  }
 ],
 "metadata": {
  "kernelspec": {
   "display_name": "Python 3",
   "language": "python",
   "name": "python3"
  },
  "language_info": {
   "codemirror_mode": {
    "name": "ipython",
    "version": 3
   },
   "file_extension": ".py",
   "mimetype": "text/x-python",
   "name": "python",
   "nbconvert_exporter": "python",
   "pygments_lexer": "ipython3",
   "version": "3.7.4"
  }
 },
 "nbformat": 4,
 "nbformat_minor": 2
}
